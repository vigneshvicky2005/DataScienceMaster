{
 "cells": [
  {
   "cell_type": "markdown",
   "id": "37d3991f-5a0a-41dc-a03e-59a58651153e",
   "metadata": {},
   "source": [
    "# Pwskillls"
   ]
  },
  {
   "cell_type": "markdown",
   "id": "828072da-d90d-415c-bc25-83664a160c7c",
   "metadata": {},
   "source": [
    "## Data Science Master"
   ]
  },
  {
   "cell_type": "markdown",
   "id": "47785982-2a1a-4c8c-bad9-b95dc1e8d854",
   "metadata": {},
   "source": [
    "### Python Assignment"
   ]
  },
  {
   "cell_type": "markdown",
   "id": "7928f7f9-9a6a-4561-88be-bc10d26b44c7",
   "metadata": {},
   "source": [
    "## Q1\n",
    "\n",
    "Q1. What is multiprocessing in python? Why is it useful?\n",
    "\n",
    "\n",
    "     Multiprocessing in Python is a technique used to execute multiple tasks concurrently on a computer with multiple CPUs or cores. It is a form of parallel computing where multiple processes are created and run independently, allowing for better utilization of system resources and faster execution of computationally intensive tasks.\n",
    "\n",
    "     In Python, the multiprocessing module provides a way to create and manage multiple processes. It allows developers to write concurrent and parallel code using familiar Python syntax and provides various features like process synchronization, inter-process communication, and shared memory.\n",
    "\n",
    "     Multiprocessing is useful in Python for several reasons. Firstly, it allows developers to take advantage of multi-core CPUs or multi-processor systems to speed up the execution of computationally intensive tasks, making programs run faster and more efficiently.\n",
    "\n",
    "     Secondly, multiprocessing provides a way to execute multiple independent tasks concurrently, which can lead to better overall system performance and responsiveness. This is particularly useful for applications that involve I/O-bound tasks like network communication or disk I/O, where the waiting time for I/O operations can be used to execute other tasks.\n",
    "\n",
    "     Finally, multiprocessing can help to simplify the development of complex concurrent systems by providing a high-level abstraction layer that hides the low-level details of process creation and management. This allows developers to focus on the application logic rather than the implementation details of the multiprocessing system."
   ]
  },
  {
   "cell_type": "markdown",
   "id": "92a4efe4-f156-4efb-b3b3-46fb31471fc5",
   "metadata": {},
   "source": [
    "## Q2\n",
    "\n",
    "Q2. What are the differences between multiprocessing and multithreading?\n",
    "\n",
    "\n",
    "    Multiprocessing and multithreading are two techniques used to achieve parallelism in computer systems. Although they are similar in concept, they have some key differences.\n",
    "\n",
    "    The main difference between multiprocessing and multithreading is that multiprocessing involves running multiple processes in parallel, whereas multithreading involves running multiple threads within a single process in parallel.\n",
    "\n",
    "     Here are some of the key differences between multiprocessing and multithreading:\n",
    "\n",
    "      * Memory management: In multiprocessing, each process has its own memory space and data, whereas in multithreading, all threads within a process share the same memory space and data. This can make multiprocessing more efficient when working with large data sets.\n",
    "\n",
    "      * CPU usage: In multiprocessing, each process can be assigned to a different CPU or core, allowing for more efficient use of system resources. In multithreading, all threads within a process share the same CPU, which can result in contention for resources and slower execution times.\n",
    "\n",
    "      * Synchronization: In multiprocessing, inter-process communication is typically achieved using message passing or shared memory. In multithreading, synchronization between threads is typically achieved using locks or other synchronization primitives.\n",
    "\n",
    "      * Error handling: In multiprocessing, each process runs in its own address space, making it easier to isolate and handle errors. In multithreading, errors in one thread can affect the entire process, making error handling more complex.\n",
    "\n",
    "      * Scalability: Multiprocessing is typically more scalable than multithreading, as adding more processes can easily be done on multi-core systems. In contrast, adding more threads can result in contention for resources and decreased performance.\n",
    "\n",
    "       Overall, multiprocessing is better suited for computationally intensive tasks that require a lot of processing power and memory, while multithreading is better suited for I/O-bound tasks that involve a lot of waiting for I/O operations to complete."
   ]
  },
  {
   "cell_type": "markdown",
   "id": "c388b229-a32d-4d77-ad99-3f334fcb151c",
   "metadata": {},
   "source": [
    "## Q3\n",
    "\n",
    "Q3. Write a python code to create a process using the multiprocessing module.\n",
    "\n",
    "     Sure, here is an example Python code that creates a process using the multiprocessing module:\n",
    "     \n",
    "     "
   ]
  },
  {
   "cell_type": "code",
   "execution_count": 1,
   "id": "fee6dec6-f008-4902-b19d-9903bcdc3185",
   "metadata": {},
   "outputs": [
    {
     "name": "stdout",
     "output_type": "stream",
     "text": [
      "Worker process running\n",
      "Main process finished\n"
     ]
    }
   ],
   "source": [
    "import multiprocessing\n",
    "\n",
    "def worker():\n",
    "    \"\"\"Function to be run in the new process\"\"\"\n",
    "    print('Worker process running')\n",
    "\n",
    "if __name__ == '__main__':\n",
    "    # Create a new process\n",
    "    p = multiprocessing.Process(target=worker)\n",
    "\n",
    "    # Start the process\n",
    "    p.start()\n",
    "\n",
    "    # Wait for the process to finish\n",
    "    p.join()\n",
    "\n",
    "    print('Main process finished')\n"
   ]
  },
  {
   "cell_type": "markdown",
   "id": "c91b24e5-696d-4bea-b37f-ad90de29b85b",
   "metadata": {},
   "source": [
    "     In this example, we define a function called 'worker' that will be run in a new 'process'. We then create a new Process object and pass the 'worker' function as the target parameter.\n",
    "\n",
    "     We then start the process using the 'start()' method and wait for it to finish using the 'join()' method. Finally, we print a message indicating that the main process has finished.\n",
    "\n",
    "     Note that the if '__name__' == '__main__': check is necessary to prevent the new process from trying to execute the same code as the main process, which can lead to errors."
   ]
  },
  {
   "cell_type": "markdown",
   "id": "060f436f-3f32-4594-83a6-8aefe873500b",
   "metadata": {},
   "source": [
    "## Q4\n",
    "\n",
    "Q4. What is a multiprocessing pool in python? Why is it used?\n",
    "\n",
    "\n",
    "    A multiprocessing pool in Python is a high-level abstraction provided by the multiprocessing module that allows developers to execute multiple function calls concurrently in separate processes. The pool maintains a pool of worker processes that can be used to execute function calls submitted by the main process.\n",
    "\n",
    "    The Pool object in the multiprocessing module provides a simple way to create and manage a pool of worker processes. It provides methods for submitting function calls to the pool, controlling the number of worker processes, and collecting the results of the function calls.\n",
    "\n",
    "    A Pool is used in Python to take advantage of parallelism and distribute tasks across multiple processes to speed up the execution of computationally intensive tasks. It can be especially useful when there are a large number of independent tasks that can be executed concurrently.\n",
    "\n",
    "     Here is an example of using a Pool in Python:"
   ]
  },
  {
   "cell_type": "code",
   "execution_count": 2,
   "id": "09f51ace-8dd8-435e-a008-0eb4e7264496",
   "metadata": {},
   "outputs": [
    {
     "name": "stdout",
     "output_type": "stream",
     "text": [
      "[1, 4, 9, 16, 25]\n"
     ]
    }
   ],
   "source": [
    "import multiprocessing\n",
    "\n",
    "def worker(x):\n",
    "    \"\"\"Function to be run in a worker process\"\"\"\n",
    "    return x * x\n",
    "\n",
    "if __name__ == '__main__':\n",
    "    # Create a pool of worker processes\n",
    "    with multiprocessing.Pool(processes=4) as pool:\n",
    "        # Submit tasks to the pool\n",
    "        results = pool.map(worker, [1, 2, 3, 4, 5])\n",
    "\n",
    "    # Print the results\n",
    "    print(results)\n"
   ]
  },
  {
   "cell_type": "markdown",
   "id": "f5c03c4e-3dc5-44eb-8614-4cb16300d488",
   "metadata": {},
   "source": [
    "     In this example, we create a 'Pool' of four worker processes using the Pool constructor. We then submit a list of numbers to the pool using the 'map()' method, which applies the worker function to each element of the list in parallel.\n",
    "\n",
    "     The' map()' method returns a list of the results of each function call, which we print to the console. Finally, we exit the' with' statement, which automatically closes the pool and terminates the worker processes."
   ]
  },
  {
   "cell_type": "markdown",
   "id": "4b85dc38-c0a4-4e4e-8414-317af1334646",
   "metadata": {},
   "source": [
    "## Q5 \n",
    "\n",
    "Q5. How can we create a pool of worker processes in python using the multiprocessing module?\n",
    "\n",
    "\n",
    "    To create a pool of worker processes in Python using the multiprocessing module, you can use the Pool class provided by the module. Here is an example of how to create a Pool of worker processes:"
   ]
  },
  {
   "cell_type": "code",
   "execution_count": 4,
   "id": "faf188aa-8c6a-4e09-be64-85ce3b07753f",
   "metadata": {},
   "outputs": [
    {
     "name": "stdout",
     "output_type": "stream",
     "text": [
      "[1, 4, 9, 16, 25]\n"
     ]
    }
   ],
   "source": [
    "import multiprocessing\n",
    "\n",
    "def worker(num):\n",
    "    \"\"\"A function to be executed in parallel by the worker processes\"\"\"\n",
    "    return num ** 2\n",
    "\n",
    "if __name__ == '__main__':\n",
    "    # Create a Pool of worker processes with 4 workers\n",
    "    with multiprocessing.Pool(processes=4) as pool:\n",
    "        # Submit a list of tasks to the Pool\n",
    "        results = pool.map(worker, [1, 2, 3, 4, 5])\n",
    "\n",
    "    \n",
    "    print(results)\n"
   ]
  },
  {
   "cell_type": "markdown",
   "id": "f754ea65-5cd0-4631-b541-f2e90f73c5b2",
   "metadata": {},
   "source": [
    "     In this example, we first define a function worker that takes a number as an argument and returns its square. We then create a Pool object with 4 worker processes by passing the argument processes=4 to the constructor.\n",
    "\n",
    "     Next, we submit a list of tasks to the Pool using the map method, which applies the worker function to each element of the list in parallel. The map method returns a list of the results of each function call, which we store in the results variable.\n",
    "\n",
    "     Finally, we print the results to the console. Note that we use a with statement to ensure that the Pool is properly cleaned up and its resources are released when the block is exited."
   ]
  },
  {
   "cell_type": "markdown",
   "id": "41d70ce6-a853-42ed-813b-b99d63f35305",
   "metadata": {},
   "source": [
    "## Q6\n",
    "\n",
    "Q6. Write a python program to create 4 processes, each process should print a different number using the multiprocessing module in python.\n",
    "\n",
    "\n",
    "    Certainly, here is an example Python program that creates 4 processes, each of which prints a different number using the multiprocessing module in Python:"
   ]
  },
  {
   "cell_type": "code",
   "execution_count": 5,
   "id": "29409d4e-b7a9-4ce1-8f70-511be9dec662",
   "metadata": {},
   "outputs": [
    {
     "name": "stdout",
     "output_type": "stream",
     "text": [
      "Process Process-14Process  printing number:Process-15  1printing number:Process\n",
      "  2Process-16\n",
      " Processprinting number:  3Process-17\n",
      " printing number: 4\n",
      "All processes finished\n"
     ]
    }
   ],
   "source": [
    "import multiprocessing\n",
    "\n",
    "def print_number(num):\n",
    "    \"\"\"Function to print a number in a separate process\"\"\"\n",
    "    print(\"Process\", multiprocessing.current_process().name, \"printing number:\", num)\n",
    "\n",
    "if __name__ == '__main__':\n",
    "\n",
    "    numbers = [1, 2, 3, 4]\n",
    "\n",
    "    # Create a list of Process objects, one for each number\n",
    "    processes = [multiprocessing.Process(target=print_number, args=(num,)) for num in numbers]\n",
    "\n",
    "    \n",
    "    for process in processes:\n",
    "        process.start()\n",
    "\n",
    "    # Wait for each process to finish\n",
    "    for process in processes:\n",
    "        process.join()\n",
    "\n",
    "    print('All processes finished')\n"
   ]
  },
  {
   "cell_type": "markdown",
   "id": "a8aff0b1-2064-4e66-8d8e-228f593b32d2",
   "metadata": {},
   "source": [
    "    In this example, we define a function called print_number that takes a number as an argument and prints it along with the name of the process that is doing the printing. We then create a list of numbers to print and use a list comprehension to create a list of Process objects, one for each number.\n",
    "\n",
    "    We then start each process using the start() method and wait for each process to finish using the join() method. Finally, we print a message indicating that all processes have finished.\n",
    " \n",
    "    Note that we use the current_process() function provided by the multiprocessing module to get the name of the current process, which is included in the output when each process prints its number."
   ]
  },
  {
   "cell_type": "code",
   "execution_count": null,
   "id": "20738d96-8ae3-4bce-bd7b-faadcbdb6e14",
   "metadata": {},
   "outputs": [],
   "source": []
  }
 ],
 "metadata": {
  "kernelspec": {
   "display_name": "Python 3 (ipykernel)",
   "language": "python",
   "name": "python3"
  },
  "language_info": {
   "codemirror_mode": {
    "name": "ipython",
    "version": 3
   },
   "file_extension": ".py",
   "mimetype": "text/x-python",
   "name": "python",
   "nbconvert_exporter": "python",
   "pygments_lexer": "ipython3",
   "version": "3.10.8"
  }
 },
 "nbformat": 4,
 "nbformat_minor": 5
}
