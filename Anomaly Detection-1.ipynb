{
 "cells": [
  {
   "cell_type": "markdown",
   "id": "bba5e1ae-8c68-43c0-a4b0-bbdcdef5f635",
   "metadata": {},
   "source": [
    "# Pwskills"
   ]
  },
  {
   "cell_type": "markdown",
   "id": "00088845-5a6f-4d26-a5b6-8badac49c43d",
   "metadata": {},
   "source": [
    "## Data Science Master"
   ]
  },
  {
   "cell_type": "markdown",
   "id": "ce70fe73-1a54-4655-bc9d-1d1e7d366820",
   "metadata": {},
   "source": [
    "### Anomaly Detection-1"
   ]
  },
  {
   "cell_type": "markdown",
   "id": "a6f03159-0d3b-4fc8-b23c-51bcc4eac3f9",
   "metadata": {},
   "source": []
  }
 ],
 "metadata": {
  "kernelspec": {
   "display_name": "Python 3 (ipykernel)",
   "language": "python",
   "name": "python3"
  },
  "language_info": {
   "codemirror_mode": {
    "name": "ipython",
    "version": 3
   },
   "file_extension": ".py",
   "mimetype": "text/x-python",
   "name": "python",
   "nbconvert_exporter": "python",
   "pygments_lexer": "ipython3",
   "version": "3.10.8"
  }
 },
 "nbformat": 4,
 "nbformat_minor": 5
}
