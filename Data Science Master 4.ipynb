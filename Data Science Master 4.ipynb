{
 "cells": [
  {
   "cell_type": "markdown",
   "id": "8f8c1b40-d2b0-4300-89d2-49abc6c74f60",
   "metadata": {},
   "source": [
    "# Pwskills"
   ]
  },
  {
   "cell_type": "markdown",
   "id": "a01704e5-e29a-48cb-8bf1-6544ddd9208d",
   "metadata": {},
   "source": [
    "## Data Science Master"
   ]
  },
  {
   "cell_type": "markdown",
   "id": "36e90496-717f-4459-85c2-57848628e755",
   "metadata": {},
   "source": [
    "### Python Assignment"
   ]
  },
  {
   "cell_type": "markdown",
   "id": "cb395843-02d4-4a01-ac2e-ce8fc31d4911",
   "metadata": {},
   "source": [
    "## Q1\n",
    "\n",
    "Q1. Explain Class and Object with respect to Object-Oriented Programming. Give a suitable example.\n",
    "\n",
    "\n",
    "        In object-oriented programming (OOP), a class is a blueprint or template for creating objects. It defines a set of attributes and methods that the objects created from the class will have. An object, on the other hand, is an instance of a class. It represents a specific entity that has its own unique characteristics and behaviors based on the attributes and methods defined in the class.\n",
    "\n",
    "        For example, consider a class called \"Car\". This class may have attributes such as color, make, model, and year, and methods such as accelerate, brake, and turn. An object created from this class would represent a specific car with its own unique color, make, model, and year, and would be able to perform the methods defined in the class, such as accelerating, braking, and turning.\n",
    "\n",
    "    Here is an example implementation of a Car class in Python:"
   ]
  },
  {
   "cell_type": "code",
   "execution_count": 2,
   "id": "52c91b58-1863-45f3-915f-62c36e157370",
   "metadata": {},
   "outputs": [
    {
     "name": "stdout",
     "output_type": "stream",
     "text": [
      "red\n",
      "Toyota\n",
      "Corolla\n",
      "2022\n",
      "The car is accelerating.\n",
      "The car is braking.\n",
      "The car is turning left\n"
     ]
    }
   ],
   "source": [
    "class Car:\n",
    "    def __init__(self, color, make, model, year):\n",
    "        self.color = color\n",
    "        self.make = make\n",
    "        self.model = model\n",
    "        self.year = year\n",
    "\n",
    "    def accelerate(self):\n",
    "        print(\"The car is accelerating.\")\n",
    "\n",
    "    def brake(self):\n",
    "        print(\"The car is braking.\")\n",
    "\n",
    "    def turn(self, direction):\n",
    "        print(\"The car is turning\", direction)\n",
    "\n",
    "# Creating an object from the Car class\n",
    "my_car = Car(\"red\", \"Toyota\", \"Corolla\", 2022)\n",
    "\n",
    "# Accessing the object's attributes\n",
    "print(my_car.color)\n",
    "print(my_car.make)\n",
    "print(my_car.model)\n",
    "print(my_car.year)\n",
    "\n",
    "# Calling the object's methods\n",
    "my_car.accelerate()\n",
    "my_car.brake()\n",
    "my_car.turn(\"left\")"
   ]
  },
  {
   "cell_type": "markdown",
   "id": "006a6b14-4225-4ef2-8c5c-1eb2dffa7b53",
   "metadata": {},
   "source": [
    "## Q2\n",
    "\n",
    "Q2. Name the four pillars of OOPs.\n",
    "       \n",
    "    \n",
    "       The four pillars of Object-Oriented Programming (OOP) are:\n",
    "\n",
    "          * Encapsulation: Encapsulation refers to the practice of hiding the implementation details of an object from the outside world and exposing only the necessary information through a well-defined interface. It helps to protect the object's internal state and behavior from unwanted access or modification.\n",
    "\n",
    "          * Inheritance: Inheritance is the process of creating a new class from an existing class, inheriting all the properties and methods of the parent class. This allows the child class to reuse the code of the parent class and also add its own unique features.\n",
    "\n",
    "          * Polymorphism: Polymorphism means the ability of objects to take on multiple forms or have multiple behaviors. It allows the same method or operator to be used with different types of objects, enabling more flexibility and reusability in code.\n",
    "\n",
    "          * Abstraction: Abstraction involves representing complex real-world objects by focusing only on the essential aspects and ignoring unnecessary details. It allows programmers to create simplified models of real-world systems and interact with them through well-defined interfaces, without worrying about the underlying implementation details."
   ]
  },
  {
   "cell_type": "markdown",
   "id": "e505d6a8-2fbe-4850-a9aa-d429a6471635",
   "metadata": {},
   "source": [
    "## Q3\n",
    "\n",
    "\n",
    "Q3. Explain why the __init__() function is used. Give a suitable example.\n",
    "\n",
    "\n",
    "         In object-oriented programming, the init() function is a special method that is used to initialize the attributes of an object when it is created. It is often referred to as the constructor method, as it is called automatically when a new object is instantiated from a class.\n",
    "\n",
    "        The init() function is used to set the initial values of the object's attributes, which can then be accessed and modified using other methods of the object. It is also used to perform any other setup tasks that may be required when the object is created.\n",
    "\n",
    "    Here's an example to illustrate how the init() function is used:"
   ]
  },
  {
   "cell_type": "code",
   "execution_count": 3,
   "id": "6386c06b-d122-4efc-a628-8c34e64ac139",
   "metadata": {},
   "outputs": [
    {
     "name": "stdout",
     "output_type": "stream",
     "text": [
      "Name: John\n",
      "Age: 17\n",
      "Grade: 10th\n"
     ]
    }
   ],
   "source": [
    "class Student:\n",
    "    def __init__(self, name, age, grade):\n",
    "        self.name = name\n",
    "        self.age = age\n",
    "        self.grade = grade\n",
    "\n",
    "    def get_details(self):\n",
    "        print(\"Name:\", self.name)\n",
    "        print(\"Age:\", self.age)\n",
    "        print(\"Grade:\", self.grade)\n",
    "\n",
    "# Creating a new student object\n",
    "student1 = Student(\"John\", 17, \"10th\")\n",
    "\n",
    "# Accessing the student's details\n",
    "student1.get_details()"
   ]
  },
  {
   "cell_type": "markdown",
   "id": "9ff7f5ae-4ce2-4654-8803-915e530e4a23",
   "metadata": {},
   "source": [
    "## Q4\n",
    "\n",
    "Q4. Why self is used in OOPs?\n",
    "\n",
    "\n",
    "         In Object-Oriented Programming (OOP), \"self\" is a reference to the instance of a class. It is a special keyword that is used to refer to the current object being worked on, and it allows access to the attributes and methods of that object.\n",
    "\n",
    "         The self keyword is used as the first parameter of any method in a class, including the init() method.\n",
    "\n",
    "         When a method is called on an object, the object itself is automatically passed as the first argument to the method, which is then assigned to the \"self\" parameter.\n",
    "\n",
    "    Here an example to illustrate the use of self:"
   ]
  },
  {
   "cell_type": "code",
   "execution_count": 4,
   "id": "4e01a883-4419-44ae-b075-7ba87448da70",
   "metadata": {},
   "outputs": [
    {
     "name": "stdout",
     "output_type": "stream",
     "text": [
      "Area of the circle: 78.5\n"
     ]
    }
   ],
   "source": [
    "class Circle:\n",
    "    def __init__(self, radius):\n",
    "        self.radius = radius\n",
    "\n",
    "    def area(self):\n",
    "        return 3.14 * (self.radius ** 2)\n",
    "\n",
    "my_circle = Circle(5)\n",
    "\n",
    "print(\"Area of the circle:\", my_circle.area())"
   ]
  },
  {
   "cell_type": "markdown",
   "id": "9dc57b24-794c-4715-8bde-98c1311f1120",
   "metadata": {},
   "source": [
    "## Q5\n",
    "\n",
    "\n",
    "Q5. What is inheritance? Give an example for each type of inheritance.\n",
    "\n",
    "\n",
    "      Inheritance is a key concept in Object-Oriented Programming (OOP) that enables a class to inherit properties and methods from another class. Inheritance promotes code reuse and reduces code duplication by allowing common functionality to be defined in a single class and inherited by multiple child classes.\n",
    "\n",
    "     The four types of inheritance are:\n",
    "\n",
    "       * Single Inheritance: A child class inherits properties and methods from a single parent class.\n",
    "            Eg: A class Dog inherits from a class Animal.\n",
    "\n",
    "       * Multiple Inheritance: A child class inherits properties and methods from multiple parent classes.\n",
    "            Eg: A class AmphibiousVehicle inherits from both a class Car and a class Boat.\n",
    "\n",
    "       * Hierarchical Inheritance: Multiple child classes inherit from a single parent class.\n",
    "            Eg: Classes Cat and Dog both inherit from a class Animal.\n",
    "\n",
    "       * Hybrid Inheritance: A combination of any of the above types of inheritance.\n",
    "            Eg: A class GraduateStudent may inherit from a class Student and a class Researcher, which themselves inherit from a class Person.\n",
    "\n",
    "\n",
    "\n",
    "\n",
    "\n"
   ]
  },
  {
   "cell_type": "code",
   "execution_count": null,
   "id": "619f9a85-f448-40a1-9358-08e9940bf5e7",
   "metadata": {},
   "outputs": [],
   "source": []
  }
 ],
 "metadata": {
  "kernelspec": {
   "display_name": "Python 3 (ipykernel)",
   "language": "python",
   "name": "python3"
  },
  "language_info": {
   "codemirror_mode": {
    "name": "ipython",
    "version": 3
   },
   "file_extension": ".py",
   "mimetype": "text/x-python",
   "name": "python",
   "nbconvert_exporter": "python",
   "pygments_lexer": "ipython3",
   "version": "3.10.8"
  }
 },
 "nbformat": 4,
 "nbformat_minor": 5
}
