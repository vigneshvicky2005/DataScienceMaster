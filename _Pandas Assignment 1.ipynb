{
 "cells": [
  {
   "cell_type": "markdown",
   "id": "21a31034-0c84-4b8b-9583-34ffb26080cb",
   "metadata": {},
   "source": [
    "# Pwskills"
   ]
  },
  {
   "cell_type": "markdown",
   "id": "52e8b9e8-6a51-44b7-a8dd-cc0ad97d3ec3",
   "metadata": {},
   "source": [
    "## Data Science Master"
   ]
  },
  {
   "cell_type": "markdown",
   "id": "d36ec66f-2011-4c19-9c97-9e42e0db4aee",
   "metadata": {},
   "source": [
    "### Python Assignment"
   ]
  },
  {
   "cell_type": "markdown",
   "id": "5adf95f3-365e-40c2-9bf9-81e30e57db72",
   "metadata": {},
   "source": [
    "## Q1\n",
    "Q1. Write a code to print the data present in the second row of the dataframe, df.\n",
    " \n",
    "    To print the data present in the second row of the dataframe df, you can use the iloc function in pandas:"
   ]
  },
  {
   "cell_type": "code",
   "execution_count": null,
   "id": "e5e0cd03-2049-4143-8046-b7e50ec716a2",
   "metadata": {},
   "outputs": [],
   "source": [
    "print(df.iloc[1])\n"
   ]
  },
  {
   "cell_type": "markdown",
   "id": "f6df8169-8a14-4bcf-a693-b735854b44be",
   "metadata": {},
   "source": [
    "This will print the second row of the dataframe df."
   ]
  },
  {
   "cell_type": "markdown",
   "id": "7b4fd303-3781-45ae-8dec-cb655caafb88",
   "metadata": {},
   "source": [
    " ## Q2\n",
    " Q2. What is the difference between the functions loc and iloc in pandas.DataFrame?\n",
    "\n",
    "    In pandas DataFrame, loc and iloc are used to access data by label or integer location, respectively. The main difference between the two functions is in the way they handle indexing:\n",
    "\n",
    "   1. loc: It is primarily label-based indexing, which means you can access data based on the row and column labels. It accepts label-based indexing both for rows and columns, and you can use boolean arrays as well. For example, df.loc[row_label, column_label].\n",
    "\n",
    "   2. iloc: It is primarily integer-based indexing, which means you can access data based on integer positions (row and column indices). It accepts integer-based indexing for rows and columns, and you can use boolean arrays as well. For example, df.iloc[row_index, column_index].\n",
    "\n",
    "    In summary, loc uses labels for indexing, while iloc uses integer positions."
   ]
  },
  {
   "cell_type": "markdown",
   "id": "f5d9ec0c-1e75-493a-bd6c-1934ca7882ec",
   "metadata": {},
   "source": [
    "## Q3\n",
    "Q3. Reindex the given dataframe using a variable, reindex = [3,0,1,2] and store it in the variable, new_df\n",
    "then find the output for both new_df.loc[2] and new_df.iloc[2].                                                                                        Did you observe any difference in both the outputs? If so then explain it.\n",
    "Consider the below code to answer further questions:\n",
    "import pandas as pd\n",
    "import numpy as np\n",
    "columns = ['column_1', 'column_2', 'column_3', 'column_4', 'column_5', 'column_6']\n",
    "indices = [1,2,3,4,5,6]\n",
    "#Creating a dataframe:\n",
    "df1 = pd.DataFrame(np.random.rand(6,6), columns = columns, index = indices)\n",
    "\n",
    "\n",
    "    To reindex the given DataFrame using the variable reindex = [3,0,1,2] and store it in the variable new_df, you can use the reindex function in pandas:"
   ]
  },
  {
   "cell_type": "code",
   "execution_count": null,
   "id": "d94acc0f-cb82-4551-9f74-ffac680c69f5",
   "metadata": {},
   "outputs": [],
   "source": [
    "new_df = df.reindex(reindex)\n"
   ]
  },
  {
   "cell_type": "markdown",
   "id": "e8288648-071c-47a9-bb86-6b5d075fbee4",
   "metadata": {},
   "source": [
    "     find the output for both new_df.loc[2] and new_df.iloc[2], you can use the loc and iloc functions respectively:"
   ]
  },
  {
   "cell_type": "code",
   "execution_count": null,
   "id": "1c59437d-21af-4332-9bf0-0af2a8db0b6d",
   "metadata": {},
   "outputs": [],
   "source": [
    "output_loc = new_df.loc[2]\n",
    "output_iloc = new_df.iloc[2]\n"
   ]
  },
  {
   "cell_type": "markdown",
   "id": "3800984e-b619-4953-8eed-5fd64b5cf346",
   "metadata": {},
   "source": [
    "    The main difference between loc and iloc comes into play when the DataFrame is reindexed.\n",
    "\n",
    "    new_df.loc[2] will retrieve the row labeled with index label 2 from new_df. It will give the row that was originally at index 2 in the original DataFrame df before reindexing.\n",
    "\n",
    "    new_df.iloc[2] will retrieve the row at integer position 2 from new_df. It will give the row that is currently at position 2 in the reindexed DataFrame new_df.\n",
    "\n",
    "    Since the reindexing changes the order of rows, the outputs of new_df.loc[2] and new_df.iloc[2] will differ. The former will give the row with the index label 2 in the original order, while the latter will give the row at position 2 in the new order after reindexing."
   ]
  },
  {
   "cell_type": "markdown",
   "id": "a5b7175e-6db6-4b94-a8b7-2cc4d9269eee",
   "metadata": {},
   "source": [
    "## Q4\n",
    "Q4. Write a code to find the following statistical measurements for the above dataframe df1:\n",
    "(i) mean of each and every column present in the dataframe.\n",
    "(ii) standard deviation of column, ‘column_2’\n",
    "\n",
    "\n",
    "    To find the statistical measurements for the given DataFrame df, you can use the following code:\n",
    "\n",
    "    (i) To find the mean of each column in the DataFrame:"
   ]
  },
  {
   "cell_type": "code",
   "execution_count": null,
   "id": "1791501c-0e10-4fe3-8431-3ac3d9accd1e",
   "metadata": {},
   "outputs": [],
   "source": [
    "column_means = df.mean()\n"
   ]
  },
  {
   "cell_type": "markdown",
   "id": "40bd38e0-8fe5-44c6-9661-0bd3a98e4c0d",
   "metadata": {},
   "source": [
    "    (ii) To find the standard deviation of the 'column_2':"
   ]
  },
  {
   "cell_type": "code",
   "execution_count": null,
   "id": "809dc3cb-b89c-4b99-9bb1-8e30738e0acd",
   "metadata": {},
   "outputs": [],
   "source": [
    "column_2_std = df['column_2'].std()\n"
   ]
  },
  {
   "cell_type": "markdown",
   "id": "4fa3201e-488b-43e2-a461-cc78015520f2",
   "metadata": {},
   "source": [
    "    The mean() function is used to calculate the mean (average) value for each column in the DataFrame. The std() function is used to calculate the standard deviation of the specified column ('column_2' in this case).\n",
    "\n",
    "    You can access the mean of each column using column_means, and the standard deviation of 'column_2' using column_2_std."
   ]
  },
  {
   "cell_type": "markdown",
   "id": "8ed4c6c5-43d0-4b06-9741-bbdf2e809815",
   "metadata": {},
   "source": [
    "## Q5\n",
    "Q5. Replace the data present in the second row of column, ‘column_2’ by a string variable then find the\n",
    "mean of column, column_2.\n",
    "If you are getting errors in executing it then explain why.\n",
    "[Hint: To replace the data use df1.loc[] and equate this to string data of your choice.]\n",
    "\n",
    "\n",
    "    To replace the data present in the second row of the column 'column_2' with a string variable, you can use the loc function in pandas as follows:"
   ]
  },
  {
   "cell_type": "code",
   "execution_count": null,
   "id": "f809731b-d943-4207-ab11-667e82e33bed",
   "metadata": {},
   "outputs": [],
   "source": [
    "df.loc[1, 'column_2'] = 'your_string_variable'\n"
   ]
  },
  {
   "cell_type": "markdown",
   "id": "2c4db18f-38cc-40fd-b4ee-009372fcf54c",
   "metadata": {},
   "source": [
    "    However, in your provided code, there is no mention of a 'column_2' in the DataFrame df. Please make sure that the column name matches the one you intend to modify.\n",
    "\n",
    "    After replacing the data, you can find the mean of 'column_2' using the mean() function:"
   ]
  },
  {
   "cell_type": "code",
   "execution_count": null,
   "id": "3f950030-4c81-4aac-a299-6a5a54e8d274",
   "metadata": {},
   "outputs": [],
   "source": [
    "column_2_mean = df['column_2'].mean()\n"
   ]
  },
  {
   "cell_type": "markdown",
   "id": "b6c5fa09-3af4-4401-969c-57d43d192656",
   "metadata": {},
   "source": [
    "    Please note that if the column 'column_2' does not contain numeric values after replacing the data with a string variable, you will encounter an error when calculating the mean. The mean function expects numerical values for calculation."
   ]
  },
  {
   "cell_type": "markdown",
   "id": "84e1e2ae-f947-4da7-8dac-b45dada07292",
   "metadata": {},
   "source": [
    "## Q6\n",
    "Q6. What do you understand about the windows function in pandas and list the types of windows\n",
    "functions?\n",
    "\n",
    "    In pandas, the window functions allow you to perform calculations on a set of data points within a specified window or range. These functions operate on a sliding window over a DataFrame or Series, enabling you to calculate aggregated statistics or apply custom functions to the windowed data.\n",
    "\n",
    "    Pandas provides several built-in window functions, including:\n",
    "\n",
    "    1. Rolling Windows: These functions create a rolling window of fixed size and perform calculations on the data within that window. Some commonly used rolling window functions are:\n",
    "\n",
    "    * rolling(): Generates a rolling object for the specified window size.\n",
    "    * mean(): Calculates the mean of the values in the window.\n",
    "    * sum(): Calculates the sum of the values in the window.\n",
    "    * min(): Finds the minimum value in the window.\n",
    "    * max(): Finds the maximum value in the window.\n",
    "    \n",
    "    2. Expanding Windows: These functions gradually expand the window size as more data points become available. They calculate aggregated statistics on the entire preceding data. Some commonly used expanding window functions are:\n",
    "\n",
    "     * expanding(): Generates an expanding object that computes statistics on the expanding window.\n",
    "     * mean(): Calculates the mean of all preceding values.\n",
    "     * sum(): Calculates the cumulative sum of all preceding values.\n",
    "     * min(): Finds the minimum value in all preceding values.\n",
    "     * max(): Finds the maximum value in all preceding values.\n",
    "     These are just a few examples of the window functions available in pandas. They provide flexibility in analyzing data by allowing you to perform calculations over specific ranges or expanding sets of data."
   ]
  },
  {
   "cell_type": "markdown",
   "id": "3fc92743-f061-40e3-a726-278b65cc2d19",
   "metadata": {},
   "source": [
    "## Q7 \n",
    " Q7. Write a code to print only the current month and year at the time of answering this question.\n",
    "[Hint: Use pandas.datetime function]\n",
    "\n",
    "    To print the current month and year, you can use the datetime function from the pandas module. Here's an example code:"
   ]
  },
  {
   "cell_type": "code",
   "execution_count": 2,
   "id": "10fb1bbb-c60e-40fe-ba77-46c1ec4a320d",
   "metadata": {},
   "outputs": [
    {
     "name": "stdout",
     "output_type": "stream",
     "text": [
      "Current month: 5\n",
      "Current year: 2023\n"
     ]
    },
    {
     "name": "stderr",
     "output_type": "stream",
     "text": [
      "/tmp/ipykernel_77/3680052468.py:3: FutureWarning: The pandas.datetime class is deprecated and will be removed from pandas in a future version. Import from datetime module instead.\n",
      "  current_date = pd.datetime.now()\n"
     ]
    }
   ],
   "source": [
    "import pandas as pd\n",
    "\n",
    "current_date = pd.datetime.now()\n",
    "current_month = current_date.month\n",
    "current_year = current_date.year\n",
    "\n",
    "print(\"Current month:\", current_month)\n",
    "print(\"Current year:\", current_year)\n"
   ]
  },
  {
   "cell_type": "markdown",
   "id": "85038768-1d41-4407-ab0c-e1978fd9d99d",
   "metadata": {},
   "source": [
    "    This code retrieves the current date and time using pd.datetime.now(). Then, it extracts the month and year from the current date and prints them using the print function.\n",
    "\n",
    "    Please note that pd.datetime.now() returns the current date and time, including the month and year. If you only want to print the current month and year, you can modify the code accordingly."
   ]
  },
  {
   "cell_type": "markdown",
   "id": "9911bfe9-d3ad-43ee-b8b7-382fd8558c7b",
   "metadata": {},
   "source": [
    "## Q8\n",
    "Q8. Write a Python program that takes in two dates as input (in the format YYYY-MM-DD) and\n",
    "calculates the difference between them in days, hours, and minutes using Pandas time delta. The\n",
    "program should prompt the user to enter the dates and display the result.\n",
    "\n",
    "    Sure! Here's a Python program that uses pandas' Timedelta to calculate the difference between two dates entered by the user in the format 'YYYY-MM-DD' in days, hours, and minutes:"
   ]
  },
  {
   "cell_type": "code",
   "execution_count": null,
   "id": "4386a01c-fc84-48a3-a9e6-18ad4b8800b3",
   "metadata": {},
   "outputs": [],
   "source": [
    "import pandas as pd\n",
    "\n",
    "# Prompt the user to enter the first date\n",
    "date1 = input(\"Enter the first date (YYYY-MM-DD): \")\n",
    "# Prompt the user to enter the second date\n",
    "date2 = input(\"Enter the second date (YYYY-MM-DD): \")\n",
    "\n",
    "# Convert the input dates to pandas datetime objects\n",
    "date1 = pd.to_datetime(date1)\n",
    "date2 = pd.to_datetime(date2)\n",
    "\n",
    "# Calculate the time difference\n",
    "time_diff = date2 - date1\n",
    "\n",
    "# Extract the difference in days, hours, and minutes\n",
    "days_diff = time_diff.days\n",
    "hours_diff = time_diff.seconds // 3600\n",
    "minutes_diff = (time_diff.seconds % 3600) // 60\n",
    "\n",
    "# Display the result\n",
    "print(f\"The difference between the two dates is {days_diff} days, {hours_diff} hours, and {minutes_diff} minutes.\")\n"
   ]
  },
  {
   "cell_type": "markdown",
   "id": "2c9fd682-0289-42b8-aa8e-d8a692f15ade",
   "metadata": {},
   "source": [
    "    This program prompts the user to enter two dates, which are then converted to pandas Timestamp objects using pd.to_datetime(). The time difference between the two dates is calculated using the - operator. Finally, the program extracts the difference in days, hours, and minutes from the time difference and displays the result."
   ]
  },
  {
   "cell_type": "markdown",
   "id": "08779499-19a4-4590-b4ec-8b6f4bb5a259",
   "metadata": {},
   "source": [
    "## Q9\n",
    "Q9. Write a Python program that reads a CSV file containing categorical data and converts a specified\n",
    "column to a categorical data type. The program should prompt the user to enter the file path, column\n",
    "name, and category order, and then display the sorted data.\n",
    "\n",
    "\n",
    "    Certainly! Here's a Python program that reads a CSV file, converts a specified column to a categorical data type, prompts the user for inputs, and displays the sorted data:"
   ]
  },
  {
   "cell_type": "code",
   "execution_count": null,
   "id": "262c410f-d56d-4351-991a-5383e08cacbd",
   "metadata": {},
   "outputs": [],
   "source": [
    "import pandas as pd\n",
    "\n",
    "# Prompt the user to enter the file path\n",
    "file_path = input(\"Enter the CSV file path: \")\n",
    "\n",
    "# Read the CSV file\n",
    "df = pd.read_csv(file_path)\n",
    "\n",
    "# Prompt the user to enter the column name\n",
    "column_name = input(\"Enter the column name to convert to categorical: \")\n",
    "\n",
    "# Prompt the user to enter the category order\n",
    "category_order = input(\"Enter the category order (comma-separated): \").split(\",\")\n",
    "\n",
    "# Convert the specified column to categorical data type\n",
    "df[column_name] = pd.Categorical(df[column_name], categories=category_order, ordered=True)\n",
    "\n",
    "# Sort the data based on the specified column\n",
    "sorted_df = df.sort_values(column_name)\n",
    "\n",
    "# Display the sorted data\n",
    "print(sorted_df)\n"
   ]
  },
  {
   "cell_type": "markdown",
   "id": "9dc9e72c-3ec0-45b0-ba84-5212de5530a9",
   "metadata": {},
   "source": [
    "     In this program, the user is prompted to enter the file path of the CSV file, the column name to convert to categorical data type, and the category order. The program then reads the CSV file using pd.read_csv(), converts the specified column to a categorical data type using pd.Categorical(), and sorts the data based on the specified column using sort_values(). Finally, the sorted data is displayed."
   ]
  },
  {
   "cell_type": "markdown",
   "id": "c24d6fa3-3c38-469c-88b7-b453571151e7",
   "metadata": {},
   "source": [
    "## Q10\n",
    " Q10. Write a Python program that reads a CSV file containing sales data for different products and\n",
    "visualizes the data using a stacked bar chart to show the sales of each product category over time. The\n",
    "program should prompt the user to enter the file path and display the chart.\n",
    "\n",
    "\n",
    "    Certainly! Here's a Python program that reads a CSV file containing sales data for different products and visualizes the data using a stacked bar chart to show the sales of each product category over time:"
   ]
  },
  {
   "cell_type": "code",
   "execution_count": null,
   "id": "187372ea-11ec-4f3f-8560-5efb746fb0f1",
   "metadata": {},
   "outputs": [],
   "source": [
    "import pandas as pd\n",
    "import matplotlib.pyplot as plt\n",
    "\n",
    "# Prompt the user to enter the file path\n",
    "file_path = input(\"Enter the CSV file path: \")\n",
    "\n",
    "# Read the CSV file\n",
    "df = pd.read_csv(file_path)\n",
    "\n",
    "# Group the data by product category and sum the sales over time\n",
    "grouped_data = df.groupby('product_category')['sales'].sum()\n",
    "\n",
    "# Create a stacked bar chart\n",
    "grouped_data.plot(kind='bar', stacked=True)\n",
    "\n",
    "# Set the chart title and labels\n",
    "plt.title('Sales by Product Category')\n",
    "plt.xlabel('Product Category')\n",
    "plt.ylabel('Sales')\n",
    "\n",
    "# Display the chart\n",
    "plt.show()\n"
   ]
  },
  {
   "cell_type": "markdown",
   "id": "4ce165cc-1f97-4218-b97e-4f6e9cb454a0",
   "metadata": {},
   "source": [
    "    In this program, the user is prompted to enter the file path of the CSV file containing sales data. The program reads the CSV file using pd.read_csv(). It then groups the data by product category using groupby() and sums the sales over time. Next, it creates a stacked bar chart using plot(kind='bar', stacked=True). Finally, the program sets the chart title and labels using title(), xlabel(), and ylabel(), and displays the chart using show() from matplotlib.pyplot."
   ]
  },
  {
   "cell_type": "markdown",
   "id": "5f4ef59f-baad-4a70-a815-654a510411d9",
   "metadata": {},
   "source": [
    "## Q11\n",
    "Q11. You are given a CSV file containing student data that includes the student ID and their test score. Write\n",
    "a Python program that reads the CSV file, calculates the mean, median, and mode of the test scores, and\n",
    "displays the results in a table.\n",
    "\n",
    "\n",
    " The program should do the following:\n",
    "\n",
    "   * Prompt the user to enter the file path of the CSV file containing the student dataR\n",
    "   * Read the CSV file into a Pandas DataFrameR\n",
    "   * Calculate the mean, median, and mode of the test scores using Pandas toolsR\n",
    "   * Display the mean, median, and mode in a table.\n",
    "   \n",
    "   \n",
    " Assume the CSV file contains the following columnsM\n",
    "   * Student ID: The ID of the studentR\n",
    "   * Test Score: The score of the student's test.\n",
    "   \n",
    "   \n",
    "    Example usage of the program:\n",
    "    \n",
    "    Enter the file path of the CSV file containing the student data: student_data.csv\n",
    "    \n",
    "    \n",
    "+-----------+--------+\n",
    "| Statistic | Value |\n",
    "+-----------+--------+\n",
    "| Mean | 79.6 |\n",
    "| Median | 82 |\n",
    "| Mode | 85, 90 |\n",
    "+-----------+--------+\n",
    "\n",
    "\n",
    "  Assume that the CSV file student_data.csv contains the following data:\n",
    "  Student ID,Test Score\n",
    "1,85\n",
    "2,90\n",
    "3,80\n",
    "4,75\n",
    "5,85\n",
    "6,82\n",
    "7,78\n",
    "8,85\n",
    "9,90\n",
    "10,85\n",
    "  \n",
    "  The program should calculate the mean, median, and mode of the test scores and display the results\n",
    "in a table."
   ]
  },
  {
   "cell_type": "markdown",
   "id": "1822fe8a-b3f7-4425-966c-890775cdc49a",
   "metadata": {},
   "source": [
    "    Sure! Here's a Python program that reads a CSV file containing student data, calculates the mean, median, and mode of the test scores, and displays the results in a table:\n",
    "\n",
    "\n"
   ]
  },
  {
   "cell_type": "code",
   "execution_count": null,
   "id": "d7dc7c61-a386-4ff6-b240-b11937fcc757",
   "metadata": {},
   "outputs": [],
   "source": [
    "import pandas as pd\n",
    "\n",
    "# Prompt the user to enter the file path\n",
    "file_path = input(\"Enter the file path of the CSV file containing the student data: \")\n",
    "\n",
    "# Read the CSV file into a Pandas DataFrame\n",
    "df = pd.read_csv(file_path)\n",
    "\n",
    "# Calculate the mean, median, and mode of the test scores\n",
    "mean_score = df['Test Score'].mean()\n",
    "median_score = df['Test Score'].median()\n",
    "mode_scores = df['Test Score'].mode()\n",
    "\n",
    "# Create a table to display the results\n",
    "results = pd.DataFrame({'Statistic': ['Mean', 'Median', 'Mode'],\n",
    "                        'Value': [mean_score, median_score, ', '.join(map(str, mode_scores))]})\n",
    "\n",
    "# Display the table\n",
    "print(results)\n"
   ]
  },
  {
   "cell_type": "markdown",
   "id": "e88cf943-6c89-471e-af27-2b4411c67ee9",
   "metadata": {},
   "source": [
    "    In this program, the user is prompted to enter the file path of the CSV file containing the student data. The program reads the CSV file into a Pandas DataFrame using pd.read_csv(). It then calculates the mean, median, and mode of the test scores using the appropriate methods available in Pandas (mean(), median(), and mode()). The results are stored in a new DataFrame, results, with two columns: 'Statistic' and 'Value'. Finally, the program displays the table of results using print(results)."
   ]
  },
  {
   "cell_type": "code",
   "execution_count": null,
   "id": "61ee2acf-f96b-47e4-89c2-9b1689347625",
   "metadata": {},
   "outputs": [],
   "source": []
  }
 ],
 "metadata": {
  "kernelspec": {
   "display_name": "Python 3 (ipykernel)",
   "language": "python",
   "name": "python3"
  },
  "language_info": {
   "codemirror_mode": {
    "name": "ipython",
    "version": 3
   },
   "file_extension": ".py",
   "mimetype": "text/x-python",
   "name": "python",
   "nbconvert_exporter": "python",
   "pygments_lexer": "ipython3",
   "version": "3.10.8"
  }
 },
 "nbformat": 4,
 "nbformat_minor": 5
}
