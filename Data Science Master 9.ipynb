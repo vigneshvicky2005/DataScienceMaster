{
 "cells": [
  {
   "cell_type": "markdown",
   "id": "5c59d72e-b1b6-4410-9c7e-de0c4e42b3af",
   "metadata": {},
   "source": [
    "# Pwskills"
   ]
  },
  {
   "cell_type": "markdown",
   "id": "42650fe2-f36c-44d6-a17a-b224ef1fc7d9",
   "metadata": {},
   "source": [
    "## Data Science Master"
   ]
  },
  {
   "cell_type": "markdown",
   "id": "43416f1c-04f5-458c-9c54-9fa00d66e6e9",
   "metadata": {},
   "source": [
    "### Python Assignment"
   ]
  },
  {
   "cell_type": "markdown",
   "id": "7ef78b55-b2a6-45be-95c1-c861715b62fb",
   "metadata": {},
   "source": [
    "## Q1\n",
    "\n",
    "Q1. What is an Exception in python? Write the difference between Exceptions and syntax\n",
    " errors\n",
    " \n",
    "       In Python, an exception is an error that occurs during the execution of a program. When a Python script encounters an exception, it interrupts its normal flow of execution and raises an exception object, which contains information about the error.\n",
    "\n",
    "       Exceptions are different from syntax errors in Python. A syntax error is a type of error that occurs when the Python interpreter is unable to interpret the code due to a mistake in the syntax. Syntax errors prevent the program from running at all. Common examples of syntax errors include misspelled keywords, missing or mismatched parentheses, and incorrect indentation.\n",
    "\n",
    "       On the other hand, exceptions occur during the runtime of a program and are not related to syntax. Exceptions can occur due to a variety of reasons, such as dividing a number by zero, attempting to access an undefined variable, or trying to open a non-existent file. Exceptions can be caught and handled by the program, allowing it to recover from the error and continue running.\n",
    "\n",
    "    In summary, the main differences between exceptions and syntax errors are:\n",
    "\n",
    "      * Syntax errors occur during the parsing of code and prevent the program from running, while exceptions occur during the execution of the program and can be caught and handled.\n",
    "      * Syntax errors are caused by mistakes in the code's syntax, while exceptions are caused by errors in the program's logic or external factors.\n",
    "      * Syntax errors are generally easy to detect and fix, while exceptions can be more difficult to diagnose and correct."
   ]
  },
  {
   "cell_type": "markdown",
   "id": "9568553b-3bae-4e84-94fb-cb8f9060c3b1",
   "metadata": {},
   "source": [
    "## Q2\n",
    "\n",
    "Q2. What happens when an exception is not handled? Explain with an example\n",
    "\n",
    "\n",
    "      When an exception is not handled in a Python program, it will cause the program to terminate abruptly, and an error message will be displayed to the user. This error message will contain information about the exception, such as the type of exception and where it occurred in the program.\n",
    "\n",
    "       Here's an example of what happens when an exception is not handled:"
   ]
  },
  {
   "cell_type": "code",
   "execution_count": null,
   "id": "dba1ffa1-e534-43e2-a2d3-1bf1f23facfd",
   "metadata": {},
   "outputs": [],
   "source": [
    "try:\n",
    "    x = 1 / 0\n",
    "except ValueError:\n",
    "    print(\"Oops! This shouldn't happen.\")\n"
   ]
  },
  {
   "cell_type": "markdown",
   "id": "2f40d3a0-b399-48cd-985e-2819aeeae42c",
   "metadata": {},
   "source": [
    "       In this example, the program tries to divide the number 1 by 0, which will raise a ZeroDivisionError exception. However, the except block is only set up to handle ValueError exceptions, not ZeroDivisionError exceptions. As a result, the exception is not caught, and the program will terminate with an error message:"
   ]
  },
  {
   "cell_type": "code",
   "execution_count": null,
   "id": "71fc5919-9290-45e2-a3e4-4eae8475a991",
   "metadata": {},
   "outputs": [],
   "source": [
    "Traceback (most recent call last):\n",
    "  File \"<stdin>\", line 2, in <module>\n",
    "ZeroDivisionError: division by zero\n"
   ]
  },
  {
   "cell_type": "markdown",
   "id": "415525f8-27aa-4a44-881f-5dfbaf9a8eca",
   "metadata": {},
   "source": [
    "       As you can see, the error message contains information about the type of exception that occurred (ZeroDivisionError) and where it occurred in the program (line 2). If this exception were not caught and handled, the program would terminate immediately, and any code that comes after the exception would not be executed.\n",
    "\n",
    "       To avoid this situation, it's always a good idea to include a try-except block in your Python code to catch and handle any potential exceptions that may occur. This will allow your program to gracefully recover from errors and continue running."
   ]
  },
  {
   "cell_type": "markdown",
   "id": "f7e31a4e-5300-4aeb-9aec-584b8f66cc47",
   "metadata": {},
   "source": [
    "## Q3\n",
    "Q3. Which Python statements are used to catch and handle exceptions? Explain with an example\n",
    "\n",
    "      In Python, the `try` and `except` statements are used to catch and handle exceptions. The basic syntax of a try-except block is as follows:"
   ]
  },
  {
   "cell_type": "code",
   "execution_count": null,
   "id": "7e86facd-53ef-48a2-8b92-1eb5fbd22181",
   "metadata": {},
   "outputs": [],
   "source": [
    "try:\n",
    "    # code that might raise an exception\n",
    "except ExceptionType:\n",
    "    # code to handle the exception\n"
   ]
  },
  {
   "cell_type": "markdown",
   "id": "6333ddd2-9cc2-4699-892c-d5cdc02962b2",
   "metadata": {},
   "source": [
    "      Here, the `try` block contains the code that might raise an `exception`, and the except block contains the code that will handle the exception if it occurs. The `ExceptionType` specifies the type of exception that the block will catch.\n",
    "\n",
    "      Here's an example that demonstrates how to use a try-except block to catch and handle a ZeroDivisionError:"
   ]
  },
  {
   "cell_type": "code",
   "execution_count": 2,
   "id": "3feb5ae8-fdbd-4ed7-8958-ccd64d20db5d",
   "metadata": {},
   "outputs": [
    {
     "name": "stdout",
     "output_type": "stream",
     "text": [
      "Oops! You can't divide by zero.\n"
     ]
    }
   ],
   "source": [
    "try:\n",
    "    x = 1 / 0\n",
    "except ZeroDivisionError:\n",
    "    print(\"Oops! You can't divide by zero.\")\n"
   ]
  },
  {
   "cell_type": "markdown",
   "id": "aacec423-ebb6-4354-9b3c-aa346fc51877",
   "metadata": {},
   "source": [
    "       In this example, the `try` block tries to divide the number 1 by 0, which will raise a ZeroDivisionError `exception`. The except block is set up to catch ZeroDivisionError exceptions, and it prints a message to the user informing them that they can't divide by zero.\n",
    "\n",
    "       If you run this code, the output will be:"
   ]
  },
  {
   "cell_type": "markdown",
   "id": "06db0ec1-e4d2-4a58-a971-0672e7d41f45",
   "metadata": {},
   "source": [
    "       Note that you can also include multiple `except` blocks in a try-except block to catch different types of exceptions. Here's an example that catches both ZeroDivisionError and ValueError exceptions:"
   ]
  },
  {
   "cell_type": "markdown",
   "id": "97deca3f-2e77-482f-825f-829a07bfcb25",
   "metadata": {},
   "source": [
    "       In this example, the `try` block first tries to convert the string \"hello\" to an integer, which will raise a ValueError exception. It then tries to divide the number 1 by 0, which will raise a ZeroDivisionError exception. The program will catch each of these exceptions separately and print a different error message for each one.\n",
    "\n",
    "       Overall, the try-except block is a powerful tool in Python for handling exceptions and allowing your program to recover from errors gracefully."
   ]
  },
  {
   "cell_type": "code",
   "execution_count": 3,
   "id": "ab8171ca-e5d0-431f-ab2a-60ad4325028e",
   "metadata": {},
   "outputs": [
    {
     "name": "stdout",
     "output_type": "stream",
     "text": [
      "Oops! That wasn't a valid number.\n"
     ]
    }
   ],
   "source": [
    "try:\n",
    "    x = int(\"hello\")\n",
    "    y = 1 / 0\n",
    "except ZeroDivisionError:\n",
    "    print(\"Oops! You can't divide by zero.\")\n",
    "except ValueError:\n",
    "    print(\"Oops! That wasn't a valid number.\")\n"
   ]
  },
  {
   "cell_type": "markdown",
   "id": "09fba99b-7505-4ba2-aa76-d61b56839004",
   "metadata": {},
   "source": [
    "## Q4\n",
    "\n",
    "Q4. Explain with an example:\n",
    "\n",
    "a. try and else\n",
    "b. finally\n",
    "c. raise\n",
    "\n",
    "\n",
    "    a. `try` and `else`:\n",
    "\n",
    "      The `try` and `else` statements in Python are used together to specify a block of code that should be executed if no exceptions are raised in the `try` block. If an exception is raised, the code in the `else` block is skipped.\n",
    "\n",
    "       Here's an example:"
   ]
  },
  {
   "cell_type": "code",
   "execution_count": 4,
   "id": "dce90cbe-5ab1-4051-9418-8680e49f5585",
   "metadata": {},
   "outputs": [
    {
     "name": "stdout",
     "output_type": "stream",
     "text": [
      "The result is 5.0\n"
     ]
    }
   ],
   "source": [
    "try:\n",
    "    result = 10 / 2\n",
    "except ZeroDivisionError:\n",
    "    print(\"Cannot divide by zero\")\n",
    "else:\n",
    "    print(f\"The result is {result}\")\n"
   ]
  },
  {
   "cell_type": "markdown",
   "id": "ffc9322c-c342-4ca4-81f3-fc1848d17d3d",
   "metadata": {},
   "source": [
    "     b. `finally`:\n",
    "\n",
    "        The `finally` statement in Python is used to specify a block of code that should be executed no matter what happens in the preceding `try` and `except` blocks. This block of code is executed even if an exception is raised or if a `return`, `break`, or `continue` statement is used.\n",
    "\n",
    "        Here's an example:"
   ]
  },
  {
   "cell_type": "code",
   "execution_count": null,
   "id": "e168f001-e8aa-4d10-b130-db229a715bc6",
   "metadata": {},
   "outputs": [],
   "source": [
    "try:\n",
    "    file = open(\"example.txt\", \"r\")\n",
    "    content = file.read()\n",
    "except FileNotFoundError:\n",
    "    print(\"File not found\")\n",
    "finally:\n",
    "    file.close()\n"
   ]
  },
  {
   "cell_type": "markdown",
   "id": "e2d9e7a5-1b6b-443d-bf28-fd28a45b07e7",
   "metadata": {},
   "source": [
    "    c.` raise`:\n",
    "\n",
    "        The `raise` statement in Python is used to raise an exception explicitly. This can be useful when you want to raise an exception based on certain conditions or in response to certain events.\n",
    "\n",
    "          Here's an example:"
   ]
  },
  {
   "cell_type": "code",
   "execution_count": null,
   "id": "249ffcc6-4eb3-4662-bf81-047e9f021582",
   "metadata": {},
   "outputs": [],
   "source": [
    "def calculate_discount(price, discount):\n",
    "    if discount < 0 or discount > 100:\n",
    "        raise ValueError(\"Invalid discount percentage\")\n",
    "    return price * (1 - discount / 100)\n"
   ]
  },
  {
   "cell_type": "markdown",
   "id": "543d402e-af26-4a77-bafc-d114e2fda48e",
   "metadata": {},
   "source": [
    "       These are some of the basic uses of `try` and` else`,` finally`, and raise statements in Python. They can help you write more robust and reliable code by handling errors and exceptions in a controlled and predictable way."
   ]
  },
  {
   "cell_type": "markdown",
   "id": "2a1063d8-0719-4b7e-b30c-348a7c10f1e1",
   "metadata": {},
   "source": [
    "## Q5\n",
    "\n",
    "Q5. What are Custom Exceptions in python? Why do we need Custom Exceptions? Explain with an example\n",
    "\n",
    "\n",
    "\n",
    "        In Python, you can create your own custom exceptions by subclassing the built-in Exception class. Custom exceptions are used when you want to raise an `exception` that is specific to your application or library, rather than using one of the built-in exceptions.\n",
    "\n",
    "        There are several reasons why you might want to use custom exceptions in Python:\n",
    "\n",
    "         * To provide more detailed error messages: By defining custom exceptions, you can provide more detailed and meaningful error messages that help developers understand what went wrong and how to fix it.\n",
    "\n",
    "         * To encapsulate application-specific logic: Custom exceptions can help you encapsulate application-specific logic in a clean and consistent way.\n",
    "\n",
    "         * To improve code readability and maintainability: By using custom exceptions, you can improve code readability and maintainability, since the code that raises and handles exceptions will be more self-explanatory.\n",
    "\n",
    "       Here's an example that demonstrates how to define and use a custom exception in Python:"
   ]
  },
  {
   "cell_type": "code",
   "execution_count": 6,
   "id": "4a77f776-6cfe-49ef-afe2-14ede8f1f757",
   "metadata": {},
   "outputs": [
    {
     "name": "stdout",
     "output_type": "stream",
     "text": [
      "Insufficient funds: balance is 100, but tried to withdraw 200\n"
     ]
    }
   ],
   "source": [
    "class InsufficientFundsError(Exception):\n",
    "    def __init__(self, balance, amount):\n",
    "        self.balance = balance\n",
    "        self.amount = amount\n",
    "\n",
    "    def __str__(self):\n",
    "        return f\"Insufficient funds: balance is {self.balance}, but tried to withdraw {self.amount}\"\n",
    "\n",
    "def withdraw(balance, amount):\n",
    "    if balance < amount:\n",
    "        raise InsufficientFundsError(balance, amount)\n",
    "    return balance - amount\n",
    "\n",
    "try:\n",
    "    balance = 100\n",
    "    amount = 200\n",
    "    new_balance = withdraw(balance, amount)\n",
    "except InsufficientFundsError as e:\n",
    "    print(e)\n"
   ]
  },
  {
   "cell_type": "markdown",
   "id": "ca32cb84-8978-4459-b864-5189b0bf8536",
   "metadata": {},
   "source": [
    "      In this example, we define a custom exception named `InsufficientFundsError`. The` __init__` method initializes the exception with the current balance and the amount that was attempted to be withdrawn. The` __str__` method returns a string representation of the exception that includes the balance and the amount.\n",
    "\n",
    "     We then define a function named `withdraw` that simulates withdrawing money from a bank account. If the balance is less than the amount requested, the function raises an `InsufficientFundsError` exception.\n",
    "\n",
    "     In the `try` block, we call the `withdraw` function with a balance of 100 and an amount of 200, which will raise the `InsufficientFundsError` exception. The `except` block catches the exception and prints the error message provided by the` __str__ `method of the exception object.\n",
    "\n",
    "     Overall, custom exceptions provide a powerful and flexible way to handle errors in your Python code, and can help make your code more readable, maintainable, and robust."
   ]
  },
  {
   "cell_type": "markdown",
   "id": "63b16c25-8596-432e-bbb2-20630dd66b2a",
   "metadata": {},
   "source": [
    "## Q6\n",
    "\n",
    "Q6. Create a custom exception class. Use this class to handle an exception.\n",
    "\n",
    "\n",
    "     Sure, here's an example of how to create a custom exception class and use it to handle an exception:"
   ]
  },
  {
   "cell_type": "code",
   "execution_count": 7,
   "id": "ae4b0159-d289-4bf8-b598-be2b162fb349",
   "metadata": {},
   "outputs": [
    {
     "name": "stdout",
     "output_type": "stream",
     "text": [
      "Invalid input: -4 is a negative number\n"
     ]
    }
   ],
   "source": [
    "class NegativeNumberError(Exception):\n",
    "    def __init__(self, number):\n",
    "        self.number = number\n",
    "\n",
    "    def __str__(self):\n",
    "        return f\"Invalid input: {self.number} is a negative number\"\n",
    "\n",
    "def square_root(number):\n",
    "    if number < 0:\n",
    "        raise NegativeNumberError(number)\n",
    "    return number ** 0.5\n",
    "\n",
    "try:\n",
    "    result = square_root(-4)\n",
    "except NegativeNumberError as e:\n",
    "    print(e)\n"
   ]
  },
  {
   "cell_type": "markdown",
   "id": "7996b4bd-2126-4c59-b6a5-619cd56aeedf",
   "metadata": {},
   "source": [
    "       In this example, we define a custom exception class called `NegativeNumberError`. The `__init__` method initializes the exception object with the negative number that was passed to the `square_root` function. The` __str__` method returns a string representation of the exception that includes the negative number.\n",
    "\n",
    "       We then define a function named `square_root` that calculates the square root of a number. If the number is negative, the function raises a `NegativeNumberError` exception.\n",
    "\n",
    "       In the try block, we call the `square_root` function with a negative number (-4), which will raise the `NegativeNumberErro`r exception. The except block catches the exception and prints the error message provided by the `__str__` method of the exception object.\n",
    "\n",
    "       This is just a simple example, but it demonstrates how you can create and use custom exceptions to handle errors in your Python code. By defining your own custom exception classes, you can provide more detailed error messages and make your code more robust and maintainable."
   ]
  },
  {
   "cell_type": "code",
   "execution_count": null,
   "id": "a07ec127-70ca-49b0-97a7-72ac554967d4",
   "metadata": {},
   "outputs": [],
   "source": []
  }
 ],
 "metadata": {
  "kernelspec": {
   "display_name": "Python 3 (ipykernel)",
   "language": "python",
   "name": "python3"
  },
  "language_info": {
   "codemirror_mode": {
    "name": "ipython",
    "version": 3
   },
   "file_extension": ".py",
   "mimetype": "text/x-python",
   "name": "python",
   "nbconvert_exporter": "python",
   "pygments_lexer": "ipython3",
   "version": "3.10.8"
  }
 },
 "nbformat": 4,
 "nbformat_minor": 5
}
