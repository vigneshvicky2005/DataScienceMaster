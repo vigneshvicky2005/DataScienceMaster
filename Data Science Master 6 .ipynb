{
 "cells": [
  {
   "cell_type": "markdown",
   "id": "16f5372b-a3f7-4146-a7b8-c7c5959b60f7",
   "metadata": {},
   "source": [
    "# Pwskills"
   ]
  },
  {
   "cell_type": "markdown",
   "id": "ff5ed90e-fddd-4633-b234-21c51f86b075",
   "metadata": {},
   "source": [
    "## Data Science Master"
   ]
  },
  {
   "cell_type": "markdown",
   "id": "1af3f533-6ab0-45e0-bd56-b4fbb2294b8f",
   "metadata": {},
   "source": [
    "### Python Assignment"
   ]
  },
  {
   "cell_type": "markdown",
   "id": "dd504c68-04da-477c-94c6-a940f75a53be",
   "metadata": {},
   "source": [
    "## Q1\n",
    "\n",
    "Q1. You are writing code for a company. The requirement of the company is that you create a python\n",
    "function that will check whether the password entered by the user is correct or not. The function should\n",
    "take the password as input and return the string “Valid Password” if the entered password follows the\n",
    "below-given password guidelines else it should return “Invalid Password”.\n",
    "\n",
    "Note: \n",
    "1. The Password should contain at least two uppercase letters and at least two lowercase letters.\n",
    "2. The Password should contain at least a number and three special characters.\n",
    "3. The length of the password should be 10 characters long."
   ]
  },
  {
   "cell_type": "code",
   "execution_count": 8,
   "id": "14613079-1f93-4fa6-84b2-77ce7f8e7c02",
   "metadata": {},
   "outputs": [],
   "source": [
    "import re\n",
    "\n",
    "def check_password(password):\n",
    "    # Check password length\n",
    "    if len(password) != 10:\n",
    "        return \"Invalid Password\"\n",
    "    \n",
    "    # Check for at least 2 uppercase and 2 lowercase letters\n",
    "    if not re.search(r'[A-Z].*[A-Z]', password) or not re.search(r'[a-z].*[a-z]', password):\n",
    "        return \"Invalid Password\"\n",
    "    \n",
    "    # Check for at least a number and 3 special characters\n",
    "    if not re.search(r'[1-9]', password) or not re.search(r'[!@#$%^&*()_+]', password * 3):\n",
    "        return \"Invalid Password\"\n",
    "    \n",
    "    # Password meets all requirements\n",
    "    return \"Valid Password\"\n"
   ]
  },
  {
   "cell_type": "code",
   "execution_count": 9,
   "id": "d8894ee4-57ec-4b87-ac2e-63c0cbdeca57",
   "metadata": {},
   "outputs": [
    {
     "name": "stdout",
     "output_type": "stream",
     "text": [
      "Valid Password\n"
     ]
    }
   ],
   "source": [
    "password = \"AD123ve@#%\"\n",
    "result = check_password(password)\n",
    "print(result)"
   ]
  },
  {
   "cell_type": "markdown",
   "id": "6cfb045a-4ed2-4b09-aa67-f412a91d5c35",
   "metadata": {
    "tags": []
   },
   "source": [
    "## Q2\n",
    "\n",
    "Q2. Solve the below-given questions using at least one of the following:\n",
    "1. Lambda functio\n",
    "2. Filter functio\n",
    "3. Zap functio\n",
    "4. List Comprehension\n",
    "* Check if the string starts with a particular letter\n",
    "* Check if the string is numeric\n",
    "* Sort a list of tuples having fruit names and their quantity. [(\"mango\",99),(\"orange\",80), (\"grapes\", 1000)]\n",
    "* Find the squares of numbers from 1 to 10\n",
    "* Find the cube root of numbers from 1 to 10\n",
    "* Check if a given number is even\n",
    "* Filter odd numbers from the given list.\n",
    "[1,2,3,4,5,6,7,8,9,10]\n",
    "* Sort a list of integers into positive and negative integers lists.\n",
    "[1,2,3,4,5,6,-1,-2,-3,-4,-5,0]"
   ]
  },
  {
   "cell_type": "markdown",
   "id": "7106a99e-80fd-444a-aff0-3c485d38bcae",
   "metadata": {},
   "source": [
    "    1 .Check if the string starts with a particular letter using lambda function:"
   ]
  },
  {
   "cell_type": "code",
   "execution_count": 10,
   "id": "b3458be9-ebe3-41a3-987a-0e22f94a716a",
   "metadata": {},
   "outputs": [
    {
     "name": "stdout",
     "output_type": "stream",
     "text": [
      "True\n"
     ]
    }
   ],
   "source": [
    "string = \"apple\"\n",
    "startsWithA = lambda s: s.startswith('a')\n",
    "print(startsWithA(string))\n",
    "\n"
   ]
  },
  {
   "cell_type": "markdown",
   "id": "63b323c6-7e1d-482e-9b1e-e684c74ce611",
   "metadata": {},
   "source": [
    "    2. Check if the string is numeric using lambda function:"
   ]
  },
  {
   "cell_type": "code",
   "execution_count": 11,
   "id": "b614e9fa-096b-44c0-9611-c8bdf9707e5d",
   "metadata": {},
   "outputs": [
    {
     "name": "stdout",
     "output_type": "stream",
     "text": [
      "True\n",
      "False\n"
     ]
    }
   ],
   "source": [
    "string1 = \"1234\"\n",
    "string2 = \"1.234\"\n",
    "isNumeric = lambda s: s.isnumeric()\n",
    "print(isNumeric(string1))\n",
    "print(isNumeric(string2))\n",
    "\n"
   ]
  },
  {
   "cell_type": "markdown",
   "id": "2ffe1fcc-1020-42d5-8148-306c1ab80e21",
   "metadata": {},
   "source": [
    "    3. Sort a list of tuples having fruit names and their quantity using list comprehension:"
   ]
  },
  {
   "cell_type": "code",
   "execution_count": 12,
   "id": "baf2f7bd-3730-42fc-a4f8-437d8b704dc7",
   "metadata": {},
   "outputs": [
    {
     "name": "stdout",
     "output_type": "stream",
     "text": [
      "[('orange', 80), ('mango', 99), ('grapes', 1000)]\n"
     ]
    }
   ],
   "source": [
    "fruits = [(\"mango\",99),(\"orange\",80), (\"grapes\", 1000)]\n",
    "sortedFruits = sorted(fruits, key=lambda x: x[1])\n",
    "print(sortedFruits)\n",
    "\n"
   ]
  },
  {
   "cell_type": "markdown",
   "id": "fbc13fca-bbd5-4402-b906-78b580fa7343",
   "metadata": {},
   "source": [
    "    4. Find the squares of numbers from 1 to 10 using list comprehension"
   ]
  },
  {
   "cell_type": "code",
   "execution_count": 13,
   "id": "cc5ec024-007d-46b3-b402-c36737e838f0",
   "metadata": {},
   "outputs": [
    {
     "name": "stdout",
     "output_type": "stream",
     "text": [
      "[1, 4, 9, 16, 25, 36, 49, 64, 81, 100]\n"
     ]
    }
   ],
   "source": [
    "squares = [x**2 for x in range(1,11)]\n",
    "print(squares)\n",
    "\n"
   ]
  },
  {
   "cell_type": "markdown",
   "id": "51f8733e-546f-44ee-8012-be44f95efb8d",
   "metadata": {},
   "source": [
    "    5. Find the cube root of numbers from 1 to 10 using list comprehension:"
   ]
  },
  {
   "cell_type": "code",
   "execution_count": 16,
   "id": "84ac1bcb-292d-49cb-8125-707a6c984836",
   "metadata": {},
   "outputs": [
    {
     "name": "stdout",
     "output_type": "stream",
     "text": [
      "[1.0, 1.2599210498948732, 1.4422495703074083, 1.5874010519681994, 1.7099759466766968, 1.8171205928321397, 1.912931182772389, 2.0, 2.080083823051904, 2.154434690031884]\n"
     ]
    }
   ],
   "source": [
    "import math\n",
    "cubert = [math.pow(x,1/3) for x in range(1,11)]\n",
    "print(cubert)\n",
    "\n"
   ]
  },
  {
   "cell_type": "markdown",
   "id": "82e6f088-6302-49e6-bff0-ba75a65ad38f",
   "metadata": {},
   "source": [
    "    6. Check if a given number is even using lambda function:"
   ]
  },
  {
   "cell_type": "code",
   "execution_count": 17,
   "id": "d5d627d4-143f-446a-86e9-9026a36f8bc0",
   "metadata": {},
   "outputs": [
    {
     "name": "stdout",
     "output_type": "stream",
     "text": [
      "True\n",
      "False\n"
     ]
    }
   ],
   "source": [
    "isEven = lambda x: x%2==0\n",
    "print(isEven(10))\n",
    "\n",
    "print(isEven(7))\n",
    "\n"
   ]
  },
  {
   "cell_type": "markdown",
   "id": "d945dd59-0c30-4732-a6d0-e88ec538ec12",
   "metadata": {},
   "source": [
    "    7. Filter odd numbers from the given list using filter function:"
   ]
  },
  {
   "cell_type": "code",
   "execution_count": 18,
   "id": "710806b0-cc95-4a1e-864f-639577efff36",
   "metadata": {},
   "outputs": [
    {
     "name": "stdout",
     "output_type": "stream",
     "text": [
      "[1, 3, 5, 7, 9]\n"
     ]
    }
   ],
   "source": [
    "numbers = [1,2,3,4,5,6,7,8,9,10]\n",
    "oddNumbers = list(filter(lambda x: x%2!=0, numbers))\n",
    "print(oddNumbers)\n"
   ]
  },
  {
   "cell_type": "markdown",
   "id": "d33a1289-715a-4794-94c2-d9be83f16656",
   "metadata": {},
   "source": [
    "    8. Sort a list of integers into positive and negative integers lists using list comprehension:"
   ]
  },
  {
   "cell_type": "code",
   "execution_count": 19,
   "id": "0e621bc1-df92-4887-8e42-52a07668b29a",
   "metadata": {},
   "outputs": [
    {
     "name": "stdout",
     "output_type": "stream",
     "text": [
      "[1, 2, 3, 4, 5, 6]\n",
      "[-1, -2, -3, -4, -5]\n"
     ]
    }
   ],
   "source": [
    "numbers = [1,2,3,4,5,6,-1,-2,-3,-4,-5,0]\n",
    "positiveNumbers = [x for x in numbers if x > 0]\n",
    "negativeNumbers = [x for x in numbers if x < 0]\n",
    "print(positiveNumbers)\n",
    "print(negativeNumbers)\n"
   ]
  },
  {
   "cell_type": "code",
   "execution_count": null,
   "id": "de63bfea-c618-4fc2-8a3a-c60ff9c15728",
   "metadata": {},
   "outputs": [],
   "source": []
  }
 ],
 "metadata": {
  "kernelspec": {
   "display_name": "Python 3 (ipykernel)",
   "language": "python",
   "name": "python3"
  },
  "language_info": {
   "codemirror_mode": {
    "name": "ipython",
    "version": 3
   },
   "file_extension": ".py",
   "mimetype": "text/x-python",
   "name": "python",
   "nbconvert_exporter": "python",
   "pygments_lexer": "ipython3",
   "version": "3.10.8"
  }
 },
 "nbformat": 4,
 "nbformat_minor": 5
}
