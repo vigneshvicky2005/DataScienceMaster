{
 "cells": [
  {
   "cell_type": "markdown",
   "id": "853842f9-4284-4b86-bb30-fe687b46b589",
   "metadata": {},
   "source": [
    "# Pwskills"
   ]
  },
  {
   "cell_type": "markdown",
   "id": "dc437a54-0178-478e-a793-1ce407365e36",
   "metadata": {},
   "source": [
    "## Data  Science Master"
   ]
  },
  {
   "cell_type": "markdown",
   "id": "06d46dac-8921-418c-8fd5-f3bc8242391e",
   "metadata": {},
   "source": [
    "### Statistics Advance Assignment"
   ]
  },
  {
   "cell_type": "markdown",
   "id": "f534ef18-be61-4d47-8361-09256a26a0d6",
   "metadata": {},
   "source": [
    "## Q1\n",
    "Q1. Write a Python function that takes in two arrays of data and calculates the F-value for a variance ratio\n",
    "test. The function should return the F-value and the corresponding p-value for the test."
   ]
  },
  {
   "cell_type": "code",
   "execution_count": 1,
   "id": "5186ef74-a958-43ca-bdb6-9dff04185dc6",
   "metadata": {},
   "outputs": [],
   "source": [
    "import numpy as np\n",
    "from scipy.stats import f\n",
    "\n",
    "def variance_ratio_test(data1, data2):\n",
    "    # Calculate the variances of the two datasets\n",
    "    var1 = np.var(data1, ddof=1)  # ddof=1 for unbiased estimation\n",
    "    var2 = np.var(data2, ddof=1)\n",
    "    \n",
    "    # Calculate the F-value and p-value\n",
    "    f_value = var1 / var2\n",
    "    p_value = f.cdf(f_value, len(data1)-1, len(data2)-1)  # Cumulative Distribution Function\n",
    "    \n",
    "    return f_value, p_value\n"
   ]
  },
  {
   "cell_type": "code",
   "execution_count": 2,
   "id": "b1e7145a-4925-4c66-8dc4-3e161e4fda23",
   "metadata": {},
   "outputs": [
    {
     "name": "stdout",
     "output_type": "stream",
     "text": [
      "F-value: 0.25\n",
      "p-value: 0.10400000000000002\n"
     ]
    }
   ],
   "source": [
    "data1 = [1, 2, 3, 4, 5]\n",
    "data2 = [2, 4, 6, 8, 10]\n",
    "\n",
    "f_value, p_value = variance_ratio_test(data1, data2)\n",
    "print(\"F-value:\", f_value)\n",
    "print(\"p-value:\", p_value)\n"
   ]
  },
  {
   "cell_type": "markdown",
   "id": "62cb2982-a92c-4687-a252-c23827f03ec4",
   "metadata": {},
   "source": [
    "## Q2\n",
    "Q2. Given a significance level of 0.05 and the degrees of freedom for the numerator and denominator of an\n",
    "F-distribution, write a Python function that returns the critical F-value for a two-tailed test."
   ]
  },
  {
   "cell_type": "code",
   "execution_count": 3,
   "id": "23ab7a1d-3746-4fdc-9265-ffa8d4f6ce04",
   "metadata": {},
   "outputs": [],
   "source": [
    "from scipy.stats import f\n",
    "\n",
    "def critical_f_value(significance_level, df_num, df_den):\n",
    "    # Calculate the critical F-value\n",
    "    critical_value = f.ppf(1 - significance_level / 2, df_num, df_den)\n",
    "    \n",
    "    return critical_value\n"
   ]
  },
  {
   "cell_type": "code",
   "execution_count": 4,
   "id": "cee679ed-ac2a-49e0-a3f1-03d49f9b3bbc",
   "metadata": {},
   "outputs": [
    {
     "name": "stdout",
     "output_type": "stream",
     "text": [
      "Critical F-value: 4.236085668188633\n"
     ]
    }
   ],
   "source": [
    "significance_level = 0.05\n",
    "df_num = 5\n",
    "df_den = 10\n",
    "\n",
    "critical_value = critical_f_value(significance_level, df_num, df_den)\n",
    "print(\"Critical F-value:\", critical_value)\n"
   ]
  },
  {
   "cell_type": "markdown",
   "id": "a2c97d83-6e37-42cb-9530-08a3472d195d",
   "metadata": {},
   "source": [
    "## Q3\n",
    "Q3. Write a Python program that generates random samples from two normal distributions with known\n",
    "\n",
    "variances and uses an F-test to determine if the variances are equal. The program should output the F-\n",
    "value, degrees of freedom, and p-value for the test."
   ]
  },
  {
   "cell_type": "code",
   "execution_count": 5,
   "id": "6836648a-1f01-4f05-9dc1-9668d84ce22d",
   "metadata": {},
   "outputs": [
    {
     "name": "stdout",
     "output_type": "stream",
     "text": [
      "F-value: 0.4030463392763856\n",
      "Degrees of Freedom (numerator, denominator): 99 , 99\n",
      "p-value: 1.9999908083753242\n"
     ]
    }
   ],
   "source": [
    "import numpy as np\n",
    "from scipy.stats import f\n",
    "\n",
    "def f_test_for_variances(data1, data2):\n",
    "    # Calculate the variances of the two datasets\n",
    "    var1 = np.var(data1, ddof=1)  # ddof=1 for unbiased estimation\n",
    "    var2 = np.var(data2, ddof=1)\n",
    "    \n",
    "    # Calculate the degrees of freedom\n",
    "    df1 = len(data1) - 1\n",
    "    df2 = len(data2) - 1\n",
    "    \n",
    "    # Calculate the F-value and p-value\n",
    "    f_value = var1 / var2\n",
    "    p_value = f.sf(f_value, df1, df2) * 2  # Survival Function (1 - CDF) multiplied by 2 for two-tailed test\n",
    "    \n",
    "    return f_value, df1, df2, p_value\n",
    "\n",
    "# Generate random samples from two normal distributions\n",
    "np.random.seed(42)  # Set a seed for reproducibility\n",
    "data1 = np.random.normal(loc=0, scale=1, size=100)\n",
    "data2 = np.random.normal(loc=0, scale=1.5, size=100)\n",
    "\n",
    "# Perform the F-test\n",
    "f_value, df1, df2, p_value = f_test_for_variances(data1, data2)\n",
    "\n",
    "# Print the results\n",
    "print(\"F-value:\", f_value)\n",
    "print(\"Degrees of Freedom (numerator, denominator):\", df1, \",\", df2)\n",
    "print(\"p-value:\", p_value)\n"
   ]
  },
  {
   "cell_type": "markdown",
   "id": "f173f08b-c889-43a3-94c1-ef2a5c4da7fc",
   "metadata": {},
   "source": [
    "## Q4\n",
    "Q4.The variances of two populations are known to be 10 and 15. A sample of 12 observations is taken from\n",
    "each population. Conduct an F-test at the 5% significance level to determine if the variances are\n",
    "significantly different."
   ]
  },
  {
   "cell_type": "code",
   "execution_count": 6,
   "id": "76ee9f83-2f43-4c79-bd60-af47a0662304",
   "metadata": {},
   "outputs": [
    {
     "name": "stdout",
     "output_type": "stream",
     "text": [
      "F-value: 0.6666666666666666\n",
      "Degrees of Freedom (numerator, denominator): 11 , 11\n",
      "Critical F-value: 3.473699051085809\n",
      "p-value: 1.4876102012642005\n",
      "Conclusion: Fail to reject the null hypothesis. Variances are not significantly different.\n"
     ]
    }
   ],
   "source": [
    "from scipy.stats import f\n",
    "\n",
    "# Known variances\n",
    "var1 = 10\n",
    "var2 = 15\n",
    "\n",
    "# Sample sizes\n",
    "n1 = 12\n",
    "n2 = 12\n",
    "\n",
    "# Calculate the degrees of freedom\n",
    "df1 = n1 - 1\n",
    "df2 = n2 - 1\n",
    "\n",
    "# Calculate the F-value\n",
    "f_value = var1 / var2\n",
    "\n",
    "# Calculate the critical F-value\n",
    "significance_level = 0.05\n",
    "critical_value = f.ppf(1 - significance_level / 2, df1, df2)\n",
    "\n",
    "# Perform the F-test\n",
    "p_value = f.sf(f_value, df1, df2) * 2\n",
    "\n",
    "# Determine if variances are significantly different\n",
    "if f_value > critical_value:\n",
    "    conclusion = \"Reject the null hypothesis. Variances are significantly different.\"\n",
    "else:\n",
    "    conclusion = \"Fail to reject the null hypothesis. Variances are not significantly different.\"\n",
    "\n",
    "# Print the results\n",
    "print(\"F-value:\", f_value)\n",
    "print(\"Degrees of Freedom (numerator, denominator):\", df1, \",\", df2)\n",
    "print(\"Critical F-value:\", critical_value)\n",
    "print(\"p-value:\", p_value)\n",
    "print(\"Conclusion:\", conclusion)\n"
   ]
  },
  {
   "cell_type": "markdown",
   "id": "500b1c3b-a537-4ddd-b691-c5ab8a2c5219",
   "metadata": {},
   "source": [
    "## Q5\n",
    "Q5. A manufacturer claims that the variance of the diameter of a certain product is 0.005. A sample of 25\n",
    "products is taken, and the sample variance is found to be 0.006. Conduct an F-test at the 1% significance\n",
    "level to determine if the claim is justified."
   ]
  },
  {
   "cell_type": "code",
   "execution_count": 7,
   "id": "310bb6df-b885-42e9-8738-50a94e9f3d8d",
   "metadata": {},
   "outputs": [
    {
     "name": "stdout",
     "output_type": "stream",
     "text": [
      "F-value: 1.2\n",
      "Degrees of Freedom (numerator, denominator): 24 , 24\n",
      "Critical F-value: 2.659072104348157\n",
      "p-value: 0.32936546828172447\n",
      "Conclusion: Fail to reject the null hypothesis. The claim is justified.\n"
     ]
    }
   ],
   "source": [
    "from scipy.stats import f\n",
    "\n",
    "# Claimed variance\n",
    "claimed_variance = 0.005\n",
    "\n",
    "# Sample variance\n",
    "sample_variance = 0.006\n",
    "\n",
    "# Sample size\n",
    "n = 25\n",
    "\n",
    "# Calculate the degrees of freedom\n",
    "df1 = n - 1\n",
    "df2 = n - 1\n",
    "\n",
    "# Calculate the F-value\n",
    "f_value = sample_variance / claimed_variance\n",
    "\n",
    "# Calculate the critical F-value\n",
    "significance_level = 0.01\n",
    "critical_value = f.ppf(1 - significance_level, df1, df2)\n",
    "\n",
    "# Perform the F-test\n",
    "p_value = f.sf(f_value, df1, df2)\n",
    "\n",
    "# Determine if the claim is justified\n",
    "if f_value < critical_value:\n",
    "    conclusion = \"Fail to reject the null hypothesis. The claim is justified.\"\n",
    "else:\n",
    "    conclusion = \"Reject the null hypothesis. The claim is not justified.\"\n",
    "\n",
    "# Print the results\n",
    "print(\"F-value:\", f_value)\n",
    "print(\"Degrees of Freedom (numerator, denominator):\", df1, \",\", df2)\n",
    "print(\"Critical F-value:\", critical_value)\n",
    "print(\"p-value:\", p_value)\n",
    "print(\"Conclusion:\", conclusion)\n"
   ]
  },
  {
   "cell_type": "markdown",
   "id": "3487bf70-0ccb-4efe-9ead-fcc8282107a4",
   "metadata": {},
   "source": [
    "## Q6\n",
    "Q6. Write a Python function that takes in the degrees of freedom for the numerator and denominator of an\n",
    "F-distribution and calculates the mean and variance of the distribution. The function should return the\n",
    "mean and variance as a tuple."
   ]
  },
  {
   "cell_type": "code",
   "execution_count": 8,
   "id": "89a8cef5-6a38-4e75-b6eb-55c8937e99ef",
   "metadata": {},
   "outputs": [],
   "source": [
    "def f_distribution_stats(df_num, df_den):\n",
    "    # Calculate the mean and variance of the F-distribution\n",
    "    mean = df_den / (df_den - 2)\n",
    "    variance = (2 * df_den**2 * (df_num + df_den - 2)) / (df_num * (df_den - 2)**2 * (df_den - 4))\n",
    "    \n",
    "    return mean, variance\n"
   ]
  },
  {
   "cell_type": "code",
   "execution_count": 9,
   "id": "5a9bc0e0-0c50-4ab4-a309-88a3d9b7d80d",
   "metadata": {},
   "outputs": [
    {
     "name": "stdout",
     "output_type": "stream",
     "text": [
      "Mean: 1.25\n",
      "Variance: 1.3541666666666667\n"
     ]
    }
   ],
   "source": [
    "df_num = 5\n",
    "df_den = 10\n",
    "\n",
    "mean, variance = f_distribution_stats(df_num, df_den)\n",
    "print(\"Mean:\", mean)\n",
    "print(\"Variance:\", variance)\n"
   ]
  },
  {
   "cell_type": "markdown",
   "id": "dace7750-2874-4733-a4ac-6f07e694f36d",
   "metadata": {},
   "source": [
    "## Q7\n",
    "Q7. A random sample of 10 measurements is taken from a normal population with unknown variance. The\n",
    "sample variance is found to be 25. Another random sample of 15 measurements is taken from another\n",
    "normal population with unknown variance, and the sample variance is found to be 20. Conduct an F-test\n",
    "at the 10% significance level to determine if the variances are significantly different."
   ]
  },
  {
   "cell_type": "code",
   "execution_count": 10,
   "id": "3e33fef0-9a00-42a8-adf5-4d92e2f0fb4a",
   "metadata": {},
   "outputs": [
    {
     "name": "stdout",
     "output_type": "stream",
     "text": [
      "F-value: 1.25\n",
      "Degrees of Freedom (numerator, denominator): 9 , 14\n",
      "Critical F-value: 2.121954566976902\n",
      "p-value: 0.34160971912929744\n",
      "Conclusion: Fail to reject the null hypothesis. Variances are not significantly different.\n"
     ]
    }
   ],
   "source": [
    "from scipy.stats import f\n",
    "\n",
    "# Sample variances\n",
    "sample_variance1 = 25\n",
    "sample_variance2 = 20\n",
    "\n",
    "# Sample sizes\n",
    "n1 = 10\n",
    "n2 = 15\n",
    "\n",
    "# Calculate the degrees of freedom\n",
    "df1 = n1 - 1\n",
    "df2 = n2 - 1\n",
    "\n",
    "# Calculate the F-value\n",
    "f_value = sample_variance1 / sample_variance2\n",
    "\n",
    "# Calculate the critical F-value\n",
    "significance_level = 0.10\n",
    "critical_value = f.ppf(1 - significance_level, df1, df2)\n",
    "\n",
    "# Perform the F-test\n",
    "p_value = f.sf(f_value, df1, df2)\n",
    "\n",
    "# Determine if the variances are significantly different\n",
    "if f_value > critical_value:\n",
    "    conclusion = \"Reject the null hypothesis. Variances are significantly different.\"\n",
    "else:\n",
    "    conclusion = \"Fail to reject the null hypothesis. Variances are not significantly different.\"\n",
    "\n",
    "# Print the results\n",
    "print(\"F-value:\", f_value)\n",
    "print(\"Degrees of Freedom (numerator, denominator):\", df1, \",\", df2)\n",
    "print(\"Critical F-value:\", critical_value)\n",
    "print(\"p-value:\", p_value)\n",
    "print(\"Conclusion:\", conclusion)\n"
   ]
  },
  {
   "cell_type": "markdown",
   "id": "f8c74273-8360-4f79-ad93-f90b6ba38015",
   "metadata": {},
   "source": [
    "## Q8\n",
    "Q8. The following data represent the waiting times in minutes at two different restaurants on a Saturday\n",
    "night: Restaurant A: 24, 25, 28, 23, 22, 20, 27; Restaurant B: 31, 33, 35, 30, 32, 36. Conduct an F-test at the 5%\n",
    "significance level to determine if the variances are significantly different."
   ]
  },
  {
   "cell_type": "code",
   "execution_count": 12,
   "id": "dc7becc0-5502-4dff-9e73-6d92936ccb7e",
   "metadata": {},
   "outputs": [
    {
     "name": "stdout",
     "output_type": "stream",
     "text": [
      "F-value: 1.4551907719609583\n",
      "Degrees of Freedom (numerator, denominator): 6 , 5\n",
      "Critical F-value: 4.950288068694318\n",
      "p-value: 0.34874078739687414\n",
      "Conclusion: Fail to reject the null hypothesis. Variances are not significantly different.\n"
     ]
    }
   ],
   "source": [
    "from scipy.stats import f\n",
    "\n",
    "# Waiting times data\n",
    "restaurant_a = [24, 25, 28, 23, 22, 20, 27]\n",
    "restaurant_b = [31, 33, 35, 30, 32, 36]\n",
    "\n",
    "# Sample variances\n",
    "sample_variance_a = sum((x - np.mean(restaurant_a))**2 for x in restaurant_a) / (len(restaurant_a) - 1)\n",
    "sample_variance_b = sum((x - np.mean(restaurant_b))**2 for x in restaurant_b) / (len(restaurant_b) - 1)\n",
    "\n",
    "# Sample sizes\n",
    "n1 = len(restaurant_a)\n",
    "n2 = len(restaurant_b)\n",
    "\n",
    "# Calculate the degrees of freedom\n",
    "df1 = n1 - 1\n",
    "df2 = n2 - 1\n",
    "\n",
    "# Calculate the F-value\n",
    "f_value = sample_variance_a / sample_variance_b\n",
    "\n",
    "# Calculate the critical F-value\n",
    "significance_level = 0.05\n",
    "critical_value = f.ppf(1 - significance_level, df1, df2)\n",
    "\n",
    "# Perform the F-test\n",
    "p_value = f.sf(f_value, df1, df2)\n",
    "\n",
    "# Determine if the variances are significantly different\n",
    "if f_value > critical_value:\n",
    "    conclusion = \"Reject the null hypothesis. Variances are significantly different.\"\n",
    "else:\n",
    "    conclusion = \"Fail to reject the null hypothesis. Variances are not significantly different.\"\n",
    "\n",
    "# Print the results\n",
    "print(\"F-value:\", f_value)\n",
    "print(\"Degrees of Freedom (numerator, denominator):\", df1, \",\", df2)\n",
    "print(\"Critical F-value:\", critical_value)\n",
    "print(\"p-value:\", p_value)\n",
    "print(\"Conclusion:\", conclusion)\n"
   ]
  },
  {
   "cell_type": "markdown",
   "id": "b08130ef-8d7c-4913-8f61-93d75cf5f51d",
   "metadata": {},
   "source": [
    "## Q9\n",
    "Q9. The following data represent the test scores of two groups of students: Group A: 80, 85, 90, 92, 87, 83;\n",
    "Group B: 75, 78, 82, 79, 81, 84. Conduct an F-test at the 1% significance level to determine if the variances\n",
    "are significantly different."
   ]
  },
  {
   "cell_type": "code",
   "execution_count": 13,
   "id": "8fe0f81e-6bf6-4822-b5ec-d193c369473c",
   "metadata": {},
   "outputs": [
    {
     "name": "stdout",
     "output_type": "stream",
     "text": [
      "F-value: 1.9442622950819677\n",
      "Degrees of Freedom (numerator, denominator): 5 , 5\n",
      "Critical F-value: 10.967020650907992\n",
      "p-value: 0.2415521774535344\n",
      "Conclusion: Fail to reject the null hypothesis. Variances are not significantly different.\n"
     ]
    }
   ],
   "source": [
    "from scipy.stats import f\n",
    "\n",
    "# Test scores data\n",
    "group_a = [80, 85, 90, 92, 87, 83]\n",
    "group_b = [75, 78, 82, 79, 81, 84]\n",
    "\n",
    "# Sample variances\n",
    "sample_variance_a = sum((x - np.mean(group_a))**2 for x in group_a) / (len(group_a) - 1)\n",
    "sample_variance_b = sum((x - np.mean(group_b))**2 for x in group_b) / (len(group_b) - 1)\n",
    "\n",
    "# Sample sizes\n",
    "n1 = len(group_a)\n",
    "n2 = len(group_b)\n",
    "\n",
    "# Calculate the degrees of freedom\n",
    "df1 = n1 - 1\n",
    "df2 = n2 - 1\n",
    "\n",
    "# Calculate the F-value\n",
    "f_value = sample_variance_a / sample_variance_b\n",
    "\n",
    "# Calculate the critical F-value\n",
    "significance_level = 0.01\n",
    "critical_value = f.ppf(1 - significance_level, df1, df2)\n",
    "\n",
    "# Perform the F-test\n",
    "p_value = f.sf(f_value, df1, df2)\n",
    "\n",
    "# Determine if the variances are significantly different\n",
    "if f_value > critical_value:\n",
    "    conclusion = \"Reject the null hypothesis. Variances are significantly different.\"\n",
    "else:\n",
    "    conclusion = \"Fail to reject the null hypothesis. Variances are not significantly different.\"\n",
    "\n",
    "# Print the results\n",
    "print(\"F-value:\", f_value)\n",
    "print(\"Degrees of Freedom (numerator, denominator):\", df1, \",\", df2)\n",
    "print(\"Critical F-value:\", critical_value)\n",
    "print(\"p-value:\", p_value)\n",
    "print(\"Conclusion:\", conclusion)\n"
   ]
  },
  {
   "cell_type": "code",
   "execution_count": null,
   "id": "d87c35b1-c375-4f79-b770-14182e7a31bd",
   "metadata": {},
   "outputs": [],
   "source": []
  }
 ],
 "metadata": {
  "kernelspec": {
   "display_name": "Python 3 (ipykernel)",
   "language": "python",
   "name": "python3"
  },
  "language_info": {
   "codemirror_mode": {
    "name": "ipython",
    "version": 3
   },
   "file_extension": ".py",
   "mimetype": "text/x-python",
   "name": "python",
   "nbconvert_exporter": "python",
   "pygments_lexer": "ipython3",
   "version": "3.10.8"
  }
 },
 "nbformat": 4,
 "nbformat_minor": 5
}
