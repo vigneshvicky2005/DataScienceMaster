{
 "cells": [
  {
   "cell_type": "markdown",
   "id": "8b123be1-87c9-4517-a0ad-b750edcc8206",
   "metadata": {},
   "source": [
    "# PWSKILLS "
   ]
  },
  {
   "cell_type": "markdown",
   "id": "dc001953-8e33-4e43-9fe1-522e7acdcdff",
   "metadata": {},
   "source": [
    "## Data Science Master"
   ]
  },
  {
   "cell_type": "markdown",
   "id": "91676ab2-11ba-4600-861a-8e0dca52a25b",
   "metadata": {},
   "source": [
    "### Python Assignment"
   ]
  },
  {
   "cell_type": "markdown",
   "id": "65a5a2e1-eb9e-4f1d-be6b-5d7e54d35765",
   "metadata": {},
   "source": [
    "## Q1\n",
    "\n",
    "Q1. Explain GET and POST methods.\n",
    "\n",
    "     GET and POST are HTTP methods used in web communication to transfer data between the client (usually a web browser) and the server.\n",
    "\n",
    "    The GET method is used to request a resource from the server. When a user clicks a link or enters a URL in their browser, the browser sends a GET request to the server for the specified resource. The data is sent in the URL itself, as part of the query string. GET requests are generally used to retrieve data from the server and do not modify any data on the server.\n",
    "\n",
    "      For example, when you enter a URL in your browser's address bar to view a webpage, you are making a GET request.\n",
    "\n",
    "      The syntax of a GET request is:"
   ]
  },
  {
   "cell_type": "code",
   "execution_count": null,
   "id": "3ba12f2b-27bc-40f9-b4b3-9126cf26b729",
   "metadata": {},
   "outputs": [],
   "source": [
    "GET /path/to/resource?param1=value1&param2=value2 HTTP/1.1\n",
    "Host: www.example.com\n"
   ]
  },
  {
   "cell_type": "markdown",
   "id": "f1a688f2-1700-4650-ab05-a8d93fe432f3",
   "metadata": {},
   "source": [
    "    The POST method is used to submit data to the server to create or update a resource. When you submit a form on a website, the browser sends a POST request to the server with the form data in the request body. POST requests are generally used to modify data on the server.\n",
    "\n",
    "    For example, when you submit a form on a website to create a new account, you are making a POST request.\n",
    "\n",
    "    The syntax of a POST request is:"
   ]
  },
  {
   "cell_type": "code",
   "execution_count": null,
   "id": "4290ba71-70fd-48ab-9d0c-a9cdd7046d69",
   "metadata": {},
   "outputs": [],
   "source": [
    "POST /path/to/resource HTTP/1.1\n",
    "Host: www.example.com\n",
    "Content-Type: application/x-www-form-urlencoded\n",
    "\n",
    "param1=value1&param2=value2\n"
   ]
  },
  {
   "cell_type": "markdown",
   "id": "fd00a179-4305-4f9c-bd72-04feba51c103",
   "metadata": {},
   "source": [
    "     In summary, GET is used for retrieving data, while POST is used for creating or modifying data."
   ]
  },
  {
   "cell_type": "markdown",
   "id": "e1187368-3fe1-449d-bd72-0a228c4f23bb",
   "metadata": {},
   "source": [
    "## Q2\n",
    "\n",
    "Q2. Why is request used in Flask?\n",
    "\n",
    "     In Flask, the request object is used to access incoming data from a client's HTTP request. When a client sends an HTTP request to a Flask web application, the request object is created and populated with information about the request such as headers, URL parameters, and form data.\n",
    "\n",
    "     The request object in Flask is useful for accessing the data sent from the client's browser and processing it on the server-side. For example, you can use the request object to get user input from a form, to extract URL parameters, or to access files uploaded by the user.\n",
    "\n",
    "     Here are some examples of how the request object can be used in Flask:\n",
    "\n",
    "    1. Retrieving form data:"
   ]
  },
  {
   "cell_type": "code",
   "execution_count": null,
   "id": "2cc3c022-775b-423c-931b-9834844c03a1",
   "metadata": {},
   "outputs": [],
   "source": [
    "from flask import Flask, request\n",
    "\n",
    "app = Flask(__name__)\n",
    "\n",
    "@app.route('/submit', methods=['POST'])\n",
    "def submit():\n",
    "    username = request.form.get('username')\n",
    "    password = request.form.get('password')\n",
    "    # Do something with the username and password\n"
   ]
  },
  {
   "cell_type": "markdown",
   "id": "19314bdb-4f29-4960-bf56-b2b7c01c7deb",
   "metadata": {},
   "source": [
    "     2.Retrieving URL parameters:"
   ]
  },
  {
   "cell_type": "code",
   "execution_count": null,
   "id": "bd28cc02-cd83-45c1-8043-5a4eab52cf9a",
   "metadata": {},
   "outputs": [],
   "source": [
    "from flask import Flask, request\n",
    "\n",
    "app = Flask(__name__)\n",
    "\n",
    "@app.route('/profile')\n",
    "def profile():\n",
    "    username = request.args.get('username')\n",
    "    # Do something with the username\n"
   ]
  },
  {
   "cell_type": "markdown",
   "id": "55dc0b5d-27af-41d6-aba3-52aae7356073",
   "metadata": {},
   "source": [
    "     3.Accessing uploaded files:"
   ]
  },
  {
   "cell_type": "code",
   "execution_count": null,
   "id": "6549c789-a578-44d9-8b49-f623cefce0ea",
   "metadata": {},
   "outputs": [],
   "source": [
    "from flask import Flask, request\n",
    "\n",
    "app = Flask(__name__)\n",
    "\n",
    "@app.route('/upload', methods=['POST'])\n",
    "def upload():\n",
    "    file = request.files['file']\n",
    "    # Do something with the file\n"
   ]
  },
  {
   "cell_type": "markdown",
   "id": "cb49ac93-484a-47fa-8125-20f1a7014a4d",
   "metadata": {},
   "source": [
    "     In summary, the request object in Flask provides a way to access and process incoming data from a client's HTTP request, making it a crucial part of building web applications with Flask."
   ]
  },
  {
   "cell_type": "markdown",
   "id": "2c9c5330-0bd8-4abc-bcb6-56ff25669a8d",
   "metadata": {},
   "source": [
    "## Q3\n",
    "Q3. Why is redirect() used in Flask?\n",
    "\n",
    "     In Flask, the redirect() function is used to redirect a client's browser to a different URL. This function returns a response object, which when returned from a view function, tells the browser to redirect to the specified URL.\n",
    "\n",
    "     The redirect() function is useful when you want to redirect a user to a different page after they have performed a certain action, such as submitting a form or logging in.\n",
    "\n",
    "     Here's an example of how to use the redirect() function in Flask:\n",
    "\n",
    "    \n"
   ]
  },
  {
   "cell_type": "code",
   "execution_count": null,
   "id": "9292fff5-0a54-470e-b937-b471402d4aeb",
   "metadata": {},
   "outputs": [],
   "source": [
    "from flask import Flask, redirect, url_for\n",
    "\n",
    "app = Flask(__name__)\n",
    "\n",
    "@app.route('/')\n",
    "def index():\n",
    "    # Redirect to the 'hello' endpoint\n",
    "    return redirect(url_for('hello'))\n",
    "\n",
    "@app.route('/hello')\n",
    "def hello():\n",
    "    return 'Hello, World!'\n"
   ]
  },
  {
   "cell_type": "markdown",
   "id": "0b394f7f-95d0-46ff-9076-9af7023b3712",
   "metadata": {},
   "source": [
    "    In this example, when a user visits the root URL, they will be redirected to the hello endpoint using the redirect() function. The url_for() function is used to generate the URL for the hello endpoint based on the name of the function.\n",
    "\n",
    "    You can also specify an absolute URL to redirect to using the redirect() function:"
   ]
  },
  {
   "cell_type": "code",
   "execution_count": null,
   "id": "a254bd32-152d-48b2-87a8-8cc061915cb8",
   "metadata": {},
   "outputs": [],
   "source": [
    "@app.route('/google')\n",
    "def google():\n",
    "    return redirect('https://www.google.com')\n"
   ]
  },
  {
   "cell_type": "markdown",
   "id": "adf50fab-bcaf-4d5e-b27d-e78dbb39241b",
   "metadata": {},
   "source": [
    "     In this example, when a user visits the /google URL, they will be redirected to the Google homepage.\n",
    "\n",
    "     In summary, the redirect() function in Flask is used to redirect a user's browser to a different URL, making it a useful tool for controlling the flow of a web application."
   ]
  },
  {
   "cell_type": "markdown",
   "id": "b0c3a2b3-6d49-40a1-8336-553da1b19ac3",
   "metadata": {},
   "source": [
    "## Q4\n",
    "\n",
    "Q4. What are templates in Flask? Why is the render_template() function used?\n",
    "\n",
    "     In Flask, templates are used to generate dynamic HTML pages that can be displayed to the user. Templates allow you to separate the presentation logic from the application logic, making it easier to create and maintain web pages.\n",
    "\n",
    "     Templates in Flask are written in HTML with placeholders for dynamic content, which are filled in with data from the application. Flask uses the Jinja2 templating engine, which allows you to create complex templates with features like conditional statements, loops, and filters.\n",
    "\n",
    "    The render_template() function in Flask is used to render a template with the specified context data. The context data is a dictionary containing the variables that will be used in the template.\n",
    "\n",
    "     Here's an example of how to use the render_template() function in Flask:"
   ]
  },
  {
   "cell_type": "code",
   "execution_count": null,
   "id": "b17f1a0b-6d6e-41be-ab9a-9210de81edff",
   "metadata": {},
   "outputs": [],
   "source": [
    "from flask import Flask, render_template\n",
    "\n",
    "app = Flask(__name__)\n",
    "\n",
    "@app.route('/hello/<name>')\n",
    "def hello(name):\n",
    "    # Render the 'hello.html' template with the 'name' variable\n",
    "    return render_template('hello.html', name=name)\n"
   ]
  },
  {
   "cell_type": "markdown",
   "id": "e227e5cf-6ef2-4b8e-a49d-1951ac99d36a",
   "metadata": {},
   "source": [
    "    In this example, the hello endpoint takes a name parameter from the URL, and passes it to the hello.html template using the render_template() function. The hello.html template can then use the name variable to generate dynamic content.\n",
    "\n",
    "    Here's an example of a hello.html template:"
   ]
  },
  {
   "cell_type": "code",
   "execution_count": null,
   "id": "e094c08a-fbca-48b8-9909-02a44f1039c3",
   "metadata": {},
   "outputs": [],
   "source": [
    "<!DOCTYPE html>\n",
    "<html>\n",
    "  <head>\n",
    "    <title>Hello, {{ name }}!</title>\n",
    "  </head>\n",
    "  <body>\n",
    "    <h1>Hello, {{ name }}!</h1>\n",
    "  </body>\n",
    "</html>\n"
   ]
  },
  {
   "cell_type": "markdown",
   "id": "2ac30eb2-bae7-4786-b818-c1b467f497bb",
   "metadata": {},
   "source": [
    "     In this example, the {{ name }} placeholder is replaced with the name variable passed in from the application.\n",
    "\n",
    "     In summary, templates in Flask are used to generate dynamic HTML pages, and the render_template() function is used to render a template with the specified context data. This allows you to create dynamic web pages with reusable templates and application logic."
   ]
  },
  {
   "cell_type": "code",
   "execution_count": null,
   "id": "8a9ac5d1-4704-42e2-8287-8d4e2d752384",
   "metadata": {},
   "outputs": [],
   "source": []
  }
 ],
 "metadata": {
  "kernelspec": {
   "display_name": "Python 3 (ipykernel)",
   "language": "python",
   "name": "python3"
  },
  "language_info": {
   "codemirror_mode": {
    "name": "ipython",
    "version": 3
   },
   "file_extension": ".py",
   "mimetype": "text/x-python",
   "name": "python",
   "nbconvert_exporter": "python",
   "pygments_lexer": "ipython3",
   "version": "3.10.8"
  }
 },
 "nbformat": 4,
 "nbformat_minor": 5
}
