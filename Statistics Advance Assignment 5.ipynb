{
 "cells": [
  {
   "cell_type": "markdown",
   "id": "a41edef5-df0a-45aa-be33-e2d572e9ba99",
   "metadata": {},
   "source": [
    "# Pwskills"
   ]
  },
  {
   "cell_type": "markdown",
   "id": "2783daa2-82a5-467f-be02-a210ab166914",
   "metadata": {},
   "source": [
    "## Data Science Master"
   ]
  },
  {
   "cell_type": "markdown",
   "id": "ffb3821b-918d-4cb4-8786-efbe6a39a184",
   "metadata": {},
   "source": [
    "### Statistics Advance Assignment"
   ]
  },
  {
   "cell_type": "markdown",
   "id": "b182041f-6a16-494b-875a-4c32973d1f16",
   "metadata": {},
   "source": [
    "## Q1\n",
    "Q1. Calculate the 95% confidence interval for a sample of data with a mean of 50 and a standard deviation\n",
    "of 5 using Python. Interpret the results.\n",
    "\n",
    "\n",
    "To calculate the 95% confidence interval for a sample of data with a mean of 50 and a standard deviation of 5 using Python, you can use the stats module from the scipy library.\n",
    "\n",
    "Here's the Python code to calculate the confidence interval:"
   ]
  },
  {
   "cell_type": "code",
   "execution_count": 1,
   "id": "1b9c2370-b58d-4498-b834-d221ae0ca325",
   "metadata": {},
   "outputs": [
    {
     "name": "stdout",
     "output_type": "stream",
     "text": [
      "95% Confidence Interval:\n",
      "Lower Bound: 49.00789152424566\n",
      "Upper Bound: 50.99210847575434\n"
     ]
    }
   ],
   "source": [
    "import scipy.stats as stats\n",
    "\n",
    "sample_mean = 50\n",
    "sample_std = 5\n",
    "confidence_level = 0.95\n",
    "sample_size = 100  # Assuming a sample size of 100 for this example\n",
    "\n",
    "# Calculate the standard error\n",
    "standard_error = sample_std / (sample_size ** 0.5)\n",
    "\n",
    "# Calculate the margin of error\n",
    "margin_of_error = stats.t.ppf((1 + confidence_level) / 2, sample_size - 1) * standard_error\n",
    "\n",
    "# Calculate the lower and upper bounds of the confidence interval\n",
    "lower_bound = sample_mean - margin_of_error\n",
    "upper_bound = sample_mean + margin_of_error\n",
    "\n",
    "# Print the results\n",
    "print(\"95% Confidence Interval:\")\n",
    "print(\"Lower Bound:\", lower_bound)\n",
    "print(\"Upper Bound:\", upper_bound)\n"
   ]
  },
  {
   "cell_type": "markdown",
   "id": "e42888a9-ed96-4ee4-8729-96adecf5521c",
   "metadata": {},
   "source": [
    "## Q2\n",
    "Q2. Conduct a chi-square goodness of fit test to determine if the distribution of colors of M&Ms in a bag\n",
    "matches the expected distribution of 20% blue, 20% orange, 20% green, 10% yellow, 10% red, and 20%\n",
    "brown. Use Python to perform the test with a significance level of 0.05.\n",
    "\n",
    "\n",
    "To conduct a chi-square goodness of fit test in Python to determine if the distribution of colors of M&Ms in a bag matches the expected distribution, you can use the chisquare function from the scipy.stats module.\n",
    "\n",
    "Here's the Python code to perform the test:"
   ]
  },
  {
   "cell_type": "code",
   "execution_count": 2,
   "id": "f6f85013-3636-49c5-a751-f90091e2b6ea",
   "metadata": {},
   "outputs": [
    {
     "name": "stdout",
     "output_type": "stream",
     "text": [
      "Chi-square statistic: 7.083333333333334\n",
      "p-value: 0.21451611564042658\n"
     ]
    }
   ],
   "source": [
    "import numpy as np\n",
    "from scipy.stats import chisquare\n",
    "\n",
    "# Observed frequencies\n",
    "observed_freq = np.array([35, 25, 20, 10, 10, 20])  # Replace with your observed frequencies\n",
    "\n",
    "# Expected frequencies\n",
    "expected_freq = np.array([0.2, 0.2, 0.2, 0.1, 0.1, 0.2]) * np.sum(observed_freq)  # Multiply by the total observed frequencies\n",
    "\n",
    "# Perform chi-square goodness of fit test\n",
    "chi2, p_value = chisquare(f_obs=observed_freq, f_exp=expected_freq)\n",
    "\n",
    "# Print the results\n",
    "print(\"Chi-square statistic:\", chi2)\n",
    "print(\"p-value:\", p_value)\n"
   ]
  },
  {
   "cell_type": "markdown",
   "id": "dbba385f-eba8-4c58-bc63-b8b96cad3835",
   "metadata": {},
   "source": [
    "## Q3\n",
    "Q3. Use Python to calculate the chi-square statistic and p-value for a contingency table with the following\n",
    "data:  Group A              Group B \n",
    "                         \n",
    "                         \n",
    "Outcome 1  =  20  ,15    \n",
    "\n",
    "\n",
    "Outcome 2  =  10 ,  25                                                                                                                                                          \n",
    "\n",
    "Outcome 3   =  15  ,20                                                                                                                                                              \n",
    "\n",
    "Interpret the results of the test.\n",
    "\n",
    "To calculate the chi-square statistic and p-value for a contingency table in Python, you can use the chi2_contingency function from the scipy.stats module.\n",
    "\n",
    "Here's the Python code to perform the test:"
   ]
  },
  {
   "cell_type": "code",
   "execution_count": 3,
   "id": "b9a178c5-c9a5-44bb-a1ff-ddb627802415",
   "metadata": {},
   "outputs": [
    {
     "name": "stdout",
     "output_type": "stream",
     "text": [
      "Chi-square statistic: 5.833333333333334\n",
      "p-value: 0.05411376622282158\n"
     ]
    }
   ],
   "source": [
    "import numpy as np\n",
    "from scipy.stats import chi2_contingency\n",
    "\n",
    "# Create the contingency table\n",
    "observed = np.array([[20, 15], [10, 25], [15, 20]])\n",
    "\n",
    "# Perform chi-square test of independence\n",
    "chi2, p_value, _, _ = chi2_contingency(observed)\n",
    "\n",
    "# Print the results\n",
    "print(\"Chi-square statistic:\", chi2)\n",
    "print(\"p-value:\", p_value)\n"
   ]
  },
  {
   "cell_type": "markdown",
   "id": "749c40b9-1f6d-4607-b760-acdce752af3c",
   "metadata": {},
   "source": [
    "## Q4\n",
    "Q4. A study of the prevalence of smoking in a population of 500 individuals found that 60 individuals\n",
    "smoked. Use Python to calculate the 95% confidence interval for the true proportion of individuals in the\n",
    "population who smoke.\n",
    "\n",
    "\n",
    "To calculate the 95% confidence interval for the true proportion of individuals in the population who smoke, you can use the Wilson score interval method. This method provides an approximation of the confidence interval for proportions.\n",
    "\n",
    "Here's the Python code to calculate the confidence interval:"
   ]
  },
  {
   "cell_type": "code",
   "execution_count": 4,
   "id": "371e1c8f-9006-4b73-84f6-8be8e89a5f89",
   "metadata": {},
   "outputs": [
    {
     "name": "stdout",
     "output_type": "stream",
     "text": [
      "95% Confidence Interval for Proportion of Smokers:\n",
      "Lower Bound: 0.09437490012636912\n",
      "Upper Bound: 0.1514195986244106\n"
     ]
    }
   ],
   "source": [
    "import statsmodels.api as sm\n",
    "\n",
    "sample_size = 500\n",
    "smokers = 60\n",
    "\n",
    "# Calculate the proportion of smokers\n",
    "proportion = smokers / sample_size\n",
    "\n",
    "# Calculate the confidence interval using the Wilson score interval method\n",
    "confidence_interval = sm.stats.proportion_confint(smokers, sample_size, alpha=0.05, method='wilson')\n",
    "\n",
    "# Print the results\n",
    "print(\"95% Confidence Interval for Proportion of Smokers:\")\n",
    "print(\"Lower Bound:\", confidence_interval[0])\n",
    "print(\"Upper Bound:\", confidence_interval[1])\n"
   ]
  },
  {
   "cell_type": "markdown",
   "id": "83ea47c7-fe88-48b2-8742-28668ce8743a",
   "metadata": {},
   "source": [
    "## Q5\n",
    "Q5. Calculate the 90% confidence interval for a sample of data with a mean of 75 and a standard deviation\n",
    "of 12 using Python. Interpret the results.\n",
    "\n",
    "To calculate the 90% confidence interval for a sample of data with a mean of 75 and a standard deviation of 12 using Python, you can use the stats module from the scipy library.\n",
    "\n",
    "Here's the Python code to calculate the confidence interval:"
   ]
  },
  {
   "cell_type": "code",
   "execution_count": 5,
   "id": "362da819-6296-421b-9e6b-a951cc89c43f",
   "metadata": {},
   "outputs": [
    {
     "name": "stdout",
     "output_type": "stream",
     "text": [
      "90% Confidence Interval:\n",
      "Lower Bound: 73.00753061280433\n",
      "Upper Bound: 76.99246938719567\n"
     ]
    }
   ],
   "source": [
    "import scipy.stats as stats\n",
    "\n",
    "sample_mean = 75\n",
    "sample_std = 12\n",
    "confidence_level = 0.90\n",
    "sample_size = 100  # Assuming a sample size of 100 for this example\n",
    "\n",
    "# Calculate the standard error\n",
    "standard_error = sample_std / (sample_size ** 0.5)\n",
    "\n",
    "# Calculate the margin of error\n",
    "margin_of_error = stats.t.ppf((1 + confidence_level) / 2, sample_size - 1) * standard_error\n",
    "\n",
    "# Calculate the lower and upper bounds of the confidence interval\n",
    "lower_bound = sample_mean - margin_of_error\n",
    "upper_bound = sample_mean + margin_of_error\n",
    "\n",
    "# Print the results\n",
    "print(\"90% Confidence Interval:\")\n",
    "print(\"Lower Bound:\", lower_bound)\n",
    "print(\"Upper Bound:\", upper_bound)\n"
   ]
  },
  {
   "cell_type": "markdown",
   "id": "14b5e180-3f48-46ea-ae60-09e1cd5b5a4c",
   "metadata": {},
   "source": [
    "## Q6\n",
    "Q6. Use Python to plot the chi-square distribution with 10 degrees of freedom. Label the axes and shade the\n",
    "area corresponding to a chi-square statistic of 15.\n",
    "\n",
    "\n",
    "To plot the chi-square distribution with 10 degrees of freedom in Python and shade the area corresponding to a chi-square statistic of 15, you can use the scipy.stats module and the matplotlib library.\n",
    "\n",
    "Here's the Python code to create the plot:"
   ]
  },
  {
   "cell_type": "code",
   "execution_count": 7,
   "id": "b68b2eda-0e82-4053-b86d-dd0b33e33a0b",
   "metadata": {},
   "outputs": [
    {
     "data": {
      "image/png": "[encoded data removed]",
      "text/plain": [
       "<Figure size 640x480 with 1 Axes>"
      ]
     },
     "metadata": {},
     "output_type": "display_data"
    }
   ],
   "source": [
    "import numpy as np\n",
    "import matplotlib.pyplot as plt\n",
    "import scipy.stats as stats\n",
    "\n",
    "df = 10  # Degrees of freedom\n",
    "\n",
    "# Create an array of x-values\n",
    "x = np.linspace(0, 30, 500)\n",
    "\n",
    "# Calculate the chi-square probability density function (PDF) for each x-value\n",
    "pdf = stats.chi2.pdf(x, df)\n",
    "\n",
    "# Create the plot\n",
    "plt.plot(x, pdf, label=\"Chi-square (df=10)\")\n",
    "\n",
    "# Shade the area under the curve for chi-square statistic of 15\n",
    "x_fill = np.linspace(15, 30, 100)\n",
    "pdf_fill = stats.chi2.pdf(x_fill, df)\n",
    "plt.fill_between(x_fill, pdf_fill, color='blue', alpha=0.3)\n",
    "\n",
    "# Label the axes and add a legend\n",
    "plt.xlabel('Chi-square Value')\n",
    "plt.ylabel('Probability Density Function')\n",
    "plt.legend()\n",
    "\n",
    "# Show the plot\n",
    "plt.show()\n"
   ]
  },
  {
   "cell_type": "markdown",
   "id": "078e078f-8e9b-4a23-a79c-abc8f14a0a39",
   "metadata": {},
   "source": [
    "##  Q7\n",
    "Q7. A random sample of 1000 people was asked if they preferred Coke or Pepsi. Of the sample, 520\n",
    "preferred Coke. Calculate a 99% confidence interval for the true proportion of people in the population who\n",
    "prefer Coke.\n",
    "\n",
    "To calculate a 99% confidence interval for the true proportion of people in the population who prefer Coke based on a random sample, you can use the Wilson score interval method. This method provides an approximation of the confidence interval for proportions.\n",
    "\n",
    "Here's the Python code to calculate the confidence interval:"
   ]
  },
  {
   "cell_type": "code",
   "execution_count": 8,
   "id": "2515ade8-c32c-47bc-8fd3-be9f8f8bd605",
   "metadata": {},
   "outputs": [
    {
     "name": "stdout",
     "output_type": "stream",
     "text": [
      "99% Confidence Interval for Proportion of People Preferring Coke:\n",
      "Lower Bound: 0.47930745509503414\n",
      "Upper Bound: 0.5604288983088296\n"
     ]
    }
   ],
   "source": [
    "import statsmodels.api as sm\n",
    "\n",
    "sample_size = 1000\n",
    "coke_preferred = 520\n",
    "\n",
    "# Calculate the proportion of people who prefer Coke\n",
    "proportion = coke_preferred / sample_size\n",
    "\n",
    "# Calculate the confidence interval using the Wilson score interval method\n",
    "confidence_interval = sm.stats.proportion_confint(coke_preferred, sample_size, alpha=0.01, method='wilson')\n",
    "\n",
    "# Print the results\n",
    "print(\"99% Confidence Interval for Proportion of People Preferring Coke:\")\n",
    "print(\"Lower Bound:\", confidence_interval[0])\n",
    "print(\"Upper Bound:\", confidence_interval[1])\n"
   ]
  },
  {
   "cell_type": "markdown",
   "id": "5fbc6715-6492-4893-8dc7-fa4beace06df",
   "metadata": {},
   "source": [
    "## Q8\n",
    "Q8. A researcher hypothesizes that a coin is biased towards tails. They flip the coin 100 times and observe\n",
    "45 tails. Conduct a chi-square goodness of fit test to determine if the observed frequencies match the\n",
    "expected frequencies of a fair coin. Use a significance level of 0.05.\n",
    "\n",
    "To conduct a chi-square goodness of fit test in Python and determine if the observed frequencies of a biased coin match the expected frequencies of a fair coin, you can use the chisquare function from the scipy.stats module.\n",
    "\n",
    "Here's the Python code to perform the test:"
   ]
  },
  {
   "cell_type": "code",
   "execution_count": 9,
   "id": "5aae379a-4cb3-496b-b808-4cf3a433674c",
   "metadata": {},
   "outputs": [
    {
     "name": "stdout",
     "output_type": "stream",
     "text": [
      "Chi-square statistic: 1.0\n",
      "p-value: 0.31731050786291115\n"
     ]
    }
   ],
   "source": [
    "import numpy as np\n",
    "from scipy.stats import chisquare\n",
    "\n",
    "# Observed frequencies\n",
    "observed_freq = np.array([45, 55])  # 45 tails, 55 heads\n",
    "\n",
    "# Expected frequencies for a fair coin (50% chance for each side)\n",
    "expected_freq = np.array([50, 50])\n",
    "\n",
    "# Perform chi-square goodness of fit test\n",
    "chi2, p_value = chisquare(f_obs=observed_freq, f_exp=expected_freq)\n",
    "\n",
    "# Print the results\n",
    "print(\"Chi-square statistic:\", chi2)\n",
    "print(\"p-value:\", p_value)\n"
   ]
  },
  {
   "cell_type": "markdown",
   "id": "10cd1f7f-cb39-448a-879f-478b2d998198",
   "metadata": {},
   "source": [
    "## Q9\n",
    "Q9. A study was conducted to determine if there is an association between smoking status (smoker or\n",
    "non-smoker) and lung cancer diagnosis (yes or no). The results are shown in the contingency table below.\n",
    "Conduct a chi-square test for independence to determine if there is a significant association between\n",
    "smoking status and lung cancer diagnosis.                                                                                                                                .                            Lung Cancer: Yes                  Lung Cancer: No\n",
    "\n",
    "Smoker                   60                                                        140                                                                                                                     .\n",
    "Non-smoker           30                                                      170                                                                                                                   .Use a significance level of 0.05."
   ]
  },
  {
   "cell_type": "code",
   "execution_count": 10,
   "id": "5eb70d3e-2e73-4a43-b91d-cee075aad5d3",
   "metadata": {},
   "outputs": [
    {
     "name": "stdout",
     "output_type": "stream",
     "text": [
      "Chi-square statistic: 12.057347670250895\n",
      "p-value: 0.0005158863863703744\n",
      "Degrees of freedom: 1\n",
      "Expected frequencies:\n",
      " [[ 45. 155.]\n",
      " [ 45. 155.]]\n"
     ]
    }
   ],
   "source": [
    "import numpy as np\n",
    "from scipy.stats import chi2_contingency\n",
    "\n",
    "# Create the contingency table\n",
    "observed = np.array([[60, 140], [30, 170]])\n",
    "\n",
    "# Perform chi-square test for independence\n",
    "chi2, p_value, dof, expected = chi2_contingency(observed)\n",
    "\n",
    "# Print the results\n",
    "print(\"Chi-square statistic:\", chi2)\n",
    "print(\"p-value:\", p_value)\n",
    "print(\"Degrees of freedom:\", dof)\n",
    "print(\"Expected frequencies:\\n\", expected)\n"
   ]
  },
  {
   "cell_type": "markdown",
   "id": "18f7363c-7bea-4aba-a877-5522c998f33e",
   "metadata": {},
   "source": [
    "## Q10\n",
    "Q10. A study was conducted to determine if the proportion of people who prefer milk chocolate, dark\n",
    "chocolate, or white chocolate is different in the U.S. versus the U.K. A random sample of 500 people from\n",
    "the U.S. and a random sample of 500 people from the U.K. were surveyed. The results are shown in the\n",
    "contingency table below. Conduct a chi-square test for independence to determine if there is a significant\n",
    "association between chocolate preference and country of origin.                                                                                                             .                               Milk Chocolate          Dark Chocolate               White Chocolate\n",
    "\n",
    "U.S. (n=500)           200                                  150                                             150                                                                                     .\n",
    "U.K. (n=500)          225                                    175                                             100                                                                       .Use a significance level of 0.01."
   ]
  },
  {
   "cell_type": "code",
   "execution_count": 11,
   "id": "17e9ab74-41d6-46cb-851f-cb4202e350be",
   "metadata": {},
   "outputs": [
    {
     "name": "stdout",
     "output_type": "stream",
     "text": [
      "Chi-square statistic: 13.393665158371041\n",
      "p-value: 0.0012348168997745918\n",
      "Degrees of freedom: 2\n",
      "Expected frequencies:\n",
      " [[212.5 162.5 125. ]\n",
      " [212.5 162.5 125. ]]\n"
     ]
    }
   ],
   "source": [
    "import numpy as np\n",
    "from scipy.stats import chi2_contingency\n",
    "\n",
    "# Create the contingency table\n",
    "observed = np.array([[200, 150, 150], [225, 175, 100]])\n",
    "\n",
    "# Perform chi-square test for independence\n",
    "chi2, p_value, dof, expected = chi2_contingency(observed)\n",
    "\n",
    "# Print the results\n",
    "print(\"Chi-square statistic:\", chi2)\n",
    "print(\"p-value:\", p_value)\n",
    "print(\"Degrees of freedom:\", dof)\n",
    "print(\"Expected frequencies:\\n\", expected)\n"
   ]
  },
  {
   "cell_type": "markdown",
   "id": "ff9a6e24-cf11-4668-9c89-7c2f285105a6",
   "metadata": {},
   "source": [
    "## Q11\n",
    "Q11. A random sample of 30 people was selected from a population with an unknown mean and standard\n",
    "deviation. The sample mean was found to be 72 and the sample standard deviation was found to be 10.\n",
    "Conduct a hypothesis test to determine if the population mean is significantly different from 70. Use a\n",
    "significance level of 0.05."
   ]
  },
  {
   "cell_type": "code",
   "execution_count": 12,
   "id": "52991583-2dc9-4508-972c-ee776bf2ab74",
   "metadata": {},
   "outputs": [
    {
     "name": "stdout",
     "output_type": "stream",
     "text": [
      "t-statistic: 1.0954451150103321\n",
      "p-value: 0.2823362372860698\n",
      "Fail to reject the null hypothesis. There is not enough evidence to conclude a significant difference in the population mean.\n"
     ]
    }
   ],
   "source": [
    "import scipy.stats as stats\n",
    "\n",
    "sample_mean = 72\n",
    "sample_std = 10\n",
    "population_mean = 70\n",
    "sample_size = 30\n",
    "alpha = 0.05\n",
    "\n",
    "# Calculate the t-statistic\n",
    "t_statistic = (sample_mean - population_mean) / (sample_std / (sample_size ** 0.5))\n",
    "\n",
    "# Calculate the p-value\n",
    "p_value = 2 * (1 - stats.t.cdf(abs(t_statistic), df=sample_size - 1))\n",
    "\n",
    "# Print the results\n",
    "print(\"t-statistic:\", t_statistic)\n",
    "print(\"p-value:\", p_value)\n",
    "\n",
    "# Compare the p-value to the significance level\n",
    "if p_value < alpha:\n",
    "    print(\"Reject the null hypothesis. The population mean is significantly different from 70.\")\n",
    "else:\n",
    "    print(\"Fail to reject the null hypothesis. There is not enough evidence to conclude a significant difference in the population mean.\")\n"
   ]
  },
  {
   "cell_type": "code",
   "execution_count": null,
   "id": "b75c96f1-3e4b-4bcd-8c9a-e8e42c5529f2",
   "metadata": {},
   "outputs": [],
   "source": []
  }
 ],
 "metadata": {
  "kernelspec": {
   "display_name": "Python 3 (ipykernel)",
   "language": "python",
   "name": "python3"
  },
  "language_info": {
   "codemirror_mode": {
    "name": "ipython",
    "version": 3
   },
   "file_extension": ".py",
   "mimetype": "text/x-python",
   "name": "python",
   "nbconvert_exporter": "python",
   "pygments_lexer": "ipython3",
   "version": "3.10.8"
  }
 },
 "nbformat": 4,
 "nbformat_minor": 5
}
