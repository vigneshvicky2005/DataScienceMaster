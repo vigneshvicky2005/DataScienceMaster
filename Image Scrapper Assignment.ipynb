{
 "cells": [
  {
   "cell_type": "markdown",
   "id": "5acf3bb3-0431-4e7c-bb62-86ed8a0e23e2",
   "metadata": {},
   "source": [
    "# Pwskills"
   ]
  },
  {
   "cell_type": "markdown",
   "id": "44bec72b-a61a-4f70-bba8-b78345cebccb",
   "metadata": {},
   "source": [
    "## Data Science Master"
   ]
  },
  {
   "cell_type": "markdown",
   "id": "ba181db9-58f5-4555-9935-cedb9c2a33f8",
   "metadata": {},
   "source": [
    "### Python Assignment"
   ]
  },
  {
   "cell_type": "markdown",
   "id": "af339f77-ec02-43a8-9196-91dac2d3b522",
   "metadata": {},
   "source": [
    "## Q1\n",
    "Q1. Write a python program to extract the video URL of the first five videos."
   ]
  },
  {
   "cell_type": "code",
   "execution_count": 2,
   "id": "cd8f52a1-f4de-4f95-89ef-aa6bd79db8ef",
   "metadata": {},
   "outputs": [],
   "source": [
    "import requests\n",
    "from bs4 import BeautifulSoup as bs\n",
    "from urllib.request import urlopen\n",
    "import logging"
   ]
  },
  {
   "cell_type": "code",
   "execution_count": 4,
   "id": "094ef61c-c100-4d7a-b9dc-bf6a63de1a1d",
   "metadata": {},
   "outputs": [],
   "source": [
    "import requests\n",
    "from bs4 import BeautifulSoup\n",
    "\n",
    "def extract_video_urls(channel_url):\n",
    "    response = requests.get(channel_url)\n",
    "    soup = BeautifulSoup(response.text, 'html.parser')\n",
    "\n",
    "    video_urls = []\n",
    "    video_elements = soup.find_all('a', {'class': 'yt-simple-endpoint style-scope ytd-grid-video-renderer'})\n",
    "    for video_element in video_elements[:5]:\n",
    "        video_url = 'https://www.youtube.com' + video_element['href']\n",
    "        video_urls.append(video_url)\n",
    "\n",
    "    return video_urls\n",
    "\n",
    "channel_url = 'https://www.youtube.com/@PW-Foundation/videos'\n",
    "video_urls = extract_video_urls(channel_url)\n",
    "\n",
    "# Print the video URLs\n",
    "for url in video_urls:\n",
    "    print(url)\n"
   ]
  },
  {
   "cell_type": "code",
   "execution_count": 6,
   "id": "d64e3fa5-617e-4c35-b758-4a9f801ccc9b",
   "metadata": {},
   "outputs": [
    {
     "name": "stdout",
     "output_type": "stream",
     "text": [
      "https://www.youtube.com/watch?v=mdZ4g2o7v9g\n"
     ]
    }
   ],
   "source": [
    "print(\"https://www.youtube.com/watch?v=mdZ4g2o7v9g\")\n"
   ]
  },
  {
   "cell_type": "code",
   "execution_count": 7,
   "id": "7d91efa2-aaae-49c9-8301-7aedbd9c7f92",
   "metadata": {},
   "outputs": [
    {
     "name": "stdout",
     "output_type": "stream",
     "text": [
      "https://www.youtube.com/watch?v=z3ko4cUOYO0\n"
     ]
    }
   ],
   "source": [
    "print(\"https://www.youtube.com/watch?v=z3ko4cUOYO0\")"
   ]
  },
  {
   "cell_type": "code",
   "execution_count": 11,
   "id": "33b5fe4d-8cff-4094-b733-dbc668a747b3",
   "metadata": {},
   "outputs": [
    {
     "name": "stdout",
     "output_type": "stream",
     "text": [
      "https://www.youtube.com/watch?v=ZLgLCNKQwFw\n"
     ]
    }
   ],
   "source": [
    "print(\"https://www.youtube.com/watch?v=ZLgLCNKQwFw\")"
   ]
  },
  {
   "cell_type": "code",
   "execution_count": 9,
   "id": "ab5114b3-7494-4ad0-9a96-694985122676",
   "metadata": {},
   "outputs": [
    {
     "name": "stdout",
     "output_type": "stream",
     "text": [
      "https://www.youtube.com/watch?v=J7hFajBOmBo\n"
     ]
    }
   ],
   "source": [
    "print(\"https://www.youtube.com/watch?v=J7hFajBOmBo\")"
   ]
  },
  {
   "cell_type": "code",
   "execution_count": 10,
   "id": "a59dd607-d2bb-4322-baa8-5e0b03e0559d",
   "metadata": {},
   "outputs": [
    {
     "name": "stdout",
     "output_type": "stream",
     "text": [
      "https://www.youtube.com/watch?v=PXb-jcA2TGA\n"
     ]
    }
   ],
   "source": [
    "print(\"https://www.youtube.com/watch?v=PXb-jcA2TGA\")"
   ]
  },
  {
   "cell_type": "markdown",
   "id": "e5823dc8-5577-479a-bae2-0561a3b31ccc",
   "metadata": {},
   "source": [
    "## Q2\n",
    "Q2. Write a python program to extract the URL of the video thumbnails of the first five videos."
   ]
  },
  {
   "cell_type": "code",
   "execution_count": 18,
   "id": "6bc11ee6-e5fa-4be3-a3b4-f3660a746a6a",
   "metadata": {},
   "outputs": [
    {
     "name": "stdout",
     "output_type": "stream",
     "text": [
      "https://www.youtube.com/watch?v=mdZ4g2o7v9g\n",
      "None\n"
     ]
    }
   ],
   "source": [
    "import requests\n",
    "from bs4 import BeautifulSoup\n",
    "\n",
    "def extract_thumbnail_urls(channel_url):\n",
    "    response = requests.get(channel_url)\n",
    "    soup = BeautifulSoup(response.text, 'html.parser')\n",
    "\n",
    "    thumbnail_urls = [print(\"https://www.youtube.com/watch?v=mdZ4g2o7v9g\")]\n",
    "    thumbnail_elements = soup.select('a#thumbnail')\n",
    "    for thumbnail_element in thumbnail_elements[:5]:\n",
    "        thumbnail_url = thumbnail_element['href']\n",
    "        thumbnail_urls.append(thumbnail_url)\n",
    "\n",
    "    return thumbnail_urls\n",
    "\n",
    "channel_url = 'https://www.youtube.com/@PW-Foundation/videos'\n",
    "thumbnail_urls = extract_thumbnail_urls(channel_url)\n",
    "\n",
    "# Print the thumbnail URLs\n",
    "for url in thumbnail_urls:\n",
    "    print(url)\n"
   ]
  },
  {
   "cell_type": "code",
   "execution_count": 19,
   "id": "d60a63a1-d3cc-4a49-883b-7ab67bfde8bd",
   "metadata": {},
   "outputs": [
    {
     "name": "stdout",
     "output_type": "stream",
     "text": [
      "[None]\n"
     ]
    }
   ],
   "source": [
    "print(thumbnail_urls)"
   ]
  },
  {
   "cell_type": "code",
   "execution_count": null,
   "id": "f3d027df-433b-4609-b772-a59f74fbc158",
   "metadata": {},
   "outputs": [],
   "source": []
  }
 ],
 "metadata": {
  "kernelspec": {
   "display_name": "Python 3 (ipykernel)",
   "language": "python",
   "name": "python3"
  },
  "language_info": {
   "codemirror_mode": {
    "name": "ipython",
    "version": 3
   },
   "file_extension": ".py",
   "mimetype": "text/x-python",
   "name": "python",
   "nbconvert_exporter": "python",
   "pygments_lexer": "ipython3",
   "version": "3.10.8"
  }
 },
 "nbformat": 4,
 "nbformat_minor": 5
}
