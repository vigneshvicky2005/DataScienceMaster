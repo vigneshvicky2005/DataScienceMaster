{
 "cells": [
  {
   "cell_type": "markdown",
   "id": "dd7992d8-74c1-4d60-84a6-b6098a1b9c33",
   "metadata": {},
   "source": [
    "# Pwskills"
   ]
  },
  {
   "cell_type": "markdown",
   "id": "b719b671-4c4d-4eba-a4e2-605b74698cf9",
   "metadata": {},
   "source": [
    "## Data Science Master"
   ]
  },
  {
   "cell_type": "markdown",
   "id": "d23f9568-9588-4246-ae96-9fca8bd9fedb",
   "metadata": {},
   "source": [
    "### Python Assignment"
   ]
  },
  {
   "cell_type": "markdown",
   "id": "ac2f0c30-83f7-43c6-bc8e-929705593c59",
   "metadata": {},
   "source": [
    "## Q1\n",
    "\n",
    "Q1. Explain why we have to use the Exception class while creating a Custom Exception.\n",
    "Note: Here Exception class refers to the base class for all the exceptions.\n",
    "\n",
    "     In Python, the `Exception` class is the base class for all exceptions. When you create a custom exception, you need to inherit from this class to make sure that your exception is recognized as an exception by the Python interpreter.\n",
    "\n",
    "     By inheriting from the `Exception` class, your custom exception will have all the basic properties and behaviors of a standard exception. For example, it will have a name, an error message, and a traceback.\n",
    "\n",
    "    Here's an example:"
   ]
  },
  {
   "cell_type": "code",
   "execution_count": null,
   "id": "c4641f7b-bfd8-405c-8181-fca1fe6e4968",
   "metadata": {},
   "outputs": [],
   "source": [
    "class MyCustomError(Exception):\n",
    "    pass\n",
    "\n",
    "try:\n",
    "    raise MyCustomError(\"Something went wrong\")\n",
    "except MyCustomError as e:\n",
    "    print(e)\n"
   ]
  },
  {
   "cell_type": "markdown",
   "id": "fa9e3289-eeff-40e3-ac83-4b563c7ccbf1",
   "metadata": {},
   "source": [
    "      In this example, we define a custom exception called` MyCustomError` that inherits from the` Exception` class. We then use the raise statement to raise an instance of this exception with a custom error message. Finally, we catch the exception using an except block and print the error message.\n",
    "\n",
    "      If we didn't inherit from the `Exception` class, our custom exception would not be recognized as an exception by the Python interpreter. This would make it harder to handle and debug errors in our code. By inheriting from the `Exception` class, we ensure that our custom exception is treated like any other exception in Python, and can be handled and raised in the same way as built-in exceptions."
   ]
  },
  {
   "cell_type": "markdown",
   "id": "92e6138b-a784-4e80-9810-992811d634b9",
   "metadata": {},
   "source": [
    "## Q2\n",
    "\n",
    "Q2. Write a python program to print Python Exception Hierarchy.\n",
    "\n",
    "\n",
    "Sure, here's a Python program that prints the Python Exception Hierarchy:"
   ]
  },
  {
   "cell_type": "code",
   "execution_count": null,
   "id": "cd5523f2-fe1e-43b4-a25e-e8fe78ac6885",
   "metadata": {},
   "outputs": [],
   "source": [
    "# Get the base Exception class\n",
    "exception_base = BaseException.__subclasses__()\n",
    "\n",
    "# Loop through all the exception classes and their subclasses\n",
    "for exception in exception_base:\n",
    "    print(f\"{exception.__name__}: {exception.__doc__}\")\n",
    "    for subclass in exception.__subclasses__():\n",
    "        print(f\"\\t{subclass.__name__}: {subclass.__doc__}\")\n"
   ]
  },
  {
   "cell_type": "markdown",
   "id": "b7d508d0-354c-4c63-bb54-f0eb15c7473c",
   "metadata": {},
   "source": [
    "      This program starts by getting the base` Exception` class using the` __subclasses__()` method. It then loops through all the exception classes and their subclasses using nested `for` loops. For each class, it prints the class name and its docstring, as well as the name and docstring of any subclasses.\n",
    "\n",
    "      The output of this program will be a list of all the exceptions in the Python exception hierarchy, along with their subclasses and docstrings. Note that the output can be quite long, as there are many exceptions in the hierarchy.\n",
    "\n",
    "\n",
    "\n",
    "\n"
   ]
  },
  {
   "cell_type": "markdown",
   "id": "947cc0ed-01d9-4ed3-a13c-970900113f96",
   "metadata": {},
   "source": [
    "## Q3\n",
    "\n",
    "Q3. What errors are defined in the Arithmetic Error class? Explain any two with an example.\n",
    "\n",
    "\n",
    "        The `ArithmeticError` class is a base class for` exceptions` that occur during arithmetic operations, such as division by zero or overflow errors. It is a subclass of the `Exception `class and a superclass for more specific exception classes like `ZeroDivisionError` and OverflowError. Here are two examples of errors that are defined in the `ArithmeticError` class:\n",
    "\n",
    "     * `ZeroDivisionError`: This exception is raised when an attempt is made to divide a number by zero. For example:"
   ]
  },
  {
   "cell_type": "code",
   "execution_count": null,
   "id": "5686902f-5cfd-492c-90f5-8d7fa4697177",
   "metadata": {},
   "outputs": [],
   "source": [
    "a = 10\n",
    "b = 0\n",
    "try:\n",
    "    c = a/b\n",
    "except ZeroDivisionError as e:\n",
    "    print(\"Error:\", e)\n"
   ]
  },
  {
   "cell_type": "markdown",
   "id": "2ac78bd9-b33e-4732-9f81-892031bf1fd3",
   "metadata": {},
   "source": [
    "        In this example, we are attempting to divide the variable `a` by the variable` b`, which has the value of `0`. This will cause a `ZeroDivisionError` to be raised, which we catch in the `except` block and print the error message.\n",
    "\n",
    "        * `OverflowError`: This exception is raised when an arithmetic operation exceeds the range of representable values for a given data type. For example:"
   ]
  },
  {
   "cell_type": "code",
   "execution_count": null,
   "id": "4a86d604-b8d2-4887-91dc-c65d5421c39d",
   "metadata": {},
   "outputs": [],
   "source": [
    "import sys\n",
    "a = sys.maxsize\n",
    "try:\n",
    "    b = a * 2\n",
    "except OverflowError as e:\n",
    "    print(\"Error:\", e)\n"
   ]
  },
  {
   "cell_type": "markdown",
   "id": "d0d2097c-9d33-4689-a787-c855fd458c04",
   "metadata": {},
   "source": [
    "       In this example, we are attempting to multiply the variable `a` by `2`. However, `a` has the maximum value that can be represented by the system, so this operation will cause an` OverflowError` to be raised. We catch the exception in the `except` block and print the error message.\n",
    "\n",
    "       In both cases, the errors are subclasses of the `ArithmeticError` class because they occur during arithmetic operations. By catching these exceptions, we can handle them in a way that makes sense for our program and prevent the program from crashing."
   ]
  },
  {
   "cell_type": "markdown",
   "id": "216875ce-c90b-48d4-bbcd-2435a374339f",
   "metadata": {},
   "source": [
    "## Q4\n",
    "\n",
    "Q4. Why LookupError class is used? Explain with an example KeyError and IndexError.\n",
    "\n",
    "     The `LookupError` class is a base class for exceptions that occur when a key or index is not found in a mapping or sequence. It is a subclass of the Exception class and a superclass for more specific exception classes like` KeyError` and` IndexError`. Here are two examples of errors that are defined in the `LookupError` class:\n",
    "\n",
    "       * `KeyError`: This exception is raised when a dictionary key is not found. For example:"
   ]
  },
  {
   "cell_type": "code",
   "execution_count": null,
   "id": "cf42d207-2e03-4956-9ab2-a6faad0d305a",
   "metadata": {},
   "outputs": [],
   "source": [
    "my_dict = {\"a\": 1, \"b\": 2, \"c\": 3}\n",
    "try:\n",
    "    value = my_dict[\"d\"]\n",
    "except KeyError as e:\n",
    "    print(\"Error:\", e)\n"
   ]
  },
  {
   "cell_type": "markdown",
   "id": "40f50954-bfbc-4db1-a660-cd272597f936",
   "metadata": {},
   "source": [
    "     * `IndexError`: This exception is raised when a list or tuple index is out of range. For example:"
   ]
  },
  {
   "cell_type": "code",
   "execution_count": null,
   "id": "2ed080f3-8153-4dd0-9ad6-ae710f11c642",
   "metadata": {},
   "outputs": [],
   "source": [
    "my_list = [1, 2, 3]\n",
    "try:\n",
    "    value = my_list[3]\n",
    "except IndexError as e:\n",
    "    print(\"Error:\", e)\n"
   ]
  },
  {
   "cell_type": "markdown",
   "id": "5784c242-0215-4c0e-9c19-a4755277ba11",
   "metadata": {},
   "source": [
    "## Q5\n",
    "\n",
    "Q5. Explain ImportError. What is ModuleNotFoundError?\n",
    "\n",
    "     `ImportError` is a class of exceptions that are raised when a module or package cannot be imported. This can occur for various reasons such as the module or package not existing, not being installed properly, or having dependencies that are not satisfied. For example, if we try to import a module that does not exist, we will get an `ImportError`:\n",
    "     \n",
    "     "
   ]
  },
  {
   "cell_type": "code",
   "execution_count": null,
   "id": "ca2cad79-b13f-4297-b251-2a85b06da97a",
   "metadata": {},
   "outputs": [],
   "source": [
    "try:\n",
    "    import non_existent_module\n",
    "except ImportError as e:\n",
    "    print(\"Error:\", e)\n"
   ]
  },
  {
   "cell_type": "markdown",
   "id": "85388480-98c0-45fb-83bd-0f47f06d2b0e",
   "metadata": {},
   "source": [
    "      In this example, we are attempting to import a module called `non_existent_module`. However, this module does not exist, so an `ImportError` will be raised. We catch the exception in the `except` block and print the error message.\n",
    "\n",
    "      `ModuleNotFoundError` is a subclass of `ImportError` that was introduced in Python 3.6 to provide a more specific error message when a module cannot be found. It is raised when an import statement tries to import a module that does not exist. For example:"
   ]
  },
  {
   "cell_type": "code",
   "execution_count": null,
   "id": "7e0275aa-8a63-424d-a4a9-b5002fc9e026",
   "metadata": {},
   "outputs": [],
   "source": [
    "try:\n",
    "    import non_existent_module\n",
    "except ModuleNotFoundError as e:\n",
    "    print(\"Error:\", e)\n"
   ]
  },
  {
   "cell_type": "markdown",
   "id": "6e80cc85-ed2b-40a1-8f3d-b3585bb49c14",
   "metadata": {},
   "source": [
    "      In this example, we are attempting to import a module called `non_existent_module`. Since this module does not exist, a `ModuleNotFoundError `will be raised. We catch the exception in the `except` block and print the error message.\n",
    "\n",
    "      In summary, `ImportError` is a general exception that is raised when a module or package cannot be imported, while `ModuleNotFoundError` is a more specific exception that is raised when a module cannot be found."
   ]
  },
  {
   "cell_type": "markdown",
   "id": "4a74514e-74df-4071-8173-169a3aab76bc",
   "metadata": {},
   "source": [
    "## Q6\n",
    "\n",
    "Q6. List down some best practices for exception handling in python.\n",
    "\n",
    "    Here are some best practices for exception handling in Python:\n",
    "\n",
    "     * Be specific in your exception handling: Catch only the exceptions that you expect and can handle. Don't use a broad except statement to catch all exceptions as this can hide bugs and make debugging harder.\n",
    "\n",
    "     * Use multiple except blocks: Use multiple except blocks to catch different exceptions and handle them appropriately.\n",
    "\n",
    "     * Keep error messages informative: Use clear and informative error messages that explain what went wrong and how to fix it.\n",
    "\n",
    "     * Use logging: Use the logging module to log error messages and other relevant information. This can help with debugging and troubleshooting.\n",
    "\n",
    "     * Reraise exceptions when necessary: Sometimes it makes sense to catch an exception, do some processing, and then re-raise the same exception. This can be done using the raise statement without an argument.\n",
    "\n",
    "     * Use the finally block: Use the finally block to execute code that must always be run, regardless of whether an exception was raised or not.\n",
    "\n",
    "     * Handle exceptions close to the source: Handle exceptions as close to the source of the problem as possible. This can help with debugging and prevent unexpected behavior.\n",
    "\n",
    "     * Use context managers: Use context managers like with statements to automatically handle resource cleanup and avoid errors caused by forgetting to close files or connections.\n",
    "\n",
    "     * Use custom exceptions when appropriate: Use custom exceptions when appropriate to make your code more readable and easier to debug.\n",
    "\n",
    "    By following these best practices, you can write more robust and maintainable code that handles exceptions gracefully and provides useful feedback to users."
   ]
  },
  {
   "cell_type": "code",
   "execution_count": null,
   "id": "5aa0167e-7e08-4d13-a255-71009350f190",
   "metadata": {},
   "outputs": [],
   "source": []
  }
 ],
 "metadata": {
  "kernelspec": {
   "display_name": "Python 3 (ipykernel)",
   "language": "python",
   "name": "python3"
  },
  "language_info": {
   "codemirror_mode": {
    "name": "ipython",
    "version": 3
   },
   "file_extension": ".py",
   "mimetype": "text/x-python",
   "name": "python",
   "nbconvert_exporter": "python",
   "pygments_lexer": "ipython3",
   "version": "3.10.8"
  }
 },
 "nbformat": 4,
 "nbformat_minor": 5
}
