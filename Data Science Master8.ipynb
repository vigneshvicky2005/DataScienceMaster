{
 "cells": [
  {
   "cell_type": "markdown",
   "id": "6d9383cb-6820-4e15-bfd3-53b10b7a59e3",
   "metadata": {},
   "source": [
    "# Pwskills"
   ]
  },
  {
   "cell_type": "markdown",
   "id": "fdf7d61a-53db-43b2-8d84-02588048265c",
   "metadata": {},
   "source": [
    "## Data Science Master"
   ]
  },
  {
   "cell_type": "markdown",
   "id": "30bfbdac-f6d4-4b90-b36b-7eaeb521bdde",
   "metadata": {},
   "source": [
    "### Python Assignment"
   ]
  },
  {
   "cell_type": "markdown",
   "id": "dd4115cc-e656-4d82-8fcd-455dd276922c",
   "metadata": {},
   "source": [
    "## Q1\n",
    "\n",
    "Q1. Which function is used to open a file? What are the different modes of opening a file? Explain each mode of file opening.\n",
    "\n",
    "\n",
    "\n",
    "       In Python, the built-in function open() is used to open a file. It takes two arguments: the file name (including the path if necessary), and the mode in which the file should be opened.\n",
    "\n",
    "    The different modes of opening a file are as follows:\n",
    "\n",
    "       * `'r'` - Read mode: This is the default mode when you open a file. It allows you to read the contents of the file, but not modify it. If the file does not exist, an error will occur.\n",
    "\n",
    "       * `'w'` - Write mode: This mode allows you to write new data to a file. If the file already exists, its contents will be overwritten. If the file does not exist, a new file will be created.\n",
    "\n",
    "       * `'a'` - Append mode: This mode allows you to add new data to the end of an existing file. If the file does not exist, a new file will be created.\n",
    "\n",
    "       * `'x'` - Exclusive creation mode: This mode allows you to create a new file, but only if it does not already exist. If the file already exists, an error will occur.\n",
    "\n",
    "       * `'b'` - Binary mode: This mode is used to open a file in binary mode, which is used for non-text files such as images or binary data.\n",
    "\n",
    "       * `'t'` - Text mode: This mode is used to open a file in text mode, which is used for text files.\n",
    "\n",
    "       * `'+'` - Read and write mode: This mode allows you to read and write to a file at the same time. It is used in conjunction with the other modes (e.g., 'r+' for read and write mode).\n",
    "\n",
    "      To open a file in a specific mode, you can pass the mode as the second argument to the open() function. For example, to open a file named \"myfile.txt\" in write mode, you can use the following code:\n"
   ]
  },
  {
   "cell_type": "code",
   "execution_count": 1,
   "id": "96cbb24a-2e0c-441e-89c9-4de96a71f4d2",
   "metadata": {},
   "outputs": [],
   "source": [
    "file = open(\"myfile.txt\", \"w\")\n"
   ]
  },
  {
   "cell_type": "markdown",
   "id": "76f13eb7-599e-411f-9f4f-62c6f894fc74",
   "metadata": {},
   "source": [
    "       This will create a new file named \"myfile.txt\" and open it in write mode, allowing you to write new data to the file."
   ]
  },
  {
   "cell_type": "markdown",
   "id": "ccefae2a-ef1e-4625-a56e-b089dc865c0c",
   "metadata": {},
   "source": [
    "## Q2\n",
    "\n",
    "Q2. Why close() function is used? Why is it important to close a file?\n",
    "\n",
    "\n",
    "      In Python, the `close()` function is used to close a file that has been opened using the `open()` function. It is important to close a file after you are done working with it because:\n",
    "\n",
    "       * It frees up system resources: When you open a file, the operating system allocates resources to the file, such as memory and file descriptors. If you do not close the file, these resources will not be freed up, which can lead to performance problems and other issues.\n",
    "\n",
    "       * It ensures data integrity: If you do not close a file after writing to it, there is a risk that the data you wrote may not be saved to disk. By closing the file, you ensure that any pending writes are completed and that the file is safely stored on disk.\n",
    "\n",
    "       * It prevents errors: If you try to perform certain operations on a file after it has been closed, you may get errors or unexpected behavior. For example, if you try to read from a file that has been closed, you will get a `ValueError` exception.\n",
    "\n",
    "          To close a file, you simply need to call the `close()` function on the file object, like this:"
   ]
  },
  {
   "cell_type": "code",
   "execution_count": 2,
   "id": "a7b45685-0d3c-44e4-ba7b-4b8ab54c18f6",
   "metadata": {},
   "outputs": [],
   "source": [
    "file = open(\"myfile.txt\", \"r\")\n",
    "# do some operations on the file...\n",
    "file.close()\n"
   ]
  },
  {
   "cell_type": "markdown",
   "id": "abf75a4f-59da-4b72-a3aa-e077a45f803c",
   "metadata": {},
   "source": [
    "          It is recommended to always close files when you are done working with them, or to use the `with` statement, which automatically closes the file for you when you are done with it:"
   ]
  },
  {
   "cell_type": "code",
   "execution_count": null,
   "id": "377663f1-e96f-4d62-a81c-954f84257f0f",
   "metadata": {},
   "outputs": [],
   "source": [
    "with open(\"myfile.txt\", \"r\") as file:\n",
    "    # do some operations on the file...\n",
    "# file is automatically closed when the 'with' block ends\n"
   ]
  },
  {
   "cell_type": "markdown",
   "id": "a5cf722d-ddfa-4ee6-b0a4-3fecf1a0237d",
   "metadata": {},
   "source": [
    "       By closing files properly, you can avoid potential issues and ensure that your code is reliable and efficient."
   ]
  },
  {
   "cell_type": "markdown",
   "id": "a2be923a-cc55-4052-85aa-6f90edbfaa65",
   "metadata": {},
   "source": [
    "## Q3\n",
    "\n",
    "Q3. Write a python program to create a text file. Write ‘I want to become a Data Scientist’ in that file. Then\n",
    "close the file. Open this file and read the content of the file.\n",
    "\n",
    "\n",
    "        Here's a Python program that creates a text file, writes some text to it, closes it, and then reads the contents of the file:"
   ]
  },
  {
   "cell_type": "code",
   "execution_count": 9,
   "id": "7458478c-e99a-42cc-ae29-6233fc88d113",
   "metadata": {},
   "outputs": [
    {
     "name": "stdout",
     "output_type": "stream",
     "text": [
      "I want to become a Data Scientist\n"
     ]
    }
   ],
   "source": [
    "# Open the file for writing\n",
    "file = open(\"my_file.txt\", \"w\")\n",
    "\n",
    "# Write the text to the file\n",
    "file.write(\"I want to become a Data Scientist\")\n",
    "\n",
    "# Close the file\n",
    "file.close()\n",
    "\n",
    "# Open the file for reading\n",
    "file = open(\"my_file.txt\", \"r\")\n",
    "\n",
    "# Read the contents of the file\n",
    "content = file.read()\n",
    "\n",
    "# Close the file\n",
    "file.close()\n",
    "\n",
    "# Print the contents of the file\n",
    "print(content)\n"
   ]
  },
  {
   "cell_type": "markdown",
   "id": "276af0b5-941f-4fe2-bfc3-22b5ad243b98",
   "metadata": {},
   "source": [
    "         When you run this program, it will create a new file called `my_file.txt` in the current directory (if it doesn't already exist), write the text \"I want to become a Data Scientist\" to it, and then close the file. It will then open the file for reading, read the `contents` of the file into a variable called content, close the file, and finally print the contents of the file to the console.\n",
    "\n"
   ]
  },
  {
   "cell_type": "markdown",
   "id": "e6bd9216-b571-4497-bc8a-e7c24c43214e",
   "metadata": {},
   "source": [
    "## Q4\n",
    "\n",
    "Q4. Explain the following with python code: read(), readline() and readlines().\n",
    "\n",
    "\n",
    "       In Python, there are several ways to read data from a file. Here's an explanation of the `read()`, `readline()`, and `readlines()` methods, along with examples of how to use them:\n",
    "\n",
    "        * `read()`: This method reads the entire contents of a file into a single string. Here's an example:\n",
    "        "
   ]
  },
  {
   "cell_type": "code",
   "execution_count": null,
   "id": "204350d4-d503-413a-983d-e627ad60c7ed",
   "metadata": {},
   "outputs": [],
   "source": [
    "file = open(\"my_file.txt\", \"r\")\n",
    "\n",
    "content = file.read()\n",
    "\n",
    "file.close()\n",
    "\n",
    "print(content)"
   ]
  },
  {
   "cell_type": "markdown",
   "id": "e6f06a23-56dc-4f26-8f07-47f179fcda86",
   "metadata": {},
   "source": [
    "        In this example, the `read()` method is used to read the entire contents of the file into a string called `content`. The `print()` function is then used to display the contents of the file.\n",
    "\n",
    "        * `readline()`: This method reads a single line from a file. Each time it is called, it reads the next line. Here's an example:"
   ]
  },
  {
   "cell_type": "code",
   "execution_count": null,
   "id": "c373ef5b-3599-4de2-b3fa-a5e1a60cb6c8",
   "metadata": {},
   "outputs": [],
   "source": [
    "file = open(\"my_file.txt\", \"r\")\n",
    "\n",
    "line1 = file.readline()\n",
    "line2 = file.readline()\n",
    "\n",
    "file.close()\n",
    "\n",
    "print(line1)\n",
    "print(line2)"
   ]
  },
  {
   "cell_type": "markdown",
   "id": "9ccc19f2-d62c-4c24-8332-3842a6dfbe7d",
   "metadata": {},
   "source": [
    "       In this example, the `readline()` method is used twice to read the first and second lines of the file. The `print()` function is then used to display these lines.\n",
    "\n",
    "       * `readlines()`: This method reads all the lines of a file into a list. Each line becomes a separate element in the list. Here's an example:"
   ]
  },
  {
   "cell_type": "code",
   "execution_count": null,
   "id": "ef6fbe0f-52d1-4c47-91b5-5f15539bce93",
   "metadata": {},
   "outputs": [],
   "source": [
    "file = open(\"my_file.txt\", \"r\")\n",
    "\n",
    "lines = file.readlines()\n",
    "\n",
    "file.close()\n",
    "\n",
    "for line in lines:\n",
    "    print(line)\n"
   ]
  },
  {
   "cell_type": "markdown",
   "id": "977e22dd-82d1-4a17-b86b-2ede79d9c8cb",
   "metadata": {},
   "source": [
    "        In this example, the `readlines()` method is used to read all the lines of the file into a list called `lines`. The `for` loop is then used to iterate over the lines in the list and display them using the `print()` function.\n",
    "\n",
    "          These are the basic methods for reading data from a file in Python. You can use these methods to read data from text files in a variety of formats and styles."
   ]
  },
  {
   "cell_type": "markdown",
   "id": "bbe6cfb5-94a5-4835-ae35-46daf9420f99",
   "metadata": {},
   "source": [
    "## Q5\n",
    "\n",
    "Q5. Explain why with statement is used with open(). What is the advantage of using with statement and open() together?\n",
    "\n",
    "\n",
    "      The `with` statement is used with `open()` to handle file I/O operations in a more efficient and safer way.\n",
    "\n",
    "      When we open a file using the `open()` function, we must also remember to close the file after we're done using it. If we forget to close the file, it can lead to various problems such as memory leaks, file corruption, or data loss.\n",
    "\n",
    "      The `with` statement provides a way to automatically close the file after we're done using it, even if an error occurs during file processing. This is done using the context management protocol in Python.\n",
    "\n",
    "       Here's an example of how to use `with` statement and `open()` together:"
   ]
  },
  {
   "cell_type": "code",
   "execution_count": null,
   "id": "bcfb0dad-3f08-4b63-8967-5fd99c4b8608",
   "metadata": {},
   "outputs": [],
   "source": [
    "# Open the file using with statement\n",
    "with open(\"example.txt\", \"w\") as file:\n",
    "    file.write(\"Hello, World!\")\n",
    "\n",
    "# The file is automatically closed after the block of code\n",
    "# inside the with statement is executed.\n"
   ]
  },
  {
   "cell_type": "markdown",
   "id": "5956af6c-0abe-4439-a312-5087610487f4",
   "metadata": {},
   "source": [
    "        In this example, the `with` statement is used to `open` the file \"example.txt\" in write mode, and the file is automatically closed when the block of code inside the with statement is executed.\n",
    "\n",
    "        The main advantage of using `with` statement and `open()` together is that it eliminates the need to explicitly close the file after we're done using it. It also ensures that the file is closed properly, even if an error occurs during file processing. This can help prevent issues like memory leaks and data loss. Additionally, it makes the code more concise and easier to read, as the file handling logic is encapsulated within a single block of code."
   ]
  },
  {
   "cell_type": "markdown",
   "id": "19a45e33-e02b-4a3f-9f74-ebb31bc1f11e",
   "metadata": {},
   "source": [
    "## Q6\n",
    "\n",
    "Q6. Explain the write() and writelines() functions. Give a suitable example.\n",
    "\n",
    "\n",
    "       The `write()` function is used to write a single string of data to a file, whereas the `writelines()` function is used to write multiple lines of data to a file, provided in the form of a list of strings. Both functions are used in Python to write data to a file in write mode.\n",
    "\n",
    "        Here's an example to demonstrate how to use these functions:"
   ]
  },
  {
   "cell_type": "code",
   "execution_count": 14,
   "id": "38dbe56a-f27e-4d7c-b554-cd1d68978ac9",
   "metadata": {},
   "outputs": [],
   "source": [
    "# Open a file in write mode\n",
    "with open(\"example.txt\", \"w\") as file:\n",
    "    # Write a single string using write() function\n",
    "    file.write(\"Hello, World!\\n\")\n",
    "\n",
    "    # Write multiple lines using writelines() function\n",
    "    lines = [\"Line 1\\n\", \"Line 2\\n\", \"Line 3\\n\"]\n",
    "    file.writelines(lines)\n"
   ]
  },
  {
   "cell_type": "markdown",
   "id": "347ac8a1-5cc1-4156-b3c6-638126620d65",
   "metadata": {},
   "source": [
    "        In this example, the `open()` function is used with the with statement to open the file \"example.txt\" in write mode. The `write()` function is then used to write a single string \"Hello, World!\" to the file, followed by a newline character \\n. The `writelines()` function is then used to write a list of strings `[\"Line 1\\n\", \"Line 2\\n\", \"Line 3\\n\"]` to the file.\n",
    "\n",
    "        After executing this code, the file \"example.txt\" will contain the following data:"
   ]
  },
  {
   "cell_type": "code",
   "execution_count": null,
   "id": "77a2e9df-3f01-442e-b820-942f1ab4c275",
   "metadata": {},
   "outputs": [],
   "source": [
    "Hello, World!\n",
    "Line 1\n",
    "Line 2\n",
    "Line 3"
   ]
  },
  {
   "cell_type": "markdown",
   "id": "04e62ef5-2ab0-46fe-b926-da9c6084997c",
   "metadata": {},
   "source": [
    "      It's worth noting that the `write()` function adds the data at the current position of the file pointer, whereas the `writelines()` function writes the entire list of strings to the file in the order they appear in the list. Additionally, both functions do not automatically add newline characters, so we need to manually add them if we want to write data on separate lines"
   ]
  },
  {
   "cell_type": "code",
   "execution_count": null,
   "id": "5bc67011-e856-4041-b98d-41163bc15014",
   "metadata": {},
   "outputs": [],
   "source": []
  }
 ],
 "metadata": {
  "kernelspec": {
   "display_name": "Python 3 (ipykernel)",
   "language": "python",
   "name": "python3"
  },
  "language_info": {
   "codemirror_mode": {
    "name": "ipython",
    "version": 3
   },
   "file_extension": ".py",
   "mimetype": "text/x-python",
   "name": "python",
   "nbconvert_exporter": "python",
   "pygments_lexer": "ipython3",
   "version": "3.10.8"
  }
 },
 "nbformat": 4,
 "nbformat_minor": 5
}
