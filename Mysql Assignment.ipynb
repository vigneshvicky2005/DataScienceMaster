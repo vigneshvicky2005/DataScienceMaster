{
 "cells": [
  {
   "cell_type": "markdown",
   "id": "eca649e7-d016-43ca-baf2-a74ebf30ce1b",
   "metadata": {},
   "source": [
    "# Pwskills"
   ]
  },
  {
   "cell_type": "markdown",
   "id": "3a7e9c37-0b67-40b6-8372-b41e7e34e4ea",
   "metadata": {},
   "source": [
    "## Data Science Master"
   ]
  },
  {
   "cell_type": "markdown",
   "id": "f2e8b094-d85a-42fa-b19d-1da7f4fde3c5",
   "metadata": {},
   "source": [
    "### Python Assignment"
   ]
  },
  {
   "cell_type": "markdown",
   "id": "5c234607-3748-4aef-abc9-d3d9907fa966",
   "metadata": {
    "tags": []
   },
   "source": [
    "## Q1\n",
    "\n",
    "Q1. What is a database? Differentiate between SQL and NoSQL databases.\n",
    "\n",
    "\n",
    "    A database is a collection of data that is organized in a structured manner so that it can be easily accessed, managed, and updated. Databases are commonly used in software applications to store information such as customer data, financial transactions, or inventory records.\n",
    "\n",
    "    SQL (Structured Query Language) and NoSQL (Not Only SQL) are two different types of database management systems. SQL databases are relational databases, meaning they store data in tables with rows and columns that have a defined relationship with one another. The data is organized in a structured manner and is accessed using SQL commands.\n",
    "\n",
    "    On the other hand, NoSQL databases do not use tables with rows and columns, and instead store data in various formats such as document, key-value, graph, or column-family. NoSQL databases are often used for handling large volumes of unstructured data or for real-time applications where fast read and write operations are required.\n",
    "\n",
    "    Here are some key differences between SQL and NoSQL databases:\n",
    "\n",
    "    1.Data structure: SQL databases use a structured format with tables, columns, and rows, while NoSQL databases can use various data structures such as documents, key-value pairs, or graphs.\n",
    "\n",
    "    2.Scalability: SQL databases are vertically scalable, meaning they can handle increased traffic by adding more hardware resources. NoSQL databases are horizontally scalable, meaning they can handle increased traffic by adding more servers.\n",
    "\n",
    "    3.Flexibility: SQL databases have a fixed schema, meaning the data structure is defined in advance and cannot be easily changed. NoSQL databases have a flexible schema, meaning the data structure can be easily modified as needed.\n",
    "\n",
    "    4.Querying: SQL databases use SQL commands to query data, which can be powerful but may require more effort to write complex queries. NoSQL databases often have simpler query languages that are optimized for specific use cases.\n",
    "\n",
    "     Overall, the choice between SQL and NoSQL databases will depend on the specific needs of a project or application. SQL databases are often used for structured data with complex relationships, while NoSQL databases are often used for unstructured data that requires high scalability and flexibility."
   ]
  },
  {
   "cell_type": "markdown",
   "id": "61f92406-f77b-4b13-acc2-4ac9e05fd3ed",
   "metadata": {},
   "source": [
    "## Q2\n",
    "\n",
    "Q2. What is DDL? Explain why CREATE, DROP, ALTER, and TRUNCATE are used with an example.\n",
    "\n",
    "\n",
    "    DDL stands for Data Definition Language, which is a subset of SQL used to define the structure of a database. DDL statements are used to create, modify, and delete database objects such as tables, indexes, and constraints. Here are some common DDL statements and their usage:\n",
    "\n",
    "    1.CREATE: The CREATE statement is used to create a new database object such as a table, view, index, or constraint. Here is an example of a CREATE statement used to create a new table:"
   ]
  },
  {
   "cell_type": "code",
   "execution_count": null,
   "id": "2a1d0dc3-ed8f-4cfb-96fe-696fae98d711",
   "metadata": {},
   "outputs": [],
   "source": [
    "CREATE TABLE customers (\n",
    "  id INT PRIMARY KEY,\n",
    "  name VARCHAR(50),\n",
    "  email VARCHAR(50)\n",
    ");\n"
   ]
  },
  {
   "cell_type": "markdown",
   "id": "14c289aa-9cae-444d-9f8c-b1e572df3158",
   "metadata": {},
   "source": [
    "    This statement creates a new table named \"customers\" with three columns: \"id\", \"name\", and \"email\".\n",
    "\n",
    "     2.DROP: The DROP statement is used to delete a database object such as a table, view, index, or constraint. Here is an example of a DROP statement used to delete a table:"
   ]
  },
  {
   "cell_type": "code",
   "execution_count": null,
   "id": "8781c1c6-197c-40a0-b2a0-b1bfc72798c3",
   "metadata": {},
   "outputs": [],
   "source": [
    "DROP TABLE customers;\n"
   ]
  },
  {
   "cell_type": "markdown",
   "id": "a775d952-5a91-4c21-a6fa-e3116374b6cf",
   "metadata": {},
   "source": [
    "    This statement deletes the \"customers\" table from the database.\n",
    "\n",
    "     3.ALTER: The ALTER statement is used to modify the structure of a database object such as a table or index. Here is an example of an ALTER statement used to add a new column to an existing table:"
   ]
  },
  {
   "cell_type": "code",
   "execution_count": null,
   "id": "507d0825-09e4-4a9b-8d2c-7ce73d09a700",
   "metadata": {},
   "outputs": [],
   "source": [
    "ALTER TABLE customers ADD phone VARCHAR(20);\n"
   ]
  },
  {
   "cell_type": "markdown",
   "id": "dc5766e3-1829-4d4c-a7da-046005feacf8",
   "metadata": {},
   "source": [
    "    This statement adds a new column named \"phone\" to the \"customers\" table.\n",
    "\n",
    "     4.TRUNCATE: The TRUNCATE statement is used to delete all data from a table, but the table structure remains intact. Here is an example of a TRUNCATE statement used to remove all data from a table:"
   ]
  },
  {
   "cell_type": "code",
   "execution_count": null,
   "id": "30c1f0d9-dd23-40e9-8015-5401c46b0f36",
   "metadata": {},
   "outputs": [],
   "source": [
    "TRUNCATE TABLE customers;\n"
   ]
  },
  {
   "cell_type": "markdown",
   "id": "0eaed155-0cb8-4372-b9b2-95b079f22e35",
   "metadata": {},
   "source": [
    "    This statement removes all rows from the \"customers\" table, but the table structure and any indexes or constraints remain intact.\n",
    "\n",
    "     In summary, DDL statements such as CREATE, DROP, ALTER, and TRUNCATE are used to define the structure of a database and its objects, and to modify or delete them as needed."
   ]
  },
  {
   "cell_type": "markdown",
   "id": "53629904-0553-46c4-a3ba-d779f546dc2b",
   "metadata": {},
   "source": [
    "## Q3\n",
    "\n",
    "Q3. What is DML? Explain INSERT, UPDATE, and DELETE with an example.\n",
    "\n",
    "\n",
    "    DML stands for Data Manipulation Language, which is a subset of SQL used to insert, update, and delete data in a database. DML statements are used to manipulate the data stored in database objects such as tables. Here are some common DML statements and their usage:\n",
    "\n",
    "    1.INSERT: The INSERT statement is used to insert new data into a table. Here is an example of an INSERT statement used to add a new row to a table:"
   ]
  },
  {
   "cell_type": "code",
   "execution_count": null,
   "id": "bac5cc66-e500-4b0b-bfac-a82eb66a3499",
   "metadata": {},
   "outputs": [],
   "source": [
    "INSERT INTO customers (id, name, email) VALUES (1, 'John Doe', 'johndoe@email.com');\n"
   ]
  },
  {
   "cell_type": "markdown",
   "id": "de22e502-5b3c-47eb-8758-3a300adf8759",
   "metadata": {},
   "source": [
    "     This statement inserts a new row into the \"customers\" table with the specified values for the \"id\", \"name\", and \"email\" columns.\n",
    "\n",
    "      2.UPDATE: The UPDATE statement is used to update existing data in a table. Here is an example of an UPDATE statement used to update a customer's email address:"
   ]
  },
  {
   "cell_type": "code",
   "execution_count": null,
   "id": "a8f55e25-d798-4ada-928b-2a0cf0fb09ab",
   "metadata": {},
   "outputs": [],
   "source": [
    "UPDATE customers SET email = 'newemail@email.com' WHERE id = 1;\n"
   ]
  },
  {
   "cell_type": "markdown",
   "id": "e1d83f4b-1839-4471-aef5-73a855fbbd32",
   "metadata": {},
   "source": [
    "     This statement updates the \"email\" column of the \"customers\" table for the row with \"id\" 1.\n",
    "\n",
    "      3.DELETE: The DELETE statement is used to delete data from a table. Here is an example of a DELETE statement used to remove a customer from the \"customers\" table:"
   ]
  },
  {
   "cell_type": "code",
   "execution_count": null,
   "id": "49d22f4f-2466-41c4-b16e-ead7cfc0d84c",
   "metadata": {},
   "outputs": [],
   "source": [
    "DELETE FROM customers WHERE id = 1;\n"
   ]
  },
  {
   "cell_type": "markdown",
   "id": "ce1f7268-ab33-43b1-87a7-52c3941d21f0",
   "metadata": {},
   "source": [
    "    This statement removes the row from the \"customers\" table where the \"id\" column is equal to 1.\n",
    "\n",
    "     In summary, DML statements such as INSERT, UPDATE, and DELETE are used to manipulate the data stored in database objects such as tables. These statements are used to insert new data into tables, update existing data, or delete data from tables as needed."
   ]
  },
  {
   "cell_type": "markdown",
   "id": "4ef8ecae-40bb-4e8d-a919-f027ef23be49",
   "metadata": {},
   "source": [
    "## Q4\n",
    "\n",
    "Q4. What is DQL? Explain SELECT with an example.\n",
    "\n",
    "\n",
    "     DQL stands for Data Query Language, which is a subset of SQL used to retrieve data from a database. DQL statements are used to query the data stored in database objects such as tables. Here is an example of a common DQL statement:\n",
    "\n",
    "    1.SELECT: The SELECT statement is used to retrieve data from one or more tables in a database. Here is an example of a SELECT statement used to retrieve data from the \"customers\" table:"
   ]
  },
  {
   "cell_type": "code",
   "execution_count": null,
   "id": "735fcb0e-077a-4183-a14c-67767dfc213e",
   "metadata": {},
   "outputs": [],
   "source": [
    "SELECT * FROM customers;\n"
   ]
  },
  {
   "cell_type": "markdown",
   "id": "b5c9d75c-f3a8-48cd-94e0-1bb35d3b3cd7",
   "metadata": {},
   "source": [
    "    This statement retrieves all columns from the \"customers\" table and all rows in the table. The asterisk (*) is a wildcard that selects all columns from the specified table.\n",
    "\n",
    "    You can also specify which columns you want to retrieve by listing them after the SELECT keyword, separated by commas. For example:"
   ]
  },
  {
   "cell_type": "code",
   "execution_count": null,
   "id": "77d79a22-2b26-4951-bd0e-3be5954a28c8",
   "metadata": {},
   "outputs": [],
   "source": [
    "SELECT name, email FROM customers;\n"
   ]
  },
  {
   "cell_type": "markdown",
   "id": "c13f44e0-43a8-490b-b512-a61b49422476",
   "metadata": {},
   "source": [
    "    This statement retrieves only the \"name\" and \"email\" columns from the \"customers\" table.\n",
    "\n",
    "     You can also use the WHERE clause to filter the results based on a condition. For example:"
   ]
  },
  {
   "cell_type": "code",
   "execution_count": null,
   "id": "955fcb47-819c-434d-9e63-0f0ba61718e7",
   "metadata": {},
   "outputs": [],
   "source": [
    "SELECT name, email FROM customers WHERE id = 1;\n"
   ]
  },
  {
   "cell_type": "markdown",
   "id": "5a83a526-0d63-4072-ad59-3de4dc80ed2e",
   "metadata": {},
   "source": [
    "     This statement retrieves the \"name\" and \"email\" columns from the \"customers\" table for the row where the \"id\" column is equal to 1.\n",
    "\n",
    "     In summary, DQL statements such as SELECT are used to retrieve data from one or more tables in a database. These statements allow you to retrieve specific columns, filter results based on conditions, and retrieve all or some rows in a table."
   ]
  },
  {
   "cell_type": "markdown",
   "id": "83c3cd64-d3e3-41e9-89e6-c5b57182ef68",
   "metadata": {},
   "source": [
    "## Q5\n",
    "\n",
    "Q5. Explain Primary Key and Foreign Key.\n",
    "\n",
    "\n",
    "     In a relational database, a primary key and a foreign key are two types of constraints that are used to define relationships between tables. Here's a brief explanation of each:\n",
    "\n",
    "      1. Primary Key: A primary key is a column or set of columns in a table that uniquely identifies each row in the table. It is used to enforce data integrity and ensure that there are no duplicate rows in the table. Primary keys are typically used to link related tables together through a foreign key constraint. For example, in a customer and orders database, the customer ID column in the customer table could be used as the primary key, while the order table would have a foreign key column that links to the customer ID column in the customer table.\n",
    "\n",
    "      2. Foreign Key: A foreign key is a column or set of columns in a table that refers to the primary key in another table. It is used to define a relationship between two tables and enforce referential integrity. The foreign key column in a table contains values that match the primary key values in another table. For example, in a customer and orders database, the order table would have a foreign key column that links to the customer ID column in the customer table. This ensures that orders are associated with a valid customer and prevents orphaned records.\n",
    "\n",
    "       In summary, a primary key is used to uniquely identify each row in a table, while a foreign key is used to define a relationship between two tables and ensure referential integrity. Together, they allow related tables to be linked and data to be stored in a normalized way."
   ]
  },
  {
   "cell_type": "markdown",
   "id": "3af9259d-c4d9-48ce-a29c-3b9cca8dec04",
   "metadata": {},
   "source": [
    "Q6. Write a python code to connect MySQL to python. Explain the cursor() and execute() method.\n",
    "\n",
    "    Sure, here is an example Python code to connect to a MySQL database and execute a query using cursor() and execute() methods:"
   ]
  },
  {
   "cell_type": "code",
   "execution_count": null,
   "id": "b7af43ac-f859-43b1-a477-74681fd63bd8",
   "metadata": {},
   "outputs": [],
   "source": [
    "import mysql.connector\n",
    "\n",
    "# Connect to the MySQL database\n",
    "mydb = mysql.connector.connect(\n",
    "  host=\"localhost\",\n",
    "  user=\"yourusername\",\n",
    "  password=\"yourpassword\",\n",
    "  database=\"yourdatabase\"\n",
    ")\n",
    "\n",
    "# Create a cursor object\n",
    "mycursor = mydb.cursor()\n",
    "\n",
    "# Execute a query\n",
    "mycursor.execute(\"SELECT * FROM customers\")\n",
    "\n",
    "# Fetch the results\n",
    "result = mycursor.fetchall()\n",
    "\n",
    "# Print the results\n",
    "for row in result:\n",
    "  print(row)\n"
   ]
  },
  {
   "cell_type": "markdown",
   "id": "c9e8c0b5-656e-4730-b4e7-6c697f20c01f",
   "metadata": {},
   "source": [
    "    In this example, we first import the mysql.connector module and use its connect() method to connect to a MySQL database. We provide the necessary connection details such as host, user, password, and database.\n",
    "\n",
    "    Next, we create a cursor object using the cursor() method of the connection object mydb. The cursor object is used to execute SQL statements and fetch results.\n",
    "\n",
    "     We then execute a SELECT query using the execute() method of the cursor object. The query \"SELECT * FROM customers\" retrieves all rows from the customers table.\n",
    "\n",
    "    We use the fetchall() method of the cursor object to fetch all the rows returned by the query. The fetched results are stored in the result variable.\n",
    "\n",
    "    Finally, we iterate over the results using a for loop and print each row.\n",
    "\n",
    "    In summary, the cursor() method is used to create a cursor object that can execute SQL statements, while the execute() method is used to execute a SQL statement on the cursor object."
   ]
  },
  {
   "cell_type": "markdown",
   "id": "d499ed67-2178-4683-bdd1-4881426e22c9",
   "metadata": {},
   "source": [
    "## Q7\n",
    "\n",
    "\n",
    "Q7. Give the order of execution of SQL clauses in an SQL query.\n",
    "\n",
    "\n",
    "     The order of execution of SQL clauses in an SQL query is as follows:\n",
    "\n",
    "      1.FROM: The FROM clause specifies the table or tables from which the data will be selected.\n",
    "\n",
    "      2.WHERE: The WHERE clause filters the data based on a specified condition.\n",
    "\n",
    "      3.GROUP BY: The GROUP BY clause groups the data based on one or more columns.\n",
    "\n",
    "      4.HAVING: The HAVING clause filters the grouped data based on a specified condition.\n",
    "\n",
    "      5.SELECT: The SELECT clause selects the columns to be displayed in the result set.\n",
    "\n",
    "      6.DISTINCT: The DISTINCT keyword removes duplicate rows from the result set.\n",
    "\n",
    "      7.ORDER BY: The ORDER BY clause sorts the result set based on one or more columns.\n",
    "\n",
    "      8.LIMIT: The LIMIT clause limits the number of rows returned by the query.\n",
    "\n",
    "       It's worth noting that not all SQL queries will include every clause, and some clauses can be combined or omitted depending on the specific query. However, this is the general order in which the clauses are executed."
   ]
  },
  {
   "cell_type": "code",
   "execution_count": null,
   "id": "cff8321b-3feb-4d3b-a5db-3ae233aa9e47",
   "metadata": {},
   "outputs": [],
   "source": []
  }
 ],
 "metadata": {
  "kernelspec": {
   "display_name": "Python 3 (ipykernel)",
   "language": "python",
   "name": "python3"
  },
  "language_info": {
   "codemirror_mode": {
    "name": "ipython",
    "version": 3
   },
   "file_extension": ".py",
   "mimetype": "text/x-python",
   "name": "python",
   "nbconvert_exporter": "python",
   "pygments_lexer": "ipython3",
   "version": "3.10.8"
  }
 },
 "nbformat": 4,
 "nbformat_minor": 5
}
