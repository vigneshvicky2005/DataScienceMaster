{
 "cells": [
  {
   "cell_type": "markdown",
   "id": "2947e90e-7735-421b-9a85-aea80032bb31",
   "metadata": {},
   "source": [
    "# Pwskills"
   ]
  },
  {
   "cell_type": "markdown",
   "id": "cd58d5b7-be44-4a4f-9355-e5d972773e01",
   "metadata": {},
   "source": [
    "## Data Science Master"
   ]
  },
  {
   "cell_type": "markdown",
   "id": "bceddd41-7d60-4651-a710-c7b68fbb4261",
   "metadata": {},
   "source": [
    "### Python Assignment"
   ]
  },
  {
   "cell_type": "markdown",
   "id": "b4cfa6ac-e6f0-4812-80cb-752200e68f49",
   "metadata": {},
   "source": [
    "## Q1\n",
    "Q1. List any five functions of the pandas library with execution.\n",
    "\n",
    "\n",
    "     Sure! Here are five commonly used functions in the pandas library with a brief description and an example of how to execute them:\n",
    "\n",
    "    'read_csv': Reads a CSV (comma-separated values) file and returns a DataFrame."
   ]
  },
  {
   "cell_type": "code",
   "execution_count": null,
   "id": "063b1f28-49ac-425d-b9cf-8b8303e32094",
   "metadata": {},
   "outputs": [],
   "source": [
    "import pandas as pd\n",
    "df = pd.read_csv('data.csv')\n"
   ]
  },
  {
   "cell_type": "markdown",
   "id": "df06ab57-60dd-42f9-817e-610c49de0b68",
   "metadata": {},
   "source": [
    "     'head': Returns the first n rows of a DataFrame."
   ]
  },
  {
   "cell_type": "code",
   "execution_count": null,
   "id": "e70b9dde-55b6-49c5-bdef-858030980413",
   "metadata": {},
   "outputs": [],
   "source": [
    "df.head(5)  # Returns the first 5 rows of the DataFrame\n"
   ]
  },
  {
   "cell_type": "markdown",
   "id": "0b32965b-00ee-41e8-9197-e781e00dbc97",
   "metadata": {},
   "source": [
    "     'describe': Generates descriptive statistics of the numerical columns in a DataFrame"
   ]
  },
  {
   "cell_type": "code",
   "execution_count": null,
   "id": "81e65bfe-57ac-4921-9221-5233cceb4d7a",
   "metadata": {},
   "outputs": [],
   "source": [
    "df.describe()  # Returns statistical summary of the DataFrame\n"
   ]
  },
  {
   "cell_type": "markdown",
   "id": "32ac9e98-f907-44d5-8dd5-e446d9692229",
   "metadata": {},
   "source": [
    "     'groupby': Groups data based on specified criteria and allows aggregation on grouped data."
   ]
  },
  {
   "cell_type": "code",
   "execution_count": null,
   "id": "4b2db93b-abd1-47fb-8d46-62f406426da5",
   "metadata": {},
   "outputs": [],
   "source": [
    "grouped_df = df.groupby('category')\n",
    "grouped_df['price'].mean()  # Calculates the mean price for each category\n"
   ]
  },
  {
   "cell_type": "markdown",
   "id": "47035169-a5a6-4317-81a5-ea2ab0140ead",
   "metadata": {},
   "source": [
    "     'plot': Creates basic plots (line, bar, histogram, etc.) using data from a DataFrame."
   ]
  },
  {
   "cell_type": "code",
   "execution_count": null,
   "id": "12d9c877-493f-41c9-9c74-550feb6c880b",
   "metadata": {},
   "outputs": [],
   "source": [
    "df.plot(x='date', y='price', kind='line')  # Plots a line chart with date on x-axis and price on y-axis\n"
   ]
  },
  {
   "cell_type": "markdown",
   "id": "a4081648-404b-4090-8a9e-32f569db40be",
   "metadata": {},
   "source": [
    "    Note: Make sure to import the pandas library (import pandas as pd) before using these functions."
   ]
  },
  {
   "cell_type": "markdown",
   "id": "d4acece4-4880-4b5b-a37a-c2211977d5bd",
   "metadata": {},
   "source": [
    "## Q2\n",
    "Q2. Given a Pandas DataFrame df with columns 'A', 'B', and 'C', write a Python function to re-index the DataFrame with a new index that starts from 1 and increments by 2 for each row.\n",
    "\n",
    "\n",
    "    Here's a Python function that re-indexes a Pandas DataFrame with a new index that starts from 1 and increments by 2 for each row:"
   ]
  },
  {
   "cell_type": "code",
   "execution_count": 1,
   "id": "56d34978-c99f-4f7f-8fb0-2b0c19923479",
   "metadata": {},
   "outputs": [],
   "source": [
    "import pandas as pd\n",
    "\n",
    "def reindex_with_increment(df):\n",
    "    new_index = pd.Index(range(1, len(df) * 2, 2))\n",
    "    df = df.set_index(new_index)\n",
    "    return df\n"
   ]
  },
  {
   "cell_type": "markdown",
   "id": "153ba8b3-b120-4fc0-a244-08a7ccf46adf",
   "metadata": {},
   "source": [
    "You can use this function by passing your DataFrame df as an argument:"
   ]
  },
  {
   "cell_type": "code",
   "execution_count": null,
   "id": "dafd4fad-e64c-47b3-8add-bff87a0fa451",
   "metadata": {},
   "outputs": [],
   "source": [
    "df = reindex_with_increment(df)\n"
   ]
  },
  {
   "cell_type": "markdown",
   "id": "dc37f08a-bb4a-4a01-b468-bc3cac7a381b",
   "metadata": {},
   "source": [
    "     After executing this code, the DataFrame df will have a new index starting from 1 and incrementing by 2 for each row."
   ]
  },
  {
   "cell_type": "markdown",
   "id": "5f484e65-ba48-48a6-a00e-b25c60a3c8c2",
   "metadata": {},
   "source": [
    "## Q3\n",
    "Q3. You have a Pandas DataFrame df with a column named 'Values'. Write a Python function that\n",
    "iterates over the DataFrame and calculates the sum of the first three values in the 'Values' column. The\n",
    "function should print the sum to the console.\n",
    "For example, if the 'Values' column of df contains the values [10, 20, 30, 40, 50], your function should\n",
    "calculate and print the sum of the first three values, which is 60.\n",
    "\n",
    "\n",
    "    Here's a Python function that iterates over a Pandas DataFrame and calculates the sum of the first three values in the 'Values' column:"
   ]
  },
  {
   "cell_type": "code",
   "execution_count": 3,
   "id": "85ec1d91-24aa-4b08-91f7-140fc7887210",
   "metadata": {},
   "outputs": [],
   "source": [
    "import pandas as pd\n",
    "\n",
    "def calculate_sum_of_first_three(df):\n",
    "    values_column = df['Values']\n",
    "    sum_of_first_three = sum(values_column[:3])\n",
    "    print(\"Sum of the first three values:\", sum_of_first_three)\n"
   ]
  },
  {
   "cell_type": "markdown",
   "id": "6eb61a71-ef61-43b3-b00a-139dca4ae55b",
   "metadata": {},
   "source": [
    "    You can use this function by passing your DataFrame df as an argument:"
   ]
  },
  {
   "cell_type": "code",
   "execution_count": null,
   "id": "dd84cae0-7e5b-4e6c-ad1c-4f1f49ad0a3a",
   "metadata": {},
   "outputs": [],
   "source": [
    "calculate_sum_of_first_three(df)\n"
   ]
  },
  {
   "cell_type": "markdown",
   "id": "652875bd-daef-40c9-bca7-1bfa58b92cf0",
   "metadata": {},
   "source": [
    "    After executing this code, the function will iterate over the DataFrame, calculate the sum of the first three values in the 'Values' column, and print the result to the console."
   ]
  },
  {
   "cell_type": "markdown",
   "id": "5ac3c2ab-4290-4514-9616-beb54b87aaa9",
   "metadata": {},
   "source": [
    "## Q4\n",
    "Q4. Given a Pandas DataFrame df with a column 'Text', write a Python function to create a new column\n",
    "'Word_Count' that contains the number of words in each row of the 'Text' column.\n",
    "\n",
    "    Here's a Python function that creates a new column 'Word_Count' in a Pandas DataFrame df based on the number of words in each row of the 'Text' column:"
   ]
  },
  {
   "cell_type": "code",
   "execution_count": null,
   "id": "cb8921e7-89b9-4b1a-8d81-3a0bce20d46a",
   "metadata": {},
   "outputs": [],
   "source": [
    "import pandas as pd\n",
    "\n",
    "def count_words(df):\n",
    "    df['Word_Count'] = df['Text'].str.split().apply(len)\n",
    "    return df\n"
   ]
  },
  {
   "cell_type": "code",
   "execution_count": null,
   "id": "ff3320a7-a237-4983-aa98-76bd40d3ead4",
   "metadata": {},
   "outputs": [],
   "source": [
    "df = count_words(df)\n"
   ]
  },
  {
   "cell_type": "markdown",
   "id": "5d470104-d729-47fd-ad3b-e2729bb58537",
   "metadata": {},
   "source": [
    "     After executing this code, the DataFrame df will have a new column 'Word_Count' that contains the number of words in each row of the 'Text' column. Each cell in the 'Word_Count' column will correspond to the word count of the respective row in the 'Text' column."
   ]
  },
  {
   "cell_type": "markdown",
   "id": "f5e67f4a-f25a-49d7-af35-58a9acfb18ef",
   "metadata": {},
   "source": [
    "## Q5\n",
    "Q5. How are DataFrame.size() and DataFrame.shape() different?\n",
    "\n",
    "    The DataFrame.size and DataFrame.shape are two different methods in Pandas that provide different information about the DataFrame:\n",
    "\n",
    "  1.  DataFrame.size: This method returns the total number of elements in the DataFrame. It calculates the size by multiplying the number of rows (DataFrame.shape[0]) by the number of columns (DataFrame.shape[1]). It represents the total count of cells in the DataFrame.\n",
    "\n",
    "   2.  DataFrame.shape: This method returns a tuple that represents the dimensions of the DataFrame. It returns the number of rows as the first element and the number of columns as the second element. In other words, DataFrame.shape[0] gives the number of rows, and DataFrame.shape[1] gives the number of columns.\n",
    "\n",
    "    To summarize, DataFrame.size provides the total number of elements (cells) in the DataFrame, while DataFrame.shape gives the dimensions of the DataFrame in terms of rows and columns."
   ]
  },
  {
   "cell_type": "markdown",
   "id": "21785667-c19e-4087-8ad8-e32e07973902",
   "metadata": {},
   "source": [
    "## Q6\n",
    "Q6.Which function of pandas do we use to read an excel file?\n",
    "\n",
    "    The function in pandas used to read an Excel file is pandas.read_excel(). It allows you to read the data from an Excel file and create a DataFrame.\n",
    "\n",
    "    Here's an example of how to use read_excel() to read an Excel file named \"data.xlsx\" and store the data in a DataFrame:\n"
   ]
  },
  {
   "cell_type": "code",
   "execution_count": null,
   "id": "525b6a5f-e511-4182-aea1-3d123442ed6f",
   "metadata": {},
   "outputs": [],
   "source": [
    "import pandas as pd\n",
    "\n",
    "df = pd.read_excel('data.xlsx')\n"
   ]
  },
  {
   "cell_type": "markdown",
   "id": "c257b986-54a4-4add-b87b-c0d4a2addd9d",
   "metadata": {},
   "source": [
    "      In this example, the Excel file \"data.xlsx\" is read using read_excel(), and the resulting data is stored in the DataFrame df. You can replace 'data.xlsx' with the path to your actual Excel file."
   ]
  },
  {
   "cell_type": "markdown",
   "id": "829fcb91-5658-4766-b8f9-e2b0f06cd4ba",
   "metadata": {},
   "source": [
    "## Q7\n",
    "Q7. You have a Pandas DataFrame df that contains a column named 'Email' that contains email addresses in the format 'username@domain.com'. Write a Python function that creates a new column 'Username' in df that contains only the username part of each email address.\n",
    "The username is the part of the email address that appears before the '@' symbol. For example, if the email address is 'john.doe@example.com', the 'Username' column should contain 'john.doe'. Your function should extract the username from each email address and store it in the new 'Username' column.\n",
    "\n",
    "\n",
    "    Here's a Python function that extracts the username from each email address in a Pandas DataFrame column 'Email' and creates a new column 'Username' with the extracted usernames:"
   ]
  },
  {
   "cell_type": "code",
   "execution_count": null,
   "id": "92e6adb2-1716-4421-aa6d-f45cae8a48ab",
   "metadata": {},
   "outputs": [],
   "source": [
    "import pandas as pd\n",
    "\n",
    "def extract_username(df):\n",
    "    df['Username'] = df['Email'].str.split('@').str[0]\n",
    "    return df\n"
   ]
  },
  {
   "cell_type": "markdown",
   "id": "dd76e9dd-7944-487c-96d1-ee5b1a8b0e33",
   "metadata": {},
   "source": [
    "    You can use this function by passing your DataFrame df as an argument:"
   ]
  },
  {
   "cell_type": "code",
   "execution_count": null,
   "id": "27c6b911-5520-45cb-8b81-959493efd85c",
   "metadata": {},
   "outputs": [],
   "source": [
    "df = extract_username(df)\n"
   ]
  },
  {
   "cell_type": "markdown",
   "id": "06c2f675-8df5-4a3b-be3d-609d8b9ddcd1",
   "metadata": {},
   "source": [
    "     After executing this code, the DataFrame df will have a new column 'Username' that contains only the username part of each email address. Each cell in the 'Username' column will correspond to the username extracted from the respective row in the 'Email' column."
   ]
  },
  {
   "cell_type": "markdown",
   "id": "e343e017-d226-4b12-82bb-7156c383c045",
   "metadata": {},
   "source": [
    "## Q8\n",
    "Q8. You have a Pandas DataFrame df with columns 'A', 'B', and 'C'. Write a Python function that selects\n",
    "all rows where the value in column 'A' is greater than 5 and the value in column 'B' is less than 10. The\n",
    "function should return a new DataFrame that contains only the selected rows.\n",
    "For example, if df contains the following values:\n"
   ]
  },
  {
   "cell_type": "markdown",
   "id": "5ea3deb5-4afa-4c1a-99ee-ec839dad6dc5",
   "metadata": {},
   "source": [
    "A B C\n",
    "0 3 5 1\n",
    "1 8 2 7\n",
    "2 6 9 4\n",
    "3 2 3 5\n",
    "4 9 1 2\n",
    "\n",
    "Your function should select the following rows: A B C\n",
    "\n",
    "1 8 2 7\n",
    "4 9 1 2\n",
    "\n",
    "The function should return a new DataFrame that contains only the selected rows.\n"
   ]
  },
  {
   "cell_type": "markdown",
   "id": "22b4db2f-e672-44ba-97cc-30e1d5bc2d83",
   "metadata": {},
   "source": [
    "     Here's a Python function that selects rows from a Pandas DataFrame df based on the conditions you mentioned (column 'A' > 5 and column 'B' < 10) and returns a new DataFrame with only the selected rows:"
   ]
  },
  {
   "cell_type": "code",
   "execution_count": null,
   "id": "4c3c3ebb-81c7-404c-b6d3-bb32e72aaf2b",
   "metadata": {},
   "outputs": [],
   "source": [
    "import pandas as pd\n",
    "\n",
    "def select_rows(df):\n",
    "    selected_rows = df[(df['A'] > 5) & (df['B'] < 10)]\n",
    "    return selected_rows\n"
   ]
  },
  {
   "cell_type": "markdown",
   "id": "4325330c-968f-4f52-bde2-4d25f160df6c",
   "metadata": {},
   "source": [
    "    You can use this function by passing your DataFrame df as an argument:"
   ]
  },
  {
   "cell_type": "code",
   "execution_count": null,
   "id": "0db39117-1d31-44f4-9918-21857a79a85f",
   "metadata": {},
   "outputs": [],
   "source": [
    "selected_df = select_rows(df)\n"
   ]
  },
  {
   "cell_type": "markdown",
   "id": "b334336e-eace-44a5-a385-bebf13a85490",
   "metadata": {},
   "source": [
    "    After executing this code, the selected_df DataFrame will contain only the rows where the value in column 'A' is greater than 5 and the value in column 'B' is less than 10, based on the conditions mentioned."
   ]
  },
  {
   "cell_type": "markdown",
   "id": "9e194164-669c-41a4-9b3d-0c183380e700",
   "metadata": {},
   "source": [
    "## Q9\n",
    "Q9. Given a Pandas DataFrame df with a column 'Values', write a Python function to calculate the mean, median, and standard deviation of the values in the 'Values' column.\n",
    "\n",
    "\n",
    "    Here's a Python function that calculates the mean, median, and standard deviation of the values in the 'Values' column of a Pandas DataFrame df:"
   ]
  },
  {
   "cell_type": "code",
   "execution_count": null,
   "id": "3ec8e270-89c3-4a69-80b5-3f10bc8fc5c7",
   "metadata": {},
   "outputs": [],
   "source": [
    "import pandas as pd\n",
    "\n",
    "def calculate_statistics(df):\n",
    "    values_column = df['Values']\n",
    "    mean_value = values_column.mean()\n",
    "    median_value = values_column.median()\n",
    "    std_value = values_column.std()\n",
    "    return mean_value, median_value, std_value\n"
   ]
  },
  {
   "cell_type": "markdown",
   "id": "a1fdad05-2354-4d1b-9f97-3d37032f7c82",
   "metadata": {},
   "source": [
    "    You can use this function by passing your DataFrame df as an argument:"
   ]
  },
  {
   "cell_type": "code",
   "execution_count": null,
   "id": "ed80b95a-0412-4f8e-97ef-3a851c2ead5e",
   "metadata": {},
   "outputs": [],
   "source": [
    "mean, median, std = calculate_statistics(df)\n"
   ]
  },
  {
   "cell_type": "markdown",
   "id": "c6a96c70-aef4-420d-8082-0b7a5d99d097",
   "metadata": {},
   "source": [
    "    After executing this code, the variables mean, median, and std will contain the calculated mean, median, and standard deviation of the values in the 'Values' column, respectively."
   ]
  },
  {
   "cell_type": "markdown",
   "id": "e8b84395-fc7d-4ec6-a2d0-5a5135fd10bd",
   "metadata": {},
   "source": [
    "## Q10\n",
    "Q10. Given a Pandas DataFrame df with a column 'Sales' and a column 'Date', write a Python function to\n",
    "create a new column 'MovingAverage' that contains the moving average of the sales for the past 7 days for each row in the DataFrame. The moving average should be calculated using a window of size 7 and should include the current day.\n",
    "\n",
    "    To create a new column 'MovingAverage' in a Pandas DataFrame df that contains the moving average of the sales for the past 7 days, including the current day, you can use the rolling function with a window size of 7 and then calculate the mean. Here's the Python function to achieve this:"
   ]
  },
  {
   "cell_type": "code",
   "execution_count": null,
   "id": "c46d0da4-fb86-42d1-89e3-58278f32eb2c",
   "metadata": {},
   "outputs": [],
   "source": [
    "import pandas as pd\n",
    "\n",
    "def calculate_moving_average(df):\n",
    "    df['MovingAverage'] = df['Sales'].rolling(window=7, min_periods=1).mean()\n",
    "    return df\n"
   ]
  },
  {
   "cell_type": "markdown",
   "id": "da6822ed-7cf8-4819-a33f-403005558efc",
   "metadata": {},
   "source": [
    "     You can use this function by passing your DataFrame df as an argument:"
   ]
  },
  {
   "cell_type": "code",
   "execution_count": null,
   "id": "ca47c7a7-3709-42dc-9358-6558d49f9fd4",
   "metadata": {},
   "outputs": [],
   "source": [
    "df = calculate_moving_average(df)\n"
   ]
  },
  {
   "cell_type": "markdown",
   "id": "39c4a83c-42fe-4d32-9386-e747c727d058",
   "metadata": {},
   "source": [
    "    After executing this code, the DataFrame df will have a new column 'MovingAverage' that contains the moving average of the sales for the past 7 days, including the current day. Each cell in the 'MovingAverage' column will correspond to the moving average value for the respective row."
   ]
  },
  {
   "cell_type": "markdown",
   "id": "0b2ce946-23ea-4d2f-b0c0-7d7c45ef424a",
   "metadata": {},
   "source": [
    "## Q11\n",
    "Q11. You have a Pandas DataFrame df with a column 'Date'. Write a Python function that creates a new\n",
    "column 'Weekday' in the DataFrame. The 'Weekday' column should contain the weekday name (e.g.\n",
    "Monday, Tuesday) corresponding to each date in the 'Date' column.\n",
    "For example, if df contains the following values:\n",
    "\n"
   ]
  },
  {
   "cell_type": "markdown",
   "id": "d36f0e3f-b353-43b6-9e70-72d484017346",
   "metadata": {},
   "source": [
    "Date\n",
    "0 2023-01-01\n",
    "1 2023-01-02\n",
    "2 2023-01-03\n",
    "3 2023-01-04\n",
    "4 2023-01-05\n",
    "Your function should create the following DataFrame:\n",
    "\n",
    "Date Weekday\n",
    "0 2023-01-01 Sunday\n",
    "1 2023-01-02 Monday\n",
    "2 2023-01-03 Tuesday\n",
    "3 2023-01-04 Wednesday\n",
    "4 2023-01-05 Thursday\n",
    "The function should return the modified DataFrame."
   ]
  },
  {
   "cell_type": "markdown",
   "id": "e933f8bd-7a6d-41fc-ab38-7b70273c7398",
   "metadata": {},
   "source": [
    "     To create a new column 'Weekday' in a Pandas DataFrame df that contains the weekday name corresponding to each date in the 'Date' column, you can use the dt.weekday_name property. Here's the Python function to achieve this:"
   ]
  },
  {
   "cell_type": "code",
   "execution_count": null,
   "id": "708e8e73-2d92-4b33-8624-a5040365aa2f",
   "metadata": {},
   "outputs": [],
   "source": [
    "import pandas as pd\n",
    "\n",
    "def add_weekday_column(df):\n",
    "    df['Weekday'] = df['Date'].dt.weekday_name\n",
    "    return df\n"
   ]
  },
  {
   "cell_type": "markdown",
   "id": "84776ef5-1732-40b6-bc79-4e27fec24206",
   "metadata": {},
   "source": [
    "    Make sure that the 'Date' column is in datetime format (datetime64[ns]) before using this function. You can convert it using pd.to_datetime(df['Date']).\n",
    "\n",
    "    You can use this function by passing your DataFrame df as an argument:\n",
    "\n"
   ]
  },
  {
   "cell_type": "code",
   "execution_count": null,
   "id": "a8dfc846-955a-4685-8d95-ba4207392ca3",
   "metadata": {},
   "outputs": [],
   "source": [
    "df = add_weekday_column(df)\n"
   ]
  },
  {
   "cell_type": "markdown",
   "id": "6ffccbfc-e756-49de-826f-ad05e180699f",
   "metadata": {},
   "source": [
    "      After executing this code, the DataFrame df will have a new column 'Weekday' that contains the weekday name corresponding to each date in the 'Date' column. Each cell in the 'Weekday' column will correspond to the weekday name for the respective row."
   ]
  },
  {
   "cell_type": "markdown",
   "id": "3a4254fc-5324-4b6e-af07-ded98ebadb49",
   "metadata": {},
   "source": [
    "## Q12\n",
    "Q12. Given a Pandas DataFrame df with a column 'Date' that contains timestamps, write a Python\n",
    "function to select all rows where the date is between '2023-01-01' and '2023-01-31'.\n",
    "\n",
    "  \n",
    "     To select all rows from a Pandas DataFrame df where the date is between '2023-01-01' and '2023-01-31', you can use boolean indexing with a condition based on the 'Date' column. Here's the Python function to achieve this:"
   ]
  },
  {
   "cell_type": "code",
   "execution_count": null,
   "id": "2edbb647-6dbe-43ea-ac4d-6105f3b37ba0",
   "metadata": {},
   "outputs": [],
   "source": [
    "import pandas as pd\n",
    "\n",
    "def select_rows_between_dates(df):\n",
    "    start_date = '2023-01-01'\n",
    "    end_date = '2023-01-31'\n",
    "    selected_rows = df[(df['Date'] >= start_date) & (df['Date'] <= end_date)]\n",
    "    return selected_rows\n"
   ]
  },
  {
   "cell_type": "markdown",
   "id": "fb306da6-84b0-490e-9d2d-c20a6be2a77e",
   "metadata": {},
   "source": [
    "     Make sure that the 'Date' column is in datetime format (datetime64[ns]) before using this function. You can convert it using pd.to_datetime(df['Date']).\n",
    "\n",
    "     You can use this function by passing your DataFrame df as an argument:"
   ]
  },
  {
   "cell_type": "code",
   "execution_count": null,
   "id": "b58f57bb-56e8-4342-a7a2-3fcfb659bc18",
   "metadata": {},
   "outputs": [],
   "source": [
    "selected_df = select_rows_between_dates(df)\n"
   ]
  },
  {
   "cell_type": "markdown",
   "id": "d8c787bd-2cd2-4987-b338-7ac0f40ee6ed",
   "metadata": {},
   "source": [
    "     After executing this code, the selected_df DataFrame will contain only the rows where the date is between '2023-01-01' and '2023-01-31', based on the conditions mentioned."
   ]
  },
  {
   "cell_type": "markdown",
   "id": "9fe1f860-18c9-4f0f-855b-6d5c8fb5be2e",
   "metadata": {},
   "source": [
    "## Q13\n",
    "Q13. To use the basic functions of pandas, what is the first and foremost necessary library that needs to\n",
    "be imported?\n",
    "\n",
    "    To use the basic functions of pandas, the first and foremost necessary library that needs to be imported is the pandas library itself. It is typically imported using the following line of code:"
   ]
  },
  {
   "cell_type": "code",
   "execution_count": 5,
   "id": "e53cb1e5-4dfa-4744-9b1e-835c20c04b1e",
   "metadata": {},
   "outputs": [],
   "source": [
    "import pandas as pd\n"
   ]
  },
  {
   "cell_type": "markdown",
   "id": "1728ced8-5f48-40ce-a123-3701096fcf96",
   "metadata": {},
   "source": [
    "    By convention, the pd alias is commonly used to refer to the pandas library throughout the code. This allows you to access and utilize the various functions and classes provided by pandas for data manipulation and analysis."
   ]
  },
  {
   "cell_type": "code",
   "execution_count": null,
   "id": "31736cc0-2d55-498e-80d5-f45900ed8313",
   "metadata": {},
   "outputs": [],
   "source": []
  }
 ],
 "metadata": {
  "kernelspec": {
   "display_name": "Python 3 (ipykernel)",
   "language": "python",
   "name": "python3"
  },
  "language_info": {
   "codemirror_mode": {
    "name": "ipython",
    "version": 3
   },
   "file_extension": ".py",
   "mimetype": "text/x-python",
   "name": "python",
   "nbconvert_exporter": "python",
   "pygments_lexer": "ipython3",
   "version": "3.10.8"
  }
 },
 "nbformat": 4,
 "nbformat_minor": 5
}
