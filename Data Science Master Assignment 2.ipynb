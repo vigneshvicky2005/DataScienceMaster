{
 "cells": [
  {
   "cell_type": "markdown",
   "id": "99220833-f35c-4c56-9567-c1868844035f",
   "metadata": {},
   "source": [
    "# Pwskills"
   ]
  },
  {
   "cell_type": "markdown",
   "id": "1cdea2af-f779-4a98-8efc-0c34f44153b2",
   "metadata": {},
   "source": [
    "## Data Science Master"
   ]
  },
  {
   "cell_type": "markdown",
   "id": "4c770761-3d8a-4d98-b378-6bfbed2bc02b",
   "metadata": {},
   "source": [
    "## Python Assignment"
   ]
  },
  {
   "cell_type": "markdown",
   "id": "5ea2c33e-fc28-4d4b-b896-66294c663451",
   "metadata": {},
   "source": [
    "## Q1\n",
    "\n",
    "1.Write a program to accept percentage from the user and display the grade according to the following criteria:                                                                                                                                                                                                 Marks                                Grade                                                                                                             >90                                   A                                                                                                               >80 and <=90                          B                                                                                                               >=60 and <=80                         C                                                                                                               below 60                              D\n",
    "\n",
    "       Sure! Here's a Python program that accepts a percentage from the user and displays the corresponding grade based on the given criteria:"
   ]
  },
  {
   "cell_type": "code",
   "execution_count": null,
   "id": "d100a9e8-3a7a-4e9b-9651-a3e8f7dc8b4e",
   "metadata": {},
   "outputs": [],
   "source": [
    "percentage = float(input(\"Enter the percentage: \"))\n",
    "\n",
    "if percentage > 90:\n",
    "    grade = \"A\"\n",
    "elif percentage > 80:\n",
    "    grade = \"B\"\n",
    "elif percentage >= 60:\n",
    "    grade = \"C\"\n",
    "else:\n",
    "    grade = \"D\"\n",
    "\n",
    "print(f\"Percentage: {percentage:.2f}%\\nGrade: {grade}\")"
   ]
  },
  {
   "cell_type": "markdown",
   "id": "1c1d1649-5d6d-4fb4-9814-40b66e435897",
   "metadata": {},
   "source": [
    "    Explanation:\n",
    "\n",
    "    * The user is prompted to enter the percentage using the input() function, and the value is converted to a floating-point number using the float() function.\n",
    "    * The program checks the percentage against the different criteria using a series of if-elif statements.\n",
    "    * If the percentage matches a particular criterion, the corresponding grade is assigned to the grade variable.\n",
    "    * The program uses formatted string literals (f-strings) to display the percentage and grade to the console using the print() function.\n",
    "\n",
    "        Note: This program assumes that the percentage entered by the user is out of 100. If the percentage is out of a different scale, the criteria for the grades may need to be adjusted accordingly."
   ]
  },
  {
   "cell_type": "markdown",
   "id": "748f227d-178e-473a-9659-0afc461d0275",
   "metadata": {},
   "source": [
    "## Q2\n",
    "\n",
    "2. Write a program to accept the cost price of a bike and display the road tax to be paid according to the following criteria: ((Tax : 15%, 10%, 5%),(Cost Price(in Rs) :>100000,  >50000 and <= 100000 , < = 50000))                                                                                                                                                                             \n",
    "\n",
    "         Sure, here's a Python program that accepts the cost price of a bike and calculates the road tax amount based on the given criteria:"
   ]
  },
  {
   "cell_type": "code",
   "execution_count": null,
   "id": "413ab66d-0aa0-4080-aabc-2db76d46ba1d",
   "metadata": {},
   "outputs": [],
   "source": [
    "cost_price = float(input(\"Enter the cost price of the bike: \"))\n",
    "\n",
    "if cost_price > 100000:\n",
    "    tax = 0.15\n",
    "elif cost_price > 50000:\n",
    "    tax = 0.1\n",
    "else:\n",
    "    tax = 0.05\n",
    "\n",
    "road_tax = cost_price * tax\n",
    "\n",
    "print(\"Road tax amount: Rs.\", road_tax)"
   ]
  },
  {
   "cell_type": "markdown",
   "id": "dc55a6d7-7cbd-4cca-bd82-7f28b3953164",
   "metadata": {},
   "source": [
    "          In this program, the user is prompted to enter the cost price of a bike. Then, using a series of if-else statements, the program determines the tax rate based on the given criteria. The road tax amount is calculated by multiplying the cost price with the tax rate. Finally, the program displays the road tax amount."
   ]
  },
  {
   "cell_type": "markdown",
   "id": "7b59d7af-cec6-4c50-83a9-c55696fa42fd",
   "metadata": {},
   "source": [
    "## Q3\n",
    "\n",
    "3.Accept any city from the user and display monuments of that city.                                                                             ((City: Delhi, Agra, Jaipur), (Monument: Red Fort, Taj Mahal, Jai Mahal))\n",
    "\n",
    "\n",
    "        Sure, here's a sample program in Python that accepts a city name from the user and displays the corresponding monuments:"
   ]
  },
  {
   "cell_type": "code",
   "execution_count": null,
   "id": "70d6c20f-4044-41b2-b25c-73468cf1b91b",
   "metadata": {},
   "outputs": [],
   "source": [
    "# define the city-monument mapping\n",
    "city_monument = {\n",
    "    'Delhi': 'Red Fort',\n",
    "    'Agra': 'Taj Mahal',\n",
    "    'Jaipur': 'Jai Mahal'\n",
    "}\n",
    "\n",
    "# get the city name from user\n",
    "city = input(\"Enter a city name (Delhi, Agra, Jaipur): \")\n",
    "\n",
    "# check if city is in the mapping\n",
    "if city in city_monument:\n",
    "    monument = city_monument[city]\n",
    "    print(f\"The monument in {city} is {monument}.\")\n",
    "else:\n",
    "    print(\"Invalid city name entered.\")"
   ]
  },
  {
   "cell_type": "markdown",
   "id": "48775d35-a5ac-40ce-a19b-d6e148c21a7e",
   "metadata": {},
   "source": [
    "        Here, we first define a dictionary `city_monument` that maps each city to its corresponding monument. Then, we use the `input()` function to get the city name from the user. We check if the entered city is in the mapping using the `in` operator. If it is, we get the corresponding monument using the dictionary lookup `city_monument`[city], and display it to the user using the `print()` function. If the entered city is not valid, we display an error message."
   ]
  },
  {
   "cell_type": "markdown",
   "id": "1882d9d7-664f-4495-b405-f5986c336681",
   "metadata": {},
   "source": [
    "## Q4\n",
    "\n",
    "4. Check how many times a given number can be divided by 3 before it is less than or equal to 10\n",
    "\n",
    "       Here is a program in Python that accepts a number from the user and then checks how many times it can be divided by 3 before it becomes less than or equal to 10:"
   ]
  },
  {
   "cell_type": "code",
   "execution_count": null,
   "id": "29ea1f02-c40b-4eb0-a248-9abe2ad749c4",
   "metadata": {},
   "outputs": [],
   "source": [
    "num = int(input(\"Enter a number: \"))\n",
    "\n",
    "count = 0\n",
    "while num > 10:\n",
    "    num = num / 3\n",
    "    count += 1\n",
    "\n",
    "print(\"The number can be divided by 3\", count, \"times before it becomes less than or equal to 10.\")\n"
   ]
  },
  {
   "cell_type": "markdown",
   "id": "6c30b7ff-c434-4bb7-8106-10acd818d4fb",
   "metadata": {},
   "source": [
    "     In this program, we first accept a number from the user using the `input()` function and convert it to an integer using the `int()` function. Then, we initialize a variable `count` to 0 to keep track of the number of times the given number can be divided by 3.\n",
    "\n",
    "     We then enter a `while `loop that continues as long as the number is greater than 10. Inside the loop, we divide the number by 3 and increment the `count` variable. This process continues until the number becomes less than or equal to 10.\n",
    "\n",
    "     Finally, we display the number of times the number can be divided by 3 before it becomes less than or equal to 10 using the `print()` function."
   ]
  },
  {
   "cell_type": "markdown",
   "id": "f76d048a-d9dd-4936-8287-9d09b9e6d153",
   "metadata": {},
   "source": [
    "## Q5\n",
    "\n",
    "5. Why and when to use while loop in python give a description with example.\n",
    "\n",
    "\n",
    "     A while loop is used when a block of code needs to be executed repeatedly until a certain condition is met. It is particularly useful when the number of iterations required is unknown before the loop starts. For example, when you need to keep asking a user for input until they provide a valid respons.\n",
    "    example:"
   ]
  },
  {
   "cell_type": "code",
   "execution_count": null,
   "id": "c724eeb0-6f9f-4dd0-805d-e32398ac0b85",
   "metadata": {},
   "outputs": [],
   "source": [
    "number = -1\n",
    "\n",
    "while number < 1:\n",
    "    number = int(input(\"Enter a positive integer: \"))\n",
    "\n",
    "print(\"The number entered is\", number)"
   ]
  },
  {
   "cell_type": "markdown",
   "id": "ee3c67eb-be1a-44dc-a4b6-9a76475f55c2",
   "metadata": {},
   "source": [
    "       In this example, the while loop keeps executing as long as the number entered by the user is less than 1. Once a positive integer is entered, the condition is no longer met and the loop exits, printing the entered number."
   ]
  },
  {
   "cell_type": "markdown",
   "id": "0cdff99c-41de-43f6-876e-1b10fcf87efe",
   "metadata": {},
   "source": [
    "## Q6\n",
    "\n",
    "6. Use nested while loop to print 3 different pattern.\n",
    "\n",
    "   Sure, here are three different patterns that can be printed using nested while loops in Python:\n",
    "\n",
    "    1.Pattern 1: A right triangle of asterisks"
   ]
  },
  {
   "cell_type": "code",
   "execution_count": null,
   "id": "54556b06-1502-460a-a638-efa220e18fe1",
   "metadata": {},
   "outputs": [],
   "source": [
    "*\n",
    "**\n",
    "***\n",
    "****\n",
    "*****\n"
   ]
  },
  {
   "cell_type": "code",
   "execution_count": null,
   "id": "8b414d9a-58d3-4c95-893c-0d76cddc359c",
   "metadata": {},
   "outputs": [],
   "source": [
    "i = 1\n",
    "while i <= 5:\n",
    "    j = 1\n",
    "    while j <= i:\n",
    "        print(\"*\", end=\"\")\n",
    "        j += 1\n",
    "    print()\n",
    "    i += 1\n"
   ]
  },
  {
   "cell_type": "markdown",
   "id": "48592b5c-ce97-48bc-9a55-212c9b8e2f6a",
   "metadata": {},
   "source": [
    "2.Pattern 2: An isosceles triangle of asterisks"
   ]
  },
  {
   "cell_type": "code",
   "execution_count": null,
   "id": "51803dd2-7de5-4446-9b22-e5ce28cb5a6f",
   "metadata": {},
   "outputs": [],
   "source": [
    "   *\n",
    "  ***\n",
    " *****\n",
    "*******\n"
   ]
  },
  {
   "cell_type": "code",
   "execution_count": null,
   "id": "94842c07-7ed1-48d2-9974-18dbdef1149a",
   "metadata": {},
   "outputs": [],
   "source": [
    "i = 1\n",
    "while i <= 4:\n",
    "    j = 1\n",
    "    while j <= 4-i:\n",
    "        print(\" \", end=\"\")\n",
    "        j += 1\n",
    "    k = 1\n",
    "    while k <= 2*i-1:\n",
    "        print(\"*\", end=\"\")\n",
    "        k += 1\n",
    "    print()\n",
    "    i += 1\n"
   ]
  },
  {
   "cell_type": "markdown",
   "id": "527cc86d-1850-4ff2-b86f-c63e5b1d6f3c",
   "metadata": {},
   "source": [
    "3.Pattern 3: A square of asterisks"
   ]
  },
  {
   "cell_type": "code",
   "execution_count": null,
   "id": "c729344c-a289-425b-bd41-65c4033433d9",
   "metadata": {},
   "outputs": [],
   "source": [
    "*****\n",
    "*****\n",
    "*****\n",
    "*****\n",
    "*****\n"
   ]
  },
  {
   "cell_type": "code",
   "execution_count": null,
   "id": "1fe82662-9b8b-4e6e-9c4e-e6c00c579b0f",
   "metadata": {},
   "outputs": [],
   "source": [
    "i = 1\n",
    "while i <= 5:\n",
    "    j = 1\n",
    "    while j <= 5:\n",
    "        print(\"*\", end=\"\")\n",
    "        j += 1\n",
    "    print()\n",
    "    i += 1\n"
   ]
  },
  {
   "cell_type": "markdown",
   "id": "603481fd-aa66-449d-8661-bf2f2a3f2a52",
   "metadata": {},
   "source": [
    "      In each of the above examples, we have used nested while loops to print the desired pattern. The outer while loop controls the number of rows to be printed, while the inner while loops control the number of asterisks to be printed in each row. By modifying the conditions in the while loops, we can create different patterns."
   ]
  },
  {
   "cell_type": "markdown",
   "id": "1e3f4366-feb2-478e-8ffd-35eb61424ce4",
   "metadata": {},
   "source": [
    "## Q7\n",
    "\n",
    "7. Reverse a while lop to display numbers from 10 to 1.\n",
    "\n",
    "\n",
    "   Sure, here's a Python program that uses a while loop to display numbers from 10 to 1 in reverse order:"
   ]
  },
  {
   "cell_type": "code",
   "execution_count": null,
   "id": "7db86674-f9a9-4168-b893-7a72dd9d1f80",
   "metadata": {},
   "outputs": [],
   "source": [
    "num = 10\n",
    "while num >= 1:\n",
    "    print(num)\n",
    "    num -= 1\n"
   ]
  },
  {
   "cell_type": "markdown",
   "id": "9d3618ce-7ee6-48a4-b766-3356d445420e",
   "metadata": {},
   "source": [
    "    Explanation:\n",
    "\n",
    "    * We initialize the variable `num `to 10.\n",
    "    * The while loop runs as long as the value of `num` is greater than or equal to 1.\n",
    "    * Inside the loop, we print the value of `num`.\n",
    "    * We then decrement the value of `num` by 1 using the `-= `operator, which is a shorthand way of writing `num = num - 1`.\n",
    "    * The loop continues to run until the value of `num` becomes less than 1, at which point the loop terminates."
   ]
  },
  {
   "cell_type": "markdown",
   "id": "6599083a-b2da-4d8e-8780-a89202d9bd62",
   "metadata": {},
   "source": [
    "  When we run this program, it will display the following output:"
   ]
  },
  {
   "cell_type": "code",
   "execution_count": null,
   "id": "736176ae-d855-46b8-9b26-e35706a65117",
   "metadata": {},
   "outputs": [],
   "source": [
    "10\n",
    "9\n",
    "8\n",
    "7\n",
    "6\n",
    "5\n",
    "4\n",
    "3\n",
    "2\n",
    "1\n"
   ]
  },
  {
   "cell_type": "markdown",
   "id": "53f8407e-6e09-462b-a1de-3f3d4b395fea",
   "metadata": {},
   "source": [
    "## Q8\n",
    "\n",
    "8. Reverse a while loop to display numbers from 10 to 1.\n",
    "\n",
    "      Here's a Python program that uses a while loop to display numbers from 10 to 1 in reverse order:"
   ]
  },
  {
   "cell_type": "code",
   "execution_count": null,
   "id": "9cc0688a-0fe5-486a-ab9a-3f56a63ccef9",
   "metadata": {},
   "outputs": [],
   "source": [
    "num = 10\n",
    "while num >= 1:\n",
    "    print(num)\n",
    "    num -= 1\n"
   ]
  },
  {
   "cell_type": "markdown",
   "id": "3853db36-43d1-46b0-93fe-80fba0e04eb2",
   "metadata": {},
   "source": [
    "        In this program, the variable `num` is initialized to 10. The while loop runs as long as `num` is greater than or equal to 1. Inside the loop, the current value of `num` is printed, and then num is decremented by 1 using the shorthand operator `-=`, which is equivalent to` num = num - 1`. This process repeats until` num` reaches 1, at which point the loop stops. The output of this program is:\n",
    "\n"
   ]
  },
  {
   "cell_type": "code",
   "execution_count": null,
   "id": "f8eb3bbb-7ff5-4053-9d42-0396a0f6d9ca",
   "metadata": {},
   "outputs": [],
   "source": [
    "10\n",
    "9\n",
    "8\n",
    "7\n",
    "6\n",
    "5\n",
    "4\n",
    "3\n",
    "2\n",
    "1\n"
   ]
  },
  {
   "cell_type": "code",
   "execution_count": null,
   "id": "74e0271e-0eed-4671-87b9-4533305b117b",
   "metadata": {},
   "outputs": [],
   "source": []
  }
 ],
 "metadata": {
  "kernelspec": {
   "display_name": "Python 3 (ipykernel)",
   "language": "python",
   "name": "python3"
  },
  "language_info": {
   "codemirror_mode": {
    "name": "ipython",
    "version": 3
   },
   "file_extension": ".py",
   "mimetype": "text/x-python",
   "name": "python",
   "nbconvert_exporter": "python",
   "pygments_lexer": "ipython3",
   "version": "3.10.8"
  }
 },
 "nbformat": 4,
 "nbformat_minor": 5
}
