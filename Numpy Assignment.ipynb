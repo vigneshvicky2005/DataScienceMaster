{
 "cells": [
  {
   "cell_type": "markdown",
   "id": "b287238b-5990-4dea-ae03-c2e87f9ff448",
   "metadata": {},
   "source": [
    "# Pwskills"
   ]
  },
  {
   "cell_type": "markdown",
   "id": "b1a2cf87-d0a8-4125-ba7b-ddb8353efaf2",
   "metadata": {},
   "source": [
    "## Data Science Master"
   ]
  },
  {
   "cell_type": "markdown",
   "id": "253c5930-6d78-40a0-8c98-92d201995c95",
   "metadata": {},
   "source": [
    "### Numpy Assignment"
   ]
  },
  {
   "cell_type": "markdown",
   "id": "76158638-823d-4c1c-b47c-2a8a0404f5a3",
   "metadata": {},
   "source": [
    "## Q1\n",
    "Consider the below code to answer further questions:\n",
    "import numpy as np\n",
    "list_ = [ ‘1’ , ’2’ , ‘3’ , ‘4’ , ‘5’ ]\n",
    "array_list = np.array(object = list_)\n",
    "\n",
    "Q1. Is there any difference in the data type of variables list_ and array_list? If there is then write a code\n",
    "to print the data types of both the variables.\n",
    "\n",
    "\n",
    "    Yes, there is a difference in the data types of variables list_ and array_list.\n",
    "\n",
    "    The variable list_ is a Python list, whereas array_list is a NumPy array.\n",
    "\n",
    "    To print the data types of both variables, you can use the type() function. Here's the code:"
   ]
  },
  {
   "cell_type": "code",
   "execution_count": 1,
   "id": "518f51d0-4bc5-45b2-a67c-7f6559fec0a4",
   "metadata": {},
   "outputs": [
    {
     "name": "stdout",
     "output_type": "stream",
     "text": [
      "Data type of list_: <class 'list'>\n",
      "Data type of array_list: <class 'numpy.ndarray'>\n"
     ]
    }
   ],
   "source": [
    "import numpy as np\n",
    "\n",
    "list_ = ['1', '2', '3', '4', '5']\n",
    "array_list = np.array(list_)\n",
    "\n",
    "print(\"Data type of list_:\", type(list_))\n",
    "print(\"Data type of array_list:\", type(array_list))\n"
   ]
  },
  {
   "cell_type": "markdown",
   "id": "f1b882c8-5fb2-4ca3-9fa5-dd3e141e8862",
   "metadata": {},
   "source": [
    "     This confirms that 'list_ 'is of type list and 'array_list' is of type 'numpy.ndarray'."
   ]
  },
  {
   "cell_type": "markdown",
   "id": "8e185e3c-3825-4d46-822e-a830c3494f84",
   "metadata": {},
   "source": [
    "## Q2\n",
    "Consider the below code to answer further questions:\n",
    "import numpy as np\n",
    "list_ = [ ‘1’ , ’2’ , ‘3’ , ‘4’ , ‘5’ ]\n",
    "array_list = np.array(object = list_)                                                                                                                                                                                                              \n",
    "Q2. Write a code to print the data type of each and every element of both the variables list_ and\n",
    "arra_list.\n",
    "\n",
    "\n",
    "    To print the data type of each element in both list_ and array_list, you can use a loop to iterate through the elements and apply the type() function to each element. Here's the code:"
   ]
  },
  {
   "cell_type": "code",
   "execution_count": 2,
   "id": "97a66304-0661-40b1-813f-04e4e8c4164d",
   "metadata": {},
   "outputs": [
    {
     "name": "stdout",
     "output_type": "stream",
     "text": [
      "Data types of elements in list_:\n",
      "<class 'str'>\n",
      "<class 'str'>\n",
      "<class 'str'>\n",
      "<class 'str'>\n",
      "<class 'str'>\n",
      "\n",
      "Data types of elements in array_list:\n",
      "<class 'numpy.str_'>\n",
      "<class 'numpy.str_'>\n",
      "<class 'numpy.str_'>\n",
      "<class 'numpy.str_'>\n",
      "<class 'numpy.str_'>\n"
     ]
    }
   ],
   "source": [
    "import numpy as np\n",
    "\n",
    "list_ = ['1', '2', '3', '4', '5']\n",
    "array_list = np.array(list_)\n",
    "\n",
    "# Print data type of each element in list_\n",
    "print(\"Data types of elements in list_:\")\n",
    "for element in list_:\n",
    "    print(type(element))\n",
    "\n",
    "# Print data type of each element in array_list\n",
    "print(\"\\nData types of elements in array_list:\")\n",
    "for element in array_list:\n",
    "    print(type(element))\n"
   ]
  },
  {
   "cell_type": "markdown",
   "id": "cb2f09fa-f11c-4654-9d8e-8577357f7b5d",
   "metadata": {},
   "source": [
    "    This code iterates through each element of 'list_' and 'array_list', and then prints the data type of each element using the 'type()' function. In 'list_', all elements are of type str. In 'array_list', the elements are of type numpy.'str_', which is the NumPy string data type."
   ]
  },
  {
   "cell_type": "markdown",
   "id": "76dfc66d-4fe3-4f77-b7b2-9348c1f56547",
   "metadata": {},
   "source": [
    "## Q3\n",
    "Consider the below code to answer further questions:\n",
    "import numpy as np\n",
    "list_ = [ ‘1’ , ’2’ , ‘3’ , ‘4’ , ‘5’ ]\n",
    "array_list = np.array(object = list_)\n",
    "\n",
    "\n",
    " Q3. Considering the following changes in the variable, array_list:\n",
    "array_list = np.array(object = list_, dtype = int)\n",
    "Will there be any difference in the data type of the elements present in both the variables, list_ and\n",
    "arra_list? If so then print the data types of each and every element present in both the variables, list_\n",
    "and arra_list.\n",
    "\n",
    "\n",
    "    Yes, there will be a difference in the data type of the elements present in list_ and array_list when you change the data type to int during array creation.\n",
    "\n",
    "    Here's the modified code to print the data types of each element in both list_ and array_list after changing the data type of array_list to int:"
   ]
  },
  {
   "cell_type": "code",
   "execution_count": 3,
   "id": "a8a1b625-e072-4d64-a275-b95dacac5cff",
   "metadata": {},
   "outputs": [
    {
     "name": "stdout",
     "output_type": "stream",
     "text": [
      "Data types of elements in list_:\n",
      "<class 'str'>\n",
      "<class 'str'>\n",
      "<class 'str'>\n",
      "<class 'str'>\n",
      "<class 'str'>\n",
      "\n",
      "Data types of elements in array_list:\n",
      "<class 'numpy.int64'>\n",
      "<class 'numpy.int64'>\n",
      "<class 'numpy.int64'>\n",
      "<class 'numpy.int64'>\n",
      "<class 'numpy.int64'>\n"
     ]
    }
   ],
   "source": [
    "import numpy as np\n",
    "\n",
    "list_ = ['1', '2', '3', '4', '5']\n",
    "array_list = np.array(list_, dtype=int)\n",
    "\n",
    "# Print data types of elements in list_\n",
    "print(\"Data types of elements in list_:\")\n",
    "for element in list_:\n",
    "    print(type(element))\n",
    "\n",
    "# Print data types of elements in array_list\n",
    "print(\"\\nData types of elements in array_list:\")\n",
    "for element in array_list:\n",
    "    print(type(element))\n"
   ]
  },
  {
   "cell_type": "markdown",
   "id": "f88d0e26-2ef0-4f14-adb4-3d4f154cbff4",
   "metadata": {},
   "source": [
    "    In the modified code, dtype=int is used while creating 'array_list', which converts the elements to the int data type. As a result, the elements in 'array_list' are now of type numpy.int64. Meanwhile, the elements in 'list_ remain'as type str"
   ]
  },
  {
   "cell_type": "markdown",
   "id": "9b044dcc-1cd7-412d-92b6-4f6674b4d5b0",
   "metadata": {},
   "source": [
    "## Q4\n",
    "Consider the below code to answer further questions:\n",
    "import numpy as np\n",
    "num_list = [ [ 1 , 2 , 3 ] , [ 4 , 5 , 6 ] ]\n",
    "num_array = np.array(object = num_list)\n",
    "\n",
    "\n",
    "Q4. Write a code to find the following characteristics of variable, num_array:\n",
    "(i) shape\n",
    "(ii) size\n",
    "\n",
    "\n",
    "    To find the characteristics of the num_array variable, such as shape and size, you can use the following code:"
   ]
  },
  {
   "cell_type": "code",
   "execution_count": 4,
   "id": "9fde3459-ebcf-408f-8083-2866bf8481c3",
   "metadata": {},
   "outputs": [
    {
     "name": "stdout",
     "output_type": "stream",
     "text": [
      "Shape of num_array: (2, 3)\n",
      "Size of num_array: 6\n"
     ]
    }
   ],
   "source": [
    "import numpy as np\n",
    "\n",
    "num_list = [[1, 2, 3], [4, 5, 6]]\n",
    "num_array = np.array(num_list)\n",
    "\n",
    "# (i) Shape of num_array\n",
    "print(\"Shape of num_array:\", num_array.shape)\n",
    "\n",
    "# (ii) Size of num_array\n",
    "print(\"Size of num_array:\", num_array.size)\n"
   ]
  },
  {
   "cell_type": "markdown",
   "id": "eeddb38c-cbd3-4042-a3c7-e5a675853c3b",
   "metadata": {},
   "source": [
    " In the code above:\n",
    "\n",
    "    (i) The shape of num_array is obtained using the shape attribute, which returns a tuple representing the dimensions of the array. In this case, the shape is (2, 3), indicating that num_array has 2 rows and 3 columns.\n",
    "    \n",
    "    (ii) The size of num_array is obtained using the size attribute, which returns the total number of elements in the array. In this case, the size is 6, indicating that num_array contains 6 elements in total."
   ]
  },
  {
   "cell_type": "markdown",
   "id": "ad5a312c-5f23-48f1-8688-8f51bcd92d78",
   "metadata": {},
   "source": [
    "## Q5\n",
    "Consider the below code to answer further questions:\n",
    "import numpy as np\n",
    "num_list = [ [ 1 , 2 , 3 ] , [ 4 , 5 , 6 ] ]\n",
    "num_array = np.array(object = num_list)\n",
    "\n",
    "\n",
    "Q5. Write a code to create numpy array of 3*3 matrix containing zeros only, using a numpy array creation function.\n",
    "[Hint: The size of the array will be 9 and the shape will be (3,3).]\n",
    "\n",
    "\n",
    "    You can create a numpy array of a 3x3 matrix containing zeros only using the np.zeros() function, which takes a shape tuple as input. Here's the code to do so:"
   ]
  },
  {
   "cell_type": "code",
   "execution_count": 5,
   "id": "98abfdab-672c-4927-91bf-bae448ac346b",
   "metadata": {},
   "outputs": [
    {
     "name": "stdout",
     "output_type": "stream",
     "text": [
      "Zeros array:\n",
      " [[0. 0. 0.]\n",
      " [0. 0. 0.]\n",
      " [0. 0. 0.]]\n"
     ]
    }
   ],
   "source": [
    "import numpy as np\n",
    "\n",
    "zeros_array = np.zeros((3, 3))\n",
    "\n",
    "print(\"Zeros array:\\n\", zeros_array)\n"
   ]
  },
  {
   "cell_type": "markdown",
   "id": "89d0ad77-2315-4b7e-bd9a-e1e8764004c5",
   "metadata": {},
   "source": [
    "     In the code above, np.zeros((3, 3)) creates a numpy array of shape (3, 3) with all elements initialized to 0. This array is then assigned to the variable zeros_array. Finally, the contents of zeros_array are printed using print().\n",
    "\n",
    "\n",
    "\n",
    "\n"
   ]
  },
  {
   "cell_type": "markdown",
   "id": "13c3f043-6f0c-438d-bff3-e0344b0e50f6",
   "metadata": {},
   "source": [
    "## Q6\n",
    "Consider the below code to answer further questions:\n",
    "import numpy as np\n",
    "num_list = [ [ 1 , 2 , 3 ] , [ 4 , 5 , 6 ] ]\n",
    "num_array = np.array(object = num_list) \n",
    "\n",
    "\n",
    "Q6. Create an identity matrix of shape (5,5) using numpy functions?\n",
    "[Hint: An identity matrix is a matrix containing 1 diagonally and other elements will be 0.]\n",
    "\n",
    "     You can create an identity matrix of shape (5, 5) using the np.identity() function in NumPy. Here's the code to create the identity matrix:"
   ]
  },
  {
   "cell_type": "code",
   "execution_count": 6,
   "id": "ccc8d8c5-e5c7-436c-957b-ae8e3d541474",
   "metadata": {},
   "outputs": [
    {
     "name": "stdout",
     "output_type": "stream",
     "text": [
      "Identity matrix:\n",
      " [[1. 0. 0. 0. 0.]\n",
      " [0. 1. 0. 0. 0.]\n",
      " [0. 0. 1. 0. 0.]\n",
      " [0. 0. 0. 1. 0.]\n",
      " [0. 0. 0. 0. 1.]]\n"
     ]
    }
   ],
   "source": [
    "import numpy as np\n",
    "\n",
    "identity_matrix = np.identity(5)\n",
    "\n",
    "print(\"Identity matrix:\\n\", identity_matrix)\n"
   ]
  },
  {
   "cell_type": "markdown",
   "id": "2b8eb62c-259e-45ea-a627-c80e2f99bd93",
   "metadata": {},
   "source": [
    "    In the code above, np.identity(5) creates a 5x5 identity matrix where the diagonal elements are 1 and all other elements are 0. This identity matrix is then assigned to the variable identity_matrix. Finally, the content of identity_matrix is printed using print()."
   ]
  },
  {
   "cell_type": "code",
   "execution_count": null,
   "id": "5d670349-3984-4a66-9ffa-bccbff27073a",
   "metadata": {},
   "outputs": [],
   "source": []
  }
 ],
 "metadata": {
  "kernelspec": {
   "display_name": "Python 3 (ipykernel)",
   "language": "python",
   "name": "python3"
  },
  "language_info": {
   "codemirror_mode": {
    "name": "ipython",
    "version": 3
   },
   "file_extension": ".py",
   "mimetype": "text/x-python",
   "name": "python",
   "nbconvert_exporter": "python",
   "pygments_lexer": "ipython3",
   "version": "3.10.8"
  }
 },
 "nbformat": 4,
 "nbformat_minor": 5
}
