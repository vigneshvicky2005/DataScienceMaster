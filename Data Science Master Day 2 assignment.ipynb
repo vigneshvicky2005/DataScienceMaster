{
 "cells": [
  {
   "cell_type": "markdown",
   "id": "cc7f3beb-789a-4aa9-aefa-676a21fb61d9",
   "metadata": {},
   "source": [
    "# Pwskills"
   ]
  },
  {
   "cell_type": "markdown",
   "id": "3060dd42-1d91-448f-ac25-d0482de44aea",
   "metadata": {},
   "source": [
    "## Data Science Masters\n",
    "\n",
    "### Python Assignment\n",
    "\n"
   ]
  },
  {
   "cell_type": "markdown",
   "id": "20d65936-d339-4d73-a49c-486a7afe06b2",
   "metadata": {},
   "source": [
    "\n",
    "### Q1\n",
    "\n",
    "Q1. which keyboard is used to create a function? Create a function to return a list of odd numers in the range of 1 to 25.\n",
    "\n",
    "\n",
    "       The keyword used to creat a function in python is `def`.Here's an example of a function that returns a list of odd numbers in the range of 1 to 25:"
   ]
  },
  {
   "cell_type": "code",
   "execution_count": 2,
   "id": "8ad4c6e0-dd5a-4518-8478-8f18dc706750",
   "metadata": {},
   "outputs": [],
   "source": [
    "def onumdd_bers():\n",
    "    return[i for i in range(1, 26) if i % 2 != 0]"
   ]
  },
  {
   "cell_type": "markdown",
   "id": "59da68e9-3a6b-46a0-b234-6132b26ece8c",
   "metadata": {},
   "source": [
    "        In this function,we first use a list comprehension to generate a list of numbers from 1 to 25 that are not divisible by 2.We then return this list uing `return` keyword.\n",
    "        \n",
    "        You can call this function simply by typing `odd_numbers()` in your python code,and it will return the list `[1, 3, 5, 7, 9, 11, 13, 15, 17, 19, 21, 23, 25]`. "
   ]
  },
  {
   "cell_type": "markdown",
   "id": "3e4db406-40fa-4ef9-92be-b8fcd422274d",
   "metadata": {},
   "source": [
    "\n",
    "## Q2\n",
    "\n",
    "Q2. Why *args and **kwargs is used in some functions? Create a function each for *args and **kwargs to\n",
    "demonstrate their use.\n",
    "         \n",
    "         `*args` and `**kwargs` are used in some functions to allow for a flexible number of arguments to be passed in.\n",
    "         \n",
    "            Here's a short example for `*args`:\n"
   ]
  },
  {
   "cell_type": "code",
   "execution_count": 3,
   "id": "0d831dcb-4c19-4c17-871e-45c5d896ba0e",
   "metadata": {},
   "outputs": [],
   "source": [
    "def sum_all(*args):\n",
    "    total = 0\n",
    "    for num in args:\n",
    "        total += num\n",
    "    return total"
   ]
  },
  {
   "cell_type": "markdown",
   "id": "b8c469ba-1ebd-4a89-beed-bd3fd5a1d3a6",
   "metadata": {},
   "source": [
    "            This function takes any number of arguments and adds them together.\n",
    "\n",
    "                Here's a short example for `**kwargs`:"
   ]
  },
  {
   "cell_type": "code",
   "execution_count": 4,
   "id": "a918ab29-0024-4ad6-bf7a-2d82730d7d30",
   "metadata": {},
   "outputs": [],
   "source": [
    "def print_info(**kwargs):\n",
    "    for key, value in kwargs.items():\n",
    "        print(f\"{key}: {value}\")"
   ]
  },
  {
   "cell_type": "markdown",
   "id": "6d91e533-d02b-4b13-9701-632a6b85039f",
   "metadata": {},
   "source": [
    "            This function takes any number of keyword arguments and prints out their keys and values.\n",
    "\n",
    "             You can call these functions like this:"
   ]
  },
  {
   "cell_type": "code",
   "execution_count": 5,
   "id": "f7d7f0d1-0074-4ec1-a40e-fd02a7e3717a",
   "metadata": {},
   "outputs": [
    {
     "name": "stdout",
     "output_type": "stream",
     "text": [
      "6\n",
      "name: John\n",
      "age: 30\n",
      "location: New York\n"
     ]
    }
   ],
   "source": [
    "print(sum_all(1, 2, 3))\n",
    "print_info(name=\"John\", age=30, location=\"New York\")"
   ]
  },
  {
   "cell_type": "markdown",
   "id": "3882406d-6c31-4f66-8675-7092519afa2b",
   "metadata": {},
   "source": [
    "         In both cases, you can pass in any number of arguments or keyword arguments and the function will handle them correctly.\n"
   ]
  },
  {
   "cell_type": "markdown",
   "id": "aea77c4e-cab3-42f8-8b63-9ea8d0bc77fd",
   "metadata": {},
   "source": [
    "## Q3\n",
    "\n",
    "Q3. What is an iterator in python? Name the method used to initialise the iterator object and the method\n",
    "used for iteration. Use these methods to print the first five elements of the given list [2, 4, 6, 8, 10, 12, 14, 16,\n",
    "18, 20].\n",
    "\n",
    "\n",
    "          An iterator in Python is an object that allows you to iterate (i.e., loop) over a collection of elements. It provides a way to access the elements of a collection one at a time, without having to know the details of how the collection is implemented.\n",
    "          \n",
    "          In Python, an iterator is an object that implements the iterator protocol, which requires two methods:`__iter__()` and` __next__()`. The `__iter__()` method is used to initialize the iterator object, and the `__next__()` method is used to retrieve the next element in the collection.\n",
    "          \n",
    "          Here's an example of how to use an iterator to print the first five elements of the list `[2, 4, 6, 8, 10, 12, 14, 16, 18, 20]`:\n",
    "        \n",
    "        "
   ]
  },
  {
   "cell_type": "code",
   "execution_count": 7,
   "id": "92eaae7f-6da3-4456-b423-9074d01268f8",
   "metadata": {},
   "outputs": [
    {
     "name": "stdout",
     "output_type": "stream",
     "text": [
      "2\n",
      "4\n",
      "6\n",
      "8\n",
      "10\n"
     ]
    }
   ],
   "source": [
    "my_list = [2, 4, 6, 8, 10, 12, 14, 16, 18, 20]\n",
    "\n",
    "# Initialize the iterator object using the iter() method\n",
    "my_iter = iter(my_list)\n",
    "\n",
    "# Iterate over the first five elements using the next() method\n",
    "for i in range(5):\n",
    "    print(next(my_iter))"
   ]
  },
  {
   "cell_type": "markdown",
   "id": "e3548542-6141-42aa-ac89-480eddd32f3f",
   "metadata": {},
   "source": [
    "            In this code, we first initialize the iterator object using the `iter()` method, which takes the list `my_list` as an argument. We then use the` next()` method inside a for loop to print the first five elements of the list. Each time we call` next(my_iter)`, it returns the next element in the list, until we have printed the first five elements `[2, 4, 6, 8, 10]`."
   ]
  },
  {
   "cell_type": "markdown",
   "id": "621f81b4-dcf0-46d7-873b-8001931743df",
   "metadata": {},
   "source": [
    "## Q4\n",
    "\n",
    "\n",
    "Q4. What is a generator function in python? Why yield keyword is used? Give an example of a generator\n",
    "function.\n",
    "\n",
    "\n",
    "              In Python, a generator function is a special kind of function that allows us to define an iterator in a simpler way. A generator function is defined using the keyword `yield` instead of `return`. When a generator function is called, it returns a generator object that can be iterated over using a `for loop`, or by using the `next()` function.\n",
    "\n",
    "              The `yield` keyword is used in a generator function to specify what values should be generated by the generator object. When the `yield` keyword is encountered, the function's state is saved, and the value specified by `yield` is returned to the caller. The next time the function is called, it resumes execution from where it left off, and generates the next value.\n",
    "              \n",
    "              Here's an example of a generator function that generates a sequence of Fibonacci numbers:"
   ]
  },
  {
   "cell_type": "code",
   "execution_count": 8,
   "id": "b2ab61b2-1aa0-4a5a-8659-f60559c44474",
   "metadata": {},
   "outputs": [],
   "source": [
    "def fibonacci(n):\n",
    "    a, b = 0, 1\n",
    "    for i in range(n):\n",
    "        yield a\n",
    "        a, b = b, a + b"
   ]
  },
  {
   "cell_type": "markdown",
   "id": "9daf2faa-3061-44c4-ab52-3cb720d7d24e",
   "metadata": {},
   "source": [
    "               In the example above,` fibonacci()` is a generator function that takes an argument `n ` and generates a sequence of Fibonacci numbers up to `n`. The` yield` keyword is used to generate each number in the sequence, and the `for` loop is used to iterate over the sequence. Here's an example of how we can use this generator function:"
   ]
  },
  {
   "cell_type": "code",
   "execution_count": 9,
   "id": "cdace681-5828-44be-a242-6f34cfb5614d",
   "metadata": {},
   "outputs": [
    {
     "name": "stdout",
     "output_type": "stream",
     "text": [
      "0\n",
      "1\n",
      "1\n",
      "2\n",
      "3\n",
      "5\n",
      "8\n",
      "13\n",
      "21\n",
      "34\n"
     ]
    }
   ],
   "source": [
    "for num in fibonacci(10):\n",
    "    print(num)"
   ]
  },
  {
   "cell_type": "markdown",
   "id": "0f6393c4-c330-4aee-8a66-929502bd927d",
   "metadata": {},
   "source": [
    "This will output the first 10 Fibonacci numbers:\n",
    "    0\n",
    "    1\n",
    "    2\n",
    "    3\n",
    "    5\n",
    "    8\n",
    "    13\n",
    "    21\n",
    "    34"
   ]
  },
  {
   "cell_type": "markdown",
   "id": "149034e1-56a5-4018-9075-5d95d28ea4d6",
   "metadata": {},
   "source": [
    "## Q5\n",
    "\n",
    "Q5. Create a generator function for prime numbers less than 1000. Use the next() method to print the\n",
    "first 20 prime numbers.\n",
    "\n",
    "         \n",
    "         Sure, here's an example of a generator function that generates prime numbers less than 1000:"
   ]
  },
  {
   "cell_type": "code",
   "execution_count": 10,
   "id": "e138a7ca-72d1-4fa0-b1b8-ced5afb556c9",
   "metadata": {},
   "outputs": [],
   "source": [
    "def primes():\n",
    "    num = 2\n",
    "    while num < 1000:\n",
    "        if all(num % i != 0 for i in range(2, int(num ** 0.5) + 1)):\n",
    "            yield num\n",
    "        num += 1"
   ]
  },
  {
   "cell_type": "markdown",
   "id": "11563cb0-fb4b-41c2-aac3-99fb1f2ad190",
   "metadata": {},
   "source": [
    "          n the primes() function, we use a while loop to generate numbers from 2 to 999, and for each number, we use a generator expression and the all() function to check if it's a prime number. If it is, we use the yield keyword to generate the number.\n",
    "\n",
    "    To print the first 20 prime numbers, we can use the next() function in a for loop:\n"
   ]
  },
  {
   "cell_type": "code",
   "execution_count": 12,
   "id": "e9672d7c-15f3-40da-995a-59dc2a6c047a",
   "metadata": {},
   "outputs": [
    {
     "name": "stdout",
     "output_type": "stream",
     "text": [
      "2\n",
      "3\n",
      "5\n",
      "7\n",
      "11\n",
      "13\n",
      "17\n",
      "19\n",
      "23\n",
      "29\n",
      "31\n",
      "37\n",
      "41\n",
      "43\n",
      "47\n",
      "53\n",
      "59\n",
      "61\n",
      "67\n",
      "71\n"
     ]
    }
   ],
   "source": [
    "primes_generator = primes()\n",
    "\n",
    "for i in range(20):\n",
    "    print(next(primes_generator))\n",
    "    ##output"
   ]
  },
  {
   "cell_type": "code",
   "execution_count": null,
   "id": "2eaff9f7-aac0-4ccc-addb-04684b1a54a0",
   "metadata": {},
   "outputs": [],
   "source": []
  }
 ],
 "metadata": {
  "kernelspec": {
   "display_name": "Python 3 (ipykernel)",
   "language": "python",
   "name": "python3"
  },
  "language_info": {
   "codemirror_mode": {
    "name": "ipython",
    "version": 3
   },
   "file_extension": ".py",
   "mimetype": "text/x-python",
   "name": "python",
   "nbconvert_exporter": "python",
   "pygments_lexer": "ipython3",
   "version": "3.10.8"
  }
 },
 "nbformat": 4,
 "nbformat_minor": 5
}
