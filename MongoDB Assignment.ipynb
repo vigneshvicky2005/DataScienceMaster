{
 "cells": [
  {
   "cell_type": "markdown",
   "id": "1ba91964-23fc-4f5c-b879-26319df40266",
   "metadata": {},
   "source": [
    "# Pwskills"
   ]
  },
  {
   "cell_type": "markdown",
   "id": "44446d4c-d5b2-4c89-a092-a75ca66aa454",
   "metadata": {},
   "source": [
    "## Data Science Master"
   ]
  },
  {
   "cell_type": "markdown",
   "id": "65289e8d-e8b8-4165-bff7-bab0c788b314",
   "metadata": {},
   "source": [
    "### Python Assignment"
   ]
  },
  {
   "cell_type": "markdown",
   "id": "b2c54123-2c0f-4062-a392-064c1f7b1b6c",
   "metadata": {},
   "source": [
    "## Q1\n",
    "\n",
    "Q1. What is MongoDB? Explain non-relational databases in short. In which scenarios it is preferred to use MongoDB over SQL databases?\n",
    "\n",
    "     MongoDB is a popular NoSQL database that uses a document-oriented data model. It stores data in flexible, semi-structured documents that can vary in structure from record to record, unlike SQL databases that require a fixed table schema. MongoDB uses a JSON-like format to store data, which makes it easy to work with for developers.\n",
    "\n",
    "     Non-relational databases, also known as NoSQL databases, are databases that do not use the traditional SQL language for querying and organizing data. They use a variety of data models, including document-oriented, key-value, graph, and column-family models, to store and access data. NoSQL databases are generally more scalable and better suited for handling large and unstructured data sets than traditional SQL databases.\n",
    "\n",
    "     MongoDB is often preferred over SQL databases in scenarios where the data is semi-structured or unstructured, such as with web applications that store user-generated content or with data that is constantly changing. It is also preferred in scenarios that require high availability, scalability, and performance. For example, MongoDB is commonly used in big data and real-time analytics applications because of its ability to handle large amounts of data and support for distributed systems. Additionally, MongoDB can be easier and faster to set up and use for developers than traditional SQL databases, as it does not require a fixed schema and allows for more flexible data modeling."
   ]
  },
  {
   "cell_type": "markdown",
   "id": "d926b2a0-9dab-4e48-8152-7d09103e64a0",
   "metadata": {},
   "source": [
    "## Q2\n",
    "\n",
    "Q2. State and Explain the features of MongoDB.\n",
    "\n",
    "     MongoDB has a number of features that make it a popular choice for modern database applications. Here are some of the key features of MongoDB:\n",
    "\n",
    "     1.Document-oriented data model: MongoDB stores data in a flexible, document-oriented data model, which allows for easy and dynamic schema evolution. Each document can have its own unique structure, and you can nest documents and arrays within one another for hierarchical representation of data.\n",
    "\n",
    "     2.Indexing: MongoDB provides a rich set of indexing options to support fast querying and sorting of data. Indexes can be created on any field in a document, including arrays and sub-documents.\n",
    "\n",
    "     3.Aggregation: MongoDB provides powerful aggregation and data processing capabilities, allowing you to perform complex data analysis and transformation operations using a variety of built-in functions and operators.\n",
    "\n",
    "     4.Automatic sharding: MongoDB can automatically shard (partition) data across multiple servers in a cluster, providing high availability, scalability, and fault tolerance.\n",
    "\n",
    "     5.Replication: MongoDB supports automatic replication of data across multiple nodes, providing high availability and fault tolerance in case of server failure.\n",
    "\n",
    "     6.GridFS: MongoDB includes a powerful GridFS file storage system that allows you to store and manage large files (such as images, videos, and audio) directly within the database.\n",
    "\n",
    "     7.Flexible queries: MongoDB provides a powerful query language that supports ad-hoc queries, full-text search, and geospatial queries.\n",
    "\n",
    "     8.Support for multiple programming languages: MongoDB provides drivers and APIs for a wide variety of programming languages, including Java, Python, Ruby, and Node.js, making it easy to integrate with your preferred development stack.\n",
    "\n",
    "       Overall, MongoDB's flexible data model, powerful indexing and aggregation features, automatic sharding and replication, and support for multiple programming languages make it a powerful and popular choice for modern database applications."
   ]
  },
  {
   "cell_type": "markdown",
   "id": "bb3ee538-f4d7-478c-a287-fad4f6391b71",
   "metadata": {},
   "source": [
    "## Q3\n",
    "\n",
    "Q3. Write a code to connect MongoDB to Python. Also, create a database and a collection in MongoDB.\n",
    "\n",
    "     Certainly! Here is an example Python code to connect to MongoDB, create a database, and create a collection within that database:"
   ]
  },
  {
   "cell_type": "code",
   "execution_count": null,
   "id": "7323b04f-8f28-4e84-8750-c5b11fdb0e8e",
   "metadata": {},
   "outputs": [],
   "source": [
    "# Import the necessary modules\n",
    "from pymongo import MongoClient\n",
    "\n",
    "# Connect to the MongoDB server running on localhost\n",
    "client = MongoClient()\n",
    "\n",
    "# Create a new database called 'mydatabase'\n",
    "mydatabase = client['mydatabase']\n",
    "\n",
    "# Create a new collection called 'mycollection' within the 'mydatabase' database\n",
    "mycollection = mydatabase['mycollection']\n"
   ]
  },
  {
   "cell_type": "markdown",
   "id": "b97cd570-8f3d-47f1-9b39-b0d57591eeca",
   "metadata": {},
   "source": [
    "      In this example, we first import the 'MongoClient' module from the 'pymongo' package. Then, we create a new 'MongoClient' object and connect to the MongoDB server running on the default host ('localhost') and port ('27017').\n",
    "\n",
    "     Next, we create a new database called 'mydatabase' by simply calling 'client['mydatabase']'. If the database already exists, this will return a reference to that database. Otherwise, MongoDB will create a new database with the specified name.\n",
    "\n",
    "     Finally, we create a new collection called mycollection within the mydatabase database by calling mydatabase['mycollection']. If the collection already exists, this will return a reference to that collection. Otherwise, MongoDB will create a new collection with the specified name.\n",
    "\n",
    "     Of course, you will need to have MongoDB installed and running on your system in order to connect to it using this code. Additionally, you may need to provide additional arguments to the MongoClient constructor to specify the host, port, and other connection parameters depending on your MongoDB setup."
   ]
  },
  {
   "cell_type": "markdown",
   "id": "177f2fa7-9b86-4ee1-8d04-ac7466cec55e",
   "metadata": {},
   "source": [
    "## Q4\n",
    "\n",
    "Q4. Using the database and the collection created in question number 3, write a code to insert one record, and insert many records. Use the find() and find_one() methods to print the inserted record\n",
    "\n",
    "    Certainly! Here is an example Python code that uses the database and collection created in Q3 to insert one record and many records, and then uses the 'find()' and' find_one()' methods to retrieve the inserted records:"
   ]
  },
  {
   "cell_type": "code",
   "execution_count": null,
   "id": "1c3e82dc-13a1-440c-94fb-b6382be2014d",
   "metadata": {},
   "outputs": [],
   "source": [
    "from pymongo import MongoClient\n",
    "\n",
    "# Connect to the MongoDB server running on localhost\n",
    "client = MongoClient()\n",
    "\n",
    "# Create a new database called 'mydatabase'\n",
    "mydatabase = client['mydatabase']\n",
    "\n",
    "# Create a new collection called 'mycollection' within the 'mydatabase' database\n",
    "mycollection = mydatabase['mycollection']\n",
    "\n",
    "# Insert a single document into the 'mycollection' collection\n",
    "doc1 = {\"name\": \"John\", \"age\": 30, \"city\": \"New York\"}\n",
    "mycollection.insert_one(doc1)\n",
    "\n",
    "# Insert multiple documents into the 'mycollection' collection\n",
    "docs = [{\"name\": \"Alice\", \"age\": 25, \"city\": \"San Francisco\"},\n",
    "        {\"name\": \"Bob\", \"age\": 35, \"city\": \"Boston\"},\n",
    "        {\"name\": \"Charlie\", \"age\": 40, \"city\": \"Chicago\"}]\n",
    "mycollection.insert_many(docs)\n",
    "\n",
    "# Print the inserted records using the find() and find_one() methods\n",
    "print(\"All records:\")\n",
    "for doc in mycollection.find():\n",
    "    print(doc)\n",
    "\n",
    "print(\"One record:\")\n",
    "print(mycollection.find_one({\"name\": \"John\"}))\n"
   ]
  },
  {
   "cell_type": "markdown",
   "id": "abb1918b-c4d4-47ac-8616-2d2b50886e75",
   "metadata": {},
   "source": [
    "    In this example, we first connect to the MongoDB server and create the mydatabase database and mycollection collection, just as we did in Q3.\n",
    "\n",
    "    Next, we insert a single document into the collection using the 'nsert_one()' method, and we insert multiple documents into the collection using the 'insert_many()' method.\n",
    "\n",
    "    Finally, we use the 'find()' method to retrieve all documents in the collection and print them to the console, and we use the 'find_one()' method to   retrieve a single document with a matching name field and print it to the console.\n",
    "\n",
    "    Note that the 'find() 'method returns a cursor object, which can be used to iterate over all matching documents in the collection. The' find_one()' method returns a single document that matches the specified query, or None if no matching documents are found."
   ]
  },
  {
   "cell_type": "markdown",
   "id": "2eadae49-f156-45c0-a96e-1b878145833f",
   "metadata": {},
   "source": [
    "## Q5\n",
    "\n",
    "Q5. Explain how you can use the find() method to query the MongoDB database. Write a simple code to demonstrate this.\n",
    "\n",
    "\n",
    "     The 'find()' method in MongoDB is used to query the database and retrieve documents from a collection that match a specified set of criteria. You can use the 'find()' method to retrieve all documents in a collection, or to retrieve a subset of documents based on specific criteria such as field values or conditions.\n",
    "\n",
    "     Here's an example Python code that demonstrates how to use the 'find()' method to query a MongoDB database:"
   ]
  },
  {
   "cell_type": "code",
   "execution_count": null,
   "id": "128d60a7-72c3-41c3-8d7a-4096da805435",
   "metadata": {},
   "outputs": [],
   "source": [
    "# Import the necessary modules\n",
    "from pymongo import MongoClient\n",
    "\n",
    "# Connect to the MongoDB server running on localhost\n",
    "client = MongoClient()\n",
    "\n",
    "# Create a new database called 'mydatabase'\n",
    "mydatabase = client['mydatabase']\n",
    "\n",
    "# Create a new collection called 'mycollection' within the 'mydatabase' database\n",
    "mycollection = mydatabase['mycollection']\n",
    "\n",
    "# Insert some sample data into the collection\n",
    "mycollection.insert_many([\n",
    "    {\"name\": \"Alice\", \"age\": 25, \"city\": \"San Francisco\"},\n",
    "    {\"name\": \"Bob\", \"age\": 35, \"city\": \"Boston\"},\n",
    "    {\"name\": \"Charlie\", \"age\": 40, \"city\": \"Chicago\"},\n",
    "    {\"name\": \"David\", \"age\": 30, \"city\": \"New York\"},\n",
    "    {\"name\": \"Eve\", \"age\": 28, \"city\": \"Los Angeles\"}\n",
    "])\n",
    "\n",
    "# Find all documents in the collection\n",
    "for doc in mycollection.find():\n",
    "    print(doc)\n",
    "\n",
    "# Find documents that match a specific query\n",
    "for doc in mycollection.find({\"age\": {\"$gt\": 30}}):\n",
    "    print(doc)\n"
   ]
  },
  {
   "cell_type": "markdown",
   "id": "6c8576d7-ce5d-4c4b-a5fc-9859619bc76d",
   "metadata": {},
   "source": [
    "     In this example, we first create a new database and collection, just as we did in Q3 and Q4. Then, we insert some sample data into the collection using the 'insert_many()' method.\n",
    "\n",
    "     To query the collection, we use the find() method. In the first example, we simply call 'find()' with no arguments to retrieve all documents in the collection, and we use a for loop to print each document to the console.\n",
    "\n",
    "     In the second example, we pass a query object to the 'find()' method to retrieve only documents that match specific criteria. In this case, we're looking for documents where the age field is greater than 30. We use the $gt operator to specify this condition in the query object. Again, we use a for loop to print each matching document to the console.\n",
    "\n",
    "     Note that you can use a wide variety of query operators and conditions to retrieve specific documents from a MongoDB collection using the 'find()' method"
   ]
  },
  {
   "cell_type": "markdown",
   "id": "2ae8bb73-8165-41de-9f90-2356778b22b8",
   "metadata": {},
   "source": [
    "## Q6\n",
    "Q6. Explain the sort() method. Give an example to demonstrate sorting in MongoDB.\n",
    "\n",
    "\n",
    "    The 'sort()' method in MongoDB is used to sort the documents in a collection based on one or more fields. You can use this method to sort the documents in ascending or descending order based on the values in the specified field(s).\n",
    "\n",
    "    The' sort()' method takes a query object as its argument, and you can specify one or more fields to sort by using the field name(s) and a sorting direction (-1 for descending, 1 for ascending). If you don't specify a sorting direction, the default is ascending.\n",
    "\n",
    "     Here's an example code that demonstrates how to use the' sort()' method to sort the documents in a MongoDB collection based on the values in a specified field:"
   ]
  },
  {
   "cell_type": "code",
   "execution_count": null,
   "id": "aae5a882-4978-4134-96c2-31237881dbc7",
   "metadata": {},
   "outputs": [],
   "source": [
    "# Import the necessary modules\n",
    "from pymongo import MongoClient\n",
    "\n",
    "# Connect to the MongoDB server running on localhost\n",
    "client = MongoClient()\n",
    "\n",
    "# Create a new database called 'mydatabase'\n",
    "mydatabase = client['mydatabase']\n",
    "\n",
    "# Create a new collection called 'mycollection' within the 'mydatabase' database\n",
    "mycollection = mydatabase['mycollection']\n",
    "\n",
    "# Insert some sample data into the collection\n",
    "mycollection.insert_many([\n",
    "    {\"name\": \"Alice\", \"age\": 25, \"city\": \"San Francisco\"},\n",
    "    {\"name\": \"Bob\", \"age\": 35, \"city\": \"Boston\"},\n",
    "    {\"name\": \"Charlie\", \"age\": 40, \"city\": \"Chicago\"},\n",
    "    {\"name\": \"David\", \"age\": 30, \"city\": \"New York\"},\n",
    "    {\"name\": \"Eve\", \"age\": 28, \"city\": \"Los Angeles\"}\n",
    "])\n",
    "\n",
    "# Sort documents in the collection based on the age field in descending order\n",
    "for doc in mycollection.find().sort(\"age\", -1):\n",
    "    print(doc)\n"
   ]
  },
  {
   "cell_type": "markdown",
   "id": "82eec90b-dd8a-4dc1-a17a-716dba946f17",
   "metadata": {},
   "source": [
    "     In this example, we first create a new database and collection, just as we did in Q3-Q5. Then, we insert some sample data into the collection using the 'insert_many()' method.\n",
    "\n",
    "    To sort the documents in the collection, we use the 'sort()' method. In this case, we're sorting the documents based on the age field in descending order (-1). We call 'find()' with no arguments to retrieve all documents in the collection, and we pass the sorting criteria as an argument to the 'sort()' method.\n",
    "\n",
    "    Finally, we use a for loop to print each sorted document to the console. Note that the documents are sorted based on the values in the age field, with the oldest document first and the youngest document last."
   ]
  },
  {
   "cell_type": "markdown",
   "id": "6bdd1889-f9c2-428e-9c1b-a603cdfd5b3a",
   "metadata": {},
   "source": [
    "## Q7\n",
    "\n",
    "Q7. Explain why delete_one(), delete_many(), and drop() is used.\n",
    "\n",
    "\n",
    "    In MongoDB, the 'delete_one()' and 'delete_many()' methods are used to delete one or multiple documents that match a specified filter from a collection, respectively. On the other hand, the' drop()' method is used to drop an entire collection.\n",
    "\n",
    "     Here's an explanation of each method:\n",
    "\n",
    "    'delete_one()' - This method is used to delete the first document that matches the specified filter from a collection. If multiple documents match the filter, only the first document will be deleted. This method returns a DeleteResult object, which contains information about the number of documents deleted.\n",
    "\n",
    "     'delete_many()' - This method is used to delete all documents that match the specified filter from a collection. This method returns a DeleteResult object, which contains information about the number of documents deleted.\n",
    "\n",
    "     'drop()' - This method is used to delete an entire collection, including all its documents and indexes. Once a collection is dropped, all data associated with the collection is lost, and the collection can no longer be queried or updated.\n",
    "\n",
    "    These methods are used to manage data in a MongoDB collection. delete_one() and delete_many() are useful when you want to delete specific documents based on a filter, while drop() is useful when you want to delete an entire collection.\n",
    "\n",
    "    It's important to note that these methods are destructive, and you should use them with caution. Always make sure to back up your data before deleting documents or collections to avoid accidental data loss."
   ]
  },
  {
   "cell_type": "code",
   "execution_count": null,
   "id": "8982484d-03cf-4fa3-9c6b-90d75e5fa8b1",
   "metadata": {},
   "outputs": [],
   "source": []
  },
  {
   "cell_type": "code",
   "execution_count": null,
   "id": "cadf215c-ebe8-4071-9ed7-1e0f17298aa2",
   "metadata": {},
   "outputs": [],
   "source": []
  }
 ],
 "metadata": {
  "kernelspec": {
   "display_name": "Python 3 (ipykernel)",
   "language": "python",
   "name": "python3"
  },
  "language_info": {
   "codemirror_mode": {
    "name": "ipython",
    "version": 3
   },
   "file_extension": ".py",
   "mimetype": "text/x-python",
   "name": "python",
   "nbconvert_exporter": "python",
   "pygments_lexer": "ipython3",
   "version": "3.10.8"
  }
 },
 "nbformat": 4,
 "nbformat_minor": 5
}
