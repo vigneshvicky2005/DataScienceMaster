{
 "cells": [
  {
   "cell_type": "markdown",
   "id": "5b33dd2f-aa01-4046-9480-82876142f93a",
   "metadata": {},
   "source": [
    "# Pwskills"
   ]
  },
  {
   "cell_type": "markdown",
   "id": "96de526d-2c11-4969-aff5-f22a0652fd01",
   "metadata": {},
   "source": [
    "## Data Science Master"
   ]
  },
  {
   "cell_type": "markdown",
   "id": "f9579678-66c9-4b6c-83ef-0c2914073565",
   "metadata": {},
   "source": [
    "### Statistics Advance Assignment"
   ]
  },
  {
   "cell_type": "markdown",
   "id": "6f4745a1-e955-4250-abab-1d82cb84503e",
   "metadata": {},
   "source": [
    "## Q1\n",
    "Q1. What is the Probability density function?\n",
    "\n",
    "\n",
    "    The probability density function (PDF) is a concept in probability theory and statistics that describes the probability distribution of a continuous random variable. It provides the likelihood of a random variable taking on a specific value or falling within a certain range of values.\n",
    "\n",
    "    The PDF is typically denoted by the function f(x) and is defined as follows:\n",
    "\n",
    "    For a continuous random variable X, the PDF f(x) gives the derivative of the cumulative distribution function (CDF) F(x) with respect to x:\n",
    "\n",
    "    f(x) = dF(x)/dx\n",
    "\n",
    "    The PDF satisfies the following properties:\n",
    "\n",
    "    Non-negativity: The PDF is non-negative for all values of x: f(x) ≥ 0.\n",
    "\n",
    "    Area under the curve: The area under the PDF curve over the entire range of the random variable is equal to 1:\n",
    "\n",
    "    ∫f(x) dx = 1\n",
    "\n",
    "    This means that the total probability of all possible outcomes is equal to 1.\n",
    "\n",
    "    The PDF provides information about the relative likelihood of different values of a continuous random variable. It allows us to determine the probability of a random variable falling within a specific interval by integrating the PDF over that interval.\n",
    "\n",
    "    It's important to note that the PDF is only applicable to continuous random variables. For discrete random variables, the probability mass function (PMF) is used instead, which assigns probabilities to specific values rather than ranges."
   ]
  },
  {
   "cell_type": "markdown",
   "id": "8a688ee6-60b7-47dd-a1ad-34a2a0ca93cb",
   "metadata": {},
   "source": [
    "## Q2\n",
    "Q2. What are the types of Probability distribution?\n",
    "\n",
    "    There are several types of probability distributions, each with its own characteristics and applications. Here are some of the most common types:\n",
    "\n",
    "   1. Uniform Distribution: In a uniform distribution, all outcomes within a given range have an equal probability. The PDF of a uniform distribution is a constant function over the interval of interest.\n",
    "\n",
    "   2. Normal Distribution (Gaussian Distribution): The normal distribution is a continuous probability distribution that is symmetric and bell-shaped. It is characterized by its mean (μ) and standard deviation (σ). Many natural phenomena and measurement errors follow a normal distribution.\n",
    "\n",
    "   3. Binomial Distribution: The binomial distribution describes the number of successes in a fixed number of independent Bernoulli trials, where each trial has only two possible outcomes (success or failure). It is characterized by two parameters: the number of trials (n) and the probability of success (p) in each trial.\n",
    "\n",
    "   4. Poisson Distribution: The Poisson distribution models the number of events occurring in a fixed interval of time or space when the events are rare and independent of each other. It is often used to describe the occurrence of rare events, such as the number of phone calls received in a call center during a specific time period.\n",
    "\n",
    "   5. Exponential Distribution: The exponential distribution models the time between events in a Poisson process, where events occur continuously and independently at a constant average rate. It is commonly used to model lifetimes, waiting times, and other processes involving continuous positive variables.\n",
    "\n",
    "   6. Gamma Distribution: The gamma distribution is a family of continuous probability distributions that generalizes the exponential distribution. It is often used to model waiting times, failure times, and other positive continuous variables.\n",
    "\n",
    "   7. Beta Distribution: The beta distribution is a continuous probability distribution defined on the interval [0, 1]. It is commonly used as a prior distribution in Bayesian analysis and is flexible in modeling proportions or probabilities.\n",
    "\n",
    "   8. Chi-Squared Distribution: The chi-squared distribution is a continuous probability distribution that arises from summing the squares of independent standard normal random variables. It is widely used in hypothesis testing and confidence interval construction.\n",
    "\n",
    "   9. Student's t-Distribution: The t-distribution is a continuous probability distribution that is similar in shape to the normal distribution but has fatter tails. It is often used for inference on small sample sizes when the population standard deviation is unknown.\n",
    "\n",
    "     These are just a few examples of probability distributions, and there are many more distributions that have specific characteristics and applications in various fields of study."
   ]
  },
  {
   "cell_type": "markdown",
   "id": "f3fc29f9-a219-46ac-8fd3-bf36ea87804d",
   "metadata": {},
   "source": [
    "## Q3\n",
    "Q3. Write a Python function to calculate the probability density function of a normal distribution with\n",
    "given mean and standard deviation at a given point.\n",
    "\n",
    "\n",
    "Certainly! Here's a Python function that calculates the probability density function (PDF) of a normal distribution at a given point, given the mean and standard deviation:"
   ]
  },
  {
   "cell_type": "code",
   "execution_count": 1,
   "id": "f7ca2fd7-3a46-4cc5-9018-e3a0c3c1c551",
   "metadata": {},
   "outputs": [],
   "source": [
    "import math\n",
    "\n",
    "def normal_pdf(x, mean, std_dev):\n",
    "    exponent = -((x - mean) ** 2) / (2 * std_dev ** 2)\n",
    "    coefficient = 1 / (std_dev * math.sqrt(2 * math.pi))\n",
    "    pdf = coefficient * math.exp(exponent)\n",
    "    return pdf\n"
   ]
  },
  {
   "cell_type": "code",
   "execution_count": 2,
   "id": "8e19f88b-6ade-4e96-b592-19f83450ec35",
   "metadata": {},
   "outputs": [
    {
     "name": "stdout",
     "output_type": "stream",
     "text": [
      "0.12951759566589174\n"
     ]
    }
   ],
   "source": [
    "mean = 0\n",
    "std_dev = 1\n",
    "x = 1.5\n",
    "pdf_value = normal_pdf(x, mean, std_dev)\n",
    "print(pdf_value)\n"
   ]
  },
  {
   "cell_type": "markdown",
   "id": "00c203cf-d2fe-4888-a117-93741033033c",
   "metadata": {},
   "source": [
    "## Q4\n",
    "Q4. What are the properties of Binomial distribution? Give two examples of events where binomial\n",
    "distribution can be applied.\n",
    "\n",
    "    The binomial distribution has several properties that distinguish it from other probability distributions. Here are the main properties of the binomial distribution:\n",
    "\n",
    "   1. Fixed Number of Trials: The binomial distribution describes the number of successes in a fixed number of independent trials or experiments.\n",
    "\n",
    "   2. Independent Trials: Each trial or experiment must be independent of the others, meaning that the outcome of one trial does not affect the outcome of another.\n",
    "\n",
    "   3. Two Possible Outcomes: Each trial has only two possible outcomes, often referred to as success and failure. These outcomes are mutually exclusive.\n",
    "\n",
    "   4. Constant Probability of Success: The probability of success (denoted as p) remains constant across all trials.\n",
    "\n",
    "   5. Discrete Probability Distribution: The binomial distribution is a discrete probability distribution, meaning it assigns probabilities to specific values.\n",
    "\n",
    "    The binomial distribution can be applied to various real-world scenarios. Here are two examples:\n",
    "\n",
    "   1. Coin Flips: Consider flipping a fair coin multiple times. Each flip can be considered a binomial trial, with success defined as getting a heads and failure as getting a tails. The binomial distribution can be used to calculate the probability of obtaining a specific number of heads (successes) in a given number of coin flips.\n",
    "\n",
    "   2. Quality Control: In manufacturing processes, quality control often involves inspecting a sample of items and determining the number of defective items. Each item inspected can be considered a binomial trial, with success defined as finding a defective item. The binomial distribution can be used to calculate the probability of finding a certain number of defective items in the sample, given the known defect rate.\n",
    "\n",
    "    In general, any situation involving a fixed number of independent trials with two possible outcomes and a constant probability of success can be modeled using the binomial distribution."
   ]
  },
  {
   "cell_type": "markdown",
   "id": "4dc4b2e7-f248-4c66-a611-fe7e1e22a26a",
   "metadata": {},
   "source": [
    "## Q5\n",
    "Q5. Generate a random sample of size 1000 from a binomial distribution with probability of success 0.4\n",
    "and plot a histogram of the results using matplotlib.\n",
    "\n",
    "Sure! Here's an example of how you can generate a random sample of size 1000 from a binomial distribution with a probability of success of 0.4 and plot a histogram using Matplotlib:"
   ]
  },
  {
   "cell_type": "code",
   "execution_count": 3,
   "id": "f65c2786-7862-4cc4-9322-5ca1b8d6d45e",
   "metadata": {},
   "outputs": [
    {
     "data": {
      "image/png": "[encoded data removed]",
      "text/plain": [
       "<Figure size 640x480 with 1 Axes>"
      ]
     },
     "metadata": {},
     "output_type": "display_data"
    }
   ],
   "source": [
    "import numpy as np\n",
    "import matplotlib.pyplot as plt\n",
    "\n",
    "# Set the parameters\n",
    "n = 1000  # Sample size\n",
    "p = 0.4  # Probability of success\n",
    "\n",
    "# Generate random sample from binomial distribution\n",
    "sample = np.random.binomial(n, p, size=n)\n",
    "\n",
    "# Plot histogram\n",
    "plt.hist(sample, bins=30, edgecolor='black')\n",
    "plt.xlabel('Number of Successes')\n",
    "plt.ylabel('Frequency')\n",
    "plt.title('Binomial Distribution (n=1000, p=0.4)')\n",
    "plt.grid(True)\n",
    "plt.show()\n"
   ]
  },
  {
   "cell_type": "markdown",
   "id": "905a5b73-f0e3-4f6b-9428-847bd9964232",
   "metadata": {},
   "source": [
    "## Q6\n",
    "Q6. Write a Python function to calculate the cumulative distribution function of a Poisson distribution\n",
    "with given mean at a given point.\n",
    "\n",
    "\n",
    "Certainly! Here's a Python function that calculates the cumulative distribution function (CDF) of a Poisson distribution at a given point, given the mean:"
   ]
  },
  {
   "cell_type": "code",
   "execution_count": 4,
   "id": "9bacc4eb-bd0f-4ad9-aed6-1a0801f1272e",
   "metadata": {},
   "outputs": [],
   "source": [
    "import math\n",
    "\n",
    "def poisson_cdf(k, mean):\n",
    "    cdf = 0.0\n",
    "    for i in range(k + 1):\n",
    "        cdf += math.exp(-mean) * (mean ** i) / math.factorial(i)\n",
    "    return cdf\n"
   ]
  },
  {
   "cell_type": "code",
   "execution_count": 5,
   "id": "c332f187-0ccc-4bf8-9874-eda050976e5f",
   "metadata": {},
   "outputs": [
    {
     "name": "stdout",
     "output_type": "stream",
     "text": [
      "0.8911780189141512\n"
     ]
    }
   ],
   "source": [
    "mean = 2.5\n",
    "k = 4\n",
    "cdf_value = poisson_cdf(k, mean)\n",
    "print(cdf_value)\n"
   ]
  },
  {
   "cell_type": "markdown",
   "id": "ddbaf38e-7de5-4e17-973b-5d07756d5b42",
   "metadata": {},
   "source": [
    "## Q7\n",
    "Q7. How Binomial distribution different from Poisson distribution?\n",
    "\n",
    "    The binomial distribution and the Poisson distribution are both probability distributions that are used to model the number of events or successes in certain scenarios. However, they have some key differences. Here are the main differences between the binomial distribution and the Poisson distribution:\n",
    "\n",
    "     Number of Trials: The binomial distribution is defined for a fixed number of independent trials or experiments (n), where each trial can have two possible outcomes (success or failure). In contrast, the Poisson distribution does not have a fixed number of trials but is often used to model the occurrence of rare events over a continuous period of time or space.\n",
    "\n",
    "     Probability of Success: In the binomial distribution, the probability of success (p) is constant across all trials. Each trial has the same probability of success or failure. In the Poisson distribution, the parameter (λ) represents the average rate of events occurring in a given interval. The probability of an event occurring at a specific point in time or space is assumed to be proportional to the length of the interval.\n",
    "\n",
    "     Nature of Events: The binomial distribution is appropriate when the events or trials are discrete and have two possible outcomes (success or failure). The Poisson distribution is often used when the events are rare and independent, and the focus is on the number of events occurring in a continuous interval.\n",
    "\n",
    "     Discrete vs. Continuous: The binomial distribution is a discrete probability distribution, meaning it assigns probabilities to specific values (whole numbers). The Poisson distribution is also a discrete distribution, but it can approximate a continuous distribution when the mean (λ) is large.\n",
    "\n",
    "     Shape and Symmetry: The shape of the binomial distribution depends on the values of n and p. It can be symmetric or skewed, depending on the values of these parameters. The Poisson distribution is a positively skewed distribution, meaning it has a longer tail on the right side.\n",
    "\n",
    "     Assumptions: The binomial distribution assumes that the trials or events are independent and have a constant probability of success. The Poisson distribution assumes that events occur randomly and independently of each other, and the average rate of events is constant over time or space.\n",
    "\n",
    "    In summary, the binomial distribution is used for a fixed number of independent trials with two possible outcomes, while the Poisson distribution is used to model the occurrence of rare events over a continuous period. The binomial distribution focuses on the number of successes in a fixed number of trials, while the Poisson distribution focuses on the number of events occurring in a given interval."
   ]
  },
  {
   "cell_type": "markdown",
   "id": "1c09fe6c-911a-41d4-8c85-427d387acde4",
   "metadata": {},
   "source": [
    "## Q8\n",
    "Q8. Generate a random sample of size 1000 from a Poisson distribution with mean 5 and calculate the\n",
    "sample mean and variance.\n",
    "\n",
    "\n",
    "Certainly! Here's an example of how you can generate a random sample of size 1000 from a Poisson distribution with a mean of 5 and calculate the sample mean and variance using NumPy:"
   ]
  },
  {
   "cell_type": "code",
   "execution_count": 6,
   "id": "564b79d3-966d-4fd7-b9bb-0ec93781c5b1",
   "metadata": {},
   "outputs": [
    {
     "name": "stdout",
     "output_type": "stream",
     "text": [
      "Sample Mean: 5.117\n",
      "Sample Variance: 4.965311\n"
     ]
    }
   ],
   "source": [
    "import numpy as np\n",
    "\n",
    "# Set the parameters\n",
    "sample_size = 1000\n",
    "mean = 5\n",
    "\n",
    "# Generate random sample from Poisson distribution\n",
    "sample = np.random.poisson(mean, size=sample_size)\n",
    "\n",
    "# Calculate sample mean and variance\n",
    "sample_mean = np.mean(sample)\n",
    "sample_variance = np.var(sample)\n",
    "\n",
    "# Print the results\n",
    "print(\"Sample Mean:\", sample_mean)\n",
    "print(\"Sample Variance:\", sample_variance)\n"
   ]
  },
  {
   "cell_type": "markdown",
   "id": "cee557e2-cb72-46bd-8aed-d977fa26f5d8",
   "metadata": {},
   "source": [
    "## Q9\n",
    "Q9. How mean and variance are related in Binomial distribution and Poisson distribution?\n",
    "\n",
    "    In both the binomial distribution and the Poisson distribution, the mean and variance have a relationship, although the nature of the relationship differs between the two distributions.\n",
    "\n",
    "    In the binomial distribution, the mean (μ) and variance (σ²) are related as follows:\n",
    "\n",
    "    Mean: μ = n * p\n",
    "    Variance: σ² = n * p * (1 - p)\n",
    "\n",
    "   Here, n represents the number of trials, and p represents the probability of success in each trial. The mean is the product of the number of trials and the probability of success, while the variance is the product of the number of trials, the probability of success, and the probability of failure (1 - p).\n",
    "\n",
    "    In the Poisson distribution, the mean (λ) and variance (σ²) are also related:\n",
    "\n",
    "    Mean: μ = λ\n",
    "    Variance: σ² = λ\n",
    "\n",
    "     In this case, the mean and variance are equal, and both are represented by the parameter λ, which represents the average rate or intensity of events occurring in a given interval.\n",
    "\n",
    "    Therefore, in the binomial distribution, the variance depends on both the number of trials (n) and the probability of success (p), while in the Poisson distribution, the variance is solely determined by the mean (λ).\n",
    "\n",
    "    Additionally, it's worth noting that as the number of trials (n) in the binomial distribution becomes large, and the probability of success (p) becomes small in such a way that np remains constant, the binomial distribution approximates the Poisson distribution. In this approximation, the mean (μ) and variance (σ²) of the binomial distribution both converge to λ, which is the parameter of the Poisson distribution."
   ]
  },
  {
   "cell_type": "markdown",
   "id": "4c612d67-b208-4e07-8cb8-7e3b4cdb52ea",
   "metadata": {},
   "source": [
    "## Q10\n",
    "Q10. In normal distribution with respect to mean position, where does the least frequent data appear?\n",
    "\n",
    "    In a normal distribution, the least frequent data points appear in the tails of the distribution, far away from the mean. Specifically, the data points that are located at the extreme ends of the distribution, in the tails, occur less frequently compared to the data points closer to the mean.\n",
    "\n",
    "    In a symmetrical normal distribution, the mean is located at the center of the distribution, and the data points become progressively less frequent as they move away from the mean towards the tails. The tails of the distribution represent the more extreme or rare values.\n",
    "\n",
    "    In terms of probability, the least frequent data points in a normal distribution appear in the tails where the probability density is low. The majority of the data points are concentrated around the mean, where the probability density is highest.\n",
    "\n",
    "     It's important to note that the exact position of the least frequent data points in a normal distribution depends on the specific parameters of the distribution, such as the mean and standard deviation. The tails of the distribution become less frequent as they move further away from the mean, following the shape of the bell curve."
   ]
  },
  {
   "cell_type": "code",
   "execution_count": null,
   "id": "bb61f417-e659-48d6-abe5-10f7cec72e9b",
   "metadata": {},
   "outputs": [],
   "source": []
  }
 ],
 "metadata": {
  "kernelspec": {
   "display_name": "Python 3 (ipykernel)",
   "language": "python",
   "name": "python3"
  },
  "language_info": {
   "codemirror_mode": {
    "name": "ipython",
    "version": 3
   },
   "file_extension": ".py",
   "mimetype": "text/x-python",
   "name": "python",
   "nbconvert_exporter": "python",
   "pygments_lexer": "ipython3",
   "version": "3.10.8"
  }
 },
 "nbformat": 4,
 "nbformat_minor": 5
}
