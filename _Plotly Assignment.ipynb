{
 "cells": [
  {
   "cell_type": "markdown",
   "id": "9b18ff0a-bb9d-4c64-9457-f73a61d485bc",
   "metadata": {},
   "source": [
    "# Pwskills"
   ]
  },
  {
   "cell_type": "markdown",
   "id": "168de7f7-cc89-4a70-82ac-51bd989d84c5",
   "metadata": {},
   "source": [
    "## Data Science Master"
   ]
  },
  {
   "cell_type": "markdown",
   "id": "b8086ebe-8208-442c-8d26-657b7e26e9f3",
   "metadata": {},
   "source": [
    "### Plotly Assignment"
   ]
  },
  {
   "cell_type": "markdown",
   "id": "14e76477-aeeb-43b9-bab1-3511d4d0c90e",
   "metadata": {},
   "source": [
    "## Q1\n",
    "Q1. Load the \"titanic\" dataset using the load_dataset function of seaborn. Use Plotly express to plot a\n",
    "scatter plot for age and fare columns in the titanic dataset.\n",
    "\n",
    "    I apologize for the confusion, but the seaborn library does not provide a function called load_dataset to load the Titanic dataset. However, you can load the Titanic dataset using other libraries such as pandas or directly from an online source.\n",
    "\n",
    "    Here's an example of how you can load the Titanic dataset using pandas and plot a scatter plot of the \"age\" and \"fare\" columns using Plotly Express:"
   ]
  },
  {
   "cell_type": "code",
   "execution_count": null,
   "id": "43f24168-874c-4272-92e9-e5615a7b63f6",
   "metadata": {},
   "outputs": [],
   "source": [
    "import pandas as pd\n",
    "import plotly.express as px\n",
    "\n",
    "# Load the Titanic dataset using pandas\n",
    "titanic_df = pd.read_csv('https://raw.githubusercontent.com/datasciencedojo/datasets/master/titanic.csv')\n",
    "\n",
    "# Plot scatter plot using Plotly Express\n",
    "fig = px.scatter(titanic_df, x='age', y='fare')\n",
    "\n",
    "# Show the plot\n",
    "fig.show()\n"
   ]
  },
  {
   "cell_type": "markdown",
   "id": "2769f5bf-cc6d-4ba0-ba68-279015fdef0d",
   "metadata": {},
   "source": [
    "    In this example, we use the read_csv function from pandas to load the Titanic dataset from a CSV file hosted on GitHub. Then, we use Plotly Express (px.scatter) to create a scatter plot with the \"age\" column on the x-axis and the \"fare\" column on the y-axis. Finally, we display the plot using fig.show()."
   ]
  },
  {
   "cell_type": "markdown",
   "id": "a28b0ec8-00a0-4e18-bfd0-fa9511f34ca3",
   "metadata": {},
   "source": [
    "## Q2\n",
    "Q2. Using the tips dataset in the Plotly library, plot a box plot using Plotly express.\n",
    "\n",
    "\n",
    "    Certainly! Here's an example of how you can plot a box plot using the tips dataset in Plotly Express:"
   ]
  },
  {
   "cell_type": "code",
   "execution_count": 3,
   "id": "980eb088-0477-447a-99b3-d6bf9979de6a",
   "metadata": {},
   "outputs": [
    {
     "ename": "ModuleNotFoundError",
     "evalue": "No module named 'plotly'",
     "output_type": "error",
     "traceback": [
      "\u001b[0;31m---------------------------------------------------------------------------\u001b[0m",
      "\u001b[0;31mModuleNotFoundError\u001b[0m                       Traceback (most recent call last)",
      "Cell \u001b[0;32mIn[3], line 1\u001b[0m\n\u001b[0;32m----> 1\u001b[0m \u001b[38;5;28;01mimport\u001b[39;00m \u001b[38;5;21;01mplotly\u001b[39;00m\u001b[38;5;21;01m.\u001b[39;00m\u001b[38;5;21;01mexpress\u001b[39;00m \u001b[38;5;28;01mas\u001b[39;00m \u001b[38;5;21;01mpx\u001b[39;00m\n\u001b[1;32m      3\u001b[0m \u001b[38;5;66;03m# Load the tips dataset from Plotly\u001b[39;00m\n\u001b[1;32m      4\u001b[0m tips_df \u001b[38;5;241m=\u001b[39m px\u001b[38;5;241m.\u001b[39mdata\u001b[38;5;241m.\u001b[39mtips()\n",
      "\u001b[0;31mModuleNotFoundError\u001b[0m: No module named 'plotly'"
     ]
    }
   ],
   "source": [
    "import plotly.express as px\n",
    "\n",
    "# Load the tips dataset from Plotly\n",
    "tips_df = px.data.tips()\n",
    "\n",
    "# Plot box plot using Plotly Express\n",
    "fig = px.box(tips_df, x='day', y='total_bill')\n",
    "\n",
    "# Show the plot\n",
    "fig.show()\n"
   ]
  },
  {
   "cell_type": "markdown",
   "id": "5eb5a17c-2ea3-48ad-8bf2-7aaa63bd72b2",
   "metadata": {},
   "source": [
    "    In this example, we use the tips() function from Plotly Express (px.data.tips()) to load the tips dataset. Then, we use Plotly Express (px.box) to create a box plot with the \"day\" column on the x-axis and the \"total_bill\" column on the y-axis. Finally, we display the plot using fig.show()."
   ]
  },
  {
   "cell_type": "markdown",
   "id": "e7d6e5d1-a9ca-493a-9037-1fed24f2ff13",
   "metadata": {},
   "source": [
    "## Q3\n",
    "Q3. Using the tips dataset in the Plotly library, Plot a histogram for x= \"sex\" and y=\"total_bill\" column in\n",
    "the tips dataset. Also, use the \"smoker\" column with the pattern_shape parameter and the \"day\"\n",
    "column with the color parameter.\n",
    "\n",
    "    Certainly! Here's an example of how you can plot a histogram with custom pattern shapes and colors using the tips dataset in Plotly Express:"
   ]
  },
  {
   "cell_type": "code",
   "execution_count": null,
   "id": "fd100f56-67a5-420c-93ae-a5b521c28156",
   "metadata": {},
   "outputs": [],
   "source": [
    "import plotly.express as px\n",
    "\n",
    "# Load the tips dataset from Plotly\n",
    "tips_df = px.data.tips()\n",
    "\n",
    "# Plot histogram using Plotly Express\n",
    "fig = px.histogram(tips_df, x='sex', y='total_bill', color='day', pattern_shape='smoker')\n",
    "\n",
    "# Show the plot\n",
    "fig.show()\n"
   ]
  },
  {
   "cell_type": "markdown",
   "id": "8dc706c5-2761-4364-a0bb-1763ce37bafa",
   "metadata": {},
   "source": [
    "     In this example, we use the tips() function from Plotly Express (px.data.tips()) to load the tips dataset. Then, we use Plotly Express (px.histogram) to create a histogram with the \"sex\" column on the x-axis and the \"total_bill\" column on the y-axis. We also specify the \"day\" column for the color parameter and the \"smoker\" column for the pattern_shape parameter.\n",
    "\n",
    "     The resulting histogram will have different colors based on the \"day\" column and different pattern shapes based on the \"smoker\" column. Finally, we display the plot using fig.show().\n"
   ]
  },
  {
   "cell_type": "markdown",
   "id": "b516158b-3b9f-4da5-bbc6-cd5f6bf686d7",
   "metadata": {},
   "source": [
    "## Q4\n",
    "Q4. Using the iris dataset in the Plotly library, Plot a scatter matrix plot, using the \"species\" column for\n",
    "the color parameter.\n",
    "Note: Use \"sepal_length\", \"sepal_width\", \"petal_length\", \"petal_width\" columns only with the\n",
    "dimensions parameter.\n",
    "\n",
    "     Certainly! Here's an example of how you can plot a scatter matrix plot using the iris dataset in Plotly Express:"
   ]
  },
  {
   "cell_type": "code",
   "execution_count": null,
   "id": "9ea184ae-22f0-46a4-a06b-bcf191b84da8",
   "metadata": {},
   "outputs": [],
   "source": [
    "import plotly.express as px\n",
    "\n",
    "# Load the iris dataset from Plotly\n",
    "iris_df = px.data.iris()\n",
    "\n",
    "# Plot scatter matrix using Plotly Express\n",
    "fig = px.scatter_matrix(\n",
    "    iris_df,\n",
    "    dimensions=['sepal_length', 'sepal_width', 'petal_length', 'petal_width'],\n",
    "    color='species'\n",
    ")\n",
    "\n",
    "# Show the plot\n",
    "fig.show()\n"
   ]
  },
  {
   "cell_type": "markdown",
   "id": "d341331f-02c5-4d82-acd1-8e0fd89b12cd",
   "metadata": {},
   "source": [
    "     In this example, we use the iris() function from Plotly Express (px.data.iris()) to load the iris dataset. Then, we use Plotly Express (px.scatter_matrix) to create a scatter matrix plot with the dimensions specified as ['sepal_length', 'sepal_width', 'petal_length', 'petal_width']. We also set the \"species\" column as the color parameter, which will differentiate the data points based on the different species.\n",
    "\n",
    "     The resulting scatter matrix plot will show scatter plots of the specified dimensions, with different colors representing the different species. Finally, we display the plot using fig.show()."
   ]
  },
  {
   "cell_type": "markdown",
   "id": "36394b41-8fc0-4c5e-8dd3-cf826f8f2e61",
   "metadata": {},
   "source": [
    "## Q5\n",
    "Q5. What is Distplot? Using Plotly express, plot a distplot.\n",
    "\n",
    "\n",
    "    In Plotly Express, the distplot function is used to create a distribution plot (also known as a histogram or density plot). It provides a visual representation of the distribution of a single variable.\n",
    "\n",
    "    Here's an example of how you can plot a distplot using Plotly Express:"
   ]
  },
  {
   "cell_type": "code",
   "execution_count": null,
   "id": "1b55d1a1-e75c-4f53-8eab-ddbb7546ac14",
   "metadata": {},
   "outputs": [],
   "source": [
    "import plotly.express as px\n",
    "\n",
    "# Load the tips dataset from Plotly\n",
    "tips_df = px.data.tips()\n",
    "\n",
    "# Plot distplot using Plotly Express\n",
    "fig = px.histogram(tips_df, x='total_bill', marginal='rug', histnorm='probability density')\n",
    "\n",
    "# Show the plot\n",
    "fig.show()\n"
   ]
  },
  {
   "cell_type": "markdown",
   "id": "7562e04e-9bce-4f8f-ab6b-d70f83eafd07",
   "metadata": {},
   "source": [
    "    In this example, we use the tips() function from Plotly Express (px.data.tips()) to load the tips dataset. Then, we use Plotly Express (px.histogram) to create a distplot by setting the \"total_bill\" column as the x-axis variable. The marginal='rug' parameter adds a rug plot to display individual data points along the x-axis. The histnorm='probability density' parameter normalizes the histogram to show the probability density rather than the count.\n",
    "\n",
    "    The resulting distplot will show the distribution of the \"total_bill\" variable as a histogram with the rug plot and probability density estimation. Finally, we display the plot using fig.show()."
   ]
  },
  {
   "cell_type": "code",
   "execution_count": null,
   "id": "8d45bde6-f262-4004-8c58-306bd4a17735",
   "metadata": {},
   "outputs": [],
   "source": []
  }
 ],
 "metadata": {
  "kernelspec": {
   "display_name": "Python 3 (ipykernel)",
   "language": "python",
   "name": "python3"
  },
  "language_info": {
   "codemirror_mode": {
    "name": "ipython",
    "version": 3
   },
   "file_extension": ".py",
   "mimetype": "text/x-python",
   "name": "python",
   "nbconvert_exporter": "python",
   "pygments_lexer": "ipython3",
   "version": "3.10.8"
  }
 },
 "nbformat": 4,
 "nbformat_minor": 5
}
