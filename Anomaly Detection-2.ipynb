{
 "cells": [
  {
   "cell_type": "markdown",
   "id": "0e30698e-03ac-42a7-a075-b6a91c77dd4f",
   "metadata": {},
   "source": [
    "# Pwskills"
   ]
  },
  {
   "cell_type": "markdown",
   "id": "681ad3f6-7a11-47c4-bd2c-3d7a155bdadf",
   "metadata": {},
   "source": [
    "## Data Science Master"
   ]
  },
  {
   "cell_type": "markdown",
   "id": "0770d424-0d3b-491b-88a1-7d0f563cd38d",
   "metadata": {},
   "source": [
    "### Anomaly Detection-2"
   ]
  },
  {
   "cell_type": "markdown",
   "id": "d7585ec9-5ca1-4449-abf1-87db2512deb8",
   "metadata": {},
   "source": []
  }
 ],
 "metadata": {
  "kernelspec": {
   "display_name": "Python 3 (ipykernel)",
   "language": "python",
   "name": "python3"
  },
  "language_info": {
   "codemirror_mode": {
    "name": "ipython",
    "version": 3
   },
   "file_extension": ".py",
   "mimetype": "text/x-python",
   "name": "python",
   "nbconvert_exporter": "python",
   "pygments_lexer": "ipython3",
   "version": "3.10.8"
  }
 },
 "nbformat": 4,
 "nbformat_minor": 5
}
