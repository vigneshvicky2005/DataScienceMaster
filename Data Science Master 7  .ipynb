{
 "cells": [
  {
   "cell_type": "markdown",
   "id": "cc42ac80-9a17-4321-8be3-8aae8dec2bcb",
   "metadata": {},
   "source": [
    "# Pwskills"
   ]
  },
  {
   "cell_type": "markdown",
   "id": "55f88007-8dad-456e-8ca9-fda2b2bb4026",
   "metadata": {},
   "source": [
    "## Data Science Master"
   ]
  },
  {
   "cell_type": "markdown",
   "id": "64c46049-b1b0-40d0-99de-67e155dc1c0e",
   "metadata": {},
   "source": [
    "### Python Assignment"
   ]
  },
  {
   "cell_type": "markdown",
   "id": "e2fdc7d2-e970-4daf-9e24-a66082bd76cc",
   "metadata": {},
   "source": [
    "## Q1\n",
    "\n",
    "Q1, Create a vehicle class with an init method having instance variables as name_of_vehicle, max_speed\n",
    "and average_of_vehicle.\n",
    "\n",
    "     Here's an example code to create a `Vehicle` class with an` __init__` method that initializes the instance variables `name_of_vehicle`, `max_speed`, and `average_of_vehicle`:"
   ]
  },
  {
   "cell_type": "code",
   "execution_count": 4,
   "id": "2fdd4043-95ae-4661-8c27-74eae9e26456",
   "metadata": {},
   "outputs": [],
   "source": [
    "class Vehicle:\n",
    "    def __init__(self, name_of_vehicle, max_speed, average_of_vehicle):\n",
    "        self.name_of_vehicle = name_of_vehicle\n",
    "        self.max_speed = max_speed\n",
    "        self.average_of_vehicle = average_of_vehicle\n"
   ]
  },
  {
   "cell_type": "markdown",
   "id": "5aea0ea2-7ab1-4575-b0b1-c40309d5f595",
   "metadata": {},
   "source": [
    "     In the above code, `Vehicle` is the name of the class, and` __init__` is the constructor method. The `self` parameter refers to the instance of the class that is being created or manipulated.\n",
    "\n",
    "     The `name_of_vehicle`,` max_speed`, and `average_of_vehicle` are the instance variables or attributes of the `Vehicle` class, which are initialized with the values passed as arguments to the` __init__` method. These instance variables can be accessed and modified using the dot notation, like vehicle1.name_of_vehicle = \"Car\"."
   ]
  },
  {
   "cell_type": "markdown",
   "id": "53d0080d-8ee7-4fa4-b79f-8671dce02d12",
   "metadata": {},
   "source": [
    "## Q2\n",
    "\n",
    "Q2. Create a child class car from the vehicle class created in Que 1, which will inherit the vehicle class.\n",
    "Create a method named seating_capacity which takes capacity as an argument and returns the name of\n",
    "the vehicle and its seating capacity.\n",
    "\n",
    "    Here's an example code to create a `Car` class which inherits the `Vehicle` class created in Q1, and also defines a `seating_capacity` method:"
   ]
  },
  {
   "cell_type": "code",
   "execution_count": 5,
   "id": "b919b695-3519-401c-9fc3-cc4d7e76809f",
   "metadata": {},
   "outputs": [],
   "source": [
    "class Car(Vehicle):\n",
    "    def __init__(self, name_of_vehicle, max_speed, average_of_vehicle):\n",
    "        super().__init__(name_of_vehicle, max_speed, average_of_vehicle)\n",
    "        \n",
    "    def seating_capacity(self, capacity):\n",
    "        return f\"{self.name_of_vehicle} has a seating capacity of {capacity} persons.\"\n"
   ]
  },
  {
   "cell_type": "markdown",
   "id": "0bcb514e-7733-49d5-93e9-68ece0631667",
   "metadata": {},
   "source": [
    "     In the above code, `Car` is the name of the child class that inherits the `Vehicle` class. The `super().__init__()` method is called to initialize the instance variables of the parent class.\n",
    "\n",
    "     The `seating_capacity` method is defined to take a `capacity` argument, which represents the seating capacity of the car. This method returns a string that includes the name of the car and its seating capacity.\n",
    "\n",
    "      You can create an object of the `Car` class and call its `seating_capacity` method to get the seating capacity of the car:"
   ]
  },
  {
   "cell_type": "code",
   "execution_count": 6,
   "id": "63a46060-7ed8-4895-8cbf-fba9d29bb110",
   "metadata": {},
   "outputs": [
    {
     "name": "stdout",
     "output_type": "stream",
     "text": [
      "Toyota has a seating capacity of 5 persons.\n"
     ]
    }
   ],
   "source": [
    "car1 = Car(\"Toyota\", 200, 10)\n",
    "print(car1.seating_capacity(5)) \n"
   ]
  },
  {
   "cell_type": "markdown",
   "id": "11b86251-5cc7-4101-bbdf-1396d376bdac",
   "metadata": {},
   "source": [
    "       In the above example, we create an object `car1` of the` Car` class with` name_of_vehicle` as \"Toyota\", `max_speed as 200`, and `average_of_vehicle` as 10. We then call the `seating_capacity` method of the `car1` object with a `capacity` argument of 5, which returns the string \"Toyota has a seating capacity of 5 persons.\""
   ]
  },
  {
   "cell_type": "markdown",
   "id": "1b77b5fb-f306-43ff-96a9-05b093715425",
   "metadata": {},
   "source": [
    "## Q3\n",
    "\n",
    "Q3. What is multiple inheritance? Write a python code to demonstrate multiple inheritance.\n",
    "\n",
    "\n",
    "\n",
    "       Multiple inheritance is a feature in object-oriented programming where a subclass can inherit from more than one parent class. In other words, a class can have more than one immediate superclass.\n",
    "\n",
    "       Here's an example code to demonstrate multiple inheritance in Python:"
   ]
  },
  {
   "cell_type": "code",
   "execution_count": 9,
   "id": "ce94f21d-e410-4ce1-a29b-b236875396e5",
   "metadata": {},
   "outputs": [],
   "source": [
    "class Animal:\n",
    "    def __init__(self, name):\n",
    "        self.name = name\n",
    "        \n",
    "    def move(self):\n",
    "        print(\"Moving...\")\n",
    "        \n",
    "class Mammal:\n",
    "    def __init__(self, num_legs):\n",
    "        self.num_legs = num_legs\n",
    "        \n",
    "    def feed_baby_with_milk(self):\n",
    "        print(\"Feeding baby with milk...\")\n",
    "        \n",
    "class Dog(Animal, Mammal):\n",
    "    def __init__(self, name, num_legs):\n",
    "        Animal.__init__(self, name)\n",
    "        Mammal.__init__(self, num_legs)\n",
    "        \n",
    "    def bark(self):\n",
    "        print(\"Woof!\")\n"
   ]
  },
  {
   "cell_type": "markdown",
   "id": "f1404b96-5c10-45a0-b715-5213086539fc",
   "metadata": {},
   "source": [
    "       In the above code,` Animal` and` Mammal` are the parent classes, and` Dog` is the child class that inherits from both` Animal` and `Mammal`. The` Dog` class has access to the attributes and methods of both parent classes.\n",
    "\n",
    "       The `Dog` class has its own` __init__` method, which calls the` __init__` method of both parent classes using the class name and the `super()` function. The `bark` method is a method specific to the` Dog` class.\n",
    "\n",
    "       You can create an object of the` Dog `class and call its methods to see how multiple inheritance works:"
   ]
  },
  {
   "cell_type": "code",
   "execution_count": 11,
   "id": "1205fd2f-5c2c-4c2e-a78c-40fb9726a77c",
   "metadata": {},
   "outputs": [
    {
     "name": "stdout",
     "output_type": "stream",
     "text": [
      "Fido\n",
      "4\n",
      "Moving...\n",
      "Feeding baby with milk...\n",
      "Woof!\n"
     ]
    }
   ],
   "source": [
    "dog1 = Dog(\"Fido\", 4)\n",
    "print(dog1.name) \n",
    "print(dog1.num_legs) \n",
    "dog1.move() \n",
    "dog1.feed_baby_with_milk()\n",
    "dog1.bark() \n"
   ]
  },
  {
   "cell_type": "markdown",
   "id": "4ae6d46a-05bb-4896-b916-cb1ffa775cbc",
   "metadata": {},
   "source": [
    "        In the above example, we create an object `dog1` of the `Dog` class with `name` as \"Fido\" and `num_legs` as 4. We then use the `name` and `num_legs` attributes of `dog1` to retrieve their values, which are \"Fido\" and 4, respectively. We then call the `move`, feed_baby_with_milk, `and` bark `methods of `dog1`, which are inherited from the parent classes `Animal` and `Mammal`, and defined in the `Dog` class."
   ]
  },
  {
   "cell_type": "markdown",
   "id": "f123b64f-67c0-43a3-b47d-2cada2c872ba",
   "metadata": {},
   "source": [
    "## Q4\n",
    "\n",
    "Q4. What are getter and setter in python? Create a class and create a getter and a setter method in this\n",
    "class.\n",
    "\n",
    "     In Python, a getter method is a method that is used to retrieve the value of an instance variable of a class, and a setter method is used to modify the value of an instance variable of a class.\n",
    "\n",
    "        Here's an example code to create a class `Person` with a getter and a setter method for the instance variable `age`:"
   ]
  },
  {
   "cell_type": "code",
   "execution_count": 7,
   "id": "936ab0d7-40e7-486a-b62d-b012ddab6a12",
   "metadata": {},
   "outputs": [],
   "source": [
    "class Person:\n",
    "    def __init__(self, name, age):\n",
    "        self.name = name\n",
    "        self._age = age \n",
    "        \n",
    "    def get_age(self):\n",
    "        return self._age\n",
    "        \n",
    "    def set_age(self, age):\n",
    "        if age > 0 and age < 120: \n",
    "            self._age = age\n",
    "        else:\n",
    "            print(\"Invalid age value\")\n"
   ]
  },
  {
   "cell_type": "markdown",
   "id": "a36e5ed6-cce9-4665-bfab-57fe7697e10c",
   "metadata": {},
   "source": [
    "      In the above code, `Person` is the name of the class, and` _age `is the protected instance variable. The `get_age` method is a getter method that returns the value of `_age`, and the `set_ag`e method is a setter method that sets the value of` _age` after validating the input.\n",
    "\n",
    "      You can create an object of the `Person` class and use the getter and setter methods to retrieve and modify the value of the `age` instance variable:"
   ]
  },
  {
   "cell_type": "code",
   "execution_count": 8,
   "id": "65c5f9b6-5e9a-4ba3-8aa1-828c22d401bd",
   "metadata": {},
   "outputs": [
    {
     "name": "stdout",
     "output_type": "stream",
     "text": [
      "30\n",
      "35\n",
      "Invalid age value\n"
     ]
    }
   ],
   "source": [
    "person1 = Person(\"John\", 30)\n",
    "print(person1.get_age()) \n",
    "\n",
    "person1.set_age(35)\n",
    "print(person1.get_age()) \n",
    "\n",
    "person1.set_age(150) \n"
   ]
  },
  {
   "cell_type": "markdown",
   "id": "d6b6a23f-b608-46f0-bdfa-8ba11d4a3e79",
   "metadata": {},
   "source": [
    "       In the above example, we create an object `person1` of the Person class with `name` as \"John\" and `age` as 30. We then use the `get_age` method to retrieve the value of `age`, which returns 30. We then use the `set_age` method to modify the value of `age` to 35. Finally, we try to set the value of `age` to 150, which is an invalid value and results in the message \"Invalid age value\"."
   ]
  },
  {
   "cell_type": "markdown",
   "id": "8fc2d057-40df-47d6-92cf-fb107fa3ab2f",
   "metadata": {},
   "source": [
    "## Q5\n",
    "\n",
    "Q5.What is method overriding in python? Write a python code to demonstrate method overriding.\n",
    "\n",
    "\n",
    "       Method overriding is a feature in object-oriented programming where a subclass provides a different implementation for a method that is already defined in its parent class. In other words, a subclass can change the behavior of a method that is inherited from its parent class.\n",
    "\n",
    "       Here's an example code to demonstrate method overriding in Python:"
   ]
  },
  {
   "cell_type": "code",
   "execution_count": 12,
   "id": "ac1f0f27-fc97-4883-b852-01179d1a2621",
   "metadata": {},
   "outputs": [],
   "source": [
    "class Animal:\n",
    "    def make_sound(self):\n",
    "        print(\"Making sound...\")\n",
    "\n",
    "class Cat(Animal):\n",
    "    def make_sound(self):\n",
    "        print(\"Meow!\")\n",
    "        \n",
    "class Dog(Animal):\n",
    "    def make_sound(self):\n",
    "        print(\"Woof!\")\n"
   ]
  },
  {
   "cell_type": "markdown",
   "id": "7dae2697-ace9-4199-8dcb-c6b2442332a1",
   "metadata": {},
   "source": [
    "       In the above code,` Animal` is the parent class, and `Cat `and` Dog` are the child classes that inherit from it. The `Animal` class has a method called `make_sound`, which simply prints \"Making sound...\". The `Cat` and `Dog` classes have their own `make_sound` methods that override the `make_sound` method of the `Animal` class.\n",
    "\n",
    "       You can create objects of the `Cat` and `Dog` classes and call their `make_sound` methods to see how method overriding works:"
   ]
  },
  {
   "cell_type": "code",
   "execution_count": 13,
   "id": "995aa4f4-5905-4374-babd-7fe149b417b4",
   "metadata": {},
   "outputs": [
    {
     "name": "stdout",
     "output_type": "stream",
     "text": [
      "Meow!\n",
      "Woof!\n"
     ]
    }
   ],
   "source": [
    "cat1 = Cat()\n",
    "dog1 = Dog()\n",
    "\n",
    "cat1.make_sound() \n",
    "dog1.make_sound() \n"
   ]
  },
  {
   "cell_type": "markdown",
   "id": "38285afa-a779-4551-8efd-70f50c44f11d",
   "metadata": {},
   "source": [
    "      In the above example, we create objects `cat1` and `dog1` of the `Cat `and` Dog` classes, respectively. We then call their `make_sound` methods, which are overridden in the child classes. The `make_sound` method of` cat1` outputs \"Meow!\", and the` make_sound` method of dog1 outputs \"Woof!\". This demonstrates how method overriding allows subclasses to provide their own implementation of a method that is inherited from a parent class."
   ]
  },
  {
   "cell_type": "code",
   "execution_count": null,
   "id": "df02ba13-8ea0-407b-8216-5bb79a40007b",
   "metadata": {},
   "outputs": [],
   "source": []
  }
 ],
 "metadata": {
  "kernelspec": {
   "display_name": "Python 3 (ipykernel)",
   "language": "python",
   "name": "python3"
  },
  "language_info": {
   "codemirror_mode": {
    "name": "ipython",
    "version": 3
   },
   "file_extension": ".py",
   "mimetype": "text/x-python",
   "name": "python",
   "nbconvert_exporter": "python",
   "pygments_lexer": "ipython3",
   "version": "3.10.8"
  }
 },
 "nbformat": 4,
 "nbformat_minor": 5
}
