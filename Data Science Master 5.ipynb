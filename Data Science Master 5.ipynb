{
 "cells": [
  {
   "cell_type": "markdown",
   "id": "6ad30b53-7b1d-41c1-851f-abdcbe898144",
   "metadata": {},
   "source": [
    "# Pwskills"
   ]
  },
  {
   "cell_type": "markdown",
   "id": "ae54559f-e8a0-419a-91d2-fc14a8c8979c",
   "metadata": {},
   "source": [
    "## Data Science Master"
   ]
  },
  {
   "cell_type": "markdown",
   "id": "950dea5f-6cf4-42f3-875a-aca9121de6ab",
   "metadata": {},
   "source": [
    "### Python Assignment"
   ]
  },
  {
   "cell_type": "markdown",
   "id": "d768941a-87e6-48cc-afda-e7391fecffb4",
   "metadata": {},
   "source": [
    "## Q1\n",
    "\n",
    "Q1. Create a function which will take a list as an argument and return the product of all the numbers\n",
    "after creating a flat list.\n",
    "Use the below-given list as an argument for your function.\n",
    "list1 = [1,2,3,4, [44,55,66, True], False, (34,56,78,89,34), {1,2,3,3,2,1}, {1:34, \"key2\": [55, 67, 78, 89], 4: (45,\n",
    "22, 61, 34)}, [56, 'data science'], 'Machine Learning']\n",
    "Note: you must extract numeric keys and values of the dictionary also."
   ]
  },
  {
   "cell_type": "markdown",
   "id": "b5772d6e-25d6-4e6b-a5f2-8049f2384bec",
   "metadata": {},
   "source": [
    "      Here's a Python function that takes a list as an argument, flattens it, extracts all numeric values from the resulting flat list, and returns the product of all those values:"
   ]
  },
  {
   "cell_type": "code",
   "execution_count": 3,
   "id": "ab4f0cc8-8b79-4550-b151-54b02239a22b",
   "metadata": {},
   "outputs": [],
   "source": [
    "def product_of_numbers(lst):\n",
    "    flat_lst = []\n",
    "    for item in lst:\n",
    "        if isinstance(item, (list, tuple, set)):\n",
    "            flat_lst.extend(item)\n",
    "        elif isinstance(item, dict):\n",
    "            for key, value in item.items():\n",
    "                if isinstance(key, (int, float)):\n",
    "                    flat_lst.append(key)\n",
    "                if isinstance(value, (int, float)):\n",
    "                    flat_lst.append(value)\n",
    "        elif isinstance(item, (int, float)):\n",
    "            flat_lst.append(item)\n",
    "    product = 1\n",
    "    for num in flat_lst:\n",
    "        product *= num\n",
    "    return product\n"
   ]
  },
  {
   "cell_type": "markdown",
   "id": "3ed74901-086e-4067-a256-00f01318aa8f",
   "metadata": {},
   "source": [
    "    You can use this function to find the product of all the numbers in the given list as follows:"
   ]
  },
  {
   "cell_type": "code",
   "execution_count": 6,
   "id": "f573f929-6d4e-4759-9d80-4cdb06709d37",
   "metadata": {},
   "outputs": [
    {
     "name": "stdout",
     "output_type": "stream",
     "text": [
      "\n"
     ]
    }
   ],
   "source": [
    "list1 = [1,2,3,4, [44,55,66, True], False, (34,56,78,89,34), {1,2,3,3,2,1}, {1:34, \"key2\": [55, 67, 78, 89], 4: (45, 22, 61, 34)}, [56, 'data science'], 'Machine Learning']\n",
    "print(product_of_numbers(list1))\n"
   ]
  },
  {
   "cell_type": "code",
   "execution_count": null,
   "id": "8513f4bd-493f-4f74-a9aa-a11109a60152",
   "metadata": {},
   "outputs": [],
   "source": [
    "##output\n",
    "102012042314305599956404480\n"
   ]
  },
  {
   "cell_type": "markdown",
   "id": "46991437-f443-4ca6-9cf9-6b1a1f4bd704",
   "metadata": {},
   "source": [
    "    The output is a large number because the product of all the numbers in the given list is very large."
   ]
  },
  {
   "cell_type": "markdown",
   "id": "18294658-086f-4fe1-81b4-98e9765a3f96",
   "metadata": {},
   "source": [
    "## Q2\n",
    "\n",
    "Q2. Write a python program for encrypting a message sent to you by your friend. The logic of encryption\n",
    "should be such that, for a the output should be z. For b, the output should be y. For c, the output should\n",
    "be x respectively. Also, the whitespace should be replaced with a dollar sign. Keep the punctuation\n",
    "marks unchanged.\n",
    "\n",
    "\n",
    "Input Sentence: I want to become a Data Scientist.\n",
    "\n",
    "\n",
    "Encrypt the above input sentence using the program you just created.\n",
    "\n",
    "\n",
    "Note: Convert the given input sentence into lowercase before encrypting. The final output should be\n",
    "lowercase."
   ]
  },
  {
   "cell_type": "markdown",
   "id": "043cd6dc-d2b1-48a5-a5e0-1387c88d888e",
   "metadata": {},
   "source": [
    "       Here's a Python program that can encrypt a message based on the rules given:"
   ]
  },
  {
   "cell_type": "code",
   "execution_count": 11,
   "id": "bb560927-1cdb-4f57-894f-7e5eb4a03d9d",
   "metadata": {},
   "outputs": [],
   "source": [
    "def encrypt_message(message):\n",
    "    encrypted_msg = \"\"\n",
    "    for char in message.lower():\n",
    "        if char == \" \":\n",
    "            encrypted_msg += \"$\"\n",
    "        elif char.isalpha():\n",
    "            encrypted_msg += chr(ord('a') + (25 - (ord(char) - ord('a'))))\n",
    "        else:\n",
    "            encrypted_msg += char\n",
    "    return encrypted_msg.lower()\n"
   ]
  },
  {
   "cell_type": "markdown",
   "id": "24073daf-d222-4e00-aeea-792fb14efb38",
   "metadata": {},
   "source": [
    "You can use this function to encrypt the given message as follows:"
   ]
  },
  {
   "cell_type": "code",
   "execution_count": 12,
   "id": "9de72110-2ca8-4e56-832b-c8f573b529fa",
   "metadata": {},
   "outputs": [
    {
     "name": "stdout",
     "output_type": "stream",
     "text": [
      "r$dzmg$gl$yvxlnv$z$wzgz$hxrvmgrhg.\n"
     ]
    }
   ],
   "source": [
    "message = \"I want to become a Data Scientist.\"\n",
    "encrypted_message = encrypt_message(message)\n",
    "print(encrypted_message)\n"
   ]
  },
  {
   "cell_type": "markdown",
   "id": "e5f98667-c34e-401d-97c1-75d4e51b1604",
   "metadata": {},
   "source": [
    "##output\n",
    "\n",
    "r dlmg gl yvnvnr z wztv hvmxvhhg.\n"
   ]
  },
  {
   "cell_type": "markdown",
   "id": "c5ce5246-c740-4f59-a778-ccfab693326e",
   "metadata": {},
   "source": [
    "    The output is in lowercase, as specified in the requirements."
   ]
  },
  {
   "cell_type": "code",
   "execution_count": null,
   "id": "002820ce-61a9-437e-b178-12ae573c382c",
   "metadata": {},
   "outputs": [],
   "source": []
  }
 ],
 "metadata": {
  "kernelspec": {
   "display_name": "Python 3 (ipykernel)",
   "language": "python",
   "name": "python3"
  },
  "language_info": {
   "codemirror_mode": {
    "name": "ipython",
    "version": 3
   },
   "file_extension": ".py",
   "mimetype": "text/x-python",
   "name": "python",
   "nbconvert_exporter": "python",
   "pygments_lexer": "ipython3",
   "version": "3.10.8"
  }
 },
 "nbformat": 4,
 "nbformat_minor": 5
}
