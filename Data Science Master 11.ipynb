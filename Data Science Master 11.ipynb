{
 "cells": [
  {
   "cell_type": "markdown",
   "id": "ff76dbff-35f6-4a43-b7a0-d0a31f66c7ef",
   "metadata": {},
   "source": [
    "# Pwskills "
   ]
  },
  {
   "cell_type": "markdown",
   "id": "55548126-18f8-494b-9275-0371b9757fe0",
   "metadata": {},
   "source": [
    "## Data Science Master"
   ]
  },
  {
   "cell_type": "markdown",
   "id": "8f89a1ef-fa5d-41e6-84b3-21ddb51db73c",
   "metadata": {},
   "source": [
    "### Python Assignment"
   ]
  },
  {
   "cell_type": "markdown",
   "id": "34be5d98-2f62-45ab-b43b-f6e3faec7a3f",
   "metadata": {},
   "source": [
    "##  Q1\n",
    "\n",
    "Q1. What is multithreading in python? Why is it used? Name the module used to handle threads in python\n",
    "\n",
    "        Multithreading in Python refers to a process of executing multiple threads simultaneously within a single process. A thread is a lightweight subprocess that shares the same memory space as the parent process and runs independently of other threads. Multithreading is used in Python to improve the performance of a program by utilizing multiple CPUs or CPU cores, and also to improve the responsiveness of the program by allowing it to handle multiple tasks concurrently.\n",
    "\n",
    "        The module used to handle threads in Python is called \"threading\". It provides a simple and efficient way to create, start, and manage threads in Python. The \"threading\" module allows developers to create multiple threads within a single program and also provides synchronization primitives like locks and semaphores to ensure thread safety when accessing shared resources."
   ]
  },
  {
   "cell_type": "markdown",
   "id": "7fdd600f-3515-483d-8576-76f4cd1eb6be",
   "metadata": {},
   "source": [
    "## Q2\n",
    "\n",
    "Q2. Why threading module used? rite the use of the following functions\n",
    " 1.activeCount()\n",
    " 2.currentThread()\n",
    " 3.enumerate()\n",
    "\n",
    "\n",
    "     The `threading` module is used to create and manage threads in Python. It provides a way to run multiple threads concurrently within a single process.\n",
    "\n",
    "        * `activeCount()`: This function returns the number of thread objects that are currently active. An active thread is any thread that has been started and has not yet been joined.\n",
    "    Example:"
   ]
  },
  {
   "cell_type": "code",
   "execution_count": 4,
   "id": "3e5474da-a920-4466-a6b9-bfafddbe9faf",
   "metadata": {},
   "outputs": [
    {
     "name": "stdout",
     "output_type": "stream",
     "text": [
      "Thread started\n",
      "Thread started\n",
      "Active threads: 8\n"
     ]
    },
    {
     "name": "stderr",
     "output_type": "stream",
     "text": [
      "/tmp/ipykernel_4099/1422645576.py:12: DeprecationWarning: activeCount() is deprecated, use active_count() instead\n",
      "  print(\"Active threads:\", threading.activeCount())\n"
     ]
    }
   ],
   "source": [
    "import threading\n",
    "\n",
    "def my_func():\n",
    "    print(\"Thread started\")\n",
    "    \n",
    "t1 = threading.Thread(target=my_func)\n",
    "t2 = threading.Thread(target=my_func)\n",
    "\n",
    "t1.start()\n",
    "t2.start()\n",
    "\n",
    "print(\"Active threads:\", threading.activeCount())\n"
   ]
  },
  {
   "cell_type": "markdown",
   "id": "f1ffcc87-b0ff-4678-b3b6-aed36538b4b2",
   "metadata": {},
   "source": [
    "        * `currentThread()`: This function returns a reference to the current thread object.\n",
    "        Example:\n",
    "\n"
   ]
  },
  {
   "cell_type": "code",
   "execution_count": 3,
   "id": "5817af18-4c66-4680-97bb-6387ac10a9fb",
   "metadata": {},
   "outputs": [
    {
     "name": "stdout",
     "output_type": "stream",
     "text": [
      "Current thread: Thread 1\n",
      "Current thread: Thread 2\n"
     ]
    },
    {
     "name": "stderr",
     "output_type": "stream",
     "text": [
      "/tmp/ipykernel_4099/2628654237.py:4: DeprecationWarning: currentThread() is deprecated, use current_thread() instead\n",
      "  print(\"Current thread:\", threading.currentThread().getName())\n",
      "/tmp/ipykernel_4099/2628654237.py:4: DeprecationWarning: getName() is deprecated, get the name attribute instead\n",
      "  print(\"Current thread:\", threading.currentThread().getName())\n"
     ]
    }
   ],
   "source": [
    "import threading\n",
    "\n",
    "def my_func():\n",
    "    print(\"Current thread:\", threading.currentThread().getName())\n",
    "\n",
    "t1 = threading.Thread(target=my_func, name='Thread 1')\n",
    "t2 = threading.Thread(target=my_func, name='Thread 2')\n",
    "\n",
    "t1.start()\n",
    "t2.start()\n"
   ]
  },
  {
   "cell_type": "markdown",
   "id": "43d9da2d-3014-4ad1-bbf4-7bb7b586904b",
   "metadata": {},
   "source": [
    "         * `enumerate()`: This function returns a list of all thread objects that are currently active. An active thread is any thread that has been started and has not yet been joined.\n",
    "      Example:"
   ]
  },
  {
   "cell_type": "code",
   "execution_count": 5,
   "id": "ec5ffd2a-4164-44b7-acbe-33d8efb2b16e",
   "metadata": {},
   "outputs": [
    {
     "name": "stdout",
     "output_type": "stream",
     "text": [
      "Thread started\n",
      "Thread started\n",
      "Active threads:\n",
      "MainThread\n",
      "IOPub\n",
      "Heartbeat\n",
      "Thread-3 (_watch_pipe_fd)\n",
      "Thread-4 (_watch_pipe_fd)\n",
      "Control\n",
      "IPythonHistorySavingThread\n",
      "Thread-2\n"
     ]
    },
    {
     "name": "stderr",
     "output_type": "stream",
     "text": [
      "/tmp/ipykernel_4099/3241419170.py:16: DeprecationWarning: getName() is deprecated, get the name attribute instead\n",
      "  print(thread.getName())\n"
     ]
    }
   ],
   "source": [
    "import threading\n",
    "\n",
    "def my_func():\n",
    "    print(\"Thread started\")\n",
    "\n",
    "t1 = threading.Thread(target=my_func, name='Thread 1')\n",
    "t2 = threading.Thread(target=my_func, name='Thread 2')\n",
    "\n",
    "t1.start()\n",
    "t2.start()\n",
    "\n",
    "threads = threading.enumerate()\n",
    "\n",
    "print(\"Active threads:\")\n",
    "for thread in threads:\n",
    "    print(thread.getName())\n"
   ]
  },
  {
   "cell_type": "markdown",
   "id": "aef6253d-3982-4054-b985-1eaa0455eecf",
   "metadata": {},
   "source": [
    "## Q3\n",
    "\n",
    "Q3. Explain the following functions\n",
    "1.run()\n",
    "2.start()\n",
    "3.join()\n",
    "4.isAlive()\n",
    "\n",
    "    * `run()`: This method is called by the `start() `method to start a new thread’s activity. It is not usually called directly. You can override this method to define your own behavior for a thread.\n",
    "\n",
    "    * `start()`: This method is used to start a new thread. It returns immediately and the child thread starts and calls the `run()` method.\n",
    "\n",
    "    * `join()`: This method is used to wait for a thread to complete its task. It blocks the calling thread until the thread whose `join()` method is called terminates. If the thread has already completed its task, the `join()` method returns immediately.\n",
    "\n",
    "    *`isAlive()`: This method is used to check whether a thread is still running or has completed its task. It returns True if the thread is still running, and False otherwise."
   ]
  },
  {
   "cell_type": "markdown",
   "id": "e64f4f7b-6ec3-4577-a2ec-5d522a8c6930",
   "metadata": {},
   "source": [
    "## Q4\n",
    "\n",
    "Q4. Write a python program to create two threads. Thread one must print the list of squares and thread two must print the list of cubes\n",
    "\n",
    "\n",
    "    Here's a Python program to create two threads - one to print the list of squares and the other to print the list of cubes:"
   ]
  },
  {
   "cell_type": "code",
   "execution_count": 6,
   "id": "b895ef18-82bf-47ef-b173-1e7e3277fd07",
   "metadata": {},
   "outputs": [
    {
     "name": "stdout",
     "output_type": "stream",
     "text": [
      "1 squared is 1\n",
      "2 squared is 4\n",
      "3 squared is 9\n",
      "4 squared is 16\n",
      "5 squared is 25\n",
      "1 cubed is 1\n",
      "2 cubed is 8\n",
      "3 cubed is 27\n",
      "4 cubed is 64\n",
      "5 cubed is 125\n",
      "Done\n"
     ]
    }
   ],
   "source": [
    "import threading\n",
    "\n",
    "def print_squares():\n",
    "    for i in range(1, 6):\n",
    "        print(f\"{i} squared is {i*i}\")\n",
    "\n",
    "def print_cubes():\n",
    "    for i in range(1, 6):\n",
    "        print(f\"{i} cubed is {i*i*i}\")\n",
    "\n",
    "# Create threads\n",
    "thread1 = threading.Thread(target=print_squares)\n",
    "thread2 = threading.Thread(target=print_cubes)\n",
    "\n",
    "# Start threads\n",
    "thread1.start()\n",
    "thread2.start()\n",
    "\n",
    "# Wait for threads to complete\n",
    "thread1.join()\n",
    "thread2.join()\n",
    "\n",
    "print(\"Done\")\n"
   ]
  },
  {
   "cell_type": "markdown",
   "id": "03759aef-1c3e-46c5-a398-8e979e7f455f",
   "metadata": {},
   "source": [
    "       In this program, we first define two functions `print_squares` and `print_cubes`, which print the squares and cubes of the numbers 1 through 5, respectively.\n",
    "\n",
    "       Next, we create two threads `thread1` and `thread2` using the Thread class from the threading module. We pass the `target` function to each thread using the `target` parameter.\n",
    "\n",
    "       Then we start the threads using the `start` method. This will cause the threads to run their target functions in parallel.\n",
    "\n",
    "       Finally, we call the `join` method on each thread to wait for them to complete. This ensures that the main thread doesn't exit before the threads finish running. We also print \"Done\" after the threads have completed."
   ]
  },
  {
   "cell_type": "markdown",
   "id": "e53c55c8-0299-464f-a685-9a37aaaffee0",
   "metadata": {},
   "source": [
    "## Q5\n",
    "Q5. State advantages and disadvantages of multithreading\n",
    "\n",
    "   Advantages of multithreading:\n",
    "\n",
    "     * Increased efficiency: Multithreading allows multiple threads to execute concurrently, which can improve the overall efficiency of the program.\n",
    "\n",
    "     * Better resource utilization: Multithreading can help to make better use of system resources, such as CPU time and memory.\n",
    "\n",
    "     * Improved responsiveness: Multithreading can help to improve the responsiveness of a program by allowing it to handle multiple tasks simultaneously.\n",
    "\n",
    "     * Simplified program design: Multithreading can simplify the design of a program by allowing it to be broken down into smaller, more manageable pieces.\n",
    "\n",
    "   Disadvantages of multithreading:\n",
    "\n",
    "     * Increased complexity: Multithreading can make the program more complex and harder to debug due to issues such as race conditions and deadlocks.\n",
    "\n",
    "     * Synchronization overhead: When multiple threads access shared resources, they need to be synchronized to avoid conflicts, which can add overhead and reduce performance.\n",
    "\n",
    "     * Increased memory usage: Each thread requires its own stack and other data structures, which can increase the memory usage of the program.\n",
    "\n",
    "     * Difficulty in writing correct code: Multithreading requires careful design and implementation to ensure that the code is correct and free of bugs.\n",
    "\n",
    "   Overall, multithreading can be very useful in improving the performance and responsiveness of a program, but it requires careful consideration of the trade-offs involved and the potential risks and challenges."
   ]
  },
  {
   "cell_type": "markdown",
   "id": "85d1967e-8a50-454e-bd7c-b4e5bba7367c",
   "metadata": {},
   "source": [
    "## Q6\n",
    "\n",
    "Q6. Explain deadlocks and race conditions.\n",
    "\n",
    "\n",
    "     Deadlocks and race conditions are two common problems that can occur in multithreaded programs:\n",
    "\n",
    "    * Deadlocks:\n",
    "        Deadlock is a situation where two or more threads are waiting for each other to release the resources, resulting in a standstill situation where both threads are blocked and cannot proceed. It is a situation where a thread is waiting for a resource that is held by another thread, while the second thread is waiting for a resource that is held by the first thread. Both threads end up waiting indefinitely for each other to release the resource, resulting in a deadlock. Deadlocks can be difficult to detect and resolve, and can cause the entire program to freeze or crash.\n",
    "\n",
    "    * Race Conditions:\n",
    "         Race condition is a situation where two or more threads try to access the same shared resource or variable at the same time, resulting in unpredictable behavior of the program. It is a situation where the outcome of a program depends on the order in which threads execute, and is therefore unpredictable. Race conditions can cause bugs, crashes, and other unexpected behavior in the program. They can be avoided by using synchronization mechanisms such as locks, semaphores, and mutexes to control access to shared resources.\n",
    "\n",
    "\n",
    "\n",
    "\n",
    "\n",
    "\n"
   ]
  },
  {
   "cell_type": "code",
   "execution_count": null,
   "id": "6b47c642-f636-4b37-b80c-a8b7c1fa384f",
   "metadata": {},
   "outputs": [],
   "source": []
  }
 ],
 "metadata": {
  "kernelspec": {
   "display_name": "Python 3 (ipykernel)",
   "language": "python",
   "name": "python3"
  },
  "language_info": {
   "codemirror_mode": {
    "name": "ipython",
    "version": 3
   },
   "file_extension": ".py",
   "mimetype": "text/x-python",
   "name": "python",
   "nbconvert_exporter": "python",
   "pygments_lexer": "ipython3",
   "version": "3.10.8"
  }
 },
 "nbformat": 4,
 "nbformat_minor": 5
}
