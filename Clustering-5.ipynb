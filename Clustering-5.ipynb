{
 "cells": [
  {
   "cell_type": "markdown",
   "id": "7fc9bb1e-d41f-40a5-89cb-f9f7ff416ae8",
   "metadata": {},
   "source": [
    "# "
   ]
  },
  {
   "cell_type": "markdown",
   "id": "02fe5520-e265-4aaf-8633-85709781ba64",
   "metadata": {},
   "source": []
  },
  {
   "cell_type": "markdown",
   "id": "7ac6fa85-1887-4a95-bba9-ec138fea43b8",
   "metadata": {},
   "source": [
    "Clustering-2"
   ]
  },
  {
   "cell_type": "markdown",
   "id": "cd7b0020-64d9-4e66-8e02-c0b734a37063",
   "metadata": {},
   "source": []
  }
 ],
 "metadata": {
  "kernelspec": {
   "display_name": "Python 3 (ipykernel)",
   "language": "python",
   "name": "python3"
  },
  "language_info": {
   "codemirror_mode": {
    "name": "ipython",
    "version": 3
   },
   "file_extension": ".py",
   "mimetype": "text/x-python",
   "name": "python",
   "nbconvert_exporter": "python",
   "pygments_lexer": "ipython3",
   "version": "3.10.8"
  }
 },
 "nbformat": 4,
 "nbformat_minor": 5
}
