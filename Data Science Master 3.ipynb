{
 "cells": [
  {
   "cell_type": "markdown",
   "id": "e2ded049-7075-490c-810a-abbb6c37e38c",
   "metadata": {},
   "source": [
    "# Pwskills"
   ]
  },
  {
   "cell_type": "markdown",
   "id": "db2b9125-8015-4abd-9d47-3614f5df711b",
   "metadata": {},
   "source": [
    "## Data Science Master"
   ]
  },
  {
   "cell_type": "markdown",
   "id": "d1ee067d-0af3-451e-92ac-3197640c4c7f",
   "metadata": {},
   "source": [
    "### Python Assignment"
   ]
  },
  {
   "cell_type": "markdown",
   "id": "d2c8766d-75ec-41b0-978f-4dabc9e21be8",
   "metadata": {},
   "source": [
    "### Q1\n",
    "\n",
    "\n",
    "Q1. Create a python program to sort the given list of tuples based on integer value using a\n",
    "lambda function.\n",
    "[('Sachin Tendulkar', 34357), ('Ricky Ponting', 27483), ('Jack Kallis', 25534), ('Virat Kohli', 24936)]\n",
    "\n",
    "\n",
    "        Here's a Python program that sorts the given list of tuples based on integer value using a lambda function:"
   ]
  },
  {
   "cell_type": "code",
   "execution_count": 2,
   "id": "dd448a97-84b2-4f23-96da-0a6f178b11b0",
   "metadata": {},
   "outputs": [
    {
     "name": "stdout",
     "output_type": "stream",
     "text": [
      "[('Sachin Tendulkar', 34357), ('Ricky Ponting', 27483), ('Jack Kallis', 25534), ('Virat Kohli', 24936)]\n"
     ]
    }
   ],
   "source": [
    "players = [('Sachin Tendulkar', 34357), ('Ricky Ponting', 27483), ('Jack Kallis', 25534), ('Virat Kohli', 24936)]\n",
    "players_sorted = sorted(players, key=lambda x: x[1], reverse=True)\n",
    "print(players_sorted)"
   ]
  },
  {
   "cell_type": "markdown",
   "id": "720a2c39-ac7d-4dc2-b128-6d0f2898ea6f",
   "metadata": {},
   "source": [
    "### Q2\n",
    "\n",
    "Q2. Write a Python Program to find the squares of all the numbers in the given list of integers using\n",
    "lambda and map functions.\n",
    "[1, 2, 3, 4, 5, 6, 7, 8, 9, 10]\n",
    "\n",
    "\n",
    "        Here's a Python program that finds the squares of all the numbers in the given list of integers using lambda and map functions:"
   ]
  },
  {
   "cell_type": "code",
   "execution_count": 3,
   "id": "8ac33149-4f94-46e1-8329-92699635c95f",
   "metadata": {},
   "outputs": [
    {
     "name": "stdout",
     "output_type": "stream",
     "text": [
      "[1, 4, 9, 16, 25, 36, 49, 64, 81, 100]\n"
     ]
    }
   ],
   "source": [
    "nums = [1, 2, 3, 4, 5, 6, 7, 8, 9, 10]\n",
    "squares = list(map(lambda x: x**2, nums))\n",
    "print(squares)"
   ]
  },
  {
   "cell_type": "markdown",
   "id": "fb4f4b5b-5269-4a19-9008-01345d337bdc",
   "metadata": {},
   "source": [
    "  Explanation:\n",
    "\n",
    "    * We define a list of integers named `nums`.\n",
    "    * We use the `map()` function to apply a lambda function to each element of the list. The lambda function returns the square of each number. We convert the resulting map object to a list using the `list()` function.\n",
    "    * The lambda function is defined using the lambda keyword and takes one argument `x`.\n",
    "    * The expression `x**2` computes the square of `x`.\n",
    "    * Finally, we print the list of squares using the `print()` function"
   ]
  },
  {
   "cell_type": "markdown",
   "id": "76f5f886-d962-45df-8cb6-c29e35bda917",
   "metadata": {},
   "source": [
    "## Q3\n",
    "\n",
    "Q3. Write a python program to convert the given list of integers into a tuple of strings. Use map and\n",
    "lambda functions\n",
    "Given String: [1, 2, 3, 4, 5, 6, 7, 8, 9, 10]\n",
    "Expected output: ('1', '2', '3', '4', '5', '6', '7', '8', '9', '10')\n",
    "\n",
    "\n",
    "        Here's a Python program that converts the given list of integers into a tuple of strings using map and lambda functions:"
   ]
  },
  {
   "cell_type": "code",
   "execution_count": 5,
   "id": "07cc1331-ab20-49cc-8ac1-878ca2c58a9c",
   "metadata": {},
   "outputs": [
    {
     "name": "stdout",
     "output_type": "stream",
     "text": [
      "('1', '2', '3', '4', '5', '6', '7', '8', '9', '10')\n",
      "('1', '2', '3', '4', '5', '6', '7', '8', '9', '10')\n"
     ]
    }
   ],
   "source": [
    "nums = [1, 2, 3, 4, 5, 6, 7, 8, 9, 10]\n",
    "strings = tuple(map(lambda x: str(x), nums))\n",
    "print(strings)\n",
    "print(strings)"
   ]
  },
  {
   "cell_type": "markdown",
   "id": "553f9267-37b8-493a-8ea4-68beb2b7f2e3",
   "metadata": {},
   "source": [
    "    Explanation:\n",
    "\n",
    "      * We define a list of integers named `nums`.\n",
    "      * We use the `map()` function to apply a lambda function to each element of the list. The lambda function converts each number to a string using the `str()` function.\n",
    "      * The resulting map object is converted to a tuple using the `tuple()` function.\n",
    "      * The lambda function is defined using the lambda keyword and takes one argument` x`.\n",
    "      * The expression` str(x)` converts the integer x to a string.\n",
    "      * Finally, we print the tuple of strings using the` print()` function."
   ]
  },
  {
   "cell_type": "markdown",
   "id": "b848ac76-bfcf-4c3f-8cca-62550af01535",
   "metadata": {},
   "source": [
    "## Q4 \n",
    "\n",
    "Q4. Write a python program using reduce function to compute the product of a list containing numbers\n",
    "from 1 to 25.\n",
    "\n",
    "        Here's a Python program that uses the `reduce()` function to compute the product of a list containing numbers from 1 to 25:"
   ]
  },
  {
   "cell_type": "code",
   "execution_count": 6,
   "id": "87072158-a350-4d38-8742-ce5db68017ba",
   "metadata": {},
   "outputs": [
    {
     "name": "stdout",
     "output_type": "stream",
     "text": [
      "15511210043330985984000000\n"
     ]
    }
   ],
   "source": [
    "from functools import reduce\n",
    "nums = list(range(1, 26))\n",
    "product = reduce(lambda x, y: x * y, nums)\n",
    "print(product)"
   ]
  },
  {
   "cell_type": "markdown",
   "id": "ba2c693c-e232-488f-9eb4-5e7470324b4e",
   "metadata": {},
   "source": [
    "   Explanation:\n",
    "\n",
    "    * We import the `reduce()` function from the functools module.\n",
    "    * We create a list of numbers from 1 to 25 using the `list()` and `range()` functions.\n",
    "    * We use the `reduce()` function to apply a lambda function to the list of numbers. The lambda function multiplies each element of the list to compute the product.\n",
    "    * The lambda function takes two arguments `x` and `y`.\n",
    "    * The expression` x * y` multiplies `x and y`.\n",
    "    * Finally, we print the product using the` print()` function."
   ]
  },
  {
   "cell_type": "markdown",
   "id": "eb9d8c42-dff9-422f-b222-a33b811b43af",
   "metadata": {},
   "source": [
    "## Q5\n",
    "\n",
    "Q5. Write a python program to filter the numbers in a given list that are divisible by 2 and 3 using the\n",
    "filter function.\n",
    "[2, 3, 6, 9, 27, 60, 90, 120, 55, 46] \n",
    " \n",
    "     \n",
    "           Here's a Python program that uses the `filter()` function to filter the numbers in a given list that are divisible by 2 and 3:\n",
    "\n",
    "       "
   ]
  },
  {
   "cell_type": "code",
   "execution_count": 7,
   "id": "4eaeb4ce-0a39-4cdd-b190-eeb24ab1d6a1",
   "metadata": {},
   "outputs": [
    {
     "name": "stdout",
     "output_type": "stream",
     "text": [
      "[6, 60, 90, 120]\n"
     ]
    }
   ],
   "source": [
    "nums = [2, 3, 6, 9, 27, 60, 90, 120, 55, 46]\n",
    "divisible_by_2_and_3 = list(filter(lambda x: (x % 2 == 0) and (x % 3 == 0), nums))\n",
    "print(divisible_by_2_and_3)"
   ]
  },
  {
   "cell_type": "markdown",
   "id": "56b5de95-81af-4ebd-9b69-2a61e3104454",
   "metadata": {},
   "source": [
    "    Explanation:\n",
    "\n",
    "      * We define a list of numbers named `nums`.\n",
    "      * We use the `filter()` function to apply a lambda function to each element of the list. The lambda function filters out the numbers that are not divisible by 2 and 3 using the `%` operator.\n",
    "      * The resulting filter object is converted to a list using the `list()` function.\n",
    "      * The lambda function is defined using the lambda keyword and takes one argumen `x`.\n",
    "      * The expression `(x % 2 == 0) and (x % 3 == 0)` checks if `x` is divisible by both 2 and 3.\n",
    "      * Finally, we print the filtered numbers using the `print()` function."
   ]
  },
  {
   "cell_type": "markdown",
   "id": "ec9a6ea4-2ea3-4b82-8833-730c42154616",
   "metadata": {},
   "source": [
    "## Q6\n",
    "\n",
    "Q6. Write a python program to find palindromes in the given list of strings using lambda and filter\n",
    "function.\n",
    "['python', 'php', 'aba', 'radar', 'level']\n",
    "\n",
    "\n",
    "        Here's a Python program that uses the `filter()` function with a lambda function to find palindromes in the given list of strings:"
   ]
  },
  {
   "cell_type": "code",
   "execution_count": 8,
   "id": "a600b219-63fe-4354-b9f3-ea2580a8b183",
   "metadata": {},
   "outputs": [
    {
     "name": "stdout",
     "output_type": "stream",
     "text": [
      "['php', 'aba', 'radar', 'level']\n"
     ]
    }
   ],
   "source": [
    "strings = ['python', 'php', 'aba', 'radar', 'level']\n",
    "palindromes = list(filter(lambda x: x == x[::-1], strings))\n",
    "print(palindromes)"
   ]
  },
  {
   "cell_type": "markdown",
   "id": "f4c72e55-7430-4806-b8fb-979b51ea97ab",
   "metadata": {},
   "source": [
    "     Explanation:\n",
    "\n",
    "       * We define a list of strings named strings.\n",
    "       * We use the `filter()` function to apply a lambda function to each element of the list. The lambda function filters out the strings that are not palindromes. We check if a string is a palindrome by comparing it to its reverse using the `[::-1]` slicing operator.\n",
    "       * The resulting filter object is converted to a list using the `list()` function.\n",
    "       * The lambda function is defined using the lambda keyword and takes one argument `x`.\n",
    "       * The expression `x == x[::-1]` checks if the string `x` is equal to its reverse.\n",
    "       * Finally, we print the palindromes using the `print()` function."
   ]
  },
  {
   "cell_type": "code",
   "execution_count": null,
   "id": "9e4e0b82-9b98-4cce-a8ae-4a35c979bebd",
   "metadata": {},
   "outputs": [],
   "source": []
  }
 ],
 "metadata": {
  "kernelspec": {
   "display_name": "Python 3 (ipykernel)",
   "language": "python",
   "name": "python3"
  },
  "language_info": {
   "codemirror_mode": {
    "name": "ipython",
    "version": 3
   },
   "file_extension": ".py",
   "mimetype": "text/x-python",
   "name": "python",
   "nbconvert_exporter": "python",
   "pygments_lexer": "ipython3",
   "version": "3.10.8"
  }
 },
 "nbformat": 4,
 "nbformat_minor": 5
}
