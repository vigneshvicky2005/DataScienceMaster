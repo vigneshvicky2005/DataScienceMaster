{
 "cells": [
  {
   "cell_type": "markdown",
   "id": "271bc0d2-5b5a-424d-9a47-56d471ed6a80",
   "metadata": {},
   "source": [
    "# Pwskills"
   ]
  },
  {
   "cell_type": "markdown",
   "id": "d40a8f9e-8813-4d2c-8791-c83585c45197",
   "metadata": {},
   "source": [
    "## Data Science Master"
   ]
  },
  {
   "cell_type": "markdown",
   "id": "c9bdd9fc-daec-44bd-838a-02fad6f4b2ca",
   "metadata": {},
   "source": [
    "### Statistics Advance Assignment"
   ]
  },
  {
   "cell_type": "markdown",
   "id": "06eff613-8452-4dfc-a426-a478a13f9aa6",
   "metadata": {},
   "source": [
    "## Q1\n",
    "Q1. Explain the assumptions required to use ANOVA and provide examples of violations that could impact\n",
    "the validity of the results.\n",
    "\n",
    "    ANOVA (Analysis of Variance) is a statistical technique used to compare the means of three or more groups. To use ANOVA, certain assumptions need to be met. Violations of these assumptions can affect the validity of the results. The assumptions for ANOVA are as follows:\n",
    "\n",
    "        Independence: The observations within each group should be independent of each other. Violation of this assumption occurs when there is a dependency or correlation between the observations. For example, in a study where the same participants are measured repeatedly over time, the assumption of independence is violated.\n",
    "\n",
    "        Normality: The data within each group should follow a normal distribution. Violation of this assumption happens when the data is skewed or has heavy tails. For example, if the data is strongly skewed or has outliers, it may not meet the normality assumption.\n",
    "\n",
    "         Homogeneity of Variance: The variances of the groups being compared should be equal. Violation of this assumption occurs when the variability differs significantly between groups. For example, if one group has much larger variances compared to the others, the assumption of homogeneity of variance is violated.\n",
    "\n",
    "         Interval or Ratio Data: ANOVA assumes that the dependent variable being analyzed is measured on an interval or ratio scale. Violation of this assumption happens when the data is measured on a nominal or ordinal scale. For example, if the dependent variable is categorical and only has two categories, ANOVA may not be appropriate.\n",
    "\n",
    "      Violations of these assumptions can impact the validity of ANOVA results. Here are examples of violations and their impact:\n",
    "\n",
    "        Violation of independence: If observations within groups are not independent, such as when data is collected from the same participant multiple times, it can lead to autocorrelation and bias the results. In such cases, repeated measures ANOVA or mixed-effects models may be more appropriate.\n",
    "\n",
    "        Violation of normality: If the data within groups does not follow a normal distribution, the p-values and confidence intervals produced by ANOVA may be unreliable. Non-parametric tests, such as Kruskal-Wallis test, can be used instead.\n",
    "\n",
    "        Violation of homogeneity of variance: When the variances of the groups are not equal, it can affect the overall significance test and lead to incorrect conclusions. Modified versions of ANOVA, such as Welch's ANOVA, can be used when the assumption of homogeneity of variance is violated.\n",
    "\n",
    "         Violation of interval or ratio data: If the dependent variable is measured on a nominal or ordinal scale, ANOVA is not appropriate. In such cases, non-parametric tests like chi-square test or ordinal logistic regression should be used.\n",
    "\n",
    "     It is important to assess these assumptions before conducting ANOVA and consider alternative analysis methods if the assumptions are violated."
   ]
  },
  {
   "cell_type": "markdown",
   "id": "c4330b0c-0060-492d-be03-1409a6e0d3cb",
   "metadata": {},
   "source": [
    "## Q2\n",
    "Q2. What are the three types of ANOVA, and in what situations would each be used?\n",
    "\n",
    "The three types of ANOVA are:\n",
    "\n",
    "     One-Way ANOVA: One-Way ANOVA is used when there is a single categorical independent variable (also known as a factor) with three or more levels, and a continuous dependent variable. It is used to determine if there are any statistically significant differences in the means of the dependent variable across the different levels of the independent variable. For example, a researcher may use One-Way ANOVA to compare the mean scores of three different treatment groups on a psychological test.\n",
    "\n",
    "     Two-Way ANOVA: Two-Way ANOVA is used when there are two independent variables (factors) and a continuous dependent variable. It helps to assess the main effects of each independent variable as well as their interaction effect. The independent variables can be either categorical or continuous. For example, a researcher may use Two-Way ANOVA to examine the effects of gender (categorical) and age group (categorical) on a measure of cognitive ability.\n",
    "\n",
    "      Factorial ANOVA: Factorial ANOVA is an extension of Two-Way ANOVA and is used when there are two or more independent variables (factors) and a continuous dependent variable. It allows for the examination of main effects and interaction effects between multiple independent variables. The independent variables can be categorical or continuous. For example, a researcher may use Factorial ANOVA to investigate the effects of treatment type (categorical), dosage level (categorical), and patient age (continuous) on a biological outcome measure.\n",
    "\n",
    "These different types of ANOVA are used based on the specific research design and the number of independent variables involved. One-Way ANOVA is appropriate when there is a single factor, Two-Way ANOVA is used when there are two factors, and Factorial ANOVA is used when there are two or more factors. It is important to select the appropriate type of ANOVA based on the research question and study design to obtain accurate and meaningful results."
   ]
  },
  {
   "cell_type": "markdown",
   "id": "614e5b60-1076-4eb0-962a-e5fefc9164bd",
   "metadata": {},
   "source": [
    "## Q3\n",
    "Q3. What is the partitioning of variance in ANOVA, and why is it important to understand this concept?\n",
    "\n",
    "       The partitioning of variance in ANOVA refers to the decomposition of the total variance observed in the data into different components associated with various sources of variability. This partitioning allows for a better understanding of how much of the total variability can be attributed to different factors in the analysis.\n",
    "\n",
    "In ANOVA, the total variance in the data is divided into two main components: the variance between groups (also called the \"between-group variance\" or \"explained variance\") and the variance within groups (also called the \"within-group variance\" or \"unexplained variance\").\n",
    "\n",
    "The variance between groups represents the differences in means among the groups being compared. It provides information about the extent to which the independent variable(s) explain the variation in the dependent variable. If the between-group variance is large relative to the within-group variance, it suggests that the independent variable(s) have a significant effect on the dependent variable.\n",
    "\n",
    "The variance within groups represents the variability or differences within each group that cannot be accounted for by the independent variable(s). It includes random variation and measurement error. If the within-group variance is large, it indicates that there is substantial variability within each group, and the independent variable(s) may have less impact on the dependent variable.\n",
    "\n",
    "Understanding the partitioning of variance is important for several reasons:\n",
    "\n",
    "Assessing the significance of the independent variable(s): By comparing the between-group variance to the within-group variance, ANOVA determines whether the differences between the groups are statistically significant. This helps in evaluating the impact of the independent variable(s) on the dependent variable.\n",
    "\n",
    "Interpreting the effect size: The partitioning of variance provides information about the proportion of total variability in the dependent variable that can be attributed to the independent variable(s). This allows for the calculation of effect sizes, such as eta-squared or partial eta-squared, which quantify the magnitude of the effect.\n",
    "\n",
    "Identifying potential sources of variability: By partitioning the variance, ANOVA helps to identify which factors or variables contribute most to the variation in the dependent variable. This can guide further investigation and potentially suggest areas for intervention or further research.\n",
    "\n",
    "Designing future studies: Understanding the partitioning of variance can inform the design of future studies by providing insights into the expected magnitude of the effects and the required sample size to detect them.\n",
    "\n",
    "In summary, the partitioning of variance in ANOVA provides valuable information about the significance and impact of the independent variable(s) on the dependent variable, allowing for a deeper understanding of the relationships between variables and guiding subsequent analyses and research decisions."
   ]
  },
  {
   "cell_type": "markdown",
   "id": "3b91d3ad-1de4-401b-8891-2dc148d0e4a1",
   "metadata": {},
   "source": [
    "## Q4\n",
    "Q4. How would you calculate the total sum of squares (SST), explained sum of squares (SSE), and residual\n",
    "sum of squares (SSR) in a one-way ANOVA using Python?"
   ]
  },
  {
   "cell_type": "code",
   "execution_count": 1,
   "id": "5aaed107-002a-4f32-ac1e-6c368d98c2ba",
   "metadata": {},
   "outputs": [],
   "source": [
    "import numpy as np\n",
    "from scipy import stats\n"
   ]
  },
  {
   "cell_type": "code",
   "execution_count": null,
   "id": "48dec864-f529-42b8-92e3-24405aa4094d",
   "metadata": {},
   "outputs": [],
   "source": [
    "data = np.array(data)\n",
    "groups = np.array(groups)"
   ]
  },
  {
   "cell_type": "code",
   "execution_count": null,
   "id": "9352a67b-9f0b-4fac-9911-22cd4330c09e",
   "metadata": {},
   "outputs": [],
   "source": [
    "# Calculate the overall mean\n",
    "overall_mean = np.mean(data)\n",
    "\n",
    "# Calculate the sum of squares total (SST)\n",
    "sst = np.sum((data - overall_mean) ** 2)\n",
    "\n",
    "# Calculate the sum of squares explained (SSE)\n",
    "group_means = np.array([np.mean(data[groups == group]) for group in np.unique(groups)])\n",
    "sse = np.sum((group_means - overall_mean) ** 2)\n",
    "\n",
    "# Calculate the sum of squares residual (SSR)\n",
    "ssr = sst - sse\n"
   ]
  },
  {
   "cell_type": "markdown",
   "id": "220737b5-edb0-41f4-a0d3-3949508a0d10",
   "metadata": {},
   "source": [
    "## Q5\n",
    "Q5. In a two-way ANOVA, how would you calculate the main effects and interaction effects using Python?"
   ]
  },
  {
   "cell_type": "code",
   "execution_count": 4,
   "id": "aea4971b-9344-4393-b21a-4f33b4c77468",
   "metadata": {},
   "outputs": [],
   "source": [
    "import numpy as np\n",
    "import pandas as pd\n",
    "import statsmodels.api as sm\n",
    "from statsmodels.formula.api import ols\n"
   ]
  },
  {
   "cell_type": "code",
   "execution_count": 5,
   "id": "fca05dd3-a487-4f9f-89fe-02d4891d1f03",
   "metadata": {},
   "outputs": [],
   "source": [
    "formula = 'dependent_var ~ independent_var1 * independent_var2'\n"
   ]
  },
  {
   "cell_type": "code",
   "execution_count": null,
   "id": "9f0fe7b1-660f-499d-a482-eb1fe707f7af",
   "metadata": {},
   "outputs": [],
   "source": [
    "model = ols(formula, data=df).fit()\n",
    "anova_table = sm.stats.anova_lm(model)\n"
   ]
  },
  {
   "cell_type": "code",
   "execution_count": null,
   "id": "c14c828f-af04-4ded-be25-60c47231cb68",
   "metadata": {},
   "outputs": [],
   "source": [
    "main_effect_1 = anova_table['sum_sq']['independent_var1']\n",
    "main_effect_2 = anova_table['sum_sq']['independent_var2']\n",
    "interaction_effect = anova_table['sum_sq']['independent_var1:independent_var2']\n"
   ]
  },
  {
   "cell_type": "markdown",
   "id": "57c5a009-6f75-4e96-85ed-6fd288068ffd",
   "metadata": {},
   "source": [
    "## Q6\n",
    "Q6. Suppose you conducted a one-way ANOVA and obtained an F-statistic of 5.23 and a p-value of 0.02.\n",
    "What can you conclude about the differences between the groups, and how would you interpret these\n",
    "results?\n",
    "\n",
    "    In the given scenario, where a one-way ANOVA resulted in an F-statistic of 5.23 and a p-value of 0.02, we can draw the following conclusions:\n",
    "\n",
    "Differences between groups: The obtained F-statistic indicates that there are statistically significant differences between the groups being compared. The F-statistic of 5.23 suggests that the variation between the group means is 5.23 times larger than the variation within the groups.\n",
    "\n",
    "Interpretation of results: With a p-value of 0.02, which is below the commonly used significance level of 0.05, we have evidence to reject the null hypothesis that there are no differences between the group means. Therefore, we can conclude that there are significant differences between at least two of the groups.\n",
    "\n",
    "Additionally, the p-value of 0.02 indicates that the probability of observing such or more extreme results (assuming the null hypothesis is true) is 0.02. Therefore, if the null hypothesis were true (i.e., no differences between the groups), we would expect to observe differences as extreme as those observed in only 2% of the cases.\n",
    "\n",
    "It's important to note that the one-way ANOVA does not indicate which specific groups are different from each other; it only confirms the presence of overall group differences. To identify the specific group differences, post-hoc tests (e.g., Tukey's test, Bonferroni correction, etc.) or planned comparisons can be conducted.\n",
    "\n",
    "In summary, based on the given F-statistic and p-value, we can conclude that there are significant differences between the groups being compared. These results indicate that the independent variable (the factor) has a statistically significant effect on the dependent variable, and the groups are not equal in terms of their means.\n",
    "\n",
    "\n",
    "\n",
    "\n",
    "## Q7\n",
    "Q7. In a repeated measures ANOVA, how would you handle missing data, and what are the potential\n",
    "consequences of using different methods to handle missing data?\n",
    "\n",
    "    Handling missing data in a repeated measures ANOVA requires careful consideration, as the presence of missing data can potentially introduce biases and affect the validity of the results. There are different approaches to handle missing data in this context, and the choice of method can have consequences. Here are a few common methods and their potential consequences:\n",
    "\n",
    "Complete Case Analysis (Listwise deletion):\n",
    "\n",
    "This approach involves excluding any participant with missing data on any variable included in the analysis.\n",
    "Consequence: Listwise deletion can lead to reduced sample size and loss of statistical power. It may introduce bias if the missingness is related to the variables being analyzed, potentially affecting the generalizability of the results.\n",
    "Pairwise Deletion:\n",
    "\n",
    "With this approach, only the incomplete cases are excluded from specific pairwise comparisons in the analysis, allowing the use of all available data for each specific comparison.\n",
    "\n",
    "Consequence: Pairwise deletion can result in different sample sizes for different comparisons, potentially affecting the precision and power of the analysis. It may also lead to biased estimates if the missingness is not random or is related to the variables being compared.\n",
    "\n",
    "Imputation:\n",
    "\n",
    "Imputation methods involve replacing missing values with estimated values. Common imputation techniques include mean imputation, last observation carried forward (LOCF), multiple imputation, etc.\n",
    "\n",
    "Consequence: Imputation can help retain the sample size and reduce bias. However, it introduces additional uncertainty due to the imputed values, which can underestimate the standard errors and impact hypothesis testing and confidence intervals. The accuracy of imputation methods depends on the assumptions made about the missing data mechanism.\n",
    "\n",
    "Mixed-effects models:\n",
    "\n",
    "Mixed-effects models, such as linear mixed models, can handle missing data by utilizing all available data while estimating the fixed effects and accounting for within-subject dependencies.\n",
    "\n",
    "Consequence: Mixed-effects models allow for more efficient use of available data, preserve statistical power, and can provide unbiased estimates under the missing at random (MAR) assumption. However, the validity of the results relies on correctly specifying the random effects structure and assumptions about the missing data mechanism.\n",
    "\n",
    "It is essential to carefully evaluate the missing data pattern, understand the underlying mechanisms causing missingness, and select an appropriate method based on the missing data assumptions, research objectives, and potential consequences. Additionally, sensitivity analyses and comparisons between different missing data methods can help assess the robustness and consistency of the results.\n",
    "\n",
    "\n",
    "\n",
    "\n",
    "\n",
    "## Q8\n",
    "Q8. What are some common post-hoc tests used after ANOVA, and when would you use each one? Provide\n",
    "an example of a situation where a post-hoc test might be necessary.\n",
    "\n",
    "     After conducting an ANOVA and finding a significant overall effect, post-hoc tests are often employed to identify specific group differences. Some common post-hoc tests include:\n",
    "\n",
    "Tukey's Honestly Significant Difference (HSD) test:\n",
    "\n",
    "Tukey's HSD test is widely used to compare all possible pairs of group means in a balanced design (equal sample sizes).\n",
    "It controls the familywise error rate, making it suitable for situations where multiple pairwise comparisons are conducted. It provides simultaneous confidence intervals to assess the differences between groups.\n",
    "Bonferroni correction:\n",
    "\n",
    "The Bonferroni correction is a conservative method that adjusts the significance level for each individual comparison to maintain an overall familywise error rate.\n",
    "It is often used when performing a large number of pairwise comparisons. The significance level is divided by the number of comparisons to ensure that the familywise error rate is not exceeded.\n",
    "\n",
    "Scheffe's test:\n",
    "\n",
    "Scheffe's test is a conservative post-hoc test that allows for comparisons between any sets of means.\n",
    "It is typically used in situations where the number of comparisons is small and there is a need for a more flexible approach that controls the \n",
    "familywise error rate.\n",
    "\n",
    "Dunnett's test:\n",
    "\n",
    "Dunnett's test is used when comparing multiple treatment groups against a control group or reference group.\n",
    "It adjusts for multiple comparisons while maintaining a higher power by focusing only on the relevant comparisons between the treatment groups and the \n",
    "\n",
    "control/reference group.\n",
    "\n",
    "Fisher's Least Significant Difference (LSD) test:\n",
    "\n",
    "Fisher's LSD test is an older post-hoc test used when the number of pairwise comparisons is small and equal sample sizes are not necessary.\n",
    "It compares each pair of means while controlling the experimentwise error rate. However, it can be less conservative compared to other post-hoc tests.\n",
    "\n",
    "Example situation:\n",
    "\n",
    "Suppose a researcher conducted a study comparing the effects of four different treatments on pain relief in patients with a specific condition. The ANOVA reveals a statistically significant overall effect, indicating that there are differences in pain relief among the treatment groups. In this case, a post-hoc test would be necessary to determine which specific treatment groups differ significantly from each other. The researcher could employ Tukey's HSD test to conduct pairwise comparisons of the treatment group means and identify the specific group differences. This would provide a comprehensive assessment of the pairwise differences and assist in interpreting the results of the study."
   ]
  },
  {
   "cell_type": "markdown",
   "id": "d5ac4c9a-79ed-458b-ac74-8b5af75c5f03",
   "metadata": {},
   "source": [
    "## Q9\n",
    "Q9. A researcher wants to compare the mean weight loss of three diets: A, B, and C. They collect data from\n",
    "50 participants who were randomly assigned to one of the diets. Conduct a one-way ANOVA using Python\n",
    "to determine if there are any significant differences between the mean weight loss of the three diets.\n",
    "Report the F-statistic and p-value, and interpret the results."
   ]
  },
  {
   "cell_type": "code",
   "execution_count": null,
   "id": "bb993474-ab3a-400d-970d-98fd5d85bce3",
   "metadata": {},
   "outputs": [],
   "source": [
    "import numpy as np\n",
    "from scipy import stats\n"
   ]
  },
  {
   "cell_type": "code",
   "execution_count": null,
   "id": "f80a57ef-3fa5-4538-8000-ffb07c04c9a6",
   "metadata": {},
   "outputs": [],
   "source": [
    "data_a = np.array([1.5, 2.0, 1.8, ...])  # Replace ... with the actual data\n",
    "data_b = np.array([2.2, 1.9, 2.5, ...])  # Replace ... with the actual data\n",
    "data_c = np.array([1.0, 1.5, 0.8, ...])  # Replace ... with the actual data\n",
    "\n",
    "all_data = [data_a, data_b, data_c]\n"
   ]
  },
  {
   "cell_type": "code",
   "execution_count": null,
   "id": "0b23b89e-0fab-417c-b6d7-03b1c241b3da",
   "metadata": {},
   "outputs": [],
   "source": [
    "f_statistic, p_value = stats.f_oneway(*all_data)\n"
   ]
  },
  {
   "cell_type": "code",
   "execution_count": null,
   "id": "91009289-e56b-44b9-96ec-1e62b8ee1e68",
   "metadata": {},
   "outputs": [],
   "source": [
    "alpha = 0.05  # Set the significance level\n",
    "\n",
    "if p_value < alpha:\n",
    "    print(\"The one-way ANOVA results are statistically significant.\")\n",
    "    print(\"There is evidence of significant differences between the mean weight loss of the three diets.\")\n",
    "else:\n",
    "    print(\"The one-way ANOVA results are not statistically significant.\")\n",
    "    print(\"There is no evidence of significant differences between the mean weight loss of the three diets.\")\n"
   ]
  },
  {
   "cell_type": "markdown",
   "id": "9ef2b508-c510-4abb-9853-51da5c198822",
   "metadata": {},
   "source": [
    "## Q10\n",
    "Q10. A company wants to know if there are any significant differences in the average time it takes to\n",
    "complete a task using three different software programs: Program A, Program B, and Program C. They\n",
    "randomly assign 30 employees to one of the programs and record the time it takes each employee to\n",
    "complete the task. Conduct a two-way ANOVA using Python to determine if there are any main effects or\n",
    "interaction effects between the software programs and employee experience level (novice vs.\n",
    "experienced). Report the F-statistics and p-values, and interpret the results."
   ]
  },
  {
   "cell_type": "code",
   "execution_count": null,
   "id": "776b979c-f4dd-4ac2-8e97-8d1c9b268843",
   "metadata": {},
   "outputs": [],
   "source": [
    "import pandas as pd\n",
    "import statsmodels.api as sm\n",
    "from statsmodels.formula.api import ols\n"
   ]
  },
  {
   "cell_type": "code",
   "execution_count": null,
   "id": "fcd8b91b-efaa-4c46-a691-fef8e869119f",
   "metadata": {},
   "outputs": [],
   "source": [
    "data = pd.read_csv('data.csv')  # Replace 'data.csv' with the actual file name or provide the DataFrame directly\n",
    "\n",
    "# Verify the structure of the DataFrame\n",
    "print(data.head())\n"
   ]
  },
  {
   "cell_type": "code",
   "execution_count": null,
   "id": "387c8ab8-f448-4863-886c-4541ce20bd89",
   "metadata": {},
   "outputs": [],
   "source": [
    "model = ols('Time ~ Program + Experience + Program:Experience', data=data).fit()\n",
    "anova_table = sm.stats.anova_lm(model)\n"
   ]
  },
  {
   "cell_type": "code",
   "execution_count": null,
   "id": "d6e05b32-a3fc-45a4-9aff-0b838166bdfe",
   "metadata": {},
   "outputs": [],
   "source": [
    "print(anova_table)\n"
   ]
  },
  {
   "cell_type": "markdown",
   "id": "45d3aec1-ab17-4153-bd07-cf4f3b4503e7",
   "metadata": {},
   "source": [
    "## Q11\n",
    "Q11. An educational researcher is interested in whether a new teaching method improves student test\n",
    "scores. They randomly assign 100 students to either the control group (traditional teaching method) or the\n",
    "experimental group (new teaching method) and administer a test at the end of the semester. Conduct a\n",
    "two-sample t-test using Python to determine if there are any significant differences in test scores\n",
    "between the two groups. If the results are significant, follow up with a post-hoc test to determine which\n",
    "group(s) differ significantly from each other."
   ]
  },
  {
   "cell_type": "code",
   "execution_count": null,
   "id": "03e77963-fbba-4d3e-835d-c16405403ed9",
   "metadata": {},
   "outputs": [],
   "source": [
    "import numpy as np\n",
    "from scipy import stats\n"
   ]
  },
  {
   "cell_type": "code",
   "execution_count": null,
   "id": "1a74b6c2-a743-4b55-82fb-a32d9e25331d",
   "metadata": {},
   "outputs": [],
   "source": [
    "control_scores = np.array([80, 85, 90, ...])  # Replace ... with the actual control group scores\n",
    "experimental_scores = np.array([90, 92, 88, ...])  # Replace ... with the actual experimental group scores\n"
   ]
  },
  {
   "cell_type": "code",
   "execution_count": null,
   "id": "a48db604-bbac-4538-b3a8-cb0ef460cd4b",
   "metadata": {},
   "outputs": [],
   "source": [
    "t_statistic, p_value = stats.ttest_ind(control_scores, experimental_scores)\n"
   ]
  },
  {
   "cell_type": "code",
   "execution_count": null,
   "id": "2d7dcb85-6334-450b-91be-119ab0690b62",
   "metadata": {},
   "outputs": [],
   "source": [
    "alpha = 0.05  # Set the significance level\n",
    "\n",
    "if p_value < alpha:\n",
    "    print(\"The two-sample t-test results are statistically significant.\")\n",
    "    print(\"There is evidence of significant differences in test scores between the control and experimental groups.\")\n",
    "    print(\"You can proceed with a post-hoc test to determine which group(s) differ significantly.\")\n",
    "else:\n",
    "    print(\"The two-sample t-test results are not statistically significant.\")\n",
    "    print(\"There is no evidence of significant differences in test scores between the control and experimental groups.\")\n"
   ]
  },
  {
   "cell_type": "markdown",
   "id": "ccfaf346-c9eb-4009-9f90-01e6041955b8",
   "metadata": {},
   "source": [
    "## Q12\n",
    "Q12. A researcher wants to know if there are any significant differences in the average daily sales of three\n",
    "retail stores: Store A, Store B, and Store C. They randomly select 30 days and record the sales for each store\n",
    "on those days. Conduct a repeated measures ANOVA using Python to determine if there are any\n",
    "\n",
    "significant differences in sales between the three stores. If the results are significant, follow up with a post-\n",
    "hoc test to determine which store(s) differ significantly from each other."
   ]
  },
  {
   "cell_type": "code",
   "execution_count": null,
   "id": "597de941-2481-4531-95c9-2623a1781a7f",
   "metadata": {},
   "outputs": [],
   "source": [
    "import pandas as pd\n",
    "import statsmodels.api as sm\n",
    "from statsmodels.formula.api import ols\n",
    "from statsmodels.stats.anova import AnovaRM\n"
   ]
  },
  {
   "cell_type": "code",
   "execution_count": null,
   "id": "7217b5c9-24ae-4d51-8052-1eb4119e98d6",
   "metadata": {},
   "outputs": [],
   "source": [
    "data = pd.read_csv('data.csv')  # Replace 'data.csv' with the actual file name or provide the DataFrame directly\n",
    "\n",
    "# Verify the structure of the DataFrame\n",
    "print(data.head())\n"
   ]
  },
  {
   "cell_type": "code",
   "execution_count": null,
   "id": "1bc602d8-be4c-45b7-888b-0a5d105e1895",
   "metadata": {},
   "outputs": [],
   "source": [
    "rm_anova = AnovaRM(data, 'Sales', 'Store', within=['Day'])\n",
    "results = rm_anova.fit()\n"
   ]
  },
  {
   "cell_type": "code",
   "execution_count": null,
   "id": "6d4fd568-fdfb-4119-870b-950fbbc577de",
   "metadata": {},
   "outputs": [],
   "source": [
    "print(results)\n"
   ]
  }
 ],
 "metadata": {
  "kernelspec": {
   "display_name": "Python 3 (ipykernel)",
   "language": "python",
   "name": "python3"
  },
  "language_info": {
   "codemirror_mode": {
    "name": "ipython",
    "version": 3
   },
   "file_extension": ".py",
   "mimetype": "text/x-python",
   "name": "python",
   "nbconvert_exporter": "python",
   "pygments_lexer": "ipython3",
   "version": "3.10.8"
  }
 },
 "nbformat": 4,
 "nbformat_minor": 5
}
