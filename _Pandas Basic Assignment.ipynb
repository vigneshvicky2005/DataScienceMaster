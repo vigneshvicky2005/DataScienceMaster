{
 "cells": [
  {
   "cell_type": "markdown",
   "id": "1ee8c985-7480-43e3-b835-89806809a9c1",
   "metadata": {},
   "source": [
    "# Pwskills "
   ]
  },
  {
   "cell_type": "markdown",
   "id": "c3c127a7-5269-4315-b82c-be65956bab34",
   "metadata": {},
   "source": [
    "## Data Science Master"
   ]
  },
  {
   "cell_type": "markdown",
   "id": "50aeb78b-6ed2-45cf-b6ef-7c06eb4dc369",
   "metadata": {},
   "source": [
    "### Python Assignment"
   ]
  },
  {
   "cell_type": "markdown",
   "id": "f11df8fa-e5d0-4ee2-aee9-a4bbf4e66dac",
   "metadata": {},
   "source": [
    "## Q1\n",
    "Q1. Create a Pandas Series that contains the following data: 4, 8, 15, 16, 23, and 42. Then, print the series.\n",
    "\n",
    "     Here's the code to create a Pandas Series with the given data and print it:"
   ]
  },
  {
   "cell_type": "code",
   "execution_count": 1,
   "id": "18263071-46c6-458e-bc42-1d98956b3848",
   "metadata": {},
   "outputs": [
    {
     "name": "stdout",
     "output_type": "stream",
     "text": [
      "0     4\n",
      "1     8\n",
      "2    15\n",
      "3    16\n",
      "4    23\n",
      "5    42\n",
      "dtype: int64\n"
     ]
    }
   ],
   "source": [
    "import pandas as pd\n",
    "\n",
    "data = [4, 8, 15, 16, 23, 42]\n",
    "series = pd.Series(data)\n",
    "print(series)\n"
   ]
  },
  {
   "cell_type": "markdown",
   "id": "c4366783-837e-4c98-8d64-cf2494fd3250",
   "metadata": {},
   "source": [
    "## Q2\n",
    "Q2. Create a variable of list type containing 10 elements in it, and apply pandas.Series function on the\n",
    "variable print it.\n",
    "\n",
    "     Here's an example of how you can create a list with 10 elements and convert it into a Pandas Series:"
   ]
  },
  {
   "cell_type": "code",
   "execution_count": 2,
   "id": "3a4a1d65-4d67-4da5-a2c4-29bf8f2cb21a",
   "metadata": {},
   "outputs": [
    {
     "name": "stdout",
     "output_type": "stream",
     "text": [
      "0     1\n",
      "1     2\n",
      "2     3\n",
      "3     4\n",
      "4     5\n",
      "5     6\n",
      "6     7\n",
      "7     8\n",
      "8     9\n",
      "9    10\n",
      "dtype: int64\n"
     ]
    }
   ],
   "source": [
    "import pandas as pd\n",
    "\n",
    "my_list = [1, 2, 3, 4, 5, 6, 7, 8, 9, 10]\n",
    "series = pd.Series(my_list)\n",
    "print(series)\n"
   ]
  },
  {
   "cell_type": "markdown",
   "id": "caa3e5fb-4b06-438c-a6b4-987c82b4a41c",
   "metadata": {},
   "source": [
    "     In this example, the list 'my_list' contains 10 elements, and we pass it as an argument to the 'pd.Series()' function to convert it into a Pandas Series. Finally, we print the resulting series."
   ]
  },
  {
   "cell_type": "markdown",
   "id": "1b56ddc1-5eb3-4b7d-be2e-7d78cf983db8",
   "metadata": {},
   "source": [
    "## Q3\n",
    "Q3. Create a Pandas DataFrame that contains the following data:\n",
    "\n",
    "Name:     \n",
    "Alice,\n",
    "Bob,\n",
    "Claire\n",
    "\n",
    "Age:\n",
    "25,\n",
    "30,\n",
    "27\n",
    "\n",
    "Gender:\n",
    "Female,\n",
    "Male,\n",
    "Female          \n",
    "Then, print the DataFrame."
   ]
  },
  {
   "cell_type": "markdown",
   "id": "ae4a78bc-fca4-43d5-afd5-fdc2f331e40e",
   "metadata": {},
   "source": [
    "     Here's the code to create a Pandas DataFrame with the given data and print it:"
   ]
  },
  {
   "cell_type": "code",
   "execution_count": 3,
   "id": "3efc58ab-161c-41f9-a28d-ae3e09d4bd36",
   "metadata": {},
   "outputs": [
    {
     "name": "stdout",
     "output_type": "stream",
     "text": [
      "     Name  Age  Gender\n",
      "0   Alice   25  Female\n",
      "1     Bob   30    Male\n",
      "2  Claire   27  Female\n"
     ]
    }
   ],
   "source": [
    "import pandas as pd\n",
    "\n",
    "data = {\n",
    "    'Name': ['Alice', 'Bob', 'Claire'],\n",
    "    'Age': [25, 30, 27],\n",
    "    'Gender': ['Female', 'Male', 'Female']\n",
    "}\n",
    "\n",
    "df = pd.DataFrame(data)\n",
    "print(df)\n"
   ]
  },
  {
   "cell_type": "markdown",
   "id": "2cab12be-965e-4e6e-a813-e6a2d289fbef",
   "metadata": {},
   "source": [
    "    In this example, we create a dictionary data where the keys represent the column names and the values represent the corresponding data for each column. Then, we pass this dictionary to the pd.'DataFrame()' function to create the DataFrame. Finally, we print the resulting DataFrame."
   ]
  },
  {
   "cell_type": "markdown",
   "id": "c80cf400-ad86-47f3-80c0-ca2b991380f8",
   "metadata": {},
   "source": [
    "## Q4\n",
    "Q4. What is ‘DataFrame’ in pandas and how is it different from pandas.series? Explain with an example.\n",
    "\n",
    "\n",
    "    In Pandas, a DataFrame is a two-dimensional tabular data structure that consists of rows and columns. It can be thought of as a table or spreadsheet-like data structure where each column represents a variable, and each row represents an observation or record.\n",
    "\n",
    "    A DataFrame is more versatile than a Pandas Series because it can store and manipulate data with multiple dimensions. It allows for efficient handling of structured data and provides a variety of functionalities for data analysis and manipulation.\n",
    "\n",
    "    Here's an example to illustrate the difference between a Pandas Series and a DataFrame:"
   ]
  },
  {
   "cell_type": "code",
   "execution_count": 4,
   "id": "98a912b8-7dfd-4ddc-b39f-da9959c78e28",
   "metadata": {},
   "outputs": [
    {
     "name": "stdout",
     "output_type": "stream",
     "text": [
      "0    1\n",
      "1    2\n",
      "2    3\n",
      "3    4\n",
      "dtype: int64\n",
      "   A  B\n",
      "0  1  a\n",
      "1  2  b\n",
      "2  3  c\n",
      "3  4  d\n"
     ]
    }
   ],
   "source": [
    "import pandas as pd\n",
    "\n",
    "# Example using a Series\n",
    "s = pd.Series([1, 2, 3, 4])\n",
    "print(s)\n",
    "\n",
    "# Example using a DataFrame\n",
    "data = {\n",
    "    'A': [1, 2, 3, 4],\n",
    "    'B': ['a', 'b', 'c', 'd']\n",
    "}\n",
    "\n",
    "df = pd.DataFrame(data)\n",
    "print(df)\n",
    "\n",
    "\n"
   ]
  },
  {
   "cell_type": "markdown",
   "id": "cfe97c47-17db-4496-8d26-5cdf73bb668f",
   "metadata": {},
   "source": [
    "    In this example, we first create a Pandas Series s with four elements. When we print it, we get a one-dimensional structure with indexes and values.\n",
    "\n",
    "    Next, we create a DataFrame df using a dictionary data, where the keys represent the column names ('A' and 'B') and the values represent the corresponding data for each column. When we print the DataFrame, we get a two-dimensional structure with column names and rows, providing a tabular representation of the data."
   ]
  },
  {
   "cell_type": "markdown",
   "id": "03bff002-7924-442c-a4a3-100fb083c6c7",
   "metadata": {},
   "source": [
    "## Q5\n",
    "Q5. What are some common functions you can use to manipulate data in a Pandas DataFrame? Can you give an example of when you might use one of these functions?"
   ]
  },
  {
   "cell_type": "markdown",
   "id": "c77803e6-84d7-49ce-b218-c8a2fc7667f4",
   "metadata": {},
   "source": [
    "\n",
    "    Pandas provides a wide range of functions to manipulate data in a DataFrame. Here are some common functions:\n",
    "\n",
    "    1. head() and tail(): Used to view the first or last few rows of a DataFrame, respectively. For example, you might use df.head() to quickly inspect the top records of a large DataFrame.\n",
    "\n",
    "    2. info(): Displays the summary information about the DataFrame, including the column names, data types, and non-null counts. It helps to understand the structure and integrity of the data.\n",
    "\n",
    "     3. describe(): Generates descriptive statistics of the DataFrame, such as count, mean, standard deviation, minimum, maximum, and quartile values. It provides insights into the distribution and summary statistics of the numerical columns.\n",
    "\n",
    "     4. loc[] and iloc[]: Used for indexing and selecting data from the DataFrame. loc[] is label-based, allowing you to access rows and columns by their labels. iloc[] is integer-based, enabling access by integer positions. For example, you can use df.loc[2:4, 'Age'] to select rows 2 to 4 and the 'Age' column.\n",
    "\n",
    "     5. drop(): Removes specified rows or columns from the DataFrame. It is useful for data cleaning and filtering. For instance, you might use df.drop(['column1', 'column2'], axis=1) to remove 'column1' and 'column2' from the DataFrame.\n",
    "\n",
    "     6. fillna(): Fills missing values in the DataFrame with a specified value or strategy. It helps handle missing data effectively. For example, you can use df.fillna(0) to replace NaN values with 0.\n",
    "\n",
    "     7. groupby(): Groups the DataFrame based on specified columns and allows you to perform aggregations, such as sum, count, mean, etc., on the grouped data. It is useful for data summarization and analysis. For instance, you can use df.groupby('Category')['Revenue'].sum() to calculate the total revenue for each category.\n",
    "\n",
    "      These are just a few examples of the many functions available in Pandas to manipulate data in a DataFrame. The specific functions you use depend on the requirements of your analysis or data processing tasks."
   ]
  },
  {
   "cell_type": "markdown",
   "id": "d7f14e92-bf6f-4a30-a25c-b280763d0562",
   "metadata": {},
   "source": [
    "## Q6\n",
    "Q6. Which of the following is mutable in nature Series, DataFrame, Panel?\n",
    "\n",
    "Among the given options, both Series and DataFrame are mutable in nature, whereas Panel is not.\n",
    "\n",
    "In Pandas:\n",
    "\n",
    "     A Series is a one-dimensional array-like object that can hold any data type. It can be modified by assigning new values to its elements or by using various methods provided by Pandas.\n",
    "     \n",
    "     A DataFrame is a two-dimensional tabular data structure consisting of rows and columns. It can be modified by adding or removing rows/columns, updating values, or applying various data manipulation operations.\n",
    "\n",
    "     A Panel is a three-dimensional data structure that is not commonly used in practice. It is deprecated in recent versions of Pandas and has been replaced by other data structures. Panels were mutable, but they are no longer actively supported.\n",
    "     \n",
    "     Therefore, the correct answer is that Series and DataFrame are mutable in nature."
   ]
  },
  {
   "cell_type": "markdown",
   "id": "3836edb7-5432-49f3-a687-31c3b4d9d23f",
   "metadata": {},
   "source": [
    "## Q7\n",
    "Q7. Create a DataFrame using multiple Series. Explain with an example.\n",
    "\n",
    "    To create a DataFrame using multiple Series, you can combine the Series objects by specifying them as a dictionary, where each key represents the column name and the value represents the corresponding Series. Here's an example:"
   ]
  },
  {
   "cell_type": "code",
   "execution_count": 5,
   "id": "4b9402ab-fcb6-45b4-b4ce-4661a074b431",
   "metadata": {},
   "outputs": [
    {
     "name": "stdout",
     "output_type": "stream",
     "text": [
      "     Name  Age  Gender\n",
      "0   Alice   25  Female\n",
      "1     Bob   30    Male\n",
      "2  Claire   27  Female\n"
     ]
    }
   ],
   "source": [
    "import pandas as pd\n",
    "\n",
    "# Create Series objects\n",
    "name_series = pd.Series(['Alice', 'Bob', 'Claire'])\n",
    "age_series = pd.Series([25, 30, 27])\n",
    "gender_series = pd.Series(['Female', 'Male', 'Female'])\n",
    "\n",
    "# Create DataFrame using Series\n",
    "data = {\n",
    "    'Name': name_series,\n",
    "    'Age': age_series,\n",
    "    'Gender': gender_series\n",
    "}\n",
    "\n",
    "df = pd.DataFrame(data)\n",
    "print(df)\n"
   ]
  },
  {
   "cell_type": "markdown",
   "id": "7d006bc9-5cfe-407f-9677-68688dc6231a",
   "metadata": {},
   "source": [
    "     In this example, we first create three separate Series objects: name_series, age_series, and gender_series. Each Series represents a column of data.\n",
    "\n",
    "      Next, we create a dictionary data where the keys are the desired column names ('Name', 'Age', 'Gender') and the values are the corresponding Series objects.\n",
    "\n",
    "     Finally, we pass the data dictionary to the pd.DataFrame() function to create the DataFrame df which combines the Series into a single DataFrame. The resulting DataFrame has three columns: 'Name', 'Age', and 'Gender', with the values from the respective Series."
   ]
  },
  {
   "cell_type": "code",
   "execution_count": null,
   "id": "7a905928-7928-476b-bca2-3463f248b30d",
   "metadata": {},
   "outputs": [],
   "source": []
  }
 ],
 "metadata": {
  "kernelspec": {
   "display_name": "Python 3 (ipykernel)",
   "language": "python",
   "name": "python3"
  },
  "language_info": {
   "codemirror_mode": {
    "name": "ipython",
    "version": 3
   },
   "file_extension": ".py",
   "mimetype": "text/x-python",
   "name": "python",
   "nbconvert_exporter": "python",
   "pygments_lexer": "ipython3",
   "version": "3.10.8"
  }
 },
 "nbformat": 4,
 "nbformat_minor": 5
}
