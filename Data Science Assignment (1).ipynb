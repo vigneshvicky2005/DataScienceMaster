{
 "cells": [
  {
   "cell_type": "markdown",
   "id": "03a25dc8-d866-41a5-a002-b6fe4636b741",
   "metadata": {},
   "source": [
    "## Pw skills"
   ]
  },
  {
   "cell_type": "markdown",
   "id": "d608f8e9-8bb3-405e-bdc4-eccbf140f9db",
   "metadata": {},
   "source": [
    "## Data Science Masters\n",
    "### Assignment "
   ]
  },
  {
   "cell_type": "markdown",
   "id": "a113543b-e6e0-4ddc-8d3a-fd6fb7142a7a",
   "metadata": {},
   "source": [
    "Q1. What are the characteristics of the tuples? is tuple immutable?\n",
    "  \n",
    "      yes,tuples are immutable in python,which means that once a tuple is created,its contents cannot be changed.Tuples have the following characteistics:\n",
    "      1.tuples are ordered:Tuples maintain the order of the element they contain.This means that the first element in a tuple is always the first element,the second element is always the second,and so on.\n",
    "      2.tuples are immutable:As mentioned above,once a tuple is created,its contents cannot be changed.You cannot add,remove,or modify elements in a tuple.\n",
    "      3.Tuples can contain any type of object:Tuples can contain elements of any data type,including other tuples.\n",
    "      4.Tuples can be nested:You can have tuples inside tuples,which creates a nested data structure.\n",
    "      5.Tuples can be used as dictionary keys:Because tuples are immutable and hashable,they can be used as kesy in a dictionary.\n",
    "      6.Tuples can be unpacked:You can assign the elements of a tuples to separate variables in a process called tuple unpacking.\n"
   ]
  },
  {
   "cell_type": "markdown",
   "id": "518f99dd-0346-448d-9ebe-aedf8bf5c9a4",
   "metadata": {},
   "source": [
    "Q2. What are the two tuple methods in python? Give an example of each method.Give a reason why tuples have only to in-built methods as compared to lists.\n",
    "\n",
    "     The two tuple methods in python are `count()` and `index()`. Hence are examples of each methods:\n",
    "     \n",
    "     1.`count()`:This method returns the number of times a specified elemenet appears in the tuple."
   ]
  },
  {
   "cell_type": "code",
   "execution_count": 5,
   "id": "097db16d-6918-4b2a-bb12-9ed4eb8b700b",
   "metadata": {},
   "outputs": [
    {
     "name": "stdout",
     "output_type": "stream",
     "text": [
      "3\n"
     ]
    }
   ],
   "source": [
    "##Example\n",
    "my_tuple = (1, 2, 3, 4, 4, 4)\n",
    "count = my_tuple.count(4)\n",
    "print(count)"
   ]
  },
  {
   "cell_type": "markdown",
   "id": "327bdeaf-0ede-4d7c-a4b4-c43cfc58bc3f",
   "metadata": {},
   "source": [
    "      2.`index()`:This method returns the index of the first occurrence of a specified elemenet in the tuple.\n",
    "      "
   ]
  },
  {
   "cell_type": "code",
   "execution_count": 6,
   "id": "bcfa4d48-9278-4815-b3e2-89f764a34ac5",
   "metadata": {},
   "outputs": [
    {
     "name": "stdout",
     "output_type": "stream",
     "text": [
      "3\n"
     ]
    }
   ],
   "source": [
    "##Example\n",
    "my_tuple = (1, 2, 3, 4, 4, 4)\n",
    "index = my_tuple.index(4)\n",
    "print(index)"
   ]
  },
  {
   "cell_type": "markdown",
   "id": "203142e8-600c-4c44-802b-5a9e15b9bb7a",
   "metadata": {},
   "source": [
    "       Tuples have only two in-built methods as compared to lists because tuples are designed to be immutable, which means that ones a tuple is created,its contents cannot be changed.As a result, there is less need for methods that modify or manipulate the contents of a tuple,such as`append()`, `insert()`,and `remove()`, which are aviable in lists.The two methods thst are available in tuples,`count()` and `index()`, are still useful for working with tuples,but they are focused on querying and searching the contents of the tuple rather than modifying them"
   ]
  },
  {
   "cell_type": "markdown",
   "id": "1bfc0bb2-02ea-46a5-8d0e-104cc7293667",
   "metadata": {},
   "source": [
    "Q3. Which collection datatypes in python do not allow duplicate items? Write a code using a set to remove duplicates from the given lists.\n",
    "    List=[1,1,1,2,1,3,1,4,2,1,2,2,2,3,2,4,3,1,3,2,3,3,3,4,4,1,4,2,4,3,4,4]\n",
    "    \n",
    "       The collection datatype in python that does not allow duplication items is the set.Here's an exaple code using a set to remove duplicatesfrom the given list:"
   ]
  },
  {
   "cell_type": "code",
   "execution_count": 7,
   "id": "5c89a535-b19b-4056-ac53-c3e590a94dba",
   "metadata": {},
   "outputs": [
    {
     "name": "stdout",
     "output_type": "stream",
     "text": [
      "[1, 2, 3, 4]\n"
     ]
    }
   ],
   "source": [
    "my_list = [1, 1, 1, 2, 1, 3, 1, 4, 2, 1, 2, 2, 2, 3, 2, 4, 3, 1, 3, 2, 3, 3, 3, 4, 4, 1, 4, 2, 4, 3, 4, 4]\n",
    "my_set = set(my_list)\n",
    "new_list = list(my_set)\n",
    "print(new_list)"
   ]
  },
  {
   "cell_type": "markdown",
   "id": "93a809ea-77f7-4d25-a0e2-39ef196bf8f4",
   "metadata": {},
   "source": [
    "       In the above code, we first create a list`my_list` that contains duplicate elements. We then convert this list to aset`my_set`, which automatically removes any duplicates.We then convert this set back to a lists`new_list` using the `list()` function,and print out the resulting list,which contains only unique elements.\n",
    "       Using a set to remove duplicates is a very efficient way to remove duplicates from a collection,as sets are specifically designed to store uniqe elements."
   ]
  },
  {
   "cell_type": "markdown",
   "id": "065dd43e-c7a7-49bf-a20e-c0fa830d4ffa",
   "metadata": {},
   "source": [
    "Q4. Explain the difference between the union() and update() methods for a set.Give an example of each method.\n",
    "    \n",
    "      In Python,both the `union()` and `update()` methods can be used to combine two sets into one set.However,there is a key difference between these two methods:\n",
    "      * `union()`: This method returns a new set that contains all the elements from the original set and anothe set or iterable.The original sets remain unchanged\n",
    "      * `update()`: This method adds all the elements from another set or iterable to the original set.It modifies the original set in plase \n",
    "      \n",
    "      Here are examples of each methods:\n",
    "      "
   ]
  },
  {
   "cell_type": "code",
   "execution_count": 8,
   "id": "f590ba25-e65e-4a35-a33c-197b95c8ad1b",
   "metadata": {},
   "outputs": [
    {
     "name": "stdout",
     "output_type": "stream",
     "text": [
      "{1, 2, 3, 4, 5}\n",
      "{1, 2, 3}\n",
      "{3, 4, 5}\n"
     ]
    }
   ],
   "source": [
    "# Example of union() methods\n",
    "set1 = {1, 2, 3}\n",
    "set2 = {3, 4, 5}\n",
    "new_set = set1.union(set2)\n",
    "print(new_set)\n",
    "print(set1)\n",
    "print(set2)\n"
   ]
  },
  {
   "cell_type": "code",
   "execution_count": 9,
   "id": "4e5447d2-b0a7-4a61-b8a8-a6fa7dd972c8",
   "metadata": {},
   "outputs": [
    {
     "name": "stdout",
     "output_type": "stream",
     "text": [
      "{1, 2, 3, 4, 5}\n",
      "{3, 4, 5}\n"
     ]
    }
   ],
   "source": [
    "# Example of update() method\n",
    "set1 = {1, 2, 3}\n",
    "set2 = {3, 4, 5}\n",
    "set1.update(set2)\n",
    "print(set1)\n",
    "print(set2)\n"
   ]
  },
  {
   "cell_type": "markdown",
   "id": "11a61f4a-87b9-4fad-94d6-2a3e28a053e8",
   "metadata": {},
   "source": [
    "        In the above the examples,we have two sets,`set1` and `set2`.In the first example,we use the `union()`methods to comdine the to sets in to a new set `new_set`.The original sets `set1` and `set2` remain unchanged.In the second example,we use the`update()`method to add all the elements from `set2` to `set1`.The original set `set1` is modified in place.\n",
    "        overall,the key difference between `union()` and `update()` is thst `union()` returns a new set, while `update()`modifies the original set in place"
   ]
  },
  {
   "cell_type": "markdown",
   "id": "90a83af2-760a-498e-a62b-004a8b794f16",
   "metadata": {},
   "source": [
    "Q5. What is a dictionary? Give an  example.Also,state weather a dictionary is ordered or unordered.\n",
    "       \n",
    "       In computer programing,a dictionary is a data structure that stores a collection of key-value pairs,where each key is assciated with a value.It is also sometimes referred to as a\"map\",\"hash table\",or\"associative array\".\n",
    "       \n",
    "       Here's an example of a dictionary in python:"
   ]
  },
  {
   "cell_type": "code",
   "execution_count": 7,
   "id": "5d9f8af2-db68-4a1b-a52c-862f86118fdb",
   "metadata": {},
   "outputs": [],
   "source": [
    "my_dict = {\"apple\":3, \"banana\":2, \"orange\":1}"
   ]
  },
  {
   "cell_type": "markdown",
   "id": "572ad099-e25b-4a0c-aa15-249382cb29af",
   "metadata": {},
   "source": [
    "        In this dictionary, the keys are \"apple\",\"banana\", and \"orange\", and the corresponding values are 3,2, and 1, respectively.We can access the value associated with the particular key by using the square bracket notation:"
   ]
  },
  {
   "cell_type": "code",
   "execution_count": 8,
   "id": "aca5de2a-95fd-498f-8fda-25cbb962b3c2",
   "metadata": {},
   "outputs": [
    {
     "name": "stdout",
     "output_type": "stream",
     "text": [
      "3\n"
     ]
    }
   ],
   "source": [
    "print(my_dict[\"apple\"])"
   ]
  },
  {
   "cell_type": "markdown",
   "id": "f38a7069-5aa4-4741-8cc5-1be7f06806e8",
   "metadata": {},
   "source": [
    "        in general,dictionaries are unordered, which means that the order in which the key-value pairs are stored is not fixed. However , in python3.7 and later versions, the insertion order of key-value pairs is presereved, which means that the keys will be returned in the order they were inserted. This behavior is guaranteed by the language specification and should not be relied upon in earlier versions of python or in other programming languages"
   ]
  },
  {
   "cell_type": "markdown",
   "id": "3c35ca46-f27d-4deb-a8ff-c24962e752fd",
   "metadata": {},
   "source": [
    "Q6. Can we create a nested dictionary? If so, please give an example by creating simple one-level nested dictionary.\n",
    "\n",
    "       Yes,we can create a nested dictionary in python.A nested dictionary is a dictionary inside another dictionary, where the value are also dictionaries.\n",
    "       \n",
    "       Here's an example of a simple one-level nested dictionary in python:"
   ]
  },
  {
   "cell_type": "code",
   "execution_count": 11,
   "id": "e629b180-c8ec-4f46-8db5-2bdbd851204f",
   "metadata": {},
   "outputs": [
    {
     "name": "stdout",
     "output_type": "stream",
     "text": [
      "3\n",
      "2\n"
     ]
    }
   ],
   "source": [
    "# Create a nested dictionary\n",
    "my_dict = {\"fruit\": {\"apple\":3, \"banana\":2, \"orange\":1},\"vegetable\": {\"carrot\":5, \"broccoli\":3, \"spinach\":2}}\n",
    "print(my_dict[\"fruit\"][\"apple\"])\n",
    "print(my_dict[\"vegetable\"][\"spinach\"])"
   ]
  },
  {
   "cell_type": "markdown",
   "id": "64857b9e-07ce-44d4-af7f-582bfe24de84",
   "metadata": {},
   "source": [
    "In this, example the 'my_dict' dictionary as two keys ,\"fruit\" and \"vegetable\", each associated with another dictionary as its value.The nested dictionaries contain key-value pairs of the specific fruits and vegetables withe their corresponding quantities."
   ]
  },
  {
   "cell_type": "markdown",
   "id": "e5ba2973-eeb4-4522-9945-000c2e1f4fa1",
   "metadata": {},
   "source": [
    "Q7. Using setdefault() method, create key named topics in the given dictionary and also add the value of the key as this list['python','machine learning','deep learning']\n",
    "dict1 = {'language':'python','course':'Data Science Masters'}\n",
    "\n",
    "       Here's how you can use the'setdefault()' method to create a key named \"topics\" in the given dictionary and set its value to the list`['python','machine learning','deep learning']':"
   ]
  },
  {
   "cell_type": "code",
   "execution_count": 14,
   "id": "3f4a6054-3e33-407f-8556-68e6d717b0fb",
   "metadata": {},
   "outputs": [
    {
     "name": "stdout",
     "output_type": "stream",
     "text": [
      "{'language': 'python', 'course': 'Data Science Masters', 'topics': ['Python', 'Machine Learning', 'Deep Learning']}\n"
     ]
    }
   ],
   "source": [
    "dict1 = {'language': 'python', 'course': 'Data Science Masters'}\n",
    "dict1.setdefault('topics',['Python', 'Machine Learning', 'Deep Learning'])\n",
    "print(dict1)"
   ]
  },
  {
   "cell_type": "markdown",
   "id": "3b985bdb-758b-49ef-902d-6c30d1b5ea54",
   "metadata": {},
   "source": [
    "        In the code ,we use the 'setdefault()' method to create a new key \"topics\" in the 'dict1' dictionary and set its value to the lists `[`Python', `Machine Learning', `Deep Learning']'. if the \"topics\" key already exists in the dictionary ,'setdefault()' will not change its value.The updated dictionary is then printed using the `print()' function."
   ]
  },
  {
   "cell_type": "markdown",
   "id": "bd37c334-9f0d-4307-b57d-89d30d678730",
   "metadata": {},
   "source": [
    "Q8. what are the three view objects in dictionaries? Use the three in-built methods in python to display these three view objects for the given dictionary.\n",
    "dict1={`sport':`cricket',`teams':[`India',`Austrlia',`England',`South Africa',`Sri Lanka',`New Zealand`]}\n",
    "\n",
    "      In python, dictionary have three views objects that provide differen ways of viewing the keys, values and key-value pairs in the dictionary: \n",
    "      \n",
    "      1. `dict.keys()':This methods returns a view object that contains the keys of the dictionary.\n",
    "      2. `dict.values()':This method returns a view object that contains the values of the dictionary.\n",
    "      3. `dict.items()': This method returns a view object that contain the key-value pairs of the dictionary as tuples.\n",
    "      \n",
    "      Here's how to display these three view objects for the given dictionary: "
   ]
  },
  {
   "cell_type": "code",
   "execution_count": 1,
   "id": "8e73a889-d295-4d71-ad1c-4b98250909e4",
   "metadata": {},
   "outputs": [
    {
     "name": "stdout",
     "output_type": "stream",
     "text": [
      "dict_keys(['Sport', 'Teams'])\n",
      "dict_values(['Cricket', ['India', 'Australia', 'England', 'South Africa', 'Sri Lanka', 'New Zealand']])\n",
      "dict_items([('Sport', 'Cricket'), ('Teams', ['India', 'Australia', 'England', 'South Africa', 'Sri Lanka', 'New Zealand'])])\n"
     ]
    }
   ],
   "source": [
    "dict1 = {'Sport': 'Cricket', 'Teams': ['India', 'Australia', 'England', 'South Africa', 'Sri Lanka', 'New Zealand']}\n",
    "print(dict1.keys())\n",
    "print(dict1.values())\n",
    "print(dict1.items())"
   ]
  },
  {
   "cell_type": "markdown",
   "id": "650dc880-3c6b-4c64-8c63-c6557e2707a7",
   "metadata": {},
   "source": [
    "          In this code,we first define the  `dict1` dictionary. Then, we use the `keys()`, `values()`, and`items()` methods to display the respective view objects for the dictionary using the `print()` function."
   ]
  },
  {
   "cell_type": "code",
   "execution_count": null,
   "id": "dfa41fda-8cc5-44fe-9961-f2a7a93fcd1f",
   "metadata": {},
   "outputs": [],
   "source": []
  }
 ],
 "metadata": {
  "kernelspec": {
   "display_name": "Python 3 (ipykernel)",
   "language": "python",
   "name": "python3"
  },
  "language_info": {
   "codemirror_mode": {
    "name": "ipython",
    "version": 3
   },
   "file_extension": ".py",
   "mimetype": "text/x-python",
   "name": "python",
   "nbconvert_exporter": "python",
   "pygments_lexer": "ipython3",
   "version": "3.10.8"
  }
 },
 "nbformat": 4,
 "nbformat_minor": 5
}
