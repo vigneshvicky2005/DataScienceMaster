{
 "cells": [
  {
   "cell_type": "markdown",
   "id": "b22f01e9-c432-47b7-b4aa-c35134ead789",
   "metadata": {},
   "source": [
    "# Pwskills"
   ]
  },
  {
   "cell_type": "markdown",
   "id": "67e44c0d-3f30-47f0-a419-9a541d80a95a",
   "metadata": {},
   "source": [
    "## Data Science Master"
   ]
  },
  {
   "cell_type": "markdown",
   "id": "0d725dad-d0bf-40cb-8b7b-a61fc1f0b8f4",
   "metadata": {},
   "source": [
    "## Python Assignment"
   ]
  },
  {
   "cell_type": "markdown",
   "id": "56a58b99-dc57-48e3-a0f3-3342dd76618f",
   "metadata": {},
   "source": [
    "## Q1\n",
    "\n",
    "1.who developed python programming language?\n",
    "\n",
    "       \n",
    "       Python programming language was created by Guido van Rossum in the late 1980s and first released in 1991. Guido van Rossum was a Dutch programmer who worked at the National Research Institute for Mathematics and Computer Science in the Netherlands (CWI) at the time. He created Python as a hobby project to address some shortcomings of the ABC programming language, which he had previously been working with. Since its release, Python has grown to become one of the most popular and widely-used programming languages in the world."
   ]
  },
  {
   "cell_type": "markdown",
   "id": "17d0ec0a-061f-4f4a-9271-07034e59867e",
   "metadata": {},
   "source": [
    "## Q2\n",
    "\n",
    "2.Which type of programming does python support?\n",
    "\n",
    " \n",
    "       Python supports several programming paradigms, including object-oriented, imperative, functional, and procedural programming. This means that programmers can use a variety of styles and techniques to write Python code, depending on the specific requirements of their project.\n",
    "\n",
    "       Python is primarily an object-oriented language, which means that it is designed to work with objects and classes. However, it also supports procedural programming, which involves writing functions and procedures that operate on data. Additionally, Python has functional programming features, such as the ability to use lambda functions and higher-order functions.\n",
    "\n",
    "       Overall, the flexibility and versatility of Python make it well-suited for a wide range of applications and programming style\n",
    "\n",
    "\n",
    "\n",
    "\n",
    "\n"
   ]
  },
  {
   "cell_type": "markdown",
   "id": "3ad1ba68-ddbb-4296-b111-a0062a1f2338",
   "metadata": {},
   "source": [
    "## Q3\n",
    "\n",
    "\n",
    "3.Is python case sensitive when dealing with identifiers?\n",
    "\n",
    "      Yes, Python is a case-sensitive programming language when it comes to identifiers. This means that uppercase and lowercase letters are considered distinct and separate in Python.\n",
    "\n",
    "      For example, the variable names \"myVariable\" and \"myvariable\" are treated as two different identifiers in Python. If you try to use a variable or function name with incorrect capitalization, Python will not recognize it as the same identifier and may generate an error.\n",
    "\n",
    "      It's important to be consistent with your use of capitalization in Python code to avoid confusion and errors. It's common practice to use lowercase letters for variable and function names, while using uppercase letters for class names."
   ]
  },
  {
   "cell_type": "markdown",
   "id": "d5392c4b-644e-41f9-beaf-f6e705788ecc",
   "metadata": {},
   "source": [
    "## Q4\n",
    "\n",
    "4.What is the correct extension of the python file?\n",
    "\n",
    "\n",
    "       The correct extension for a Python file is \".py\". When you save a Python program in a text file, you should give it a name that ends with the \".py\" extension. This tells your operating system that the file contains Python code.\n",
    "\n",
    "       For example, if you have a Python program named \"my_program.py\", you can run it from the command line by navigating to the directory where the file is located and typing \"python my_program.py\". This will execute the code in the \"my_program.py\" file using the Python interpreter.\n",
    "\n",
    "       It's important to use the correct file extension when working with Python files, as this helps to ensure that your code is recognized and executed properly."
   ]
  },
  {
   "cell_type": "markdown",
   "id": "82476732-6b61-48e8-b189-1c953840c31c",
   "metadata": {},
   "source": [
    "## Q5\n",
    "\n",
    "5.Is python code complier or interpreted?\n",
    "\n",
    "\n",
    "\n",
    "        Python is an interpreted programming language. This means that Python code is executed directly by the Python interpreter, rather than being compiled into machine code beforehand.\n",
    "\n",
    "        When you run a Python program, the interpreter reads the source code line by line and executes it immediately. This allows for a faster development cycle since you can make changes to your code and see the results immediately without needing to recompile it.\n",
    "\n",
    "        Python does have a bytecode compilation step, which involves translating the source code into bytecode that can be executed by the interpreter. However, this happens automatically and is transparent to the user.\n",
    "\n",
    "        Overall, the interpreted nature of Python makes it a flexible and easy-to-use language for a wide range of applications."
   ]
  },
  {
   "cell_type": "markdown",
   "id": "81d69b71-6cfc-4309-a4fc-b914130c0948",
   "metadata": {},
   "source": [
    "## Q6\n",
    "\n",
    "6.Name a few blocks of code used to define in python language?\n",
    "\n",
    "      Python uses indentation to define blocks of code. Here are some common blocks of code used in Python:\n",
    "\n",
    "     * Function blocks: These are groups of statements that perform a specific task. \n",
    "\n",
    "     * Conditional blocks: These are groups of statements that are executed only if a certain condition is true. \n",
    "\n",
    "     * Loop blocks: These are groups of statements that are executed repeatedly while a certain condition is true. \n",
    "\n",
    "     * Exception handling blocks: These are groups of statements that handle errors that might occur during the execution of a program\n",
    "\n",
    "       These are just a few examples of the types of blocks of code used in Python. "
   ]
  },
  {
   "cell_type": "markdown",
   "id": "ca4cda7d-02ce-4a6b-8da2-18bab2a9fc75",
   "metadata": {},
   "source": [
    "## Q7\n",
    "\n",
    "7.State a character used to define in python language?\n",
    "\n",
    "\n",
    "        In Python, the backslash character \"\" is often used as an escape character to allow the use of special characters within strings and other literals. For example, you can use \"\" followed by a single quote or double quote to include a quote character within a string, like this:"
   ]
  },
  {
   "cell_type": "code",
   "execution_count": 1,
   "id": "75ae78cd-1ba8-4d1f-9e22-976c1d60d230",
   "metadata": {},
   "outputs": [
    {
     "name": "stdout",
     "output_type": "stream",
     "text": [
      "He said, \"Hello!\"\n"
     ]
    }
   ],
   "source": [
    "print(\"He said, \\\"Hello!\\\"\")"
   ]
  },
  {
   "cell_type": "markdown",
   "id": "4411214b-7e85-488b-b5ed-2a3db22e7d68",
   "metadata": {},
   "source": [
    "         Other examples of special characters that can be used with the backslash include \"\\n\" for a new line, \"\\t\" for a tab, and \"\\r\" for a carriage return."
   ]
  },
  {
   "cell_type": "markdown",
   "id": "3eb54a32-97f7-42a1-b425-85f56be7e939",
   "metadata": {},
   "source": [
    "## Q8\n",
    "\n",
    "8.Mention function which can help us to find the version of python that we are currently working on?\n",
    "\n",
    "       The function that can help us find the version of Python that we are currently working on is called \"sys\". We can use the \"sys\" module to get information about the Python interpreter and the system on which it's running. To find the Python version, we can use the following code:"
   ]
  },
  {
   "cell_type": "code",
   "execution_count": 2,
   "id": "be00cdc1-13da-4d00-b33a-a923d596c118",
   "metadata": {},
   "outputs": [
    {
     "name": "stdout",
     "output_type": "stream",
     "text": [
      "Python version\n",
      "3.10.8 | packaged by conda-forge | (main, Nov 22 2022, 08:26:04) [GCC 10.4.0]\n"
     ]
    }
   ],
   "source": [
    "import sys\n",
    "print(\"Python version\")\n",
    "print(sys.version)"
   ]
  },
  {
   "cell_type": "code",
   "execution_count": 3,
   "id": "1cdae58a-5c62-407d-b5fc-1d6e4c927b59",
   "metadata": {},
   "outputs": [
    {
     "name": "stdout",
     "output_type": "stream",
     "text": [
      "Python version: 3.10.8\n"
     ]
    }
   ],
   "source": [
    "import platform\n",
    "print(\"Python version:\", platform.python_version())"
   ]
  },
  {
   "cell_type": "markdown",
   "id": "0da9316e-7506-4def-80a0-860d27fb94b1",
   "metadata": {},
   "source": [
    "      This will print the current Python version as well as additional information about the system, such as the operating system and architecture."
   ]
  },
  {
   "cell_type": "markdown",
   "id": "11503d8f-2aa8-4503-9ccf-0ee2b8fc58a2",
   "metadata": {},
   "source": [
    "## Q9\n",
    "\n",
    "\n",
    "9.Python support the creation of anonymous functions at runtime, using a construct called__________\n",
    "\n",
    "      Python supports the creation of anonymous functions at runtime, using a construct called \"lambda\". The lambda keyword allows you to create small, anonymous functions on the fly, without having to define a named function using the \"def\" keyword.\n",
    "\n",
    "        Here is an example of how to use a lambda function:"
   ]
  },
  {
   "cell_type": "code",
   "execution_count": 4,
   "id": "a46af311-83e0-4bc5-bdb4-4b2f9f395b40",
   "metadata": {},
   "outputs": [
    {
     "name": "stdout",
     "output_type": "stream",
     "text": [
      "5\n"
     ]
    }
   ],
   "source": [
    "my_sum = lambda a, b: a + b\n",
    "\n",
    "# Call the lambda function\n",
    "result = my_sum(2, 3)\n",
    "\n",
    "print(result)"
   ]
  },
  {
   "cell_type": "markdown",
   "id": "3f712a93-1073-4515-ad5d-d591f5e9a487",
   "metadata": {},
   "source": [
    "       In this example, we define a lambda function that takes two arguments \"a\" and \"b\", and returns their sum. We assign this lambda function to a variable called \"my_sum\". We can then call the lambda function just like any other function, passing in two arguments and getting the sum as the result."
   ]
  },
  {
   "cell_type": "markdown",
   "id": "08f29d59-df5a-4c4d-be97-3fdddb84413f",
   "metadata": {},
   "source": [
    "## Q10\n",
    "\n",
    "10.What does pip stand for python?\n",
    "\n",
    "      \"Pip\" stands for \"Pip Installs Packages\", which is a package manager for Python used to install and manage third-party libraries and packages."
   ]
  },
  {
   "cell_type": "markdown",
   "id": "55dd7439-6b84-47e4-b89b-f68dd45b573a",
   "metadata": {},
   "source": [
    "## Q11\n",
    "\n",
    "11.Mention a few built-in function in python? \n",
    "\n",
    "   Python has many built-in functions that are available for use without the need to import any modules. Here are some commonly used built-in functions in Python:\n",
    "\n",
    "    * print(): outputs a value to the console\n",
    "    * type(): returns the data type of a value\n",
    "    * len(): returns the length of a string, list, tuple, or other iterable object\n",
    "    * range(): generates a sequence of numbers\n",
    "    * input(): accepts user input from the console\n",
    "    \n",
    "    These are just a few examples of the built-in functions available in Python. There are many more built-in functions that can be used for a variety of purposes, and Python also allows for the creation of custom functions to meet specific needs."
   ]
  },
  {
   "cell_type": "markdown",
   "id": "728bca88-71bf-4eb7-b5ca-cc659bbac2bd",
   "metadata": {},
   "source": [
    "## Q12\n",
    "\n",
    "12. What is the maximum possible length of an identifier in python?\n",
    "\n",
    "    In Python, the maximum length of an identifier is not specifically defined. However, it is recommended to keep the identifier names reasonably short and descriptive, typically around 10-15 characters. This makes the code more readable and easier to understand. Additionally, it is important to follow the naming conventions and rules for Python identifiers, such as using only letters, digits, and underscores, and starting with a letter or underscore."
   ]
  },
  {
   "cell_type": "markdown",
   "id": "413f1b28-7f84-4bc1-bb85-97254973794b",
   "metadata": {},
   "source": [
    "## Q13\n",
    "\n",
    "13. What are the benefits of using python?\n",
    "\n",
    "    Some benefits of using Python include:\n",
    "\n",
    "   * Easy to learn and use.\n",
    "   * High-level programming language, which means less complex and more human-readable code.\n",
    "   * Supports multiple programming paradigms (procedural, object-oriented, and functional).\n",
    "   * Extensive standard library and many third-party libraries and frameworks available for various purposes.\n",
    "   * Cross-platform compatibility.\n",
    "   * Interpreted language, which means faster development and debugging.\n",
    "   * Excellent community support and documentation.\n",
    "   * Widely used in various fields such as data science, machine learning, web development, scientific computing, and more."
   ]
  },
  {
   "cell_type": "markdown",
   "id": "e779ac1e-cd04-4258-8147-3d82909bc741",
   "metadata": {},
   "source": [
    "## Q14\n",
    "\n",
    "14. How is memory managed in python?\n",
    "\n",
    "     Python uses automatic memory management or garbage collection to manage memory. The interpreter keeps track of objects created in the program and deallocates the memory used by objects that are no longer in use. This ensures efficient use of memory and prevents memory leaks."
   ]
  },
  {
   "cell_type": "markdown",
   "id": "289c51d7-591f-4792-b5eb-6b253fc97712",
   "metadata": {},
   "source": [
    "## Q15\n",
    "\n",
    "15. How to install python on windows and set path variables?\n",
    "\n",
    "    To install Python on Windows and set path variables:\n",
    "\n",
    "    * Download the latest version of Python from the official website.\n",
    "    * Run the installer and follow the instructions to install Python.\n",
    "    * After installation, open the \"Environment Variables\" dialog box in Windows.\n",
    "    * Under the \"System Variables\" section, click \"New\" and add the path of the Python installation directory to the \"PATH\" variable. (For example: C:\\Python39)\n",
    "    * Click \"OK\" to save the changes.\n",
    "    * To test if Python is installed and set up correctly, open a command prompt and type \"python\" to start the Python interpreter.\n",
    "    \n",
    "     Once you have completed these steps, you should be able to use Python from anywhere in the command prompt or PowerShell by typing \"python\" followed by the script name.\n",
    "\n",
    "\n",
    "\n",
    "\n"
   ]
  },
  {
   "cell_type": "markdown",
   "id": "6ab18197-c83d-498c-bad7-d8ba83efafbc",
   "metadata": {},
   "source": [
    "## Q16\n",
    "\n",
    "16. Is indentation required in python? \n",
    "\n",
    "    Yes, indentation is required in Python. It is used to indicate blocks of code, such as in control statements (if, for, while) and function and class definitions. The standard convention is to use four spaces for each level of indentation. In Python, the interpreter uses indentation to understand the structure of the code, so it is important to be consistent with the indentation used throughout the program. If the indentation is not used properly, it can result in syntax errors or unexpected behavior"
   ]
  },
  {
   "cell_type": "code",
   "execution_count": null,
   "id": "b01b3712-0516-4a32-bf92-e6f3f8641a6f",
   "metadata": {},
   "outputs": [],
   "source": []
  }
 ],
 "metadata": {
  "kernelspec": {
   "display_name": "Python 3 (ipykernel)",
   "language": "python",
   "name": "python3"
  },
  "language_info": {
   "codemirror_mode": {
    "name": "ipython",
    "version": 3
   },
   "file_extension": ".py",
   "mimetype": "text/x-python",
   "name": "python",
   "nbconvert_exporter": "python",
   "pygments_lexer": "ipython3",
   "version": "3.10.8"
  }
 },
 "nbformat": 4,
 "nbformat_minor": 5
}
